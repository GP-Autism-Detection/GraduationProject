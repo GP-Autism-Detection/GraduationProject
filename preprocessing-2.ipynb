{
 "cells": [
  {
   "cell_type": "code",
   "execution_count": 1,
   "id": "1a4fad5a",
   "metadata": {
    "_cell_guid": "b1076dfc-b9ad-4769-8c92-a6c4dae69d19",
    "_uuid": "8f2839f25d086af736a60e9eeb907d3b93b6e0e5",
    "execution": {
     "iopub.execute_input": "2023-03-08T20:36:09.517044Z",
     "iopub.status.busy": "2023-03-08T20:36:09.516321Z",
     "iopub.status.idle": "2023-03-08T20:36:09.934424Z",
     "shell.execute_reply": "2023-03-08T20:36:09.933452Z"
    },
    "papermill": {
     "duration": 0.437245,
     "end_time": "2023-03-08T20:36:09.940757",
     "exception": false,
     "start_time": "2023-03-08T20:36:09.503512",
     "status": "completed"
    },
    "tags": []
   },
   "outputs": [],
   "source": [
    "import pandas as pd\n",
    "import numpy as np\n",
    "import cv2\n",
    "import random\n",
    "import matplotlib.pyplot as plt\n",
    "import os\n",
    "import dlib\n",
    "import random"
   ]
  },
  {
   "cell_type": "code",
   "execution_count": 2,
   "id": "f569d152",
   "metadata": {
    "execution": {
     "iopub.execute_input": "2023-03-08T20:36:09.951073Z",
     "iopub.status.busy": "2023-03-08T20:36:09.950725Z",
     "iopub.status.idle": "2023-03-08T20:36:10.545107Z",
     "shell.execute_reply": "2023-03-08T20:36:10.544087Z"
    },
    "papermill": {
     "duration": 0.601901,
     "end_time": "2023-03-08T20:36:10.547546",
     "exception": false,
     "start_time": "2023-03-08T20:36:09.945645",
     "status": "completed"
    },
    "tags": []
   },
   "outputs": [],
   "source": [
    "A_train_data= \"/kaggle/input/autistic-children-facial-data-set/consolidated/autistic\"\n",
    "NA_train_data=\"/kaggle/input/autistic-children-facial-data-set/consolidated/non_autistic\"\n",
    "a_train_img = [\"../input/autistic-children-facial-data-set/consolidated/autistic/{}\".format(i) for i in os.listdir(A_train_data)]\n",
    "na_train_img = [\"../input/autistic-children-facial-data-set/consolidated/non_autistic/{}\".format(i) for i in os.listdir(NA_train_data)]\n",
    "train_img=a_train_img+na_train_img\n",
    "#random.shuffle(train_img)"
   ]
  },
  {
   "cell_type": "code",
   "execution_count": 3,
   "id": "a8049df1",
   "metadata": {
    "execution": {
     "iopub.execute_input": "2023-03-08T20:36:10.554819Z",
     "iopub.status.busy": "2023-03-08T20:36:10.554531Z",
     "iopub.status.idle": "2023-03-08T20:36:10.681276Z",
     "shell.execute_reply": "2023-03-08T20:36:10.680272Z"
    },
    "papermill": {
     "duration": 0.133285,
     "end_time": "2023-03-08T20:36:10.683883",
     "exception": false,
     "start_time": "2023-03-08T20:36:10.550598",
     "status": "completed"
    },
    "tags": []
   },
   "outputs": [],
   "source": [
    "sample2=[]\n",
    "def sampledata():\n",
    "    for i in train_img[0:20]:\n",
    "        img=cv2.imread(i)\n",
    "        sample=cv2.cvtColor(img, cv2.COLOR_BGR2RGB)\n",
    "        #imgplot = plt.imshow(sample)\n",
    "        #plt.show()\n",
    "        sample2.append(sample)\n",
    "    return sample2\n",
    "sample_data=sampledata()\n"
   ]
  },
  {
   "cell_type": "code",
   "execution_count": 4,
   "id": "7afc4b22",
   "metadata": {
    "execution": {
     "iopub.execute_input": "2023-03-08T20:36:10.691847Z",
     "iopub.status.busy": "2023-03-08T20:36:10.690848Z",
     "iopub.status.idle": "2023-03-08T20:36:18.269429Z",
     "shell.execute_reply": "2023-03-08T20:36:18.268458Z"
    },
    "papermill": {
     "duration": 7.585085,
     "end_time": "2023-03-08T20:36:18.271967",
     "exception": false,
     "start_time": "2023-03-08T20:36:10.686882",
     "status": "completed"
    },
    "tags": []
   },
   "outputs": [],
   "source": [
    "detected=[]\n",
    "def cropping_based_face_detection(samdata):\n",
    "    \n",
    "    \n",
    "    detector = dlib.cnn_face_detection_model_v1(\"/kaggle/input/models/mmod_human_face_detector (1)_1.dat\")\n",
    "    greyimg=cv2.cvtColor(samdata, cv2.COLOR_BGR2GRAY)\n",
    "    detectedimg = detector(greyimg)\n",
    "    #print(\"found {} face(s)\".format(len(detectedimg)))\n",
    "    \n",
    "    #if len(detectedimg) == 0:\n",
    "    #    plt.imshow(samdata)\n",
    "    #   plt.show()\n",
    "    #   return 1\n",
    "    #else:\n",
    "    #   return 0\n",
    "    \n",
    "    for face in detectedimg:\n",
    "        x1 = face.rect.left()\n",
    "        y1 = face.rect.top()\n",
    "        x2 = face.rect.right()\n",
    "        y2 = face.rect.bottom()\n",
    "        \n",
    "        img=cv2.rectangle(samdata, (x1, y1), (x2, y2), (0, 0, 0), 2)\n",
    "        img_height, img_width, c = img.shape\n",
    "        #imgplot = plt.imshow(img)\n",
    "        #plt.show()\n",
    "        cropped = img[max(0, face.rect.top()): min(face.rect.bottom(), img_height),max(0, face.rect.left()): min(face.rect.right(), img_width)]\n",
    "        #imgplot = plt.imshow(cropped)\n",
    "        #plt.show()\n",
    "        detected.append(cropped)\n",
    "        \n",
    "    return detected\n",
    "\n",
    "\n",
    "for i in sample_data:\n",
    "    det_img=cropping_based_face_detection(i)\n",
    "    \n",
    "    "
   ]
  },
  {
   "cell_type": "code",
   "execution_count": null,
   "id": "e1ce5c66",
   "metadata": {
    "papermill": {
     "duration": 0.002744,
     "end_time": "2023-03-08T20:36:18.277787",
     "exception": false,
     "start_time": "2023-03-08T20:36:18.275043",
     "status": "completed"
    },
    "tags": []
   },
   "outputs": [],
   "source": []
  },
  {
   "cell_type": "code",
   "execution_count": 5,
   "id": "b322f5ef",
   "metadata": {
    "execution": {
     "iopub.execute_input": "2023-03-08T20:36:18.284766Z",
     "iopub.status.busy": "2023-03-08T20:36:18.284472Z",
     "iopub.status.idle": "2023-03-08T20:36:18.289159Z",
     "shell.execute_reply": "2023-03-08T20:36:18.288258Z"
    },
    "papermill": {
     "duration": 0.01066,
     "end_time": "2023-03-08T20:36:18.291193",
     "exception": false,
     "start_time": "2023-03-08T20:36:18.280533",
     "status": "completed"
    },
    "tags": []
   },
   "outputs": [],
   "source": [
    "resizedimg=[]\n",
    "def ReSize(detimg):\n",
    "    img=cv2.resize(detimg,(200,200))\n",
    "    #imgplot = plt.imshow(img)\n",
    "    #plt.show()\n",
    "    resizedimg.append(img)\n",
    "    return resizedimg\n",
    "\n",
    "#for i in sample_data:\n",
    "#   res_img=ReSize(i)\n",
    "    "
   ]
  },
  {
   "cell_type": "code",
   "execution_count": 6,
   "id": "b45ecfd4",
   "metadata": {
    "execution": {
     "iopub.execute_input": "2023-03-08T20:36:18.297890Z",
     "iopub.status.busy": "2023-03-08T20:36:18.297618Z",
     "iopub.status.idle": "2023-03-08T20:36:18.303226Z",
     "shell.execute_reply": "2023-03-08T20:36:18.302389Z"
    },
    "papermill": {
     "duration": 0.011194,
     "end_time": "2023-03-08T20:36:18.305124",
     "exception": false,
     "start_time": "2023-03-08T20:36:18.293930",
     "status": "completed"
    },
    "tags": []
   },
   "outputs": [],
   "source": [
    " norm=[]\n",
    "def normalize(resimg):\n",
    "    img=cv2.cvtColor(resimg,cv2.COLOR_BGR2RGB)\n",
    "    img_normalized = cv2.normalize(img, None, 0, 1.0, cv2.NORM_MINMAX, dtype=cv2.CV_32F)\n",
    "    img1=cv2.cvtColor(img_normalized,cv2.COLOR_BGR2RGB)\n",
    "    #imgplot = plt.imshow(img1)\n",
    "    #plt.show()\n",
    "    norm.append(img1)\n",
    "    return norm\n",
    "\n",
    "#for i in res_img:\n",
    "#   norm_img=normalize(i)    "
   ]
  },
  {
   "cell_type": "code",
   "execution_count": 7,
   "id": "fb6c784d",
   "metadata": {
    "execution": {
     "iopub.execute_input": "2023-03-08T20:36:18.311734Z",
     "iopub.status.busy": "2023-03-08T20:36:18.311478Z",
     "iopub.status.idle": "2023-03-08T20:36:18.316300Z",
     "shell.execute_reply": "2023-03-08T20:36:18.315303Z"
    },
    "papermill": {
     "duration": 0.010616,
     "end_time": "2023-03-08T20:36:18.318590",
     "exception": false,
     "start_time": "2023-03-08T20:36:18.307974",
     "status": "completed"
    },
    "tags": []
   },
   "outputs": [],
   "source": [
    " grey=[]\n",
    "def gray(normimg):\n",
    "    img=cv2.cvtColor(normimg, cv2.COLOR_BGR2GRAY)\n",
    "    I=cv2.cvtColor(img,cv2.COLOR_BGR2RGB)\n",
    "#   imgplot = plt.imshow(I)\n",
    "#   plt.show()\n",
    "    grey.append(I)\n",
    "    return grey\n",
    "\n",
    "#for i in norm_img:\n",
    "#   grey_img=gray(i)   \n",
    "    "
   ]
  },
  {
   "cell_type": "code",
   "execution_count": 8,
   "id": "4653c0b5",
   "metadata": {
    "execution": {
     "iopub.execute_input": "2023-03-08T20:36:18.325251Z",
     "iopub.status.busy": "2023-03-08T20:36:18.325000Z",
     "iopub.status.idle": "2023-03-08T20:36:18.330113Z",
     "shell.execute_reply": "2023-03-08T20:36:18.329215Z"
    },
    "papermill": {
     "duration": 0.010766,
     "end_time": "2023-03-08T20:36:18.332073",
     "exception": false,
     "start_time": "2023-03-08T20:36:18.321307",
     "status": "completed"
    },
    "tags": []
   },
   "outputs": [],
   "source": [
    " bc=[]\n",
    "def Brightnessandcontrast(normimg):\n",
    "    Bright = 20\n",
    "    Contrast = 1\n",
    "    img=cv2.cvtColor(normimg,cv2.COLOR_BGR2RGB)\n",
    "    adjusted = cv2.convertScaleAbs(img, alpha=Contrast, beta=Bright)\n",
    "    rgbadjusted=cv2.cvtColor(adjusted,cv2.COLOR_BGR2RGB)\n",
    "#   imgplot = plt.imshow(rgbadjusted)\n",
    "#   plt.show()\n",
    "    bc.append(rgbadjusted)\n",
    "    return bc\n",
    "\n",
    "#for i in res_img:\n",
    "#   b_c=Brightnessandcontrast(i)"
   ]
  },
  {
   "cell_type": "code",
   "execution_count": 9,
   "id": "10562d97",
   "metadata": {
    "execution": {
     "iopub.execute_input": "2023-03-08T20:36:18.339078Z",
     "iopub.status.busy": "2023-03-08T20:36:18.338261Z",
     "iopub.status.idle": "2023-03-08T20:36:18.344032Z",
     "shell.execute_reply": "2023-03-08T20:36:18.343231Z"
    },
    "papermill": {
     "duration": 0.011083,
     "end_time": "2023-03-08T20:36:18.345879",
     "exception": false,
     "start_time": "2023-03-08T20:36:18.334796",
     "status": "completed"
    },
    "tags": []
   },
   "outputs": [],
   "source": [
    " blurred=[]\n",
    "def mean_noise_reduction(normimg):\n",
    "    img=cv2.cvtColor(normimg,cv2.COLOR_BGR2RGB)\n",
    "    filteredimg = cv2.fastNlMeansDenoisingColored(img,None,10,10,7,21)\n",
    "    rgbfilteredimg=cv2.cvtColor(filteredimg,cv2.COLOR_BGR2RGB)\n",
    "#   imgplot = plt.imshow(rgbfilteredimg)\n",
    "#   plt.show()\n",
    "    blurred.append(rgbfilteredimg)\n",
    "    return blurred\n",
    "\n",
    "#for i in res_img:\n",
    "#   blur_img=mean_noise_reduction(i)\n",
    "    \n",
    "    "
   ]
  },
  {
   "cell_type": "code",
   "execution_count": 10,
   "id": "02fd6623",
   "metadata": {
    "execution": {
     "iopub.execute_input": "2023-03-08T20:36:18.352660Z",
     "iopub.status.busy": "2023-03-08T20:36:18.352058Z",
     "iopub.status.idle": "2023-03-08T20:36:18.357072Z",
     "shell.execute_reply": "2023-03-08T20:36:18.356204Z"
    },
    "papermill": {
     "duration": 0.010324,
     "end_time": "2023-03-08T20:36:18.358951",
     "exception": false,
     "start_time": "2023-03-08T20:36:18.348627",
     "status": "completed"
    },
    "tags": []
   },
   "outputs": [],
   "source": [
    " blur=[]\n",
    "def three_noise_reduction(normimg):\n",
    "    img=cv2.cvtColor(normimg,cv2.COLOR_BGR2RGB)\n",
    "    filteredimg =cv2.GaussianBlur(img,(5,5),0)\n",
    "    #filteredimg=cv2.blur(img,(5,5))\n",
    "    #filteredimg=cv2.medianBlur(img,5)\n",
    "    rgbfilteredimg=cv2.cvtColor(filteredimg,cv2.COLOR_BGR2RGB)\n",
    "#   imgplot = plt.imshow(rgbfilteredimg)\n",
    "#   plt.show()\n",
    "    blur.append(rgbfilteredimg)\n",
    "    return blur\n",
    "\n",
    "#for i in norm_img:\n",
    "#   blur_img=three_noise_reduction(i)"
   ]
  }
 ],
 "metadata": {
  "kernelspec": {
   "display_name": "Python 3",
   "language": "python",
   "name": "python3"
  },
  "language_info": {
   "codemirror_mode": {
    "name": "ipython",
    "version": 3
   },
   "file_extension": ".py",
   "mimetype": "text/x-python",
   "name": "python",
   "nbconvert_exporter": "python",
   "pygments_lexer": "ipython3",
   "version": "3.7.12"
  },
  "papermill": {
   "default_parameters": {},
   "duration": 17.867903,
   "end_time": "2023-03-08T20:36:19.482239",
   "environment_variables": {},
   "exception": null,
   "input_path": "__notebook__.ipynb",
   "output_path": "__notebook__.ipynb",
   "parameters": {},
   "start_time": "2023-03-08T20:36:01.614336",
   "version": "2.3.4"
  }
 },
 "nbformat": 4,
 "nbformat_minor": 5
}
