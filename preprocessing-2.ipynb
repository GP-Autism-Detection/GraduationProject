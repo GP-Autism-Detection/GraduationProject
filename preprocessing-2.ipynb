{
 "cells": [
  {
   "cell_type": "code",
   "execution_count": 1,
   "id": "9729fc2c",
   "metadata": {
    "_cell_guid": "b1076dfc-b9ad-4769-8c92-a6c4dae69d19",
    "_uuid": "8f2839f25d086af736a60e9eeb907d3b93b6e0e5",
    "execution": {
     "iopub.execute_input": "2023-02-24T21:05:30.013247Z",
     "iopub.status.busy": "2023-02-24T21:05:30.012325Z",
     "iopub.status.idle": "2023-02-24T21:05:30.365203Z",
     "shell.execute_reply": "2023-02-24T21:05:30.364125Z"
    },
    "papermill": {
     "duration": 0.361682,
     "end_time": "2023-02-24T21:05:30.368102",
     "exception": false,
     "start_time": "2023-02-24T21:05:30.006420",
     "status": "completed"
    },
    "tags": []
   },
   "outputs": [],
   "source": [
    "import pandas as pd\n",
    "import numpy as np\n",
    "import cv2\n",
    "import random\n",
    "import matplotlib.pyplot as plt\n",
    "import os\n",
    "import dlib"
   ]
  },
  {
   "cell_type": "code",
   "execution_count": 2,
   "id": "bb968501",
   "metadata": {
    "execution": {
     "iopub.execute_input": "2023-02-24T21:05:30.375739Z",
     "iopub.status.busy": "2023-02-24T21:05:30.375408Z",
     "iopub.status.idle": "2023-02-24T21:05:30.696996Z",
     "shell.execute_reply": "2023-02-24T21:05:30.696057Z"
    },
    "papermill": {
     "duration": 0.328034,
     "end_time": "2023-02-24T21:05:30.699505",
     "exception": false,
     "start_time": "2023-02-24T21:05:30.371471",
     "status": "completed"
    },
    "tags": []
   },
   "outputs": [],
   "source": [
    "train_data= \"/kaggle/input/autism-image-data/AutismDataset/train\"\n",
    "train_img = [\"../input/autism-image-data/AutismDataset/train/{}\".format(i) for i in os.listdir(train_data)]"
   ]
  },
  {
   "cell_type": "code",
   "execution_count": 3,
   "id": "b97581cb",
   "metadata": {
    "execution": {
     "iopub.execute_input": "2023-02-24T21:05:30.707065Z",
     "iopub.status.busy": "2023-02-24T21:05:30.706752Z",
     "iopub.status.idle": "2023-02-24T21:05:30.908355Z",
     "shell.execute_reply": "2023-02-24T21:05:30.907128Z"
    },
    "papermill": {
     "duration": 0.20857,
     "end_time": "2023-02-24T21:05:30.911061",
     "exception": false,
     "start_time": "2023-02-24T21:05:30.702491",
     "status": "completed"
    },
    "tags": []
   },
   "outputs": [],
   "source": [
    "sample2=[]\n",
    "def sampledata():\n",
    "    for i in train_img[0:15]:\n",
    "        img=cv2.imread(i)\n",
    "        sample=cv2.cvtColor(img, cv2.COLOR_BGR2RGB)\n",
    "        #imgplot = plt.imshow(sample)\n",
    "        #plt.show()\n",
    "        sample2.append(sample)\n",
    "        \n",
    "    return sample2\n",
    "sample_data=sampledata()\n"
   ]
  },
  {
   "cell_type": "code",
   "execution_count": 4,
   "id": "756d6175",
   "metadata": {
    "execution": {
     "iopub.execute_input": "2023-02-24T21:05:30.918541Z",
     "iopub.status.busy": "2023-02-24T21:05:30.918242Z",
     "iopub.status.idle": "2023-02-24T21:05:36.612440Z",
     "shell.execute_reply": "2023-02-24T21:05:36.611427Z"
    },
    "papermill": {
     "duration": 5.700841,
     "end_time": "2023-02-24T21:05:36.614983",
     "exception": false,
     "start_time": "2023-02-24T21:05:30.914142",
     "status": "completed"
    },
    "tags": []
   },
   "outputs": [],
   "source": [
    "detected=[]\n",
    "def face_detection(samdata):\n",
    "    \n",
    "    detector = dlib.get_frontal_face_detector()\n",
    "    greyimg=cv2.cvtColor(samdata, cv2.COLOR_BGR2GRAY)\n",
    "    detectedimg = detector(greyimg)\n",
    "    #print(\"found {} face(s)\".format(len(detectedimg)))\n",
    "    \n",
    "    for face in detectedimg:\n",
    "        x1 = face.left()\n",
    "        y1 = face.top()\n",
    "        x2 = face.right()\n",
    "        y2 = face.bottom()\n",
    "        \n",
    "        img=cv2.rectangle(samdata, (x1, y1), (x2, y2), (0, 0, 0), 2)\n",
    "        img_height, img_width, c = img.shape\n",
    "        #imgplot = plt.imshow(img)\n",
    "        #plt.show()\n",
    "        cropped = img[max(0, face.top()): min(face.bottom(), img_height),max(0, face.left()): min(face.right(), img_width)]\n",
    "        #imgplot = plt.imshow(cropped)\n",
    "        #plt.show()\n",
    "        detected.append(cropped)\n",
    "        \n",
    "    return detected\n",
    "\n",
    "for i in sample_data:\n",
    "    det_img=face_detection(i)\n",
    "    \n",
    "    "
   ]
  },
  {
   "cell_type": "code",
   "execution_count": null,
   "id": "42aebe1e",
   "metadata": {
    "papermill": {
     "duration": 0.002668,
     "end_time": "2023-02-24T21:05:36.621220",
     "exception": false,
     "start_time": "2023-02-24T21:05:36.618552",
     "status": "completed"
    },
    "tags": []
   },
   "outputs": [],
   "source": []
  },
  {
   "cell_type": "code",
   "execution_count": 5,
   "id": "d2b8eb19",
   "metadata": {
    "execution": {
     "iopub.execute_input": "2023-02-24T21:05:36.629469Z",
     "iopub.status.busy": "2023-02-24T21:05:36.627871Z",
     "iopub.status.idle": "2023-02-24T21:05:36.634705Z",
     "shell.execute_reply": "2023-02-24T21:05:36.633708Z"
    },
    "papermill": {
     "duration": 0.013199,
     "end_time": "2023-02-24T21:05:36.637137",
     "exception": false,
     "start_time": "2023-02-24T21:05:36.623938",
     "status": "completed"
    },
    "tags": []
   },
   "outputs": [],
   "source": [
    "resizedimg=[]\n",
    "def ReSize(detimg):\n",
    "    img=cv2.resize(detimg,(200,200))\n",
    "    imgplot = plt.imshow(img)\n",
    "    plt.show()\n",
    "    resizedimg.append(img)\n",
    "    return resizedimg\n",
    "\n",
    "#for i in det_img:\n",
    " #   res_img=ReSize(i)\n",
    "    "
   ]
  },
  {
   "cell_type": "code",
   "execution_count": 6,
   "id": "edffe712",
   "metadata": {
    "execution": {
     "iopub.execute_input": "2023-02-24T21:05:36.643783Z",
     "iopub.status.busy": "2023-02-24T21:05:36.643518Z",
     "iopub.status.idle": "2023-02-24T21:05:36.649760Z",
     "shell.execute_reply": "2023-02-24T21:05:36.648939Z"
    },
    "papermill": {
     "duration": 0.011866,
     "end_time": "2023-02-24T21:05:36.651708",
     "exception": false,
     "start_time": "2023-02-24T21:05:36.639842",
     "status": "completed"
    },
    "tags": []
   },
   "outputs": [],
   "source": [
    "norm=[]\n",
    "def normalize(resimg):\n",
    "    img=cv2.cvtColor(resimg,cv2.COLOR_BGR2RGB)\n",
    "    img_normalized = cv2.normalize(img, None, 0, 1.0, cv2.NORM_MINMAX, dtype=cv2.CV_32F)\n",
    "    #print(img_normalized)\n",
    "    img1=cv2.cvtColor(img_normalized,cv2.COLOR_BGR2RGB)\n",
    "    imgplot = plt.imshow(img1)\n",
    "    plt.show()\n",
    "    norm.append(img1)\n",
    "    return norm\n",
    "\n",
    "#for i in res_img:\n",
    " #   norm_img=normalize(i)    "
   ]
  },
  {
   "cell_type": "code",
   "execution_count": 7,
   "id": "7ed6c22c",
   "metadata": {
    "execution": {
     "iopub.execute_input": "2023-02-24T21:05:36.658636Z",
     "iopub.status.busy": "2023-02-24T21:05:36.658389Z",
     "iopub.status.idle": "2023-02-24T21:05:36.664308Z",
     "shell.execute_reply": "2023-02-24T21:05:36.663478Z"
    },
    "papermill": {
     "duration": 0.012032,
     "end_time": "2023-02-24T21:05:36.666516",
     "exception": false,
     "start_time": "2023-02-24T21:05:36.654484",
     "status": "completed"
    },
    "tags": []
   },
   "outputs": [],
   "source": [
    "grey=[]\n",
    "def gray(resimg):\n",
    "    img=cv2.cvtColor(resimg, cv2.COLOR_BGR2GRAY)\n",
    "    I=cv2.cvtColor(img,cv2.COLOR_BGR2RGB)\n",
    "    imgplot = plt.imshow(I)\n",
    "    plt.show()\n",
    "    grey.append(I)\n",
    "    return grey\n",
    "\n",
    "#for i in res_img:\n",
    " #   grey_img=gray(i)   \n",
    "    "
   ]
  },
  {
   "cell_type": "code",
   "execution_count": 8,
   "id": "62158b1d",
   "metadata": {
    "execution": {
     "iopub.execute_input": "2023-02-24T21:05:36.673515Z",
     "iopub.status.busy": "2023-02-24T21:05:36.672844Z",
     "iopub.status.idle": "2023-02-24T21:05:36.678415Z",
     "shell.execute_reply": "2023-02-24T21:05:36.677483Z"
    },
    "papermill": {
     "duration": 0.011055,
     "end_time": "2023-02-24T21:05:36.680453",
     "exception": false,
     "start_time": "2023-02-24T21:05:36.669398",
     "status": "completed"
    },
    "tags": []
   },
   "outputs": [],
   "source": [
    "bc=[]\n",
    "def Brightnessandcontrast(resimg):\n",
    "    Bright = 20\n",
    "    Contrast = 1\n",
    "    img=cv2.cvtColor(resimg,cv2.COLOR_BGR2RGB)\n",
    "    adjusted = cv2.convertScaleAbs(img, alpha=Contrast, beta=Bright)\n",
    "    rgbadjusted=cv2.cvtColor(adjusted,cv2.COLOR_BGR2RGB)\n",
    "    imgplot = plt.imshow(rgbadjusted)\n",
    "    plt.show()\n",
    "    bc.append(rgbadjusted)\n",
    "    return bc\n",
    "\n",
    "#for i in res_img:\n",
    " #   b_c=Brightnessandcontrast(i)"
   ]
  },
  {
   "cell_type": "code",
   "execution_count": 9,
   "id": "e6432526",
   "metadata": {
    "execution": {
     "iopub.execute_input": "2023-02-24T21:05:36.687043Z",
     "iopub.status.busy": "2023-02-24T21:05:36.686769Z",
     "iopub.status.idle": "2023-02-24T21:05:36.692130Z",
     "shell.execute_reply": "2023-02-24T21:05:36.691221Z"
    },
    "papermill": {
     "duration": 0.010836,
     "end_time": "2023-02-24T21:05:36.693979",
     "exception": false,
     "start_time": "2023-02-24T21:05:36.683143",
     "status": "completed"
    },
    "tags": []
   },
   "outputs": [],
   "source": [
    "blurred=[]\n",
    "def mean_noise_reduction(resimg):\n",
    "    img=cv2.cvtColor(resimg,cv2.COLOR_BGR2RGB)\n",
    "    filteredimg = cv2.fastNlMeansDenoisingColored(img,None,10,10,7,21)\n",
    "    rgbfilteredimg=cv2.cvtColor(filteredimg,cv2.COLOR_BGR2RGB)\n",
    "    imgplot = plt.imshow(rgbfilteredimg)\n",
    "    plt.show()\n",
    "    blurred.append(rgbfilteredimg)\n",
    "    return blurred\n",
    "\n",
    "#for i in res_img:\n",
    " #   blur_img=mean_noise_reduction(i)\n",
    "    \n",
    "    "
   ]
  },
  {
   "cell_type": "code",
   "execution_count": 10,
   "id": "cb27e0c6",
   "metadata": {
    "execution": {
     "iopub.execute_input": "2023-02-24T21:05:36.700663Z",
     "iopub.status.busy": "2023-02-24T21:05:36.700416Z",
     "iopub.status.idle": "2023-02-24T21:05:36.705634Z",
     "shell.execute_reply": "2023-02-24T21:05:36.704616Z"
    },
    "papermill": {
     "duration": 0.010787,
     "end_time": "2023-02-24T21:05:36.707673",
     "exception": false,
     "start_time": "2023-02-24T21:05:36.696886",
     "status": "completed"
    },
    "tags": []
   },
   "outputs": [],
   "source": [
    "blur=[]\n",
    "def three_noise_reduction(resimg):\n",
    "    img=cv2.cvtColor(resimg,cv2.COLOR_BGR2RGB)\n",
    "    filteredimg =cv2.GaussianBlur(img,(5,5),0)\n",
    "    #filteredimg=cv2.blur(img,(5,5))\n",
    "    #filteredimg=cv2.medianBlur(img,5)\n",
    "    rgbfilteredimg=cv2.cvtColor(filteredimg,cv2.COLOR_BGR2RGB)\n",
    "    imgplot = plt.imshow(rgbfilteredimg)\n",
    "    plt.show()\n",
    "    blur.append(rgbfilteredimg)\n",
    "    return blur\n",
    "\n",
    "#for i in res_img:\n",
    " #   blur_img=three_noise_reduction(i)"
   ]
  }
 ],
 "metadata": {
  "kernelspec": {
   "display_name": "Python 3",
   "language": "python",
   "name": "python3"
  },
  "language_info": {
   "codemirror_mode": {
    "name": "ipython",
    "version": 3
   },
   "file_extension": ".py",
   "mimetype": "text/x-python",
   "name": "python",
   "nbconvert_exporter": "python",
   "pygments_lexer": "ipython3",
   "version": "3.7.12"
  },
  "papermill": {
   "default_parameters": {},
   "duration": 15.426941,
   "end_time": "2023-02-24T21:05:37.429513",
   "environment_variables": {},
   "exception": null,
   "input_path": "__notebook__.ipynb",
   "output_path": "__notebook__.ipynb",
   "parameters": {},
   "start_time": "2023-02-24T21:05:22.002572",
   "version": "2.3.4"
  }
 },
 "nbformat": 4,
 "nbformat_minor": 5
}
