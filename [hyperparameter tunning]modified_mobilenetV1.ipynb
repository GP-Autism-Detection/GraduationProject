{
 "cells": [
  {
   "cell_type": "markdown",
   "id": "1a46d0e4",
   "metadata": {
    "_cell_guid": "b1076dfc-b9ad-4769-8c92-a6c4dae69d19",
    "_uuid": "8f2839f25d086af736a60e9eeb907d3b93b6e0e5",
    "execution": {
     "iopub.execute_input": "2022-12-29T21:28:25.582495Z",
     "iopub.status.busy": "2022-12-29T21:28:25.582065Z",
     "iopub.status.idle": "2022-12-29T21:28:28.685002Z",
     "shell.execute_reply": "2022-12-29T21:28:28.684010Z",
     "shell.execute_reply.started": "2022-12-29T21:28:25.582410Z"
    },
    "papermill": {
     "duration": 0.008174,
     "end_time": "2023-02-21T17:26:07.791832",
     "exception": false,
     "start_time": "2023-02-21T17:26:07.783658",
     "status": "completed"
    },
    "tags": []
   },
   "source": [
    "###### This Python 3 environment comes with many helpful analytics libraries installed\n",
    "# It is defined by the kaggle/python Docker image: https://github.com/kaggle/docker-python\n",
    "# For example, here's several helpful packages to load\n",
    "\n",
    "import numpy as np # linear algebra\n",
    "import pandas as pd # data processing, CSV file I/O (e.g. pd.read_csv)\n",
    "\n",
    "# Input data files are available in the read-only \"../input/\" directory\n",
    "# For example, running this (by clicking run or pressing Shift+Enter) will list all files under the input directory\n",
    "\n",
    "import os\n",
    "for dirname, _, filenames in os.walk('/kaggle/input'):\n",
    "    for filename in filenames:\n",
    "        os.path.join(dirname, filename)\n",
    "\n",
    "# You can write up to 20GB to the current directory (/kaggle/working/) that gets preserved as output when you create a version using \"Save & Run All\" \n",
    "# You can also write temporary files to /kaggle/temp/, but they won't be saved outside of the current session\n",
    " "
   ]
  },
  {
   "cell_type": "code",
   "execution_count": 1,
   "id": "e3783e9d",
   "metadata": {
    "execution": {
     "iopub.execute_input": "2023-02-21T17:26:07.808159Z",
     "iopub.status.busy": "2023-02-21T17:26:07.807584Z",
     "iopub.status.idle": "2023-02-21T17:26:14.069523Z",
     "shell.execute_reply": "2023-02-21T17:26:14.068550Z"
    },
    "papermill": {
     "duration": 6.273178,
     "end_time": "2023-02-21T17:26:14.072228",
     "exception": false,
     "start_time": "2023-02-21T17:26:07.799050",
     "status": "completed"
    },
    "tags": []
   },
   "outputs": [],
   "source": [
    "#import libraries\n",
    "import tensorflow as tf\n",
    "import keras\n",
    "from keras.models import Model\n",
    "from keras.layers import Dense\n",
    "from keras.layers import Flatten\n",
    "from tensorflow.keras.optimizers import Adam\n",
    "from tensorflow.keras.preprocessing.image import ImageDataGenerator\n",
    "from keras.callbacks import ModelCheckpoint, EarlyStopping\n",
    "from keras.layers import Input, BatchNormalization, AveragePooling2D, Dense, Conv2D , Flatten ,DepthwiseConv2D, ReLU ,GlobalAveragePooling2D , Dropout\n",
    "import keras_tuner\n",
    "from tensorflow import keras"
   ]
  },
  {
   "cell_type": "markdown",
   "id": "b557035e",
   "metadata": {
    "papermill": {
     "duration": 0.00483,
     "end_time": "2023-02-21T17:26:14.081788",
     "exception": false,
     "start_time": "2023-02-21T17:26:14.076958",
     "status": "completed"
    },
    "tags": []
   },
   "source": [
    "# # Preparing Dataset"
   ]
  },
  {
   "cell_type": "code",
   "execution_count": 2,
   "id": "c9c60bfc",
   "metadata": {
    "execution": {
     "iopub.execute_input": "2023-02-21T17:26:14.092212Z",
     "iopub.status.busy": "2023-02-21T17:26:14.091643Z",
     "iopub.status.idle": "2023-02-21T17:26:14.097863Z",
     "shell.execute_reply": "2023-02-21T17:26:14.096879Z"
    },
    "papermill": {
     "duration": 0.013741,
     "end_time": "2023-02-21T17:26:14.100049",
     "exception": false,
     "start_time": "2023-02-21T17:26:14.086308",
     "status": "completed"
    },
    "tags": []
   },
   "outputs": [],
   "source": [
    "photo_size = 224\n",
    "batch_size=32\n",
    "def prepare_dataset(data_dir):\n",
    "    datagen = ImageDataGenerator(\n",
    "        rescale=1 / 255,\n",
    "        rotation_range=40,\n",
    "        width_shift_range=.2,\n",
    "        height_shift_range=.2,\n",
    "        shear_range=.1,\n",
    "        horizontal_flip=True,\n",
    "        fill_mode='nearest',\n",
    "        zoom_range=.2,\n",
    "    )\n",
    "    generator = datagen.flow_from_directory(\n",
    "        data_dir,\n",
    "        target_size=(photo_size,photo_size),\n",
    "        class_mode='binary',\n",
    "        batch_size=batch_size,\n",
    "        classes=['non_autistic','autistic']\n",
    "    )\n",
    "    return generator"
   ]
  },
  {
   "cell_type": "markdown",
   "id": "22072d82",
   "metadata": {
    "papermill": {
     "duration": 0.004016,
     "end_time": "2023-02-21T17:26:14.108591",
     "exception": false,
     "start_time": "2023-02-21T17:26:14.104575",
     "status": "completed"
    },
    "tags": []
   },
   "source": [
    "# Load Dataset"
   ]
  },
  {
   "cell_type": "code",
   "execution_count": 3,
   "id": "e91467ab",
   "metadata": {
    "execution": {
     "iopub.execute_input": "2023-02-21T17:26:14.118435Z",
     "iopub.status.busy": "2023-02-21T17:26:14.118148Z",
     "iopub.status.idle": "2023-02-21T17:26:16.019394Z",
     "shell.execute_reply": "2023-02-21T17:26:16.017971Z"
    },
    "papermill": {
     "duration": 1.908542,
     "end_time": "2023-02-21T17:26:16.021612",
     "exception": false,
     "start_time": "2023-02-21T17:26:14.113070",
     "status": "completed"
    },
    "tags": []
   },
   "outputs": [
    {
     "name": "stdout",
     "output_type": "stream",
     "text": [
      "Found 2536 images belonging to 2 classes.\n",
      "Found 300 images belonging to 2 classes.\n",
      "Found 100 images belonging to 2 classes.\n"
     ]
    }
   ],
   "source": [
    "#load dataset\n",
    "traindata = prepare_dataset(\"/kaggle/input/autistic-children-facial-data-set/train\")\n",
    "testdata= prepare_dataset(\"/kaggle/input/autistic-children-facial-data-set/test\")\n",
    "validData = prepare_dataset(\"/kaggle/input/autistic-children-facial-data-set/valid\")"
   ]
  },
  {
   "cell_type": "markdown",
   "id": "2a17ff9a",
   "metadata": {
    "papermill": {
     "duration": 0.004311,
     "end_time": "2023-02-21T17:26:16.030766",
     "exception": false,
     "start_time": "2023-02-21T17:26:16.026455",
     "status": "completed"
    },
    "tags": []
   },
   "source": [
    "# Improved MobileNet v1"
   ]
  },
  {
   "cell_type": "code",
   "execution_count": 4,
   "id": "0b1ea7a2",
   "metadata": {
    "execution": {
     "iopub.execute_input": "2023-02-21T17:26:16.041004Z",
     "iopub.status.busy": "2023-02-21T17:26:16.040715Z",
     "iopub.status.idle": "2023-02-21T17:26:16.047512Z",
     "shell.execute_reply": "2023-02-21T17:26:16.046496Z"
    },
    "papermill": {
     "duration": 0.014152,
     "end_time": "2023-02-21T17:26:16.049470",
     "exception": false,
     "start_time": "2023-02-21T17:26:16.035318",
     "status": "completed"
    },
    "tags": []
   },
   "outputs": [],
   "source": [
    "def depth_block(x, strides):\n",
    "    x = DepthwiseConv2D(3,strides=strides,padding='same',  use_bias=False)(x)\n",
    "    x = BatchNormalization()(x)\n",
    "    x = ReLU()(x)\n",
    "    return x\n",
    "def single_conv_block(x,filters):\n",
    "    x = Conv2D(filters, 1,use_bias=False)(x)\n",
    "    x= BatchNormalization()(x)\n",
    "    x = ReLU()(x)\n",
    "    return x\n",
    "def combo_layer(x,filters,strides):\n",
    "    x = depth_block(x,strides)\n",
    "    x = single_conv_block(x, filters)\n",
    "    return x\n",
    "\n",
    "    "
   ]
  },
  {
   "cell_type": "code",
   "execution_count": 5,
   "id": "9aa9d90f",
   "metadata": {
    "execution": {
     "iopub.execute_input": "2023-02-21T17:26:16.059885Z",
     "iopub.status.busy": "2023-02-21T17:26:16.059226Z",
     "iopub.status.idle": "2023-02-21T17:26:16.068930Z",
     "shell.execute_reply": "2023-02-21T17:26:16.068052Z"
    },
    "papermill": {
     "duration": 0.016809,
     "end_time": "2023-02-21T17:26:16.070841",
     "exception": false,
     "start_time": "2023-02-21T17:26:16.054032",
     "status": "completed"
    },
    "tags": []
   },
   "outputs": [],
   "source": [
    "def build_model(hp):\n",
    "    n_classes = 1\n",
    "    input_shape=(224,224,3)\n",
    "    input =Input(input_shape)\n",
    "    x = Conv2D(32,3,strides=(2,2),padding = 'same', use_bias=False) (input)\n",
    "    x =  BatchNormalization()(x)\n",
    "    x = ReLU()(x)\n",
    "    x = combo_layer(x,64, strides=(1,1))\n",
    "    x = combo_layer(x,128,strides=(2,2))\n",
    "    x = combo_layer(x,128,strides=(1,1))\n",
    "    x = combo_layer(x,256,strides=(2,2))\n",
    "    x = combo_layer(x,256,strides=(1,1))\n",
    "    x = combo_layer(x,512,strides=(2,2))\n",
    "    for _ in range(5):\n",
    "        x = combo_layer(x,512,strides=(1,1))\n",
    "    x = combo_layer(x,1024,strides=(2,2))\n",
    "    x = combo_layer(x,1024,strides=(1,1))\n",
    "\n",
    "    x = GlobalAveragePooling2D()(x)\n",
    "    output = Dense(n_classes,activation='sigmoid')(x)\n",
    "\n",
    "    model = Model(input, output)\n",
    "\n",
    "    model.compile( optimizer=keras.optimizers.Adam(hp.Choice('learning_rate',values=[1e-2,1e-3,1e-4])),loss=tf.keras.losses.BinaryCrossentropy(),metrics=['acc'])\n",
    "\n",
    "    return model"
   ]
  },
  {
   "cell_type": "code",
   "execution_count": 6,
   "id": "96be1467",
   "metadata": {
    "execution": {
     "iopub.execute_input": "2023-02-21T17:26:16.081414Z",
     "iopub.status.busy": "2023-02-21T17:26:16.080533Z",
     "iopub.status.idle": "2023-02-21T17:26:19.416681Z",
     "shell.execute_reply": "2023-02-21T17:26:19.415420Z"
    },
    "papermill": {
     "duration": 3.343572,
     "end_time": "2023-02-21T17:26:19.418976",
     "exception": false,
     "start_time": "2023-02-21T17:26:16.075404",
     "status": "completed"
    },
    "tags": []
   },
   "outputs": [
    {
     "name": "stderr",
     "output_type": "stream",
     "text": [
      "2023-02-21 17:26:16.192364: I tensorflow/stream_executor/cuda/cuda_gpu_executor.cc:937] successful NUMA node read from SysFS had negative value (-1), but there must be at least one NUMA node, so returning NUMA node zero\n",
      "2023-02-21 17:26:16.334066: I tensorflow/stream_executor/cuda/cuda_gpu_executor.cc:937] successful NUMA node read from SysFS had negative value (-1), but there must be at least one NUMA node, so returning NUMA node zero\n",
      "2023-02-21 17:26:16.334906: I tensorflow/stream_executor/cuda/cuda_gpu_executor.cc:937] successful NUMA node read from SysFS had negative value (-1), but there must be at least one NUMA node, so returning NUMA node zero\n",
      "2023-02-21 17:26:16.336899: I tensorflow/core/platform/cpu_feature_guard.cc:142] This TensorFlow binary is optimized with oneAPI Deep Neural Network Library (oneDNN) to use the following CPU instructions in performance-critical operations:  AVX2 AVX512F FMA\n",
      "To enable them in other operations, rebuild TensorFlow with the appropriate compiler flags.\n",
      "2023-02-21 17:26:16.337219: I tensorflow/stream_executor/cuda/cuda_gpu_executor.cc:937] successful NUMA node read from SysFS had negative value (-1), but there must be at least one NUMA node, so returning NUMA node zero\n",
      "2023-02-21 17:26:16.338158: I tensorflow/stream_executor/cuda/cuda_gpu_executor.cc:937] successful NUMA node read from SysFS had negative value (-1), but there must be at least one NUMA node, so returning NUMA node zero\n",
      "2023-02-21 17:26:16.339072: I tensorflow/stream_executor/cuda/cuda_gpu_executor.cc:937] successful NUMA node read from SysFS had negative value (-1), but there must be at least one NUMA node, so returning NUMA node zero\n",
      "2023-02-21 17:26:18.619737: I tensorflow/stream_executor/cuda/cuda_gpu_executor.cc:937] successful NUMA node read from SysFS had negative value (-1), but there must be at least one NUMA node, so returning NUMA node zero\n",
      "2023-02-21 17:26:18.620626: I tensorflow/stream_executor/cuda/cuda_gpu_executor.cc:937] successful NUMA node read from SysFS had negative value (-1), but there must be at least one NUMA node, so returning NUMA node zero\n",
      "2023-02-21 17:26:18.621311: I tensorflow/stream_executor/cuda/cuda_gpu_executor.cc:937] successful NUMA node read from SysFS had negative value (-1), but there must be at least one NUMA node, so returning NUMA node zero\n",
      "2023-02-21 17:26:18.621984: I tensorflow/core/common_runtime/gpu/gpu_device.cc:1510] Created device /job:localhost/replica:0/task:0/device:GPU:0 with 15401 MB memory:  -> device: 0, name: Tesla P100-PCIE-16GB, pci bus id: 0000:00:04.0, compute capability: 6.0\n"
     ]
    },
    {
     "name": "stdout",
     "output_type": "stream",
     "text": [
      "Search space summary\n",
      "Default search space size: 1\n",
      "learning_rate (Choice)\n",
      "{'default': 0.01, 'conditions': [], 'values': [0.01, 0.001, 0.0001], 'ordered': True}\n"
     ]
    }
   ],
   "source": [
    "tuner =  keras_tuner.RandomSearch(\n",
    "                       build_model,\n",
    "                       objective = \"val_acc\", #optimize val acc\n",
    "                       max_trials=5, \n",
    "                       executions_per_trial=3,\n",
    "                       directory='/kaggle/working/', #Saving dir\n",
    "                       project_name='mobilenetv1_hpTunning')\n",
    "tuner.search_space_summary()"
   ]
  },
  {
   "cell_type": "markdown",
   "id": "ab3b6d5b",
   "metadata": {
    "papermill": {
     "duration": 0.004962,
     "end_time": "2023-02-21T17:26:19.428998",
     "exception": false,
     "start_time": "2023-02-21T17:26:19.424036",
     "status": "completed"
    },
    "tags": []
   },
   "source": [
    "# Fit and Compile Model"
   ]
  },
  {
   "cell_type": "code",
   "execution_count": 7,
   "id": "3eea26e2",
   "metadata": {
    "execution": {
     "iopub.execute_input": "2023-02-21T17:26:19.439820Z",
     "iopub.status.busy": "2023-02-21T17:26:19.439533Z",
     "iopub.status.idle": "2023-02-21T17:26:19.444300Z",
     "shell.execute_reply": "2023-02-21T17:26:19.443286Z"
    },
    "papermill": {
     "duration": 0.012717,
     "end_time": "2023-02-21T17:26:19.446560",
     "exception": false,
     "start_time": "2023-02-21T17:26:19.433843",
     "status": "completed"
    },
    "tags": []
   },
   "outputs": [],
   "source": [
    "def cal_steps(num_images, batch_size):\n",
    "    # calculates steps for generator\n",
    "    steps = num_images // batch_size\n",
    "    # adds 1 to the generator steps if the steps multiplied by\n",
    "    # the batch size is less than the total training samples\n",
    "    return  steps"
   ]
  },
  {
   "cell_type": "code",
   "execution_count": 8,
   "id": "9ce486a4",
   "metadata": {
    "execution": {
     "iopub.execute_input": "2023-02-21T17:26:19.456809Z",
     "iopub.status.busy": "2023-02-21T17:26:19.456540Z",
     "iopub.status.idle": "2023-02-21T22:16:32.290832Z",
     "shell.execute_reply": "2023-02-21T22:16:32.289974Z"
    },
    "papermill": {
     "duration": 17412.845093,
     "end_time": "2023-02-21T22:16:32.296122",
     "exception": false,
     "start_time": "2023-02-21T17:26:19.451029",
     "status": "completed"
    },
    "tags": []
   },
   "outputs": [
    {
     "name": "stdout",
     "output_type": "stream",
     "text": [
      "Trial 3 Complete [01h 36m 19s]\n",
      "val_acc: 0.8194444378217062\n",
      "\n",
      "Best val_acc So Far: 0.8333333333333334\n",
      "Total elapsed time: 04h 50m 12s\n"
     ]
    }
   ],
   "source": [
    "checkpoint = ModelCheckpoint(\"/kaggle/working/mobilenet_v1.h5\", monitor='val_acc', verbose=1, save_best_only=True, save_weights_only=False)\n",
    "early = EarlyStopping(monitor='val_acc',patience=30, verbose=1, mode='max')\n",
    "tuner.search(traindata, validation_data= validData, validation_steps=cal_steps(validData.samples, batch_size),epochs=50 ,steps_per_epoch=cal_steps(traindata.samples, batch_size))"
   ]
  },
  {
   "cell_type": "code",
   "execution_count": 9,
   "id": "05a9ac67",
   "metadata": {
    "execution": {
     "iopub.execute_input": "2023-02-21T22:16:32.308758Z",
     "iopub.status.busy": "2023-02-21T22:16:32.308468Z",
     "iopub.status.idle": "2023-02-21T22:16:32.314156Z",
     "shell.execute_reply": "2023-02-21T22:16:32.313229Z"
    },
    "papermill": {
     "duration": 0.014431,
     "end_time": "2023-02-21T22:16:32.316984",
     "exception": false,
     "start_time": "2023-02-21T22:16:32.302553",
     "status": "completed"
    },
    "tags": []
   },
   "outputs": [
    {
     "name": "stdout",
     "output_type": "stream",
     "text": [
      "Results summary\n",
      "Results in /kaggle/working/mobilenetv1_hpTunning\n",
      "Showing 10 best trials\n",
      "<keras_tuner.engine.objective.Objective object at 0x7fa992fbb5d0>\n",
      "Trial summary\n",
      "Hyperparameters:\n",
      "learning_rate: 0.0001\n",
      "Score: 0.8333333333333334\n",
      "Trial summary\n",
      "Hyperparameters:\n",
      "learning_rate: 0.001\n",
      "Score: 0.8194444378217062\n",
      "Trial summary\n",
      "Hyperparameters:\n",
      "learning_rate: 0.01\n",
      "Score: 0.8020833333333334\n"
     ]
    }
   ],
   "source": [
    "tuner.results_summary()"
   ]
  },
  {
   "cell_type": "code",
   "execution_count": 10,
   "id": "4c69d469",
   "metadata": {
    "execution": {
     "iopub.execute_input": "2023-02-21T22:16:32.328052Z",
     "iopub.status.busy": "2023-02-21T22:16:32.327346Z",
     "iopub.status.idle": "2023-02-21T22:16:32.333054Z",
     "shell.execute_reply": "2023-02-21T22:16:32.332141Z"
    },
    "papermill": {
     "duration": 0.014219,
     "end_time": "2023-02-21T22:16:32.335919",
     "exception": false,
     "start_time": "2023-02-21T22:16:32.321700",
     "status": "completed"
    },
    "tags": []
   },
   "outputs": [
    {
     "name": "stdout",
     "output_type": "stream",
     "text": [
      "{'learning_rate': 0.0001}\n"
     ]
    }
   ],
   "source": [
    "best_hp = tuner.get_best_hyperparameters(1)[0]\n",
    "print(best_hp.values)"
   ]
  },
  {
   "cell_type": "code",
   "execution_count": 11,
   "id": "f823fa88",
   "metadata": {
    "execution": {
     "iopub.execute_input": "2023-02-21T22:16:32.348211Z",
     "iopub.status.busy": "2023-02-21T22:16:32.347377Z",
     "iopub.status.idle": "2023-02-21T22:16:32.352098Z",
     "shell.execute_reply": "2023-02-21T22:16:32.351276Z"
    },
    "papermill": {
     "duration": 0.012395,
     "end_time": "2023-02-21T22:16:32.354009",
     "exception": false,
     "start_time": "2023-02-21T22:16:32.341614",
     "status": "completed"
    },
    "tags": []
   },
   "outputs": [],
   "source": [
    "#checkpoint = ModelCheckpoint(\"/kaggle/working/mobilenet_v1.h5\", monitor='val_acc', verbose=1, save_best_only=True, save_weights_only=False)\n",
    "#early = EarlyStopping(monitor='val_acc',patience=30, verbose=1, mode='max')\n",
    "#hist = model.fit(traindata, validation_data= validData, validation_steps=cal_steps(validData.samples, batch_size),epochs=100 ,steps_per_epoch=cal_steps(traindata.samples, batch_size),callbacks=[checkpoint,early])"
   ]
  },
  {
   "cell_type": "markdown",
   "id": "a90a31fd",
   "metadata": {
    "papermill": {
     "duration": 0.004554,
     "end_time": "2023-02-21T22:16:32.363469",
     "exception": false,
     "start_time": "2023-02-21T22:16:32.358915",
     "status": "completed"
    },
    "tags": []
   },
   "source": [
    "# Plotting History of Model"
   ]
  },
  {
   "cell_type": "code",
   "execution_count": 12,
   "id": "a72edf90",
   "metadata": {
    "execution": {
     "iopub.execute_input": "2023-02-21T22:16:32.374709Z",
     "iopub.status.busy": "2023-02-21T22:16:32.373840Z",
     "iopub.status.idle": "2023-02-21T22:16:32.378494Z",
     "shell.execute_reply": "2023-02-21T22:16:32.377657Z"
    },
    "papermill": {
     "duration": 0.012028,
     "end_time": "2023-02-21T22:16:32.380385",
     "exception": false,
     "start_time": "2023-02-21T22:16:32.368357",
     "status": "completed"
    },
    "tags": []
   },
   "outputs": [],
   "source": [
    "#import matplotlib.pyplot as plt\n",
    "#plt.plot(hist.history[\"acc\"])\n",
    "#plt.plot(hist.history['val_acc'])\n",
    "#plt.plot(hist.history['loss'])\n",
    "#plt.plot(hist.history['val_loss'])\n",
    "#plt.title(\"model accuracy\")\n",
    "#plt.ylabel(\"Accuracy\")\n",
    "#plt.xlabel(\"Epoch\")\n",
    "#plt.legend([\"Accuracy\",\"Validation Accuracy\"])\n",
    "#plt.show()"
   ]
  },
  {
   "cell_type": "code",
   "execution_count": 13,
   "id": "b43f511e",
   "metadata": {
    "execution": {
     "iopub.execute_input": "2023-02-21T22:16:32.391398Z",
     "iopub.status.busy": "2023-02-21T22:16:32.390876Z",
     "iopub.status.idle": "2023-02-21T22:16:32.394702Z",
     "shell.execute_reply": "2023-02-21T22:16:32.393775Z"
    },
    "papermill": {
     "duration": 0.011654,
     "end_time": "2023-02-21T22:16:32.396793",
     "exception": false,
     "start_time": "2023-02-21T22:16:32.385139",
     "status": "completed"
    },
    "tags": []
   },
   "outputs": [],
   "source": [
    "#model.evaluate(traindata)"
   ]
  },
  {
   "cell_type": "code",
   "execution_count": 14,
   "id": "354dbc57",
   "metadata": {
    "execution": {
     "iopub.execute_input": "2023-02-21T22:16:32.407848Z",
     "iopub.status.busy": "2023-02-21T22:16:32.407098Z",
     "iopub.status.idle": "2023-02-21T22:16:32.411120Z",
     "shell.execute_reply": "2023-02-21T22:16:32.410294Z"
    },
    "papermill": {
     "duration": 0.011592,
     "end_time": "2023-02-21T22:16:32.413055",
     "exception": false,
     "start_time": "2023-02-21T22:16:32.401463",
     "status": "completed"
    },
    "tags": []
   },
   "outputs": [],
   "source": [
    "#model.evaluate(validData)"
   ]
  },
  {
   "cell_type": "code",
   "execution_count": 15,
   "id": "901eb842",
   "metadata": {
    "execution": {
     "iopub.execute_input": "2023-02-21T22:16:32.424382Z",
     "iopub.status.busy": "2023-02-21T22:16:32.423557Z",
     "iopub.status.idle": "2023-02-21T22:16:32.427871Z",
     "shell.execute_reply": "2023-02-21T22:16:32.427031Z"
    },
    "papermill": {
     "duration": 0.011713,
     "end_time": "2023-02-21T22:16:32.429713",
     "exception": false,
     "start_time": "2023-02-21T22:16:32.418000",
     "status": "completed"
    },
    "tags": []
   },
   "outputs": [],
   "source": [
    "#model.evaluate(testdata)"
   ]
  },
  {
   "cell_type": "code",
   "execution_count": 16,
   "id": "0bede720",
   "metadata": {
    "execution": {
     "iopub.execute_input": "2023-02-21T22:16:32.441390Z",
     "iopub.status.busy": "2023-02-21T22:16:32.440641Z",
     "iopub.status.idle": "2023-02-21T22:16:32.444833Z",
     "shell.execute_reply": "2023-02-21T22:16:32.444006Z"
    },
    "papermill": {
     "duration": 0.012008,
     "end_time": "2023-02-21T22:16:32.446975",
     "exception": false,
     "start_time": "2023-02-21T22:16:32.434967",
     "status": "completed"
    },
    "tags": []
   },
   "outputs": [],
   "source": [
    "# print(cal_steps(traindata.samples, batch_size))"
   ]
  }
 ],
 "metadata": {
  "kernelspec": {
   "display_name": "Python 3",
   "language": "python",
   "name": "python3"
  },
  "language_info": {
   "codemirror_mode": {
    "name": "ipython",
    "version": 3
   },
   "file_extension": ".py",
   "mimetype": "text/x-python",
   "name": "python",
   "nbconvert_exporter": "python",
   "pygments_lexer": "ipython3",
   "version": "3.7.12"
  },
  "papermill": {
   "default_parameters": {},
   "duration": 17435.75405,
   "end_time": "2023-02-21T22:16:35.663442",
   "environment_variables": {},
   "exception": null,
   "input_path": "__notebook__.ipynb",
   "output_path": "__notebook__.ipynb",
   "parameters": {},
   "start_time": "2023-02-21T17:25:59.909392",
   "version": "2.3.4"
  }
 },
 "nbformat": 4,
 "nbformat_minor": 5
}
