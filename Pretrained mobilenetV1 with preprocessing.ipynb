{
 "cells": [
  {
   "cell_type": "code",
   "execution_count": 1,
   "id": "8a18ac07",
   "metadata": {
    "execution": {
     "iopub.execute_input": "2023-03-08T14:42:28.577092Z",
     "iopub.status.busy": "2023-03-08T14:42:28.576226Z",
     "iopub.status.idle": "2023-03-08T14:42:42.983952Z",
     "shell.execute_reply": "2023-03-08T14:42:42.982951Z"
    },
    "papermill": {
     "duration": 14.419736,
     "end_time": "2023-03-08T14:42:42.987037",
     "exception": false,
     "start_time": "2023-03-08T14:42:28.567301",
     "status": "completed"
    },
    "tags": []
   },
   "outputs": [],
   "source": [
    "import numpy as np # linear algebra\n",
    "import pandas as pd # data processing, CSV file I/O (e.g. pd.read_csv)\n",
    "\n",
    "# Input data files are available in the read-only \"../input/\" directory\n",
    "# For example, running this (by clicking run or pressing Shift+Enter) will list all files under the input directory\n",
    "\n",
    "import os\n",
    "for dirname, _, filenames in os.walk('/kaggle/input'):\n",
    "    for filename in filenames:\n",
    "        os.path.join(dirname, filename)"
   ]
  },
  {
   "cell_type": "code",
   "execution_count": 2,
   "id": "eeb4d91a",
   "metadata": {
    "execution": {
     "iopub.execute_input": "2023-03-08T14:42:43.000010Z",
     "iopub.status.busy": "2023-03-08T14:42:42.999695Z",
     "iopub.status.idle": "2023-03-08T14:42:48.266692Z",
     "shell.execute_reply": "2023-03-08T14:42:48.265351Z"
    },
    "papermill": {
     "duration": 5.279401,
     "end_time": "2023-03-08T14:42:48.272491",
     "exception": false,
     "start_time": "2023-03-08T14:42:42.993090",
     "status": "completed"
    },
    "tags": []
   },
   "outputs": [],
   "source": [
    "#import libraries for model\n",
    "import tensorflow as tf\n",
    "import keras\n",
    "from tensorflow.keras.optimizers import Adam\n",
    "from keras.callbacks import ModelCheckpoint, EarlyStopping\n",
    "from keras.layers import Input, BatchNormalization, AveragePooling2D, Dense, Conv2D , Flatten ,DepthwiseConv2D, ReLU ,GlobalAveragePooling2D , Dropout\n",
    "import keras_tuner\n",
    "from tensorflow import keras\n",
    "from keras.models import Model\n",
    "from keras.applications.mobilenet import MobileNet\n",
    "from keras import backend as K"
   ]
  },
  {
   "cell_type": "code",
   "execution_count": 3,
   "id": "b1fa30fc",
   "metadata": {
    "execution": {
     "iopub.execute_input": "2023-03-08T14:42:48.290641Z",
     "iopub.status.busy": "2023-03-08T14:42:48.289881Z",
     "iopub.status.idle": "2023-03-08T14:42:48.534813Z",
     "shell.execute_reply": "2023-03-08T14:42:48.533837Z"
    },
    "papermill": {
     "duration": 0.256162,
     "end_time": "2023-03-08T14:42:48.537271",
     "exception": false,
     "start_time": "2023-03-08T14:42:48.281109",
     "status": "completed"
    },
    "tags": []
   },
   "outputs": [],
   "source": [
    "#import libraries for preproccessing\n",
    "import dlib\n",
    "from PIL import Image\n",
    "from PIL import ImageFilter\n",
    "import cv2\n",
    "import random\n",
    "import matplotlib.pyplot as plt\n",
    "import matplotlib.image as matimg\n",
    "import os\n",
    "import gc"
   ]
  },
  {
   "cell_type": "markdown",
   "id": "cdbc8566",
   "metadata": {
    "papermill": {
     "duration": 0.005465,
     "end_time": "2023-03-08T14:42:48.548836",
     "exception": false,
     "start_time": "2023-03-08T14:42:48.543371",
     "status": "completed"
    },
    "tags": []
   },
   "source": [
    "# # Preparing Dataset"
   ]
  },
  {
   "cell_type": "code",
   "execution_count": 4,
   "id": "50d9f1c0",
   "metadata": {
    "execution": {
     "iopub.execute_input": "2023-03-08T14:42:48.561786Z",
     "iopub.status.busy": "2023-03-08T14:42:48.560877Z",
     "iopub.status.idle": "2023-03-08T14:42:48.569847Z",
     "shell.execute_reply": "2023-03-08T14:42:48.568932Z"
    },
    "papermill": {
     "duration": 0.017526,
     "end_time": "2023-03-08T14:42:48.571916",
     "exception": false,
     "start_time": "2023-03-08T14:42:48.554390",
     "status": "completed"
    },
    "tags": []
   },
   "outputs": [
    {
     "data": {
      "text/plain": [
       "'photo_size = 224\\nbatch_size=32\\ndef prepare_dataset(data_dir):\\n    datagen = ImageDataGenerator(\\n        rescale=1 / 255,\\n        rotation_range=40,\\n        width_shift_range=.2,\\n        height_shift_range=.2,\\n        shear_range=.1,\\n        horizontal_flip=True,\\n        fill_mode=\\'nearest\\',\\n        zoom_range=.2,\\n    )\\n    generator = datagen.flow_from_directory(\\n        data_dir,\\n        target_size=(photo_size,photo_size),\\n        class_mode=\\'binary\\',\\n        batch_size=batch_size,\\n        classes=[\\'non_autistic\\',\\'autistic\\']\\n    )\\n    return generator\\n\\n#load dataset\\ntraindata = prepare_dataset(\"/kaggle/input/autistic-children-facial-data-set/train\")\\ntestdata= prepare_dataset(\"/kaggle/input/autistic-children-facial-data-set/test\")\\nvalidData = prepare_dataset(\"/kaggle/input/autistic-children-facial-data-set/valid\")'"
      ]
     },
     "execution_count": 4,
     "metadata": {},
     "output_type": "execute_result"
    }
   ],
   "source": [
    "\"\"\"photo_size = 224\n",
    "batch_size=32\n",
    "def prepare_dataset(data_dir):\n",
    "    datagen = ImageDataGenerator(\n",
    "        rescale=1 / 255,\n",
    "        rotation_range=40,\n",
    "        width_shift_range=.2,\n",
    "        height_shift_range=.2,\n",
    "        shear_range=.1,\n",
    "        horizontal_flip=True,\n",
    "        fill_mode='nearest',\n",
    "        zoom_range=.2,\n",
    "    )\n",
    "    generator = datagen.flow_from_directory(\n",
    "        data_dir,\n",
    "        target_size=(photo_size,photo_size),\n",
    "        class_mode='binary',\n",
    "        batch_size=batch_size,\n",
    "        classes=['non_autistic','autistic']\n",
    "    )\n",
    "    return generator\n",
    "\n",
    "#load dataset\n",
    "traindata = prepare_dataset(\"/kaggle/input/autistic-children-facial-data-set/train\")\n",
    "testdata= prepare_dataset(\"/kaggle/input/autistic-children-facial-data-set/test\")\n",
    "validData = prepare_dataset(\"/kaggle/input/autistic-children-facial-data-set/valid\")\"\"\""
   ]
  },
  {
   "cell_type": "markdown",
   "id": "90e6b656",
   "metadata": {
    "papermill": {
     "duration": 0.005428,
     "end_time": "2023-03-08T14:42:48.583070",
     "exception": false,
     "start_time": "2023-03-08T14:42:48.577642",
     "status": "completed"
    },
    "tags": []
   },
   "source": [
    "# Load Dataset"
   ]
  },
  {
   "cell_type": "code",
   "execution_count": 5,
   "id": "fcc0107b",
   "metadata": {
    "execution": {
     "iopub.execute_input": "2023-03-08T14:42:48.598177Z",
     "iopub.status.busy": "2023-03-08T14:42:48.597227Z",
     "iopub.status.idle": "2023-03-08T14:42:48.602349Z",
     "shell.execute_reply": "2023-03-08T14:42:48.601500Z"
    },
    "papermill": {
     "duration": 0.014063,
     "end_time": "2023-03-08T14:42:48.604374",
     "exception": false,
     "start_time": "2023-03-08T14:42:48.590311",
     "status": "completed"
    },
    "tags": []
   },
   "outputs": [],
   "source": [
    "train_data = \"/kaggle/input/autism-image-data/AutismDataset/train\"\n",
    "test_data= \"/kaggle/input/autism-image-data/AutismDataset/test\"\n",
    "valid_data_autistic = \"/kaggle/input/autism-image-data/AutismDataset/valid/Autistic\"\n",
    "valid_data_nonautistic = \"/kaggle/input/autism-image-data/AutismDataset/valid/Non_Autistic\" "
   ]
  },
  {
   "cell_type": "code",
   "execution_count": 6,
   "id": "d2349f53",
   "metadata": {
    "execution": {
     "iopub.execute_input": "2023-03-08T14:42:48.617280Z",
     "iopub.status.busy": "2023-03-08T14:42:48.616588Z",
     "iopub.status.idle": "2023-03-08T14:42:48.627608Z",
     "shell.execute_reply": "2023-03-08T14:42:48.626785Z"
    },
    "papermill": {
     "duration": 0.019509,
     "end_time": "2023-03-08T14:42:48.629566",
     "exception": false,
     "start_time": "2023-03-08T14:42:48.610057",
     "status": "completed"
    },
    "tags": []
   },
   "outputs": [],
   "source": [
    "train_img = [\"/kaggle/input/autism-image-data/AutismDataset/train/{}\".format(i) for i in os.listdir(train_data)]\n",
    "\n",
    "test_img = [\"/kaggle/input/autism-image-data/AutismDataset/test/{}\".format(i) for i in os.listdir(test_data)]\n",
    "\n",
    "valid_autistic_img = [\"/kaggle/input/autism-image-data/AutismDataset/valid/Autistic/{}\".format(i) for i in os.listdir(valid_data_autistic)]\n",
    "valid_nonautistic_img = [\"/kaggle/input/autism-image-data/AutismDataset/valid/Non_Autistic/{}\".format(i) for i in os.listdir(valid_data_nonautistic)] "
   ]
  },
  {
   "cell_type": "code",
   "execution_count": 7,
   "id": "42b71f37",
   "metadata": {
    "execution": {
     "iopub.execute_input": "2023-03-08T14:42:48.642587Z",
     "iopub.status.busy": "2023-03-08T14:42:48.642053Z",
     "iopub.status.idle": "2023-03-08T14:42:49.917636Z",
     "shell.execute_reply": "2023-03-08T14:42:49.916560Z"
    },
    "papermill": {
     "duration": 1.284822,
     "end_time": "2023-03-08T14:42:49.920114",
     "exception": false,
     "start_time": "2023-03-08T14:42:48.635292",
     "status": "completed"
    },
    "tags": []
   },
   "outputs": [],
   "source": [
    "from pathlib import Path\n",
    "def insert_str(string, str_to_insert, index):\n",
    "    return string[:index] + str_to_insert + string[index:]\n",
    "\n",
    "newpath = r'/kaggle/working/autism-image-data/AutismDataset/valid'\n",
    "path = Path(newpath)\n",
    "if path.is_dir() == False:\n",
    "    os.makedirs(newpath)\n",
    "for i in range(len(valid_autistic_img)):\n",
    "    image = cv2.imread(valid_autistic_img[i])\n",
    "    valid_autistic_img[i]=valid_autistic_img[i].replace('/Autistic','')\n",
    "    valid_autistic_img[i]= insert_str(valid_autistic_img[i],\"Autistic.\",52)\n",
    "    valid_autistic_img[i]= valid_autistic_img[i].split(\"/\")[-1]\n",
    "    cv2.imwrite (\"/kaggle/working/autism-image-data/AutismDataset/valid/\"+valid_autistic_img[i],image)\n",
    "for i in range(len(valid_nonautistic_img)):\n",
    "    image = cv2.imread(valid_nonautistic_img[i])\n",
    "    valid_nonautistic_img[i]=valid_nonautistic_img[i].replace('/Non_Autistic','')\n",
    "    valid_nonautistic_img[i]= insert_str(valid_nonautistic_img[i],\"Non_Autistic.\",52)\n",
    "    valid_nonautistic_img[i]= valid_nonautistic_img[i].split(\"/\")[-1]\n",
    "    cv2.imwrite (\"/kaggle/working/autism-image-data/AutismDataset/valid/\"+valid_nonautistic_img[i],image)"
   ]
  },
  {
   "cell_type": "code",
   "execution_count": 8,
   "id": "05fd21cb",
   "metadata": {
    "execution": {
     "iopub.execute_input": "2023-03-08T14:42:49.933643Z",
     "iopub.status.busy": "2023-03-08T14:42:49.933296Z",
     "iopub.status.idle": "2023-03-08T14:42:49.939510Z",
     "shell.execute_reply": "2023-03-08T14:42:49.938659Z"
    },
    "papermill": {
     "duration": 0.01525,
     "end_time": "2023-03-08T14:42:49.941563",
     "exception": false,
     "start_time": "2023-03-08T14:42:49.926313",
     "status": "completed"
    },
    "tags": []
   },
   "outputs": [],
   "source": [
    "valid_img = [\"/kaggle/working/autism-image-data/AutismDataset/valid/{}\".format(i) for i in os.listdir(\"/kaggle/working/autism-image-data/AutismDataset/valid\")]"
   ]
  },
  {
   "cell_type": "code",
   "execution_count": 9,
   "id": "4c968379",
   "metadata": {
    "execution": {
     "iopub.execute_input": "2023-03-08T14:42:49.954719Z",
     "iopub.status.busy": "2023-03-08T14:42:49.954428Z",
     "iopub.status.idle": "2023-03-08T14:42:49.960821Z",
     "shell.execute_reply": "2023-03-08T14:42:49.959975Z"
    },
    "papermill": {
     "duration": 0.015515,
     "end_time": "2023-03-08T14:42:49.962921",
     "exception": false,
     "start_time": "2023-03-08T14:42:49.947406",
     "status": "completed"
    },
    "tags": []
   },
   "outputs": [],
   "source": [
    "def encode_data (imagePath):\n",
    "    x = []\n",
    "    y = []\n",
    "    for img_path in imagePath:\n",
    "        img= img_path.split(\"/\")[-1]\n",
    "        image = cv2.imread(img_path)\n",
    "        image = cv2.cvtColor(image, cv2.COLOR_BGR2RGB)\n",
    "        if 'Autistic' in img:\n",
    "            x.append(image)\n",
    "            y.append(0)\n",
    "        elif 'Non_Autistic' in img:\n",
    "            x.append(image)\n",
    "            y.append(1)\n",
    "    return x , y"
   ]
  },
  {
   "cell_type": "code",
   "execution_count": 10,
   "id": "7f36ded5",
   "metadata": {
    "execution": {
     "iopub.execute_input": "2023-03-08T14:42:49.975345Z",
     "iopub.status.busy": "2023-03-08T14:42:49.975075Z",
     "iopub.status.idle": "2023-03-08T14:43:16.016545Z",
     "shell.execute_reply": "2023-03-08T14:43:16.015495Z"
    },
    "papermill": {
     "duration": 26.050677,
     "end_time": "2023-03-08T14:43:16.019236",
     "exception": false,
     "start_time": "2023-03-08T14:42:49.968559",
     "status": "completed"
    },
    "tags": []
   },
   "outputs": [],
   "source": [
    "x_train , y_train = encode_data(train_img)\n",
    "x_test , y_test = encode_data(test_img)\n",
    "x_valid , y_valid = encode_data(valid_img)"
   ]
  },
  {
   "cell_type": "markdown",
   "id": "99d15e8c",
   "metadata": {
    "papermill": {
     "duration": 0.005505,
     "end_time": "2023-03-08T14:43:16.030832",
     "exception": false,
     "start_time": "2023-03-08T14:43:16.025327",
     "status": "completed"
    },
    "tags": []
   },
   "source": [
    "# Preprocessing"
   ]
  },
  {
   "cell_type": "code",
   "execution_count": 11,
   "id": "497a9ad8",
   "metadata": {
    "execution": {
     "iopub.execute_input": "2023-03-08T14:43:16.045006Z",
     "iopub.status.busy": "2023-03-08T14:43:16.043192Z",
     "iopub.status.idle": "2023-03-08T15:01:18.871627Z",
     "shell.execute_reply": "2023-03-08T15:01:18.870509Z"
    },
    "papermill": {
     "duration": 1082.837979,
     "end_time": "2023-03-08T15:01:18.874369",
     "exception": false,
     "start_time": "2023-03-08T14:43:16.036390",
     "status": "completed"
    },
    "tags": []
   },
   "outputs": [],
   "source": [
    "def cropping_based_face_detection(samdata):\n",
    "    detector = dlib.get_frontal_face_detector()\n",
    "    greyimg=cv2.cvtColor(samdata, cv2.COLOR_BGR2GRAY)\n",
    "    detectedimg = detector(greyimg)\n",
    "    #print(\"found {} face(s)\".format(len(detectedimg)))\n",
    "    \n",
    "    for face in detectedimg:\n",
    "        x1 = face.left()\n",
    "        y1 = face.top()\n",
    "        x2 = face.right()\n",
    "        y2 = face.bottom()\n",
    "        \n",
    "        img=cv2.rectangle(samdata, (x1, y1), (x2, y2), (0, 0, 0), 2)\n",
    "        img_height, img_width, c = img.shape\n",
    "        samdata = img[max(0, face.top()): min(face.bottom(), img_height),max(0, face.left()): min(face.right(), img_width)]      \n",
    "    return samdata   \n",
    "for i in range(len(x_train)):\n",
    "    x_train[i]=cropping_based_face_detection(x_train[i])\n",
    "for i in range(len(x_valid)):\n",
    "    x_valid[i]=cropping_based_face_detection(x_valid[i])\n",
    "for i in range(len(x_test)):\n",
    "    x_test[i]=cropping_based_face_detection(x_test[i])"
   ]
  },
  {
   "cell_type": "code",
   "execution_count": 12,
   "id": "67fcec60",
   "metadata": {
    "execution": {
     "iopub.execute_input": "2023-03-08T15:01:18.887642Z",
     "iopub.status.busy": "2023-03-08T15:01:18.887342Z",
     "iopub.status.idle": "2023-03-08T15:01:19.351183Z",
     "shell.execute_reply": "2023-03-08T15:01:19.350219Z"
    },
    "papermill": {
     "duration": 0.473138,
     "end_time": "2023-03-08T15:01:19.353852",
     "exception": false,
     "start_time": "2023-03-08T15:01:18.880714",
     "status": "completed"
    },
    "tags": []
   },
   "outputs": [],
   "source": [
    "def ReSize(detimg):\n",
    "    img=cv2.resize(detimg,(224,224))\n",
    "    return img\n",
    "\n",
    "for i in range(len(x_train)):\n",
    "    x_train[i]=ReSize(x_train[i])\n",
    "for i in range(len(x_valid)):\n",
    "    x_valid[i]=ReSize(x_valid[i])\n",
    "for i in range(len(x_test)):\n",
    "    x_test[i]=ReSize(x_test[i])"
   ]
  },
  {
   "cell_type": "code",
   "execution_count": 13,
   "id": "288be810",
   "metadata": {
    "execution": {
     "iopub.execute_input": "2023-03-08T15:01:19.367047Z",
     "iopub.status.busy": "2023-03-08T15:01:19.366714Z",
     "iopub.status.idle": "2023-03-08T15:01:21.900074Z",
     "shell.execute_reply": "2023-03-08T15:01:21.899046Z"
    },
    "papermill": {
     "duration": 2.542775,
     "end_time": "2023-03-08T15:01:21.902628",
     "exception": false,
     "start_time": "2023-03-08T15:01:19.359853",
     "status": "completed"
    },
    "tags": []
   },
   "outputs": [],
   "source": [
    "x_train = np.array([np.array(val) for val in x_train])\n",
    "y_train = np.array([np.array(val) for val in y_train])\n",
    "x_valid = np.array([np.array(val) for val in x_valid])\n",
    "y_valid = np.array([np.array(val) for val in y_valid])\n",
    "x_test = np.array([np.array(val) for val in x_test])\n",
    "y_test = np.array([np.array(val) for val in y_test])\n",
    "\n",
    "x_test = tf.cast(x_test , dtype=tf.float32)\n",
    "y_test = tf.cast(y_test , dtype=tf.float32)\n",
    "x_train = tf.cast(x_train , dtype=tf.float32)\n",
    "y_train = tf.cast(y_train , dtype=tf.float32)\n",
    "x_valid = tf.cast(x_valid , dtype=tf.float32)\n",
    "y_valid = tf.cast(y_valid , dtype=tf.float32)"
   ]
  },
  {
   "cell_type": "markdown",
   "id": "6c3997da",
   "metadata": {
    "papermill": {
     "duration": 0.005975,
     "end_time": "2023-03-08T15:01:21.914550",
     "exception": false,
     "start_time": "2023-03-08T15:01:21.908575",
     "status": "completed"
    },
    "tags": []
   },
   "source": [
    "# pretrained mobileNetV1 Model"
   ]
  },
  {
   "cell_type": "code",
   "execution_count": 14,
   "id": "b5158878",
   "metadata": {
    "execution": {
     "iopub.execute_input": "2023-03-08T15:01:21.927784Z",
     "iopub.status.busy": "2023-03-08T15:01:21.926887Z",
     "iopub.status.idle": "2023-03-08T15:01:24.468168Z",
     "shell.execute_reply": "2023-03-08T15:01:24.467189Z"
    },
    "papermill": {
     "duration": 2.550285,
     "end_time": "2023-03-08T15:01:24.470546",
     "exception": false,
     "start_time": "2023-03-08T15:01:21.920261",
     "status": "completed"
    },
    "tags": []
   },
   "outputs": [
    {
     "name": "stdout",
     "output_type": "stream",
     "text": [
      "Downloading data from https://storage.googleapis.com/tensorflow/keras-applications/mobilenet/mobilenet_1_0_224_tf_no_top.h5\n",
      "17227776/17225924 [==============================] - 2s 0us/step\n",
      "17235968/17225924 [==============================] - 2s 0us/step\n"
     ]
    }
   ],
   "source": [
    "base_model=MobileNet(include_top=False,weights='imagenet')\n",
    "x=base_model.output\n",
    "x=GlobalAveragePooling2D()(x)\n",
    "x=Dense(1024,activation='relu')(x) #we add dense layers so that the model can learn more complex functions and classify for better results.\n",
    "x=Dense(1024,activation='relu')(x) #dense layer 2\n",
    "x=Dense(512,activation='relu')(x) #dense layer 3\n",
    "preds=Dense(1,activation='sigmoid')(x) #final layer with softmax activation"
   ]
  },
  {
   "cell_type": "code",
   "execution_count": 15,
   "id": "65ecbe03",
   "metadata": {
    "execution": {
     "iopub.execute_input": "2023-03-08T15:01:24.487232Z",
     "iopub.status.busy": "2023-03-08T15:01:24.486888Z",
     "iopub.status.idle": "2023-03-08T15:01:24.500842Z",
     "shell.execute_reply": "2023-03-08T15:01:24.499953Z"
    },
    "papermill": {
     "duration": 0.024726,
     "end_time": "2023-03-08T15:01:24.502939",
     "exception": false,
     "start_time": "2023-03-08T15:01:24.478213",
     "status": "completed"
    },
    "tags": []
   },
   "outputs": [],
   "source": [
    "model=Model(inputs=base_model.input,outputs=preds)\n",
    "\n",
    "for layer in model.layers:\n",
    "    layer.trainable=False"
   ]
  },
  {
   "cell_type": "markdown",
   "id": "076bc3dd",
   "metadata": {
    "papermill": {
     "duration": 0.007028,
     "end_time": "2023-03-08T15:01:24.517332",
     "exception": false,
     "start_time": "2023-03-08T15:01:24.510304",
     "status": "completed"
    },
    "tags": []
   },
   "source": [
    "# Fit and Compile Model"
   ]
  },
  {
   "cell_type": "code",
   "execution_count": 16,
   "id": "405bd27b",
   "metadata": {
    "execution": {
     "iopub.execute_input": "2023-03-08T15:01:24.534974Z",
     "iopub.status.busy": "2023-03-08T15:01:24.533232Z",
     "iopub.status.idle": "2023-03-08T15:01:24.538717Z",
     "shell.execute_reply": "2023-03-08T15:01:24.537858Z"
    },
    "papermill": {
     "duration": 0.016068,
     "end_time": "2023-03-08T15:01:24.540726",
     "exception": false,
     "start_time": "2023-03-08T15:01:24.524658",
     "status": "completed"
    },
    "tags": []
   },
   "outputs": [],
   "source": [
    "def cal_steps(num_images, batch_size):\n",
    "    # calculates steps for generator\n",
    "    steps = num_images // batch_size\n",
    "    # adds 1 to the generator steps if the steps multiplied by\n",
    "    # the batch size is less than the total training samples\n",
    "    return  steps"
   ]
  },
  {
   "cell_type": "code",
   "execution_count": 17,
   "id": "5044da35",
   "metadata": {
    "execution": {
     "iopub.execute_input": "2023-03-08T15:01:24.557071Z",
     "iopub.status.busy": "2023-03-08T15:01:24.555605Z",
     "iopub.status.idle": "2023-03-08T15:03:49.217182Z",
     "shell.execute_reply": "2023-03-08T15:03:49.216221Z"
    },
    "papermill": {
     "duration": 144.671873,
     "end_time": "2023-03-08T15:03:49.219622",
     "exception": false,
     "start_time": "2023-03-08T15:01:24.547749",
     "status": "completed"
    },
    "tags": []
   },
   "outputs": [
    {
     "name": "stdout",
     "output_type": "stream",
     "text": [
      "Epoch 1/50\n",
      "79/79 [==============================] - 10s 39ms/step - loss: 0.9185 - acc: 0.0272 - val_loss: 0.9088 - val_acc: 0.0400\n",
      "Epoch 2/50\n",
      "79/79 [==============================] - 3s 35ms/step - loss: 0.9180 - acc: 0.0269 - val_loss: 0.9088 - val_acc: 0.0400\n",
      "Epoch 3/50\n",
      "79/79 [==============================] - 2s 30ms/step - loss: 0.9180 - acc: 0.0284 - val_loss: 0.9088 - val_acc: 0.0400\n",
      "Epoch 4/50\n",
      "79/79 [==============================] - 2s 30ms/step - loss: 0.9194 - acc: 0.0265 - val_loss: 0.9088 - val_acc: 0.0400\n",
      "Epoch 5/50\n",
      "79/79 [==============================] - 2s 30ms/step - loss: 0.9169 - acc: 0.0261 - val_loss: 0.9088 - val_acc: 0.0400\n",
      "Epoch 6/50\n",
      "79/79 [==============================] - 2s 30ms/step - loss: 0.9177 - acc: 0.0269 - val_loss: 0.9088 - val_acc: 0.0400\n",
      "Epoch 7/50\n",
      "79/79 [==============================] - 2s 30ms/step - loss: 0.9185 - acc: 0.0280 - val_loss: 0.9088 - val_acc: 0.0400\n",
      "Epoch 8/50\n",
      "79/79 [==============================] - 2s 30ms/step - loss: 0.9204 - acc: 0.0257 - val_loss: 0.9088 - val_acc: 0.0400\n",
      "Epoch 9/50\n",
      "79/79 [==============================] - 2s 30ms/step - loss: 0.9171 - acc: 0.0307 - val_loss: 0.9088 - val_acc: 0.0400\n",
      "Epoch 10/50\n",
      "79/79 [==============================] - 2s 30ms/step - loss: 0.9187 - acc: 0.0246 - val_loss: 0.9088 - val_acc: 0.0400\n",
      "Epoch 11/50\n",
      "79/79 [==============================] - 2s 31ms/step - loss: 0.9163 - acc: 0.0253 - val_loss: 0.9088 - val_acc: 0.0400\n",
      "Epoch 12/50\n",
      "79/79 [==============================] - 2s 30ms/step - loss: 0.9194 - acc: 0.0284 - val_loss: 0.9088 - val_acc: 0.0400\n",
      "Epoch 13/50\n",
      "79/79 [==============================] - 2s 30ms/step - loss: 0.9187 - acc: 0.0295 - val_loss: 0.9088 - val_acc: 0.0400\n",
      "Epoch 14/50\n",
      "79/79 [==============================] - 2s 30ms/step - loss: 0.9197 - acc: 0.0269 - val_loss: 0.9088 - val_acc: 0.0400\n",
      "Epoch 15/50\n",
      "79/79 [==============================] - 3s 32ms/step - loss: 0.9151 - acc: 0.0253 - val_loss: 0.9088 - val_acc: 0.0400\n",
      "Epoch 16/50\n",
      "79/79 [==============================] - 2s 30ms/step - loss: 0.9209 - acc: 0.0284 - val_loss: 0.9088 - val_acc: 0.0400\n",
      "Epoch 17/50\n",
      "79/79 [==============================] - 2s 30ms/step - loss: 0.9167 - acc: 0.0284 - val_loss: 0.9088 - val_acc: 0.0400\n",
      "Epoch 18/50\n",
      "79/79 [==============================] - 2s 30ms/step - loss: 0.9192 - acc: 0.0242 - val_loss: 0.9088 - val_acc: 0.0400\n",
      "Epoch 19/50\n",
      "79/79 [==============================] - 2s 30ms/step - loss: 0.9168 - acc: 0.0269 - val_loss: 0.9088 - val_acc: 0.0400\n",
      "Epoch 20/50\n",
      "79/79 [==============================] - 2s 31ms/step - loss: 0.9170 - acc: 0.0299 - val_loss: 0.9088 - val_acc: 0.0400\n",
      "Epoch 21/50\n",
      "79/79 [==============================] - 2s 30ms/step - loss: 0.9186 - acc: 0.0249 - val_loss: 0.9088 - val_acc: 0.0400\n",
      "Epoch 22/50\n",
      "79/79 [==============================] - 2s 30ms/step - loss: 0.9201 - acc: 0.0292 - val_loss: 0.9088 - val_acc: 0.0400\n",
      "Epoch 23/50\n",
      "79/79 [==============================] - 2s 30ms/step - loss: 0.9193 - acc: 0.0234 - val_loss: 0.9088 - val_acc: 0.0400\n",
      "Epoch 24/50\n",
      "79/79 [==============================] - 2s 30ms/step - loss: 0.9150 - acc: 0.0311 - val_loss: 0.9088 - val_acc: 0.0400\n",
      "Epoch 25/50\n",
      "79/79 [==============================] - 2s 30ms/step - loss: 0.9199 - acc: 0.0249 - val_loss: 0.9088 - val_acc: 0.0400\n",
      "Epoch 26/50\n",
      "79/79 [==============================] - 2s 30ms/step - loss: 0.9171 - acc: 0.0280 - val_loss: 0.9088 - val_acc: 0.0400\n",
      "Epoch 27/50\n",
      "79/79 [==============================] - 2s 30ms/step - loss: 0.9196 - acc: 0.0280 - val_loss: 0.9088 - val_acc: 0.0400\n",
      "Epoch 28/50\n",
      "79/79 [==============================] - 2s 31ms/step - loss: 0.9196 - acc: 0.0284 - val_loss: 0.9088 - val_acc: 0.0400\n",
      "Epoch 29/50\n",
      "79/79 [==============================] - 3s 32ms/step - loss: 0.9165 - acc: 0.0272 - val_loss: 0.9088 - val_acc: 0.0400\n",
      "Epoch 30/50\n",
      "79/79 [==============================] - 2s 30ms/step - loss: 0.9195 - acc: 0.0253 - val_loss: 0.9088 - val_acc: 0.0400\n",
      "Epoch 31/50\n",
      "79/79 [==============================] - 2s 30ms/step - loss: 0.9180 - acc: 0.0257 - val_loss: 0.9088 - val_acc: 0.0400\n",
      "Epoch 32/50\n",
      "79/79 [==============================] - 2s 30ms/step - loss: 0.9164 - acc: 0.0276 - val_loss: 0.9088 - val_acc: 0.0400\n",
      "Epoch 33/50\n",
      "79/79 [==============================] - 2s 30ms/step - loss: 0.9188 - acc: 0.0295 - val_loss: 0.9088 - val_acc: 0.0400\n",
      "Epoch 34/50\n",
      "79/79 [==============================] - 2s 31ms/step - loss: 0.9196 - acc: 0.0269 - val_loss: 0.9088 - val_acc: 0.0400\n",
      "Epoch 35/50\n",
      "79/79 [==============================] - 2s 30ms/step - loss: 0.9180 - acc: 0.0276 - val_loss: 0.9088 - val_acc: 0.0400\n",
      "Epoch 36/50\n",
      "79/79 [==============================] - 2s 30ms/step - loss: 0.9181 - acc: 0.0249 - val_loss: 0.9088 - val_acc: 0.0400\n",
      "Epoch 37/50\n",
      "79/79 [==============================] - 2s 30ms/step - loss: 0.9186 - acc: 0.0269 - val_loss: 0.9088 - val_acc: 0.0400\n",
      "Epoch 38/50\n",
      "79/79 [==============================] - 2s 30ms/step - loss: 0.9177 - acc: 0.0284 - val_loss: 0.9088 - val_acc: 0.0400\n",
      "Epoch 39/50\n",
      "79/79 [==============================] - 2s 30ms/step - loss: 0.9180 - acc: 0.0273 - val_loss: 0.9088 - val_acc: 0.0400\n",
      "Epoch 40/50\n",
      "79/79 [==============================] - 2s 30ms/step - loss: 0.9175 - acc: 0.0269 - val_loss: 0.9088 - val_acc: 0.0400\n",
      "Epoch 41/50\n",
      "79/79 [==============================] - 2s 30ms/step - loss: 0.9178 - acc: 0.0288 - val_loss: 0.9088 - val_acc: 0.0400\n",
      "Epoch 42/50\n",
      "79/79 [==============================] - 3s 32ms/step - loss: 0.9178 - acc: 0.0257 - val_loss: 0.9088 - val_acc: 0.0400\n",
      "Epoch 43/50\n",
      "79/79 [==============================] - 2s 32ms/step - loss: 0.9205 - acc: 0.0280 - val_loss: 0.9088 - val_acc: 0.0400\n",
      "Epoch 44/50\n",
      "79/79 [==============================] - 2s 30ms/step - loss: 0.9173 - acc: 0.0246 - val_loss: 0.9088 - val_acc: 0.0400\n",
      "Epoch 45/50\n",
      "79/79 [==============================] - 2s 31ms/step - loss: 0.9168 - acc: 0.0303 - val_loss: 0.9088 - val_acc: 0.0400\n",
      "Epoch 46/50\n",
      "79/79 [==============================] - 2s 30ms/step - loss: 0.9187 - acc: 0.0257 - val_loss: 0.9088 - val_acc: 0.0400\n",
      "Epoch 47/50\n",
      "79/79 [==============================] - 2s 30ms/step - loss: 0.9196 - acc: 0.0253 - val_loss: 0.9088 - val_acc: 0.0400\n",
      "Epoch 48/50\n",
      "79/79 [==============================] - 2s 31ms/step - loss: 0.9178 - acc: 0.0315 - val_loss: 0.9088 - val_acc: 0.0400\n",
      "Epoch 49/50\n",
      "79/79 [==============================] - 2s 22ms/step - loss: 0.9180 - acc: 0.0240 - val_loss: 0.9088 - val_acc: 0.0400\n"
     ]
    }
   ],
   "source": [
    "model.compile( optimizer=keras.optimizers.Adam(learning_rate=0.001),loss=tf.keras.losses.BinaryCrossentropy(),metrics=['acc'])\n",
    "\n",
    "#checkpoint = ModelCheckpoint(\"/kaggle/working/mobilenet_v1.h5\", monitor='val_acc', verbose=1, save_best_only=True, save_weights_only=False)\n",
    "#early = EarlyStopping(monitor='val_acc',patience=30, verbose=1, mode='max')\n",
    "\n",
    "#hist = model.fit(traindata, validation_data= validData, validation_steps=cal_steps(validData.samples, batch_size),epochs=50 ,steps_per_epoch=cal_steps(traindata.samples, batch_size))\n",
    "hist = model.fit(x_train,y_train, validation_data= (x_valid,y_valid), validation_steps=cal_steps(len(x_valid), 32),epochs=50 ,steps_per_epoch=cal_steps(len(x_train), 32))\n",
    "#tuner.search(x_train,y_train, validation_data= (x_valid,y_valid), validation_steps=cal_steps(len(x_valid), 32),epochs=50 ,steps_per_epoch=cal_steps(len(x_train), 32))"
   ]
  },
  {
   "cell_type": "code",
   "execution_count": 18,
   "id": "34241d8f",
   "metadata": {
    "execution": {
     "iopub.execute_input": "2023-03-08T15:03:49.436889Z",
     "iopub.status.busy": "2023-03-08T15:03:49.436537Z",
     "iopub.status.idle": "2023-03-08T15:03:49.441842Z",
     "shell.execute_reply": "2023-03-08T15:03:49.440980Z"
    },
    "papermill": {
     "duration": 0.116005,
     "end_time": "2023-03-08T15:03:49.443855",
     "exception": false,
     "start_time": "2023-03-08T15:03:49.327850",
     "status": "completed"
    },
    "tags": []
   },
   "outputs": [],
   "source": [
    "#tuner.results_summary()"
   ]
  },
  {
   "cell_type": "code",
   "execution_count": 19,
   "id": "2c754177",
   "metadata": {
    "execution": {
     "iopub.execute_input": "2023-03-08T15:03:49.664280Z",
     "iopub.status.busy": "2023-03-08T15:03:49.663015Z",
     "iopub.status.idle": "2023-03-08T15:03:49.669785Z",
     "shell.execute_reply": "2023-03-08T15:03:49.668766Z"
    },
    "papermill": {
     "duration": 0.119017,
     "end_time": "2023-03-08T15:03:49.671981",
     "exception": false,
     "start_time": "2023-03-08T15:03:49.552964",
     "status": "completed"
    },
    "tags": []
   },
   "outputs": [
    {
     "data": {
      "text/plain": [
       "'best_hp = tuner.get_best_hyperparameters(1)[0]\\nprint(best_hp.values)'"
      ]
     },
     "execution_count": 19,
     "metadata": {},
     "output_type": "execute_result"
    }
   ],
   "source": [
    "\"\"\"best_hp = tuner.get_best_hyperparameters(1)[0]\n",
    "print(best_hp.values)\"\"\""
   ]
  },
  {
   "cell_type": "markdown",
   "id": "f19d6cdc",
   "metadata": {
    "papermill": {
     "duration": 0.166054,
     "end_time": "2023-03-08T15:03:49.944056",
     "exception": false,
     "start_time": "2023-03-08T15:03:49.778002",
     "status": "completed"
    },
    "tags": []
   },
   "source": [
    "# Plotting History of Model"
   ]
  },
  {
   "cell_type": "code",
   "execution_count": 20,
   "id": "7ca47b00",
   "metadata": {
    "execution": {
     "iopub.execute_input": "2023-03-08T15:03:50.159804Z",
     "iopub.status.busy": "2023-03-08T15:03:50.159451Z",
     "iopub.status.idle": "2023-03-08T15:03:50.394333Z",
     "shell.execute_reply": "2023-03-08T15:03:50.393430Z"
    },
    "papermill": {
     "duration": 0.346041,
     "end_time": "2023-03-08T15:03:50.396647",
     "exception": false,
     "start_time": "2023-03-08T15:03:50.050606",
     "status": "completed"
    },
    "tags": []
   },
   "outputs": [
    {
     "data": {
      "image/png": "[encoded data removed]",
      "text/plain": [
       "<Figure size 432x288 with 1 Axes>"
      ]
     },
     "metadata": {
      "needs_background": "light"
     },
     "output_type": "display_data"
    }
   ],
   "source": [
    "import matplotlib.pyplot as plt\n",
    "plt.plot(hist.history[\"acc\"])\n",
    "plt.plot(hist.history['val_acc'])\n",
    "plt.plot(hist.history['loss'])\n",
    "plt.plot(hist.history['val_loss'])\n",
    "plt.title(\"model accuracy\")\n",
    "plt.ylabel(\"Accuracy\")\n",
    "plt.xlabel(\"Epoch\")\n",
    "plt.legend([\"Accuracy\",\"Validation Accuracy\"])\n",
    "plt.show()"
   ]
  },
  {
   "cell_type": "code",
   "execution_count": 21,
   "id": "659733e2",
   "metadata": {
    "execution": {
     "iopub.execute_input": "2023-03-08T15:03:50.625294Z",
     "iopub.status.busy": "2023-03-08T15:03:50.624897Z",
     "iopub.status.idle": "2023-03-08T15:03:50.842256Z",
     "shell.execute_reply": "2023-03-08T15:03:50.841365Z"
    },
    "papermill": {
     "duration": 0.329511,
     "end_time": "2023-03-08T15:03:50.844238",
     "exception": false,
     "start_time": "2023-03-08T15:03:50.514727",
     "status": "completed"
    },
    "tags": []
   },
   "outputs": [
    {
     "name": "stdout",
     "output_type": "stream",
     "text": [
      "4/4 [==============================] - 0s 44ms/step - loss: 0.9088 - acc: 0.0400\n"
     ]
    },
    {
     "data": {
      "text/plain": [
       "[0.9087721109390259, 0.03999999910593033]"
      ]
     },
     "execution_count": 21,
     "metadata": {},
     "output_type": "execute_result"
    }
   ],
   "source": [
    "model.evaluate(x_valid,y_valid)"
   ]
  },
  {
   "cell_type": "code",
   "execution_count": 22,
   "id": "2681930a",
   "metadata": {
    "execution": {
     "iopub.execute_input": "2023-03-08T15:03:51.062064Z",
     "iopub.status.busy": "2023-03-08T15:03:51.061349Z",
     "iopub.status.idle": "2023-03-08T15:03:53.386757Z",
     "shell.execute_reply": "2023-03-08T15:03:53.385848Z"
    },
    "papermill": {
     "duration": 2.436717,
     "end_time": "2023-03-08T15:03:53.388754",
     "exception": false,
     "start_time": "2023-03-08T15:03:50.952037",
     "status": "completed"
    },
    "tags": []
   },
   "outputs": [
    {
     "name": "stdout",
     "output_type": "stream",
     "text": [
      "80/80 [==============================] - 2s 28ms/step - loss: 0.9182 - acc: 0.0272\n"
     ]
    },
    {
     "data": {
      "text/plain": [
       "[0.9182296395301819, 0.027165355160832405]"
      ]
     },
     "execution_count": 22,
     "metadata": {},
     "output_type": "execute_result"
    }
   ],
   "source": [
    "model.evaluate(x_train,y_train)"
   ]
  },
  {
   "cell_type": "code",
   "execution_count": 23,
   "id": "ed52065b",
   "metadata": {
    "execution": {
     "iopub.execute_input": "2023-03-08T15:03:53.611045Z",
     "iopub.status.busy": "2023-03-08T15:03:53.610549Z",
     "iopub.status.idle": "2023-03-08T15:03:53.960238Z",
     "shell.execute_reply": "2023-03-08T15:03:53.959352Z"
    },
    "papermill": {
     "duration": 0.463629,
     "end_time": "2023-03-08T15:03:53.962431",
     "exception": false,
     "start_time": "2023-03-08T15:03:53.498802",
     "status": "completed"
    },
    "tags": []
   },
   "outputs": [
    {
     "name": "stdout",
     "output_type": "stream",
     "text": [
      "10/10 [==============================] - 0s 26ms/step - loss: 0.9262 - acc: 0.0167\n"
     ]
    },
    {
     "data": {
      "text/plain": [
       "[0.9262328147888184, 0.01666666753590107]"
      ]
     },
     "execution_count": 23,
     "metadata": {},
     "output_type": "execute_result"
    }
   ],
   "source": [
    "model.evaluate(x_test,y_test)"
   ]
  }
 ],
 "metadata": {
  "kernelspec": {
   "display_name": "Python 3",
   "language": "python",
   "name": "python3"
  },
  "language_info": {
   "codemirror_mode": {
    "name": "ipython",
    "version": 3
   },
   "file_extension": ".py",
   "mimetype": "text/x-python",
   "name": "python",
   "nbconvert_exporter": "python",
   "pygments_lexer": "ipython3",
   "version": "3.7.12"
  },
  "papermill": {
   "default_parameters": {},
   "duration": 1297.041442,
   "end_time": "2023-03-08T15:03:57.637324",
   "environment_variables": {},
   "exception": null,
   "input_path": "__notebook__.ipynb",
   "output_path": "__notebook__.ipynb",
   "parameters": {},
   "start_time": "2023-03-08T14:42:20.595882",
   "version": "2.3.4"
  }
 },
 "nbformat": 4,
 "nbformat_minor": 5
}
