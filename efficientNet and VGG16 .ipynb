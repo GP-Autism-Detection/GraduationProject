{
 "cells": [
  {
   "cell_type": "code",
   "execution_count": 1,
   "id": "0d628d51",
   "metadata": {
    "execution": {
     "iopub.execute_input": "2023-04-03T16:58:34.854854Z",
     "iopub.status.busy": "2023-04-03T16:58:34.854294Z",
     "iopub.status.idle": "2023-04-03T16:58:46.050091Z",
     "shell.execute_reply": "2023-04-03T16:58:46.049127Z"
    },
    "papermill": {
     "duration": 11.217315,
     "end_time": "2023-04-03T16:58:46.052764",
     "exception": false,
     "start_time": "2023-04-03T16:58:34.835449",
     "status": "completed"
    },
    "tags": []
   },
   "outputs": [],
   "source": [
    "import numpy as np # linear algebra\n",
    "import pandas as pd # data processing, CSV file I/O (e.g. pd.read_csv)\n",
    "\n",
    "# Input data files are available in the read-only \"../input/\" directory\n",
    "# For example, running this (by clicking run or pressing Shift+Enter) will list all files under the input directory\n",
    "\n",
    "import os\n",
    "for dirname, _, filenames in os.walk('/kaggle/input'):\n",
    "    for filename in filenames:\n",
    "        os.path.join(dirname, filename)"
   ]
  },
  {
   "cell_type": "code",
   "execution_count": 2,
   "id": "40762590",
   "metadata": {
    "execution": {
     "iopub.execute_input": "2023-04-03T16:58:46.081735Z",
     "iopub.status.busy": "2023-04-03T16:58:46.080068Z",
     "iopub.status.idle": "2023-04-03T16:58:52.415474Z",
     "shell.execute_reply": "2023-04-03T16:58:52.414452Z"
    },
    "papermill": {
     "duration": 6.351268,
     "end_time": "2023-04-03T16:58:52.418186",
     "exception": false,
     "start_time": "2023-04-03T16:58:46.066918",
     "status": "completed"
    },
    "tags": []
   },
   "outputs": [],
   "source": [
    "#import libraries for model\n",
    "import tensorflow as tf\n",
    "from tensorflow.keras.optimizers import Adam\n",
    "from keras.callbacks import ModelCheckpoint, EarlyStopping\n",
    "from keras.layers import InputLayer, Input, BatchNormalization, AveragePooling2D, Dense, Conv2D , Flatten ,DepthwiseConv2D, ReLU ,GlobalAveragePooling2D , Dropout , MaxPool2D , Add \n",
    "import keras_tuner\n",
    "from tensorflow import keras\n",
    "from keras.models import Model , Sequential\n",
    "from keras.applications.mobilenet import MobileNet\n",
    "from keras import backend as K\n",
    "from sklearn.model_selection import train_test_split"
   ]
  },
  {
   "cell_type": "code",
   "execution_count": 3,
   "id": "b4f52aaa",
   "metadata": {
    "execution": {
     "iopub.execute_input": "2023-04-03T16:58:52.459561Z",
     "iopub.status.busy": "2023-04-03T16:58:52.458542Z",
     "iopub.status.idle": "2023-04-03T16:58:52.759750Z",
     "shell.execute_reply": "2023-04-03T16:58:52.758762Z"
    },
    "papermill": {
     "duration": 0.324882,
     "end_time": "2023-04-03T16:58:52.762292",
     "exception": false,
     "start_time": "2023-04-03T16:58:52.437410",
     "status": "completed"
    },
    "tags": []
   },
   "outputs": [],
   "source": [
    "#import libraries for preproccessing\n",
    "import dlib\n",
    "from PIL import Image\n",
    "from PIL import ImageFilter\n",
    "import cv2\n",
    "import random\n",
    "import matplotlib.pyplot as plt\n",
    "import matplotlib.image as matimg\n",
    "import os\n",
    "import gc"
   ]
  },
  {
   "cell_type": "markdown",
   "id": "2ef16a92",
   "metadata": {
    "papermill": {
     "duration": 0.011897,
     "end_time": "2023-04-03T16:58:52.786530",
     "exception": false,
     "start_time": "2023-04-03T16:58:52.774633",
     "status": "completed"
    },
    "tags": []
   },
   "source": [
    "# # Preprocessing Functions"
   ]
  },
  {
   "cell_type": "code",
   "execution_count": 4,
   "id": "696c007f",
   "metadata": {
    "execution": {
     "iopub.execute_input": "2023-04-03T16:58:52.812421Z",
     "iopub.status.busy": "2023-04-03T16:58:52.812075Z",
     "iopub.status.idle": "2023-04-03T16:58:52.825762Z",
     "shell.execute_reply": "2023-04-03T16:58:52.824875Z"
    },
    "papermill": {
     "duration": 0.029055,
     "end_time": "2023-04-03T16:58:52.827722",
     "exception": false,
     "start_time": "2023-04-03T16:58:52.798667",
     "status": "completed"
    },
    "tags": []
   },
   "outputs": [],
   "source": [
    "def ReSize(image, size):\n",
    "    resizedimg=cv2.resize(image,(size,size))\n",
    "    return resizedimg \n",
    "\n",
    "def normalize(resimg):\n",
    "    img=cv2.cvtColor(resimg,cv2.COLOR_BGR2RGB)\n",
    "    img_normalized = cv2.normalize(img, None, 0, 1.0, cv2.NORM_MINMAX, dtype=cv2.CV_32F)\n",
    "    img1=cv2.cvtColor(img_normalized,cv2.COLOR_BGR2RGB)\n",
    "    return img1    \n",
    "\n",
    "def gray(normimg):\n",
    "    img=cv2.cvtColor(normimg, cv2.COLOR_BGR2GRAY)\n",
    "    grey=cv2.cvtColor(img,cv2.COLOR_BGR2RGB)\n",
    "    return grey\n",
    "\n",
    "def Brightnessandcontrast(normimg):\n",
    "    Bright = 20\n",
    "    Contrast = 1\n",
    "    img=cv2.cvtColor(normimg,cv2.COLOR_BGR2RGB)\n",
    "    adjusted = cv2.convertScaleAbs(img, alpha=Contrast, beta=Bright)\n",
    "    rgbadjusted=cv2.cvtColor(adjusted,cv2.COLOR_BGR2RGB)\n",
    "    return rgbadjusted\n",
    "\n",
    "def mean_noise_reduction(normimg):\n",
    "    img=cv2.cvtColor(normimg,cv2.COLOR_BGR2RGB)\n",
    "    filteredimg = cv2.fastNlMeansDenoisingColored(img,None,10,10,7,21)\n",
    "    rgbfilteredimg=cv2.cvtColor(filteredimg,cv2.COLOR_BGR2RGB)\n",
    "    return rgbfilteredimg\n",
    "\n",
    "def three_noise_reduction(normimg):\n",
    "    img=cv2.cvtColor(normimg,cv2.COLOR_BGR2RGB)\n",
    "    filteredimg =cv2.GaussianBlur(img,(5,5),0)\n",
    "    #filteredimg=cv2.blur(img,(5,5))\n",
    "    #filteredimg=cv2.medianBlur(img,5)\n",
    "    rgbfilteredimg=cv2.cvtColor(filteredimg,cv2.COLOR_BGR2RGB)\n",
    "    return rgbfilteredimg\n",
    "\n",
    "def face_detection(samdata):\n",
    "    detector = dlib.cnn_face_detection_model_v1(\"/kaggle/input/models/mmod_human_face_detector (1)_1.dat\")\n",
    "    greyimg=cv2.cvtColor(samdata, cv2.COLOR_BGR2GRAY)\n",
    "    detectedimg = detector(greyimg)\n",
    "    \n",
    "    for face in detectedimg:\n",
    "        x1 = face.rect.left()\n",
    "        y1 = face.rect.top()\n",
    "        x2 = face.rect.right()\n",
    "        y2 = face.rect.bottom()\n",
    "        img=cv2.rectangle(samdata, (x1, y1), (x2, y2), (0, 0, 0), 2)\n",
    "        img_height, img_width, c = img.shape\n",
    "        samdata = img[max(0, face.rect.top()): min(face.rect.bottom(), img_height),max(0, face.rect.left()): min(face.rect.right(), img_width)]\n",
    "        samdata =cv2.cvtColor(samdata,cv2.COLOR_BGR2RGB)\n",
    "    return samdata"
   ]
  },
  {
   "cell_type": "markdown",
   "id": "657e32be",
   "metadata": {
    "papermill": {
     "duration": 0.011727,
     "end_time": "2023-04-03T16:58:52.851347",
     "exception": false,
     "start_time": "2023-04-03T16:58:52.839620",
     "status": "completed"
    },
    "tags": []
   },
   "source": [
    "# # Load Dataset"
   ]
  },
  {
   "cell_type": "code",
   "execution_count": 5,
   "id": "f5faaa3a",
   "metadata": {
    "execution": {
     "iopub.execute_input": "2023-04-03T16:58:52.878340Z",
     "iopub.status.busy": "2023-04-03T16:58:52.877390Z",
     "iopub.status.idle": "2023-04-03T16:58:52.883850Z",
     "shell.execute_reply": "2023-04-03T16:58:52.882964Z"
    },
    "papermill": {
     "duration": 0.022267,
     "end_time": "2023-04-03T16:58:52.885928",
     "exception": false,
     "start_time": "2023-04-03T16:58:52.863661",
     "status": "completed"
    },
    "tags": []
   },
   "outputs": [],
   "source": [
    "train_autistic = \"/kaggle/input/autistic-children-facial-data-set/train/autistic/\"\n",
    "train_nonAutistic = \"/kaggle/input/autistic-children-facial-data-set/train/non_autistic/\"\n",
    "\n",
    "valid_autistic= \"/kaggle/input/autistic-children-facial-data-set/valid/autistic/\"\n",
    "valid_nonAutistic= \"/kaggle/input/autistic-children-facial-data-set/valid/non_autistic/\"\n",
    "\n",
    "test_autistic = \"/kaggle/input/autistic-children-facial-data-set/test/autistic/\"\n",
    "test_nonAutistic = \"/kaggle/input/autistic-children-facial-data-set/test/non_autistic/\""
   ]
  },
  {
   "cell_type": "markdown",
   "id": "e92c2e9f",
   "metadata": {
    "papermill": {
     "duration": 0.011775,
     "end_time": "2023-04-03T16:58:52.909679",
     "exception": false,
     "start_time": "2023-04-03T16:58:52.897904",
     "status": "completed"
    },
    "tags": []
   },
   "source": [
    "# # Encoding Dataset"
   ]
  },
  {
   "cell_type": "code",
   "execution_count": 6,
   "id": "8990b789",
   "metadata": {
    "execution": {
     "iopub.execute_input": "2023-04-03T16:58:52.934881Z",
     "iopub.status.busy": "2023-04-03T16:58:52.934561Z",
     "iopub.status.idle": "2023-04-03T16:58:52.940085Z",
     "shell.execute_reply": "2023-04-03T16:58:52.939058Z"
    },
    "papermill": {
     "duration": 0.02067,
     "end_time": "2023-04-03T16:58:52.942452",
     "exception": false,
     "start_time": "2023-04-03T16:58:52.921782",
     "status": "completed"
    },
    "tags": []
   },
   "outputs": [],
   "source": [
    "def preprocessing_func(filename):\n",
    "    x = []\n",
    "    for file in os.listdir(filename):\n",
    "        img  = cv2.imread(filename + file)\n",
    "        img = face_detection(img)\n",
    "        #img = ReSize(img, photo_size)\n",
    "        #img = gray(img)\n",
    "        #img = Brightnessandcontrast(img)\n",
    "        #img = mean_noise_reduction(img)\n",
    "        #img = normalize(img)\n",
    "        plt.imshow(img)\n",
    "        x.append(img)\n",
    "    return x"
   ]
  },
  {
   "cell_type": "code",
   "execution_count": 7,
   "id": "031e81d6",
   "metadata": {
    "execution": {
     "iopub.execute_input": "2023-04-03T16:58:52.968700Z",
     "iopub.status.busy": "2023-04-03T16:58:52.968340Z",
     "iopub.status.idle": "2023-04-03T17:01:00.418697Z",
     "shell.execute_reply": "2023-04-03T17:01:00.417683Z"
    },
    "papermill": {
     "duration": 127.481038,
     "end_time": "2023-04-03T17:01:00.435857",
     "exception": false,
     "start_time": "2023-04-03T16:58:52.954819",
     "status": "completed"
    },
    "tags": []
   },
   "outputs": [
    {
     "data": {
      "image/png": "[encoded data removed]",
      "text/plain": [
       "<Figure size 432x288 with 1 Axes>"
      ]
     },
     "metadata": {
      "needs_background": "light"
     },
     "output_type": "display_data"
    }
   ],
   "source": [
    "photo_size = 224\n",
    "train_a= preprocessing_func(train_autistic)\n",
    "train_n= preprocessing_func(train_nonAutistic)\n",
    "valid_a= preprocessing_func(valid_autistic)\n",
    "valid_n= preprocessing_func(valid_nonAutistic)\n",
    "test_a=preprocessing_func(test_autistic)\n",
    "test_n=preprocessing_func(test_nonAutistic)"
   ]
  },
  {
   "cell_type": "code",
   "execution_count": 8,
   "id": "b5bb578a",
   "metadata": {
    "execution": {
     "iopub.execute_input": "2023-04-03T17:01:00.463914Z",
     "iopub.status.busy": "2023-04-03T17:01:00.463561Z",
     "iopub.status.idle": "2023-04-03T17:01:00.470273Z",
     "shell.execute_reply": "2023-04-03T17:01:00.469269Z"
    },
    "papermill": {
     "duration": 0.023235,
     "end_time": "2023-04-03T17:01:00.472298",
     "exception": false,
     "start_time": "2023-04-03T17:01:00.449063",
     "status": "completed"
    },
    "tags": []
   },
   "outputs": [],
   "source": [
    "from pathlib import Path\n",
    "from keras.preprocessing.image import array_to_img\n",
    "def createDirectory(directory_path , data_path , image_list):\n",
    "    newpath =directory_path\n",
    "    path = Path(newpath)\n",
    "    if path.is_dir() == False:\n",
    "        os.makedirs(newpath)\n",
    "    i=0\n",
    "    for imgpath in os.listdir(data_path):\n",
    "        img = array_to_img(image_list[i])\n",
    "        imgpath=imgpath.split(\"/\")[-1]\n",
    "        cv2.imwrite (directory_path+\"/\" + imgpath ,image_list[i])\n",
    "        i=i+1"
   ]
  },
  {
   "cell_type": "code",
   "execution_count": 9,
   "id": "2839ed46",
   "metadata": {
    "execution": {
     "iopub.execute_input": "2023-04-03T17:01:00.500992Z",
     "iopub.status.busy": "2023-04-03T17:01:00.500145Z",
     "iopub.status.idle": "2023-04-03T17:01:03.613118Z",
     "shell.execute_reply": "2023-04-03T17:01:03.612113Z"
    },
    "papermill": {
     "duration": 3.129661,
     "end_time": "2023-04-03T17:01:03.615508",
     "exception": false,
     "start_time": "2023-04-03T17:01:00.485847",
     "status": "completed"
    },
    "tags": []
   },
   "outputs": [],
   "source": [
    "createDirectory(r'/kaggle/working/autistic-children-facial-data-set/train/autistic',train_autistic,train_a)\n",
    "createDirectory(r'/kaggle/working/autistic-children-facial-data-set/train/non_autistic',train_nonAutistic,train_n)\n",
    "createDirectory(r'/kaggle/working/autistic-children-facial-data-set/valid/autistic',valid_autistic,valid_a)\n",
    "createDirectory(r'/kaggle/working/autistic-children-facial-data-set/valid/non_autistic',valid_nonAutistic,valid_n)\n",
    "createDirectory(r'/kaggle/working/autistic-children-facial-data-set/test/autistic',test_autistic,test_a)\n",
    "createDirectory(r'/kaggle/working/autistic-children-facial-data-set/test/non_autistic',test_nonAutistic,test_n)"
   ]
  },
  {
   "cell_type": "code",
   "execution_count": 10,
   "id": "78bc0088",
   "metadata": {
    "execution": {
     "iopub.execute_input": "2023-04-03T17:01:03.644210Z",
     "iopub.status.busy": "2023-04-03T17:01:03.643323Z",
     "iopub.status.idle": "2023-04-03T17:01:03.887825Z",
     "shell.execute_reply": "2023-04-03T17:01:03.886798Z"
    },
    "papermill": {
     "duration": 0.261511,
     "end_time": "2023-04-03T17:01:03.890719",
     "exception": false,
     "start_time": "2023-04-03T17:01:03.629208",
     "status": "completed"
    },
    "tags": []
   },
   "outputs": [
    {
     "data": {
      "text/plain": [
       "<matplotlib.image.AxesImage at 0x7f9ce86a1150>"
      ]
     },
     "execution_count": 10,
     "metadata": {},
     "output_type": "execute_result"
    },
    {
     "data": {
      "image/png": "[encoded data removed]",
      "text/plain": [
       "<Figure size 432x288 with 1 Axes>"
      ]
     },
     "metadata": {
      "needs_background": "light"
     },
     "output_type": "display_data"
    }
   ],
   "source": [
    "plt.imshow(train_a[0])"
   ]
  },
  {
   "cell_type": "code",
   "execution_count": 11,
   "id": "1b2c4821",
   "metadata": {
    "execution": {
     "iopub.execute_input": "2023-04-03T17:01:03.922105Z",
     "iopub.status.busy": "2023-04-03T17:01:03.921265Z",
     "iopub.status.idle": "2023-04-03T17:01:04.239551Z",
     "shell.execute_reply": "2023-04-03T17:01:04.238556Z"
    },
    "papermill": {
     "duration": 0.336364,
     "end_time": "2023-04-03T17:01:04.241663",
     "exception": false,
     "start_time": "2023-04-03T17:01:03.905299",
     "status": "completed"
    },
    "tags": []
   },
   "outputs": [
    {
     "data": {
      "text/plain": [
       "243639"
      ]
     },
     "execution_count": 11,
     "metadata": {},
     "output_type": "execute_result"
    }
   ],
   "source": [
    "del train_autistic , train_nonAutistic , valid_autistic, valid_nonAutistic, test_autistic, test_nonAutistic, train_a , train_n , valid_a , valid_n , test_n , test_a\n",
    "gc.collect()"
   ]
  },
  {
   "cell_type": "code",
   "execution_count": 12,
   "id": "9c4f78e1",
   "metadata": {
    "execution": {
     "iopub.execute_input": "2023-04-03T17:01:04.272461Z",
     "iopub.status.busy": "2023-04-03T17:01:04.272127Z",
     "iopub.status.idle": "2023-04-03T17:01:04.697088Z",
     "shell.execute_reply": "2023-04-03T17:01:04.695870Z"
    },
    "papermill": {
     "duration": 0.443302,
     "end_time": "2023-04-03T17:01:04.699586",
     "exception": false,
     "start_time": "2023-04-03T17:01:04.256284",
     "status": "completed"
    },
    "tags": []
   },
   "outputs": [
    {
     "name": "stdout",
     "output_type": "stream",
     "text": [
      "Found 2536 images belonging to 2 classes.\n",
      "Found 300 images belonging to 2 classes.\n",
      "Found 100 images belonging to 2 classes.\n"
     ]
    }
   ],
   "source": [
    "from tensorflow.keras.preprocessing.image import ImageDataGenerator\n",
    "\n",
    "train_data = ImageDataGenerator(\n",
    "    rescale=1./255,\n",
    "        rotation_range=40,\n",
    "        width_shift_range=.2,\n",
    "        height_shift_range=.2,\n",
    "        shear_range=.1,\n",
    "        horizontal_flip=True,\n",
    "        fill_mode='nearest',\n",
    "        zoom_range=.2,\n",
    "    )\n",
    "valid_data = ImageDataGenerator(rescale=1./255)\n",
    "test_data = ImageDataGenerator(rescale=1./255)\n",
    "\n",
    "traindata = train_data.flow_from_directory('/kaggle/input/autistic-children-facial-data-set/train',target_size=(photo_size,photo_size),batch_size=32,class_mode='binary', classes=['non_autistic','autistic'] )\n",
    "testdata= test_data.flow_from_directory('/kaggle/input/autistic-children-facial-data-set/test', target_size=(photo_size,photo_size),batch_size=32,class_mode='binary',classes=['non_autistic','autistic'] )\n",
    "validData = valid_data.flow_from_directory ('/kaggle/input/autistic-children-facial-data-set/valid', target_size=(photo_size,photo_size),batch_size=32,class_mode='binary',classes=['non_autistic','autistic'] )"
   ]
  },
  {
   "cell_type": "code",
   "execution_count": 13,
   "id": "5a8b04bd",
   "metadata": {
    "execution": {
     "iopub.execute_input": "2023-04-03T17:01:04.732234Z",
     "iopub.status.busy": "2023-04-03T17:01:04.731221Z",
     "iopub.status.idle": "2023-04-03T17:01:04.737924Z",
     "shell.execute_reply": "2023-04-03T17:01:04.736995Z"
    },
    "papermill": {
     "duration": 0.024986,
     "end_time": "2023-04-03T17:01:04.739941",
     "exception": false,
     "start_time": "2023-04-03T17:01:04.714955",
     "status": "completed"
    },
    "tags": []
   },
   "outputs": [
    {
     "data": {
      "text/plain": [
       "'img , label= traindata.next()\\nprint(img.shape)\\nprint(img.round())\\nplt.imshow(img[3])'"
      ]
     },
     "execution_count": 13,
     "metadata": {},
     "output_type": "execute_result"
    }
   ],
   "source": [
    "\"\"\"img , label= traindata.next()\n",
    "print(img.shape)\n",
    "print(img.round())\n",
    "plt.imshow(img[3])\"\"\""
   ]
  },
  {
   "cell_type": "code",
   "execution_count": 14,
   "id": "92b78281",
   "metadata": {
    "execution": {
     "iopub.execute_input": "2023-04-03T17:01:04.772256Z",
     "iopub.status.busy": "2023-04-03T17:01:04.771341Z",
     "iopub.status.idle": "2023-04-03T17:01:04.778459Z",
     "shell.execute_reply": "2023-04-03T17:01:04.777420Z"
    },
    "papermill": {
     "duration": 0.025506,
     "end_time": "2023-04-03T17:01:04.780653",
     "exception": false,
     "start_time": "2023-04-03T17:01:04.755147",
     "status": "completed"
    },
    "tags": []
   },
   "outputs": [
    {
     "data": {
      "text/plain": [
       "{'non_autistic': 0, 'autistic': 1}"
      ]
     },
     "execution_count": 14,
     "metadata": {},
     "output_type": "execute_result"
    }
   ],
   "source": [
    "traindata.class_indices"
   ]
  },
  {
   "cell_type": "code",
   "execution_count": 15,
   "id": "e949eeb6",
   "metadata": {
    "execution": {
     "iopub.execute_input": "2023-04-03T17:01:04.811928Z",
     "iopub.status.busy": "2023-04-03T17:01:04.811583Z",
     "iopub.status.idle": "2023-04-03T17:01:04.818018Z",
     "shell.execute_reply": "2023-04-03T17:01:04.817098Z"
    },
    "papermill": {
     "duration": 0.024535,
     "end_time": "2023-04-03T17:01:04.819966",
     "exception": false,
     "start_time": "2023-04-03T17:01:04.795431",
     "status": "completed"
    },
    "tags": []
   },
   "outputs": [
    {
     "data": {
      "text/plain": [
       "'def read_data(list, photo_size):  \\n    data = []\\n    for i in range(len(list)):\\n        for filename in os.listdir(list[i]):\\n            img  = cv2.imread(list[i] + filename)\\n            img = face_detection(img)\\n            #img = gray(img)\\n            #img = Brightnessandcontrast(img)\\n            #img = mean_noise_reduction(img)\\n            #img = three_noise_reduction(img)\\n            img = ReSize(img, photo_size)\\n            img = normalize(img)\\n            data.append([img,i%2])\\n        \\n    \\n    random.shuffle(data)\\n    x = []\\n    y = []\\n    for i in range(len(data)):\\n        x.append(data[i][0])\\n        y.append(data[i][1])\\n    \\n    x = np.array(x)\\n    y = np.array(y)\\n    return x , y'"
      ]
     },
     "execution_count": 15,
     "metadata": {},
     "output_type": "execute_result"
    }
   ],
   "source": [
    "\"\"\"def read_data(list, photo_size):  \n",
    "    data = []\n",
    "    for i in range(len(list)):\n",
    "        for filename in os.listdir(list[i]):\n",
    "            img  = cv2.imread(list[i] + filename)\n",
    "            img = face_detection(img)\n",
    "            #img = gray(img)\n",
    "            #img = Brightnessandcontrast(img)\n",
    "            #img = mean_noise_reduction(img)\n",
    "            #img = three_noise_reduction(img)\n",
    "            img = ReSize(img, photo_size)\n",
    "            img = normalize(img)\n",
    "            data.append([img,i%2])\n",
    "        \n",
    "    \n",
    "    random.shuffle(data)\n",
    "    x = []\n",
    "    y = []\n",
    "    for i in range(len(data)):\n",
    "        x.append(data[i][0])\n",
    "        y.append(data[i][1])\n",
    "    \n",
    "    x = np.array(x)\n",
    "    y = np.array(y)\n",
    "    return x , y\"\"\""
   ]
  },
  {
   "cell_type": "code",
   "execution_count": 16,
   "id": "4ff3188c",
   "metadata": {
    "execution": {
     "iopub.execute_input": "2023-04-03T17:01:04.852791Z",
     "iopub.status.busy": "2023-04-03T17:01:04.851019Z",
     "iopub.status.idle": "2023-04-03T17:01:04.859172Z",
     "shell.execute_reply": "2023-04-03T17:01:04.858194Z"
    },
    "papermill": {
     "duration": 0.026409,
     "end_time": "2023-04-03T17:01:04.861425",
     "exception": false,
     "start_time": "2023-04-03T17:01:04.835016",
     "status": "completed"
    },
    "tags": []
   },
   "outputs": [
    {
     "data": {
      "text/plain": [
       "'ta = \"/kaggle/input/autistic-children-facial-data-set/train/autistic/\"\\ntn = \"/kaggle/input/autistic-children-facial-data-set/train/non_autistic/\"\\ntesta = \"/kaggle/input/autistic-children-facial-data-set/test/autistic/\"\\ntestn = \"/kaggle/input/autistic-children-facial-data-set/test/non_autistic/\"\\nva = \"/kaggle/input/autistic-children-facial-data-set/valid/autistic/\"\\nvn = \"/kaggle/input/autistic-children-facial-data-set/valid/non_autistic/\"\\n\\nlis = [tn, ta , testn, testa, vn, va]\\n\\n\\nx, y = read_data(lis , 224)\\n\\ndel ta , tn , testa, testn, va, vn, lis\\n\\ngc.collect()\\nx_train, x_test, y_train, y_test = train_test_split(x, y, train_size = 0.85, test_size = 0.15, stratify = y)\\nx_train, x_valid, y_train, y_valid = train_test_split(x_train, y_train, train_size = 0.9, test_size = 0.1, stratify = y_train)\\ndel x, y\\ngc.collect()'"
      ]
     },
     "execution_count": 16,
     "metadata": {},
     "output_type": "execute_result"
    }
   ],
   "source": [
    "\"\"\"ta = \"/kaggle/input/autistic-children-facial-data-set/train/autistic/\"\n",
    "tn = \"/kaggle/input/autistic-children-facial-data-set/train/non_autistic/\"\n",
    "testa = \"/kaggle/input/autistic-children-facial-data-set/test/autistic/\"\n",
    "testn = \"/kaggle/input/autistic-children-facial-data-set/test/non_autistic/\"\n",
    "va = \"/kaggle/input/autistic-children-facial-data-set/valid/autistic/\"\n",
    "vn = \"/kaggle/input/autistic-children-facial-data-set/valid/non_autistic/\"\n",
    "\n",
    "lis = [tn, ta , testn, testa, vn, va]\n",
    "\n",
    "\n",
    "x, y = read_data(lis , 224)\n",
    "\n",
    "del ta , tn , testa, testn, va, vn, lis\n",
    "\n",
    "gc.collect()\n",
    "x_train, x_test, y_train, y_test = train_test_split(x, y, train_size = 0.85, test_size = 0.15, stratify = y)\n",
    "x_train, x_valid, y_train, y_valid = train_test_split(x_train, y_train, train_size = 0.9, test_size = 0.1, stratify = y_train)\n",
    "del x, y\n",
    "gc.collect()\"\"\""
   ]
  },
  {
   "cell_type": "markdown",
   "id": "80b8a6cc",
   "metadata": {
    "papermill": {
     "duration": 0.015598,
     "end_time": "2023-04-03T17:01:04.893463",
     "exception": false,
     "start_time": "2023-04-03T17:01:04.877865",
     "status": "completed"
    },
    "tags": []
   },
   "source": [
    "# Load Dataset"
   ]
  },
  {
   "cell_type": "code",
   "execution_count": 17,
   "id": "4606887d",
   "metadata": {
    "execution": {
     "iopub.execute_input": "2023-04-03T17:01:04.927183Z",
     "iopub.status.busy": "2023-04-03T17:01:04.925275Z",
     "iopub.status.idle": "2023-04-03T17:01:04.932833Z",
     "shell.execute_reply": "2023-04-03T17:01:04.931770Z"
    },
    "papermill": {
     "duration": 0.025875,
     "end_time": "2023-04-03T17:01:04.935146",
     "exception": false,
     "start_time": "2023-04-03T17:01:04.909271",
     "status": "completed"
    },
    "tags": []
   },
   "outputs": [
    {
     "data": {
      "text/plain": [
       "'train_data = \"/kaggle/input/autism-image-data/AutismDataset/train\"\\ntest_data= \"/kaggle/input/autism-image-data/AutismDataset/test\"\\nvalid_data_autistic = \"/kaggle/input/autism-image-data/AutismDataset/valid/Autistic\"\\nvalid_data_nonautistic = \"/kaggle/input/autism-image-data/AutismDataset/valid/Non_Autistic\" '"
      ]
     },
     "execution_count": 17,
     "metadata": {},
     "output_type": "execute_result"
    }
   ],
   "source": [
    "\"\"\"train_data = \"/kaggle/input/autism-image-data/AutismDataset/train\"\n",
    "test_data= \"/kaggle/input/autism-image-data/AutismDataset/test\"\n",
    "valid_data_autistic = \"/kaggle/input/autism-image-data/AutismDataset/valid/Autistic\"\n",
    "valid_data_nonautistic = \"/kaggle/input/autism-image-data/AutismDataset/valid/Non_Autistic\" \"\"\""
   ]
  },
  {
   "cell_type": "code",
   "execution_count": 18,
   "id": "c55ac877",
   "metadata": {
    "execution": {
     "iopub.execute_input": "2023-04-03T17:01:04.973652Z",
     "iopub.status.busy": "2023-04-03T17:01:04.972568Z",
     "iopub.status.idle": "2023-04-03T17:01:04.980342Z",
     "shell.execute_reply": "2023-04-03T17:01:04.979212Z"
    },
    "papermill": {
     "duration": 0.030126,
     "end_time": "2023-04-03T17:01:04.982707",
     "exception": false,
     "start_time": "2023-04-03T17:01:04.952581",
     "status": "completed"
    },
    "tags": []
   },
   "outputs": [
    {
     "data": {
      "text/plain": [
       "'train_img = [\"/kaggle/input/autism-image-data/AutismDataset/train/{}\".format(i) for i in os.listdir(train_data)]\\n\\ntest_img = [\"/kaggle/input/autism-image-data/AutismDataset/test/{}\".format(i) for i in os.listdir(test_data)]\\n\\nvalid_autistic_img = [\"/kaggle/input/autism-image-data/AutismDataset/valid/Autistic/{}\".format(i) for i in os.listdir(valid_data_autistic)]\\nvalid_nonautistic_img = [\"/kaggle/input/autism-image-data/AutismDataset/valid/Non_Autistic/{}\".format(i) for i in os.listdir(valid_data_nonautistic)] '"
      ]
     },
     "execution_count": 18,
     "metadata": {},
     "output_type": "execute_result"
    }
   ],
   "source": [
    "\"\"\"train_img = [\"/kaggle/input/autism-image-data/AutismDataset/train/{}\".format(i) for i in os.listdir(train_data)]\n",
    "\n",
    "test_img = [\"/kaggle/input/autism-image-data/AutismDataset/test/{}\".format(i) for i in os.listdir(test_data)]\n",
    "\n",
    "valid_autistic_img = [\"/kaggle/input/autism-image-data/AutismDataset/valid/Autistic/{}\".format(i) for i in os.listdir(valid_data_autistic)]\n",
    "valid_nonautistic_img = [\"/kaggle/input/autism-image-data/AutismDataset/valid/Non_Autistic/{}\".format(i) for i in os.listdir(valid_data_nonautistic)] \"\"\""
   ]
  },
  {
   "cell_type": "code",
   "execution_count": 19,
   "id": "f3b9001f",
   "metadata": {
    "execution": {
     "iopub.execute_input": "2023-04-03T17:01:05.020004Z",
     "iopub.status.busy": "2023-04-03T17:01:05.019335Z",
     "iopub.status.idle": "2023-04-03T17:01:05.025933Z",
     "shell.execute_reply": "2023-04-03T17:01:05.025017Z"
    },
    "papermill": {
     "duration": 0.028135,
     "end_time": "2023-04-03T17:01:05.028140",
     "exception": false,
     "start_time": "2023-04-03T17:01:05.000005",
     "status": "completed"
    },
    "tags": []
   },
   "outputs": [
    {
     "data": {
      "text/plain": [
       "'from pathlib import Path\\ndef insert_str(string, str_to_insert, index):\\n    return string[:index] + str_to_insert + string[index:]\\n\\nnewpath = r\\'/kaggle/working/autism-image-data/AutismDataset/valid\\'\\npath = Path(newpath)\\nif path.is_dir() == False:\\n    os.makedirs(newpath)\\nfor i in range(len(valid_autistic_img)):\\n    image = cv2.imread(valid_autistic_img[i])\\n    valid_autistic_img[i]=valid_autistic_img[i].replace(\\'/Autistic\\',\\'\\')\\n    valid_autistic_img[i]= insert_str(valid_autistic_img[i],\"Autistic.\",52)\\n    valid_autistic_img[i]= valid_autistic_img[i].split(\"/\")[-1]\\n    cv2.imwrite (\"/kaggle/working/autism-image-data/AutismDataset/valid/\"+valid_autistic_img[i],image)\\nfor i in range(len(valid_nonautistic_img)):\\n    image = cv2.imread(valid_nonautistic_img[i])\\n    valid_nonautistic_img[i]=valid_nonautistic_img[i].replace(\\'/Non_Autistic\\',\\'\\')\\n    valid_nonautistic_img[i]= insert_str(valid_nonautistic_img[i],\"Non_Autistic.\",52)\\n    valid_nonautistic_img[i]= valid_nonautistic_img[i].split(\"/\")[-1]\\n    cv2.imwrite (\"/kaggle/working/autism-image-data/AutismDataset/valid/\"+valid_nonautistic_img[i],image)'"
      ]
     },
     "execution_count": 19,
     "metadata": {},
     "output_type": "execute_result"
    }
   ],
   "source": [
    "\"\"\"from pathlib import Path\n",
    "def insert_str(string, str_to_insert, index):\n",
    "    return string[:index] + str_to_insert + string[index:]\n",
    "\n",
    "newpath = r'/kaggle/working/autism-image-data/AutismDataset/valid'\n",
    "path = Path(newpath)\n",
    "if path.is_dir() == False:\n",
    "    os.makedirs(newpath)\n",
    "for i in range(len(valid_autistic_img)):\n",
    "    image = cv2.imread(valid_autistic_img[i])\n",
    "    valid_autistic_img[i]=valid_autistic_img[i].replace('/Autistic','')\n",
    "    valid_autistic_img[i]= insert_str(valid_autistic_img[i],\"Autistic.\",52)\n",
    "    valid_autistic_img[i]= valid_autistic_img[i].split(\"/\")[-1]\n",
    "    cv2.imwrite (\"/kaggle/working/autism-image-data/AutismDataset/valid/\"+valid_autistic_img[i],image)\n",
    "for i in range(len(valid_nonautistic_img)):\n",
    "    image = cv2.imread(valid_nonautistic_img[i])\n",
    "    valid_nonautistic_img[i]=valid_nonautistic_img[i].replace('/Non_Autistic','')\n",
    "    valid_nonautistic_img[i]= insert_str(valid_nonautistic_img[i],\"Non_Autistic.\",52)\n",
    "    valid_nonautistic_img[i]= valid_nonautistic_img[i].split(\"/\")[-1]\n",
    "    cv2.imwrite (\"/kaggle/working/autism-image-data/AutismDataset/valid/\"+valid_nonautistic_img[i],image)\"\"\""
   ]
  },
  {
   "cell_type": "code",
   "execution_count": 20,
   "id": "c0d05922",
   "metadata": {
    "execution": {
     "iopub.execute_input": "2023-04-03T17:01:05.060275Z",
     "iopub.status.busy": "2023-04-03T17:01:05.059356Z",
     "iopub.status.idle": "2023-04-03T17:01:05.065982Z",
     "shell.execute_reply": "2023-04-03T17:01:05.065008Z"
    },
    "papermill": {
     "duration": 0.025131,
     "end_time": "2023-04-03T17:01:05.068190",
     "exception": false,
     "start_time": "2023-04-03T17:01:05.043059",
     "status": "completed"
    },
    "tags": []
   },
   "outputs": [
    {
     "data": {
      "text/plain": [
       "'valid_img = [\"/kaggle/working/autism-image-data/AutismDataset/valid/{}\".format(i) for i in os.listdir(\"/kaggle/working/autism-image-data/AutismDataset/valid\")]'"
      ]
     },
     "execution_count": 20,
     "metadata": {},
     "output_type": "execute_result"
    }
   ],
   "source": [
    "\"\"\"valid_img = [\"/kaggle/working/autism-image-data/AutismDataset/valid/{}\".format(i) for i in os.listdir(\"/kaggle/working/autism-image-data/AutismDataset/valid\")]\"\"\""
   ]
  },
  {
   "cell_type": "code",
   "execution_count": 21,
   "id": "34de4ea8",
   "metadata": {
    "execution": {
     "iopub.execute_input": "2023-04-03T17:01:05.100727Z",
     "iopub.status.busy": "2023-04-03T17:01:05.099906Z",
     "iopub.status.idle": "2023-04-03T17:01:05.106203Z",
     "shell.execute_reply": "2023-04-03T17:01:05.105205Z"
    },
    "papermill": {
     "duration": 0.025087,
     "end_time": "2023-04-03T17:01:05.108361",
     "exception": false,
     "start_time": "2023-04-03T17:01:05.083274",
     "status": "completed"
    },
    "tags": []
   },
   "outputs": [
    {
     "data": {
      "text/plain": [
       "'def encode_data (imagePath):\\n    x = []\\n    y = []\\n    for img_path in imagePath:\\n        img= img_path.split(\"/\")[-1]\\n        image = cv2.imread(img_path)\\n        image = cv2.cvtColor(image, cv2.COLOR_BGR2RGB)\\n        if \\'Autistic\\' in img:\\n            x.append(image)\\n            y.append(0)\\n        if \\'Non_Autistic\\' in img:\\n            x.append(image)\\n            y.append(1)\\n    return x , y'"
      ]
     },
     "execution_count": 21,
     "metadata": {},
     "output_type": "execute_result"
    }
   ],
   "source": [
    "\"\"\"def encode_data (imagePath):\n",
    "    x = []\n",
    "    y = []\n",
    "    for img_path in imagePath:\n",
    "        img= img_path.split(\"/\")[-1]\n",
    "        image = cv2.imread(img_path)\n",
    "        image = cv2.cvtColor(image, cv2.COLOR_BGR2RGB)\n",
    "        if 'Autistic' in img:\n",
    "            x.append(image)\n",
    "            y.append(0)\n",
    "        if 'Non_Autistic' in img:\n",
    "            x.append(image)\n",
    "            y.append(1)\n",
    "    return x , y\"\"\""
   ]
  },
  {
   "cell_type": "code",
   "execution_count": 22,
   "id": "88a2f517",
   "metadata": {
    "execution": {
     "iopub.execute_input": "2023-04-03T17:01:05.141147Z",
     "iopub.status.busy": "2023-04-03T17:01:05.140165Z",
     "iopub.status.idle": "2023-04-03T17:01:05.146712Z",
     "shell.execute_reply": "2023-04-03T17:01:05.145630Z"
    },
    "papermill": {
     "duration": 0.025249,
     "end_time": "2023-04-03T17:01:05.148832",
     "exception": false,
     "start_time": "2023-04-03T17:01:05.123583",
     "status": "completed"
    },
    "tags": []
   },
   "outputs": [
    {
     "data": {
      "text/plain": [
       "'x_train , y_train = encode_data(train_img)\\nx_test , y_test = encode_data(test_img)\\nx_valid , y_valid = encode_data(valid_img)'"
      ]
     },
     "execution_count": 22,
     "metadata": {},
     "output_type": "execute_result"
    }
   ],
   "source": [
    "\"\"\"x_train , y_train = encode_data(train_img)\n",
    "x_test , y_test = encode_data(test_img)\n",
    "x_valid , y_valid = encode_data(valid_img)\"\"\""
   ]
  },
  {
   "cell_type": "code",
   "execution_count": 23,
   "id": "fcf554b6",
   "metadata": {
    "execution": {
     "iopub.execute_input": "2023-04-03T17:01:05.181999Z",
     "iopub.status.busy": "2023-04-03T17:01:05.181039Z",
     "iopub.status.idle": "2023-04-03T17:01:05.187412Z",
     "shell.execute_reply": "2023-04-03T17:01:05.186302Z"
    },
    "papermill": {
     "duration": 0.025042,
     "end_time": "2023-04-03T17:01:05.189403",
     "exception": false,
     "start_time": "2023-04-03T17:01:05.164361",
     "status": "completed"
    },
    "tags": []
   },
   "outputs": [
    {
     "data": {
      "text/plain": [
       "'print(y_train)'"
      ]
     },
     "execution_count": 23,
     "metadata": {},
     "output_type": "execute_result"
    }
   ],
   "source": [
    "\"\"\"print(y_train)\"\"\""
   ]
  },
  {
   "cell_type": "markdown",
   "id": "031a230d",
   "metadata": {
    "papermill": {
     "duration": 0.015117,
     "end_time": "2023-04-03T17:01:05.219693",
     "exception": false,
     "start_time": "2023-04-03T17:01:05.204576",
     "status": "completed"
    },
    "tags": []
   },
   "source": [
    "# Preprocessing"
   ]
  },
  {
   "cell_type": "code",
   "execution_count": 24,
   "id": "f0b056f8",
   "metadata": {
    "execution": {
     "iopub.execute_input": "2023-04-03T17:01:05.253691Z",
     "iopub.status.busy": "2023-04-03T17:01:05.251862Z",
     "iopub.status.idle": "2023-04-03T17:01:05.260359Z",
     "shell.execute_reply": "2023-04-03T17:01:05.259465Z"
    },
    "papermill": {
     "duration": 0.027032,
     "end_time": "2023-04-03T17:01:05.262355",
     "exception": false,
     "start_time": "2023-04-03T17:01:05.235323",
     "status": "completed"
    },
    "tags": []
   },
   "outputs": [
    {
     "data": {
      "text/plain": [
       "'def cropping_based_face_detection(samdata):\\n    detector = dlib.cnn_face_detection_model_v1(\"/kaggle/input/models/mmod_human_face_detector (1)_1.dat\")\\n    greyimg=cv2.cvtColor(samdata, cv2.COLOR_BGR2GRAY)\\n    detectedimg = detector(greyimg)\\n    \\n    for face in detectedimg:\\n        x1 = face.rect.left()\\n        y1 = face.rect.top()\\n        x2 = face.rect.right()\\n        y2 = face.rect.bottom()\\n        img=cv2.rectangle(samdata, (x1, y1), (x2, y2), (0, 0, 0), 2)\\n        img_height, img_width, c = img.shape\\n        cropped = img[max(0, face.rect.top()): min(face.rect.bottom(), img_height),max(0, face.rect.left()): min(face.rect.right(), img_width)]\\n    return cropped   \\nfor i in range(len(x_train)):\\n    x_train[i]=cropping_based_face_detection(x_train[i])\\nfor i in range(len(x_valid)):\\n    x_valid[i]=cropping_based_face_detection(x_valid[i])\\nfor i in range(len(x_test)):\\n    x_test[i]=cropping_based_face_detection(x_test[i])'"
      ]
     },
     "execution_count": 24,
     "metadata": {},
     "output_type": "execute_result"
    }
   ],
   "source": [
    "\"\"\"def cropping_based_face_detection(samdata):\n",
    "    detector = dlib.cnn_face_detection_model_v1(\"/kaggle/input/models/mmod_human_face_detector (1)_1.dat\")\n",
    "    greyimg=cv2.cvtColor(samdata, cv2.COLOR_BGR2GRAY)\n",
    "    detectedimg = detector(greyimg)\n",
    "    \n",
    "    for face in detectedimg:\n",
    "        x1 = face.rect.left()\n",
    "        y1 = face.rect.top()\n",
    "        x2 = face.rect.right()\n",
    "        y2 = face.rect.bottom()\n",
    "        img=cv2.rectangle(samdata, (x1, y1), (x2, y2), (0, 0, 0), 2)\n",
    "        img_height, img_width, c = img.shape\n",
    "        cropped = img[max(0, face.rect.top()): min(face.rect.bottom(), img_height),max(0, face.rect.left()): min(face.rect.right(), img_width)]\n",
    "    return cropped   \n",
    "for i in range(len(x_train)):\n",
    "    x_train[i]=cropping_based_face_detection(x_train[i])\n",
    "for i in range(len(x_valid)):\n",
    "    x_valid[i]=cropping_based_face_detection(x_valid[i])\n",
    "for i in range(len(x_test)):\n",
    "    x_test[i]=cropping_based_face_detection(x_test[i])\"\"\""
   ]
  },
  {
   "cell_type": "code",
   "execution_count": 25,
   "id": "644eb61c",
   "metadata": {
    "execution": {
     "iopub.execute_input": "2023-04-03T17:01:05.295080Z",
     "iopub.status.busy": "2023-04-03T17:01:05.294745Z",
     "iopub.status.idle": "2023-04-03T17:01:05.299005Z",
     "shell.execute_reply": "2023-04-03T17:01:05.297977Z"
    },
    "papermill": {
     "duration": 0.023196,
     "end_time": "2023-04-03T17:01:05.301089",
     "exception": false,
     "start_time": "2023-04-03T17:01:05.277893",
     "status": "completed"
    },
    "tags": []
   },
   "outputs": [],
   "source": [
    "#print(x_train)"
   ]
  },
  {
   "cell_type": "code",
   "execution_count": 26,
   "id": "1c438caa",
   "metadata": {
    "execution": {
     "iopub.execute_input": "2023-04-03T17:01:05.334067Z",
     "iopub.status.busy": "2023-04-03T17:01:05.333157Z",
     "iopub.status.idle": "2023-04-03T17:01:05.339591Z",
     "shell.execute_reply": "2023-04-03T17:01:05.338609Z"
    },
    "papermill": {
     "duration": 0.025125,
     "end_time": "2023-04-03T17:01:05.341785",
     "exception": false,
     "start_time": "2023-04-03T17:01:05.316660",
     "status": "completed"
    },
    "tags": []
   },
   "outputs": [
    {
     "data": {
      "text/plain": [
       "'def ReSize(detimg):\\n    img=cv2.resize(detimg,(224,224))\\n    return img\\n\\nfor i in range(len(x_train)):\\n    x_train[i]=ReSize(x_train[i])\\nfor i in range(len(x_valid)):\\n    x_valid[i]=ReSize(x_valid[i])\\nfor i in range(len(x_test)):\\n    x_test[i]=ReSize(x_test[i])'"
      ]
     },
     "execution_count": 26,
     "metadata": {},
     "output_type": "execute_result"
    }
   ],
   "source": [
    "\"\"\"def ReSize(detimg):\n",
    "    img=cv2.resize(detimg,(224,224))\n",
    "    return img\n",
    "\n",
    "for i in range(len(x_train)):\n",
    "    x_train[i]=ReSize(x_train[i])\n",
    "for i in range(len(x_valid)):\n",
    "    x_valid[i]=ReSize(x_valid[i])\n",
    "for i in range(len(x_test)):\n",
    "    x_test[i]=ReSize(x_test[i])\"\"\""
   ]
  },
  {
   "cell_type": "code",
   "execution_count": 27,
   "id": "bdfd85c7",
   "metadata": {
    "execution": {
     "iopub.execute_input": "2023-04-03T17:01:05.374943Z",
     "iopub.status.busy": "2023-04-03T17:01:05.374000Z",
     "iopub.status.idle": "2023-04-03T17:01:05.380973Z",
     "shell.execute_reply": "2023-04-03T17:01:05.379628Z"
    },
    "papermill": {
     "duration": 0.025637,
     "end_time": "2023-04-03T17:01:05.382953",
     "exception": false,
     "start_time": "2023-04-03T17:01:05.357316",
     "status": "completed"
    },
    "tags": []
   },
   "outputs": [
    {
     "data": {
      "text/plain": [
       "'def normalize(resimg):\\n    img=cv2.cvtColor(resimg,cv2.COLOR_BGR2RGB)\\n    img_normalized = cv2.normalize(img, None, 0, 1.0, cv2.NORM_MINMAX, dtype=cv2.CV_32F)\\n    img_normalized=cv2.cvtColor(img_normalized,cv2.COLOR_BGR2RGB)\\n    return img_normalized\\n\\nfor i in range(len(x_train)):\\n    x_train[i]=normalize(x_train[i])\\nfor i in range(len(x_valid)):\\n    x_valid[i]=normalize(x_valid[i])\\nfor i in range(len(x_test)):\\n    x_test[i]=normalize(x_test[i])'"
      ]
     },
     "execution_count": 27,
     "metadata": {},
     "output_type": "execute_result"
    }
   ],
   "source": [
    "\"\"\"def normalize(resimg):\n",
    "    img=cv2.cvtColor(resimg,cv2.COLOR_BGR2RGB)\n",
    "    img_normalized = cv2.normalize(img, None, 0, 1.0, cv2.NORM_MINMAX, dtype=cv2.CV_32F)\n",
    "    img_normalized=cv2.cvtColor(img_normalized,cv2.COLOR_BGR2RGB)\n",
    "    return img_normalized\n",
    "\n",
    "for i in range(len(x_train)):\n",
    "    x_train[i]=normalize(x_train[i])\n",
    "for i in range(len(x_valid)):\n",
    "    x_valid[i]=normalize(x_valid[i])\n",
    "for i in range(len(x_test)):\n",
    "    x_test[i]=normalize(x_test[i])\"\"\""
   ]
  },
  {
   "cell_type": "code",
   "execution_count": 28,
   "id": "e456c79c",
   "metadata": {
    "execution": {
     "iopub.execute_input": "2023-04-03T17:01:05.415883Z",
     "iopub.status.busy": "2023-04-03T17:01:05.415553Z",
     "iopub.status.idle": "2023-04-03T17:01:05.421736Z",
     "shell.execute_reply": "2023-04-03T17:01:05.420828Z"
    },
    "papermill": {
     "duration": 0.025008,
     "end_time": "2023-04-03T17:01:05.423750",
     "exception": false,
     "start_time": "2023-04-03T17:01:05.398742",
     "status": "completed"
    },
    "tags": []
   },
   "outputs": [
    {
     "data": {
      "text/plain": [
       "'x_train = np.array([np.array(val) for val in x_train])\\ny_train = np.array([np.array(val) for val in y_train])\\nx_valid = np.array([np.array(val) for val in x_valid])\\ny_valid = np.array([np.array(val) for val in y_valid])\\nx_test = np.array([np.array(val) for val in x_test])\\ny_test = np.array([np.array(val) for val in y_test])\\n\\nx_test = tf.cast(x_test , dtype=tf.float32)\\ny_test = tf.cast(y_test , dtype=tf.float32)\\nx_train = tf.cast(x_train , dtype=tf.float32)\\ny_train = tf.cast(y_train , dtype=tf.float32)\\nx_valid = tf.cast(x_valid , dtype=tf.float32)\\ny_valid = tf.cast(y_valid , dtype=tf.float32)'"
      ]
     },
     "execution_count": 28,
     "metadata": {},
     "output_type": "execute_result"
    }
   ],
   "source": [
    "\"\"\"x_train = np.array([np.array(val) for val in x_train])\n",
    "y_train = np.array([np.array(val) for val in y_train])\n",
    "x_valid = np.array([np.array(val) for val in x_valid])\n",
    "y_valid = np.array([np.array(val) for val in y_valid])\n",
    "x_test = np.array([np.array(val) for val in x_test])\n",
    "y_test = np.array([np.array(val) for val in y_test])\n",
    "\n",
    "x_test = tf.cast(x_test , dtype=tf.float32)\n",
    "y_test = tf.cast(y_test , dtype=tf.float32)\n",
    "x_train = tf.cast(x_train , dtype=tf.float32)\n",
    "y_train = tf.cast(y_train , dtype=tf.float32)\n",
    "x_valid = tf.cast(x_valid , dtype=tf.float32)\n",
    "y_valid = tf.cast(y_valid , dtype=tf.float32)\"\"\""
   ]
  },
  {
   "cell_type": "markdown",
   "id": "4c5c4fa7",
   "metadata": {
    "papermill": {
     "duration": 0.020841,
     "end_time": "2023-04-03T17:01:05.462184",
     "exception": false,
     "start_time": "2023-04-03T17:01:05.441343",
     "status": "completed"
    },
    "tags": []
   },
   "source": [
    "# pretrained mobileNetV1 Model"
   ]
  },
  {
   "cell_type": "code",
   "execution_count": 29,
   "id": "db9ed5da",
   "metadata": {
    "execution": {
     "iopub.execute_input": "2023-04-03T17:01:05.497276Z",
     "iopub.status.busy": "2023-04-03T17:01:05.496391Z",
     "iopub.status.idle": "2023-04-03T17:01:05.503237Z",
     "shell.execute_reply": "2023-04-03T17:01:05.502307Z"
    },
    "papermill": {
     "duration": 0.025966,
     "end_time": "2023-04-03T17:01:05.505263",
     "exception": false,
     "start_time": "2023-04-03T17:01:05.479297",
     "status": "completed"
    },
    "tags": []
   },
   "outputs": [
    {
     "data": {
      "text/plain": [
       "'from tensorflow.keras.optimizers import RMSprop\\nbase_model = tf.keras.applications.efficientnet.EfficientNetB0(input_shape=(224,224,3), weights=\\'imagenet\\',include_top=False)\\nfor layers in base_model.layers:\\n    layers.trainable = False\\n\\nx = base_model.output\\nx = Flatten()(x)\\nx = Dense(256, activation=\"relu\")(x)\\nx = Dense(256, activation=\"relu\")(x)\\nx = Dropout(0.5)(x)\\n\\n# Add a final sigmoid layer with 1 node for classification output\\npredictions = Dense(1, activation=\"sigmoid\")(x)\\nmodel= Model(inputs = base_model.input, outputs = predictions)\\n\\nfrom tensorflow.keras import layers\\n\\ninputs = layers.Input(shape = (600,600,3), name=\\'inputLayer\\')\\nx = base_model(inputs, training = False)\\nx = layers.GlobalAveragePooling2D(name=\\'poolingLayer\\')(x)\\nx = layers.Dense(1, name=\\'outputLayer\\')(x)\\noutputs = layers.Activation(activation=\"sigmoid\", dtype=tf.float32, name=\\'activationLayer\\')(x)\\n\\nmodel = tf.keras.Model(inputs, outputs, name = \"FeatureExtractionModel\")\\n\\nmodel.summary()'"
      ]
     },
     "execution_count": 29,
     "metadata": {},
     "output_type": "execute_result"
    }
   ],
   "source": [
    "\"\"\"from tensorflow.keras.optimizers import RMSprop\n",
    "base_model = tf.keras.applications.efficientnet.EfficientNetB0(input_shape=(224,224,3), weights='imagenet',include_top=False)\n",
    "for layers in base_model.layers:\n",
    "    layers.trainable = False\n",
    "\n",
    "x = base_model.output\n",
    "x = Flatten()(x)\n",
    "x = Dense(256, activation=\"relu\")(x)\n",
    "x = Dense(256, activation=\"relu\")(x)\n",
    "x = Dropout(0.5)(x)\n",
    "\n",
    "# Add a final sigmoid layer with 1 node for classification output\n",
    "predictions = Dense(1, activation=\"sigmoid\")(x)\n",
    "model= Model(inputs = base_model.input, outputs = predictions)\n",
    "\n",
    "from tensorflow.keras import layers\n",
    "\n",
    "inputs = layers.Input(shape = (600,600,3), name='inputLayer')\n",
    "x = base_model(inputs, training = False)\n",
    "x = layers.GlobalAveragePooling2D(name='poolingLayer')(x)\n",
    "x = layers.Dense(1, name='outputLayer')(x)\n",
    "outputs = layers.Activation(activation=\"sigmoid\", dtype=tf.float32, name='activationLayer')(x)\n",
    "\n",
    "model = tf.keras.Model(inputs, outputs, name = \"FeatureExtractionModel\")\n",
    "\n",
    "model.summary()\"\"\""
   ]
  },
  {
   "cell_type": "code",
   "execution_count": 30,
   "id": "3d822a1b",
   "metadata": {
    "execution": {
     "iopub.execute_input": "2023-04-03T17:01:05.539161Z",
     "iopub.status.busy": "2023-04-03T17:01:05.538170Z",
     "iopub.status.idle": "2023-04-03T17:01:05.542921Z",
     "shell.execute_reply": "2023-04-03T17:01:05.542056Z"
    },
    "papermill": {
     "duration": 0.0236,
     "end_time": "2023-04-03T17:01:05.544775",
     "exception": false,
     "start_time": "2023-04-03T17:01:05.521175",
     "status": "completed"
    },
    "tags": []
   },
   "outputs": [],
   "source": [
    "#m_model = tf.keras.applications.mobilenet_v2.MobileNetV2(input_shape=(224, 224, 3), alpha=1, weights=None,classes=1)\n"
   ]
  },
  {
   "cell_type": "code",
   "execution_count": 31,
   "id": "d163d30f",
   "metadata": {
    "execution": {
     "iopub.execute_input": "2023-04-03T17:01:05.578854Z",
     "iopub.status.busy": "2023-04-03T17:01:05.578183Z",
     "iopub.status.idle": "2023-04-03T17:01:05.585460Z",
     "shell.execute_reply": "2023-04-03T17:01:05.584555Z"
    },
    "papermill": {
     "duration": 0.026605,
     "end_time": "2023-04-03T17:01:05.587704",
     "exception": false,
     "start_time": "2023-04-03T17:01:05.561099",
     "status": "completed"
    },
    "tags": []
   },
   "outputs": [
    {
     "data": {
      "text/plain": [
       "\"def depth_block(x, strides):\\n    x = DepthwiseConv2D(3,strides=strides,padding='same',  use_bias=False)(x)\\n    x = BatchNormalization()(x)\\n    x = ReLU()(x)\\n    return x\\ndef single_conv_block(x,filters):\\n    x = Conv2D(filters, 1,use_bias=False)(x)\\n    x= BatchNormalization()(x)\\n    x = ReLU()(x)\\n    return x\\ndef combo_layer(x,filters,strides):\\n    x = depth_block(x,strides)\\n    x = single_conv_block(x, filters)\\n    return x\\n\\nfrom tensorflow.keras import regularizers\\n\\ndef build_model(hp):\\n    \\n    input_shape=(224,224,3)\\n    input =Input(input_shape)\\n    x = Conv2D(32,3,strides=(2,2),padding = 'same', use_bias=False) (input)\\n    x =  BatchNormalization()(x)\\n    x = ReLU()(x)\\n    x = combo_layer(x,64, strides=(1,1))\\n    x = combo_layer(x,128,strides=(2,2))\\n    x = combo_layer(x,128,strides=(1,1))\\n    x = combo_layer(x,256,strides=(2,2))\\n    x = combo_layer(x,256,strides=(1,1))\\n    x = combo_layer(x,512,strides=(2,2))\\n    for _ in range(5):\\n        x = combo_layer(x,512,strides=(1,1))\\n    x = combo_layer(x,1024,strides=(2,2))\\n    x = combo_layer(x,1024,strides=(1,1))\\n    \\n    # Hyperparameters\\n    #hp_dropout = hp.Float('dropout',0.4, 0.9, step=0.1)\\n    #n_classes = tf.keras.regularizers.L2(hp.Choice('learning_rate',values=[1e-2,1e-3,1e-4]))\\n    hp_lr = hp.Choice('learning_rate',values=[1e-2,1e-3,1e-4])\\n    hp_regul= hp.Choice('l2',values=[1e-3,1e-4,1e-5])\\n    #hp_units = hp.Int('units',32,512, step=32)\\n    #x=Dropout(0.6)(x)\\n    x = GlobalAveragePooling2D()(x)\\n    x=BatchNormalization()(x)\\n    x=Dense(128 , kernel_regularizer=regularizers.l2(hp_regul))(x)\\n    x=BatchNormalization()(x)\\n    x=Dense(16 , kernel_regularizer=regularizers.l2(hp_regul))(x)\\n    x=BatchNormalization()(x)\\n    output = Dense(10,activation='softmax')(x)\\n    model = Model(input, output)\\n    model.compile( optimizer=Adam(learning_rate=hp_lr),loss = 'sparse_categorical_crossentropy',metrics=['acc'])\\n\\n    \\n    return model\""
      ]
     },
     "execution_count": 31,
     "metadata": {},
     "output_type": "execute_result"
    }
   ],
   "source": [
    "\"\"\"def depth_block(x, strides):\n",
    "    x = DepthwiseConv2D(3,strides=strides,padding='same',  use_bias=False)(x)\n",
    "    x = BatchNormalization()(x)\n",
    "    x = ReLU()(x)\n",
    "    return x\n",
    "def single_conv_block(x,filters):\n",
    "    x = Conv2D(filters, 1,use_bias=False)(x)\n",
    "    x= BatchNormalization()(x)\n",
    "    x = ReLU()(x)\n",
    "    return x\n",
    "def combo_layer(x,filters,strides):\n",
    "    x = depth_block(x,strides)\n",
    "    x = single_conv_block(x, filters)\n",
    "    return x\n",
    "\n",
    "from tensorflow.keras import regularizers\n",
    "\n",
    "def build_model(hp):\n",
    "    \n",
    "    input_shape=(224,224,3)\n",
    "    input =Input(input_shape)\n",
    "    x = Conv2D(32,3,strides=(2,2),padding = 'same', use_bias=False) (input)\n",
    "    x =  BatchNormalization()(x)\n",
    "    x = ReLU()(x)\n",
    "    x = combo_layer(x,64, strides=(1,1))\n",
    "    x = combo_layer(x,128,strides=(2,2))\n",
    "    x = combo_layer(x,128,strides=(1,1))\n",
    "    x = combo_layer(x,256,strides=(2,2))\n",
    "    x = combo_layer(x,256,strides=(1,1))\n",
    "    x = combo_layer(x,512,strides=(2,2))\n",
    "    for _ in range(5):\n",
    "        x = combo_layer(x,512,strides=(1,1))\n",
    "    x = combo_layer(x,1024,strides=(2,2))\n",
    "    x = combo_layer(x,1024,strides=(1,1))\n",
    "    \n",
    "    # Hyperparameters\n",
    "    #hp_dropout = hp.Float('dropout',0.4, 0.9, step=0.1)\n",
    "    #n_classes = tf.keras.regularizers.L2(hp.Choice('learning_rate',values=[1e-2,1e-3,1e-4]))\n",
    "    hp_lr = hp.Choice('learning_rate',values=[1e-2,1e-3,1e-4])\n",
    "    hp_regul= hp.Choice('l2',values=[1e-3,1e-4,1e-5])\n",
    "    #hp_units = hp.Int('units',32,512, step=32)\n",
    "    #x=Dropout(0.6)(x)\n",
    "    x = GlobalAveragePooling2D()(x)\n",
    "    x=BatchNormalization()(x)\n",
    "    x=Dense(128 , kernel_regularizer=regularizers.l2(hp_regul))(x)\n",
    "    x=BatchNormalization()(x)\n",
    "    x=Dense(16 , kernel_regularizer=regularizers.l2(hp_regul))(x)\n",
    "    x=BatchNormalization()(x)\n",
    "    output = Dense(10,activation='softmax')(x)\n",
    "    model = Model(input, output)\n",
    "    model.compile( optimizer=Adam(learning_rate=hp_lr),loss = 'sparse_categorical_crossentropy',metrics=['acc'])\n",
    "\n",
    "    \n",
    "    return model\"\"\""
   ]
  },
  {
   "cell_type": "code",
   "execution_count": 32,
   "id": "4d990fe5",
   "metadata": {
    "execution": {
     "iopub.execute_input": "2023-04-03T17:01:05.623805Z",
     "iopub.status.busy": "2023-04-03T17:01:05.622770Z",
     "iopub.status.idle": "2023-04-03T17:01:05.628315Z",
     "shell.execute_reply": "2023-04-03T17:01:05.627419Z"
    },
    "papermill": {
     "duration": 0.025238,
     "end_time": "2023-04-03T17:01:05.630315",
     "exception": false,
     "start_time": "2023-04-03T17:01:05.605077",
     "status": "completed"
    },
    "tags": []
   },
   "outputs": [],
   "source": [
    "def cal_steps(num_images, batch_size):\n",
    "    # calculates steps for generator\n",
    "    steps = num_images // batch_size\n",
    "    # adds 1 to the generator steps if the steps multiplied by\n",
    "    # the batch size is less than the total training samples\n",
    "    return  steps"
   ]
  },
  {
   "cell_type": "code",
   "execution_count": 33,
   "id": "ee79e267",
   "metadata": {
    "execution": {
     "iopub.execute_input": "2023-04-03T17:01:05.663847Z",
     "iopub.status.busy": "2023-04-03T17:01:05.663253Z",
     "iopub.status.idle": "2023-04-03T17:01:16.699554Z",
     "shell.execute_reply": "2023-04-03T17:01:16.698335Z"
    },
    "papermill": {
     "duration": 11.0559,
     "end_time": "2023-04-03T17:01:16.702118",
     "exception": false,
     "start_time": "2023-04-03T17:01:05.646218",
     "status": "completed"
    },
    "tags": []
   },
   "outputs": [
    {
     "name": "stdout",
     "output_type": "stream",
     "text": [
      "Collecting efficientnet\r\n",
      "  Downloading efficientnet-1.1.1-py3-none-any.whl (18 kB)\r\n",
      "Collecting keras-applications<=1.0.8,>=1.0.7\r\n",
      "  Downloading Keras_Applications-1.0.8-py3-none-any.whl (50 kB)\r\n",
      "\u001b[2K     \u001b[90m━━━━━━━━━━━━━━━━━━━━━━━━━━━━━━━━━━━━━━━━\u001b[0m \u001b[32m50.7/50.7 kB\u001b[0m \u001b[31m2.5 MB/s\u001b[0m eta \u001b[36m0:00:00\u001b[0m\r\n",
      "\u001b[?25hRequirement already satisfied: scikit-image in /opt/conda/lib/python3.7/site-packages (from efficientnet) (0.19.3)\r\n",
      "Requirement already satisfied: h5py in /opt/conda/lib/python3.7/site-packages (from keras-applications<=1.0.8,>=1.0.7->efficientnet) (3.7.0)\r\n",
      "Requirement already satisfied: numpy>=1.9.1 in /opt/conda/lib/python3.7/site-packages (from keras-applications<=1.0.8,>=1.0.7->efficientnet) (1.21.6)\r\n",
      "Requirement already satisfied: networkx>=2.2 in /opt/conda/lib/python3.7/site-packages (from scikit-image->efficientnet) (2.5)\r\n",
      "Requirement already satisfied: pillow!=7.1.0,!=7.1.1,!=8.3.0,>=6.1.0 in /opt/conda/lib/python3.7/site-packages (from scikit-image->efficientnet) (9.1.1)\r\n",
      "Requirement already satisfied: scipy>=1.4.1 in /opt/conda/lib/python3.7/site-packages (from scikit-image->efficientnet) (1.7.3)\r\n",
      "Requirement already satisfied: imageio>=2.4.1 in /opt/conda/lib/python3.7/site-packages (from scikit-image->efficientnet) (2.19.3)\r\n",
      "Requirement already satisfied: packaging>=20.0 in /opt/conda/lib/python3.7/site-packages (from scikit-image->efficientnet) (21.3)\r\n",
      "Requirement already satisfied: tifffile>=2019.7.26 in /opt/conda/lib/python3.7/site-packages (from scikit-image->efficientnet) (2021.11.2)\r\n",
      "Requirement already satisfied: PyWavelets>=1.1.1 in /opt/conda/lib/python3.7/site-packages (from scikit-image->efficientnet) (1.3.0)\r\n",
      "Requirement already satisfied: decorator>=4.3.0 in /opt/conda/lib/python3.7/site-packages (from networkx>=2.2->scikit-image->efficientnet) (5.1.1)\r\n",
      "Requirement already satisfied: pyparsing!=3.0.5,>=2.0.2 in /opt/conda/lib/python3.7/site-packages (from packaging>=20.0->scikit-image->efficientnet) (3.0.9)\r\n",
      "Installing collected packages: keras-applications, efficientnet\r\n",
      "Successfully installed efficientnet-1.1.1 keras-applications-1.0.8\r\n",
      "\u001b[33mWARNING: Running pip as the 'root' user can result in broken permissions and conflicting behaviour with the system package manager. It is recommended to use a virtual environment instead: https://pip.pypa.io/warnings/venv\u001b[0m\u001b[33m\r\n",
      "\u001b[0m"
     ]
    }
   ],
   "source": [
    "!pip install efficientnet"
   ]
  },
  {
   "cell_type": "code",
   "execution_count": 34,
   "id": "0c973ea8",
   "metadata": {
    "execution": {
     "iopub.execute_input": "2023-04-03T17:01:16.739109Z",
     "iopub.status.busy": "2023-04-03T17:01:16.738036Z",
     "iopub.status.idle": "2023-04-03T17:01:21.707543Z",
     "shell.execute_reply": "2023-04-03T17:01:21.688735Z"
    },
    "papermill": {
     "duration": 4.991248,
     "end_time": "2023-04-03T17:01:21.710725",
     "exception": false,
     "start_time": "2023-04-03T17:01:16.719477",
     "status": "completed"
    },
    "tags": []
   },
   "outputs": [
    {
     "name": "stdout",
     "output_type": "stream",
     "text": [
      "Downloading data from https://github.com/Callidior/keras-applications/releases/download/efficientnet/efficientnet-b0_weights_tf_dim_ordering_tf_kernels_autoaugment_notop.h5\n",
      "16809984/16804768 [==============================] - 0s 0us/step\n",
      "16818176/16804768 [==============================] - 0s 0us/step\n",
      "Model: \"model\"\n",
      "__________________________________________________________________________________________________\n",
      "Layer (type)                    Output Shape         Param #     Connected to                     \n",
      "==================================================================================================\n",
      "input_1 (InputLayer)            [(None, 224, 224, 3) 0                                            \n",
      "__________________________________________________________________________________________________\n",
      "stem_conv (Conv2D)              (None, 112, 112, 32) 864         input_1[0][0]                    \n",
      "__________________________________________________________________________________________________\n",
      "stem_bn (BatchNormalization)    (None, 112, 112, 32) 128         stem_conv[0][0]                  \n",
      "__________________________________________________________________________________________________\n",
      "stem_activation (Activation)    (None, 112, 112, 32) 0           stem_bn[0][0]                    \n",
      "__________________________________________________________________________________________________\n",
      "block1a_dwconv (DepthwiseConv2D (None, 112, 112, 32) 288         stem_activation[0][0]            \n",
      "__________________________________________________________________________________________________\n",
      "block1a_bn (BatchNormalization) (None, 112, 112, 32) 128         block1a_dwconv[0][0]             \n",
      "__________________________________________________________________________________________________\n",
      "block1a_activation (Activation) (None, 112, 112, 32) 0           block1a_bn[0][0]                 \n",
      "__________________________________________________________________________________________________\n",
      "block1a_se_squeeze (GlobalAvera (None, 32)           0           block1a_activation[0][0]         \n",
      "__________________________________________________________________________________________________\n",
      "block1a_se_reshape (Reshape)    (None, 1, 1, 32)     0           block1a_se_squeeze[0][0]         \n",
      "__________________________________________________________________________________________________\n",
      "block1a_se_reduce (Conv2D)      (None, 1, 1, 8)      264         block1a_se_reshape[0][0]         \n",
      "__________________________________________________________________________________________________\n",
      "block1a_se_expand (Conv2D)      (None, 1, 1, 32)     288         block1a_se_reduce[0][0]          \n",
      "__________________________________________________________________________________________________\n",
      "block1a_se_excite (Multiply)    (None, 112, 112, 32) 0           block1a_activation[0][0]         \n",
      "                                                                 block1a_se_expand[0][0]          \n",
      "__________________________________________________________________________________________________\n",
      "block1a_project_conv (Conv2D)   (None, 112, 112, 16) 512         block1a_se_excite[0][0]          \n",
      "__________________________________________________________________________________________________\n",
      "block1a_project_bn (BatchNormal (None, 112, 112, 16) 64          block1a_project_conv[0][0]       \n",
      "__________________________________________________________________________________________________\n",
      "block2a_expand_conv (Conv2D)    (None, 112, 112, 96) 1536        block1a_project_bn[0][0]         \n",
      "__________________________________________________________________________________________________\n",
      "block2a_expand_bn (BatchNormali (None, 112, 112, 96) 384         block2a_expand_conv[0][0]        \n",
      "__________________________________________________________________________________________________\n",
      "block2a_expand_activation (Acti (None, 112, 112, 96) 0           block2a_expand_bn[0][0]          \n",
      "__________________________________________________________________________________________________\n",
      "block2a_dwconv (DepthwiseConv2D (None, 56, 56, 96)   864         block2a_expand_activation[0][0]  \n",
      "__________________________________________________________________________________________________\n",
      "block2a_bn (BatchNormalization) (None, 56, 56, 96)   384         block2a_dwconv[0][0]             \n",
      "__________________________________________________________________________________________________\n",
      "block2a_activation (Activation) (None, 56, 56, 96)   0           block2a_bn[0][0]                 \n",
      "__________________________________________________________________________________________________\n",
      "block2a_se_squeeze (GlobalAvera (None, 96)           0           block2a_activation[0][0]         \n",
      "__________________________________________________________________________________________________\n",
      "block2a_se_reshape (Reshape)    (None, 1, 1, 96)     0           block2a_se_squeeze[0][0]         \n",
      "__________________________________________________________________________________________________\n",
      "block2a_se_reduce (Conv2D)      (None, 1, 1, 4)      388         block2a_se_reshape[0][0]         \n",
      "__________________________________________________________________________________________________\n",
      "block2a_se_expand (Conv2D)      (None, 1, 1, 96)     480         block2a_se_reduce[0][0]          \n",
      "__________________________________________________________________________________________________\n",
      "block2a_se_excite (Multiply)    (None, 56, 56, 96)   0           block2a_activation[0][0]         \n",
      "                                                                 block2a_se_expand[0][0]          \n",
      "__________________________________________________________________________________________________\n",
      "block2a_project_conv (Conv2D)   (None, 56, 56, 24)   2304        block2a_se_excite[0][0]          \n",
      "__________________________________________________________________________________________________\n",
      "block2a_project_bn (BatchNormal (None, 56, 56, 24)   96          block2a_project_conv[0][0]       \n",
      "__________________________________________________________________________________________________\n",
      "block2b_expand_conv (Conv2D)    (None, 56, 56, 144)  3456        block2a_project_bn[0][0]         \n",
      "__________________________________________________________________________________________________\n",
      "block2b_expand_bn (BatchNormali (None, 56, 56, 144)  576         block2b_expand_conv[0][0]        \n",
      "__________________________________________________________________________________________________\n",
      "block2b_expand_activation (Acti (None, 56, 56, 144)  0           block2b_expand_bn[0][0]          \n",
      "__________________________________________________________________________________________________\n",
      "block2b_dwconv (DepthwiseConv2D (None, 56, 56, 144)  1296        block2b_expand_activation[0][0]  \n",
      "__________________________________________________________________________________________________\n",
      "block2b_bn (BatchNormalization) (None, 56, 56, 144)  576         block2b_dwconv[0][0]             \n",
      "__________________________________________________________________________________________________\n",
      "block2b_activation (Activation) (None, 56, 56, 144)  0           block2b_bn[0][0]                 \n",
      "__________________________________________________________________________________________________\n",
      "block2b_se_squeeze (GlobalAvera (None, 144)          0           block2b_activation[0][0]         \n",
      "__________________________________________________________________________________________________\n",
      "block2b_se_reshape (Reshape)    (None, 1, 1, 144)    0           block2b_se_squeeze[0][0]         \n",
      "__________________________________________________________________________________________________\n",
      "block2b_se_reduce (Conv2D)      (None, 1, 1, 6)      870         block2b_se_reshape[0][0]         \n",
      "__________________________________________________________________________________________________\n",
      "block2b_se_expand (Conv2D)      (None, 1, 1, 144)    1008        block2b_se_reduce[0][0]          \n",
      "__________________________________________________________________________________________________\n",
      "block2b_se_excite (Multiply)    (None, 56, 56, 144)  0           block2b_activation[0][0]         \n",
      "                                                                 block2b_se_expand[0][0]          \n",
      "__________________________________________________________________________________________________\n",
      "block2b_project_conv (Conv2D)   (None, 56, 56, 24)   3456        block2b_se_excite[0][0]          \n",
      "__________________________________________________________________________________________________\n",
      "block2b_project_bn (BatchNormal (None, 56, 56, 24)   96          block2b_project_conv[0][0]       \n",
      "__________________________________________________________________________________________________\n",
      "block2b_drop (FixedDropout)     (None, 56, 56, 24)   0           block2b_project_bn[0][0]         \n",
      "__________________________________________________________________________________________________\n",
      "block2b_add (Add)               (None, 56, 56, 24)   0           block2b_drop[0][0]               \n",
      "                                                                 block2a_project_bn[0][0]         \n",
      "__________________________________________________________________________________________________\n",
      "block3a_expand_conv (Conv2D)    (None, 56, 56, 144)  3456        block2b_add[0][0]                \n",
      "__________________________________________________________________________________________________\n",
      "block3a_expand_bn (BatchNormali (None, 56, 56, 144)  576         block3a_expand_conv[0][0]        \n",
      "__________________________________________________________________________________________________\n",
      "block3a_expand_activation (Acti (None, 56, 56, 144)  0           block3a_expand_bn[0][0]          \n",
      "__________________________________________________________________________________________________\n",
      "block3a_dwconv (DepthwiseConv2D (None, 28, 28, 144)  3600        block3a_expand_activation[0][0]  \n",
      "__________________________________________________________________________________________________\n",
      "block3a_bn (BatchNormalization) (None, 28, 28, 144)  576         block3a_dwconv[0][0]             \n",
      "__________________________________________________________________________________________________\n",
      "block3a_activation (Activation) (None, 28, 28, 144)  0           block3a_bn[0][0]                 \n",
      "__________________________________________________________________________________________________\n",
      "block3a_se_squeeze (GlobalAvera (None, 144)          0           block3a_activation[0][0]         \n",
      "__________________________________________________________________________________________________\n",
      "block3a_se_reshape (Reshape)    (None, 1, 1, 144)    0           block3a_se_squeeze[0][0]         \n",
      "__________________________________________________________________________________________________\n",
      "block3a_se_reduce (Conv2D)      (None, 1, 1, 6)      870         block3a_se_reshape[0][0]         \n",
      "__________________________________________________________________________________________________\n",
      "block3a_se_expand (Conv2D)      (None, 1, 1, 144)    1008        block3a_se_reduce[0][0]          \n",
      "__________________________________________________________________________________________________\n",
      "block3a_se_excite (Multiply)    (None, 28, 28, 144)  0           block3a_activation[0][0]         \n",
      "                                                                 block3a_se_expand[0][0]          \n",
      "__________________________________________________________________________________________________\n",
      "block3a_project_conv (Conv2D)   (None, 28, 28, 40)   5760        block3a_se_excite[0][0]          \n",
      "__________________________________________________________________________________________________\n",
      "block3a_project_bn (BatchNormal (None, 28, 28, 40)   160         block3a_project_conv[0][0]       \n",
      "__________________________________________________________________________________________________\n",
      "block3b_expand_conv (Conv2D)    (None, 28, 28, 240)  9600        block3a_project_bn[0][0]         \n",
      "__________________________________________________________________________________________________\n",
      "block3b_expand_bn (BatchNormali (None, 28, 28, 240)  960         block3b_expand_conv[0][0]        \n",
      "__________________________________________________________________________________________________\n",
      "block3b_expand_activation (Acti (None, 28, 28, 240)  0           block3b_expand_bn[0][0]          \n",
      "__________________________________________________________________________________________________\n",
      "block3b_dwconv (DepthwiseConv2D (None, 28, 28, 240)  6000        block3b_expand_activation[0][0]  \n",
      "__________________________________________________________________________________________________\n",
      "block3b_bn (BatchNormalization) (None, 28, 28, 240)  960         block3b_dwconv[0][0]             \n",
      "__________________________________________________________________________________________________\n",
      "block3b_activation (Activation) (None, 28, 28, 240)  0           block3b_bn[0][0]                 \n",
      "__________________________________________________________________________________________________\n",
      "block3b_se_squeeze (GlobalAvera (None, 240)          0           block3b_activation[0][0]         \n",
      "__________________________________________________________________________________________________\n",
      "block3b_se_reshape (Reshape)    (None, 1, 1, 240)    0           block3b_se_squeeze[0][0]         \n",
      "__________________________________________________________________________________________________\n",
      "block3b_se_reduce (Conv2D)      (None, 1, 1, 10)     2410        block3b_se_reshape[0][0]         \n",
      "__________________________________________________________________________________________________\n",
      "block3b_se_expand (Conv2D)      (None, 1, 1, 240)    2640        block3b_se_reduce[0][0]          \n",
      "__________________________________________________________________________________________________\n",
      "block3b_se_excite (Multiply)    (None, 28, 28, 240)  0           block3b_activation[0][0]         \n",
      "                                                                 block3b_se_expand[0][0]          \n",
      "__________________________________________________________________________________________________\n",
      "block3b_project_conv (Conv2D)   (None, 28, 28, 40)   9600        block3b_se_excite[0][0]          \n",
      "__________________________________________________________________________________________________\n",
      "block3b_project_bn (BatchNormal (None, 28, 28, 40)   160         block3b_project_conv[0][0]       \n",
      "__________________________________________________________________________________________________\n",
      "block3b_drop (FixedDropout)     (None, 28, 28, 40)   0           block3b_project_bn[0][0]         \n",
      "__________________________________________________________________________________________________\n",
      "block3b_add (Add)               (None, 28, 28, 40)   0           block3b_drop[0][0]               \n",
      "                                                                 block3a_project_bn[0][0]         \n",
      "__________________________________________________________________________________________________\n",
      "block4a_expand_conv (Conv2D)    (None, 28, 28, 240)  9600        block3b_add[0][0]                \n",
      "__________________________________________________________________________________________________\n",
      "block4a_expand_bn (BatchNormali (None, 28, 28, 240)  960         block4a_expand_conv[0][0]        \n",
      "__________________________________________________________________________________________________\n",
      "block4a_expand_activation (Acti (None, 28, 28, 240)  0           block4a_expand_bn[0][0]          \n",
      "__________________________________________________________________________________________________\n",
      "block4a_dwconv (DepthwiseConv2D (None, 14, 14, 240)  2160        block4a_expand_activation[0][0]  \n",
      "__________________________________________________________________________________________________\n",
      "block4a_bn (BatchNormalization) (None, 14, 14, 240)  960         block4a_dwconv[0][0]             \n",
      "__________________________________________________________________________________________________\n",
      "block4a_activation (Activation) (None, 14, 14, 240)  0           block4a_bn[0][0]                 \n",
      "__________________________________________________________________________________________________\n",
      "block4a_se_squeeze (GlobalAvera (None, 240)          0           block4a_activation[0][0]         \n",
      "__________________________________________________________________________________________________\n",
      "block4a_se_reshape (Reshape)    (None, 1, 1, 240)    0           block4a_se_squeeze[0][0]         \n",
      "__________________________________________________________________________________________________\n",
      "block4a_se_reduce (Conv2D)      (None, 1, 1, 10)     2410        block4a_se_reshape[0][0]         \n",
      "__________________________________________________________________________________________________\n",
      "block4a_se_expand (Conv2D)      (None, 1, 1, 240)    2640        block4a_se_reduce[0][0]          \n",
      "__________________________________________________________________________________________________\n",
      "block4a_se_excite (Multiply)    (None, 14, 14, 240)  0           block4a_activation[0][0]         \n",
      "                                                                 block4a_se_expand[0][0]          \n",
      "__________________________________________________________________________________________________\n",
      "block4a_project_conv (Conv2D)   (None, 14, 14, 80)   19200       block4a_se_excite[0][0]          \n",
      "__________________________________________________________________________________________________\n",
      "block4a_project_bn (BatchNormal (None, 14, 14, 80)   320         block4a_project_conv[0][0]       \n",
      "__________________________________________________________________________________________________\n",
      "block4b_expand_conv (Conv2D)    (None, 14, 14, 480)  38400       block4a_project_bn[0][0]         \n",
      "__________________________________________________________________________________________________\n",
      "block4b_expand_bn (BatchNormali (None, 14, 14, 480)  1920        block4b_expand_conv[0][0]        \n",
      "__________________________________________________________________________________________________\n",
      "block4b_expand_activation (Acti (None, 14, 14, 480)  0           block4b_expand_bn[0][0]          \n",
      "__________________________________________________________________________________________________\n",
      "block4b_dwconv (DepthwiseConv2D (None, 14, 14, 480)  4320        block4b_expand_activation[0][0]  \n",
      "__________________________________________________________________________________________________\n",
      "block4b_bn (BatchNormalization) (None, 14, 14, 480)  1920        block4b_dwconv[0][0]             \n",
      "__________________________________________________________________________________________________\n",
      "block4b_activation (Activation) (None, 14, 14, 480)  0           block4b_bn[0][0]                 \n",
      "__________________________________________________________________________________________________\n",
      "block4b_se_squeeze (GlobalAvera (None, 480)          0           block4b_activation[0][0]         \n",
      "__________________________________________________________________________________________________\n",
      "block4b_se_reshape (Reshape)    (None, 1, 1, 480)    0           block4b_se_squeeze[0][0]         \n",
      "__________________________________________________________________________________________________\n",
      "block4b_se_reduce (Conv2D)      (None, 1, 1, 20)     9620        block4b_se_reshape[0][0]         \n",
      "__________________________________________________________________________________________________\n",
      "block4b_se_expand (Conv2D)      (None, 1, 1, 480)    10080       block4b_se_reduce[0][0]          \n",
      "__________________________________________________________________________________________________\n",
      "block4b_se_excite (Multiply)    (None, 14, 14, 480)  0           block4b_activation[0][0]         \n",
      "                                                                 block4b_se_expand[0][0]          \n",
      "__________________________________________________________________________________________________\n",
      "block4b_project_conv (Conv2D)   (None, 14, 14, 80)   38400       block4b_se_excite[0][0]          \n",
      "__________________________________________________________________________________________________\n",
      "block4b_project_bn (BatchNormal (None, 14, 14, 80)   320         block4b_project_conv[0][0]       \n",
      "__________________________________________________________________________________________________\n",
      "block4b_drop (FixedDropout)     (None, 14, 14, 80)   0           block4b_project_bn[0][0]         \n",
      "__________________________________________________________________________________________________\n",
      "block4b_add (Add)               (None, 14, 14, 80)   0           block4b_drop[0][0]               \n",
      "                                                                 block4a_project_bn[0][0]         \n",
      "__________________________________________________________________________________________________\n",
      "block4c_expand_conv (Conv2D)    (None, 14, 14, 480)  38400       block4b_add[0][0]                \n",
      "__________________________________________________________________________________________________\n",
      "block4c_expand_bn (BatchNormali (None, 14, 14, 480)  1920        block4c_expand_conv[0][0]        \n",
      "__________________________________________________________________________________________________\n",
      "block4c_expand_activation (Acti (None, 14, 14, 480)  0           block4c_expand_bn[0][0]          \n",
      "__________________________________________________________________________________________________\n",
      "block4c_dwconv (DepthwiseConv2D (None, 14, 14, 480)  4320        block4c_expand_activation[0][0]  \n",
      "__________________________________________________________________________________________________\n",
      "block4c_bn (BatchNormalization) (None, 14, 14, 480)  1920        block4c_dwconv[0][0]             \n",
      "__________________________________________________________________________________________________\n",
      "block4c_activation (Activation) (None, 14, 14, 480)  0           block4c_bn[0][0]                 \n",
      "__________________________________________________________________________________________________\n",
      "block4c_se_squeeze (GlobalAvera (None, 480)          0           block4c_activation[0][0]         \n",
      "__________________________________________________________________________________________________\n",
      "block4c_se_reshape (Reshape)    (None, 1, 1, 480)    0           block4c_se_squeeze[0][0]         \n",
      "__________________________________________________________________________________________________\n",
      "block4c_se_reduce (Conv2D)      (None, 1, 1, 20)     9620        block4c_se_reshape[0][0]         \n",
      "__________________________________________________________________________________________________\n",
      "block4c_se_expand (Conv2D)      (None, 1, 1, 480)    10080       block4c_se_reduce[0][0]          \n",
      "__________________________________________________________________________________________________\n",
      "block4c_se_excite (Multiply)    (None, 14, 14, 480)  0           block4c_activation[0][0]         \n",
      "                                                                 block4c_se_expand[0][0]          \n",
      "__________________________________________________________________________________________________\n",
      "block4c_project_conv (Conv2D)   (None, 14, 14, 80)   38400       block4c_se_excite[0][0]          \n",
      "__________________________________________________________________________________________________\n",
      "block4c_project_bn (BatchNormal (None, 14, 14, 80)   320         block4c_project_conv[0][0]       \n",
      "__________________________________________________________________________________________________\n",
      "block4c_drop (FixedDropout)     (None, 14, 14, 80)   0           block4c_project_bn[0][0]         \n",
      "__________________________________________________________________________________________________\n",
      "block4c_add (Add)               (None, 14, 14, 80)   0           block4c_drop[0][0]               \n",
      "                                                                 block4b_add[0][0]                \n",
      "__________________________________________________________________________________________________\n",
      "block5a_expand_conv (Conv2D)    (None, 14, 14, 480)  38400       block4c_add[0][0]                \n",
      "__________________________________________________________________________________________________\n",
      "block5a_expand_bn (BatchNormali (None, 14, 14, 480)  1920        block5a_expand_conv[0][0]        \n",
      "__________________________________________________________________________________________________\n",
      "block5a_expand_activation (Acti (None, 14, 14, 480)  0           block5a_expand_bn[0][0]          \n",
      "__________________________________________________________________________________________________\n",
      "block5a_dwconv (DepthwiseConv2D (None, 14, 14, 480)  12000       block5a_expand_activation[0][0]  \n",
      "__________________________________________________________________________________________________\n",
      "block5a_bn (BatchNormalization) (None, 14, 14, 480)  1920        block5a_dwconv[0][0]             \n",
      "__________________________________________________________________________________________________\n",
      "block5a_activation (Activation) (None, 14, 14, 480)  0           block5a_bn[0][0]                 \n",
      "__________________________________________________________________________________________________\n",
      "block5a_se_squeeze (GlobalAvera (None, 480)          0           block5a_activation[0][0]         \n",
      "__________________________________________________________________________________________________\n",
      "block5a_se_reshape (Reshape)    (None, 1, 1, 480)    0           block5a_se_squeeze[0][0]         \n",
      "__________________________________________________________________________________________________\n",
      "block5a_se_reduce (Conv2D)      (None, 1, 1, 20)     9620        block5a_se_reshape[0][0]         \n",
      "__________________________________________________________________________________________________\n",
      "block5a_se_expand (Conv2D)      (None, 1, 1, 480)    10080       block5a_se_reduce[0][0]          \n",
      "__________________________________________________________________________________________________\n",
      "block5a_se_excite (Multiply)    (None, 14, 14, 480)  0           block5a_activation[0][0]         \n",
      "                                                                 block5a_se_expand[0][0]          \n",
      "__________________________________________________________________________________________________\n",
      "block5a_project_conv (Conv2D)   (None, 14, 14, 112)  53760       block5a_se_excite[0][0]          \n",
      "__________________________________________________________________________________________________\n",
      "block5a_project_bn (BatchNormal (None, 14, 14, 112)  448         block5a_project_conv[0][0]       \n",
      "__________________________________________________________________________________________________\n",
      "block5b_expand_conv (Conv2D)    (None, 14, 14, 672)  75264       block5a_project_bn[0][0]         \n",
      "__________________________________________________________________________________________________\n",
      "block5b_expand_bn (BatchNormali (None, 14, 14, 672)  2688        block5b_expand_conv[0][0]        \n",
      "__________________________________________________________________________________________________\n",
      "block5b_expand_activation (Acti (None, 14, 14, 672)  0           block5b_expand_bn[0][0]          \n",
      "__________________________________________________________________________________________________\n",
      "block5b_dwconv (DepthwiseConv2D (None, 14, 14, 672)  16800       block5b_expand_activation[0][0]  \n",
      "__________________________________________________________________________________________________\n",
      "block5b_bn (BatchNormalization) (None, 14, 14, 672)  2688        block5b_dwconv[0][0]             \n",
      "__________________________________________________________________________________________________\n",
      "block5b_activation (Activation) (None, 14, 14, 672)  0           block5b_bn[0][0]                 \n",
      "__________________________________________________________________________________________________\n",
      "block5b_se_squeeze (GlobalAvera (None, 672)          0           block5b_activation[0][0]         \n",
      "__________________________________________________________________________________________________\n",
      "block5b_se_reshape (Reshape)    (None, 1, 1, 672)    0           block5b_se_squeeze[0][0]         \n",
      "__________________________________________________________________________________________________\n",
      "block5b_se_reduce (Conv2D)      (None, 1, 1, 28)     18844       block5b_se_reshape[0][0]         \n",
      "__________________________________________________________________________________________________\n",
      "block5b_se_expand (Conv2D)      (None, 1, 1, 672)    19488       block5b_se_reduce[0][0]          \n",
      "__________________________________________________________________________________________________\n",
      "block5b_se_excite (Multiply)    (None, 14, 14, 672)  0           block5b_activation[0][0]         \n",
      "                                                                 block5b_se_expand[0][0]          \n",
      "__________________________________________________________________________________________________\n",
      "block5b_project_conv (Conv2D)   (None, 14, 14, 112)  75264       block5b_se_excite[0][0]          \n",
      "__________________________________________________________________________________________________\n",
      "block5b_project_bn (BatchNormal (None, 14, 14, 112)  448         block5b_project_conv[0][0]       \n",
      "__________________________________________________________________________________________________\n",
      "block5b_drop (FixedDropout)     (None, 14, 14, 112)  0           block5b_project_bn[0][0]         \n",
      "__________________________________________________________________________________________________\n",
      "block5b_add (Add)               (None, 14, 14, 112)  0           block5b_drop[0][0]               \n",
      "                                                                 block5a_project_bn[0][0]         \n",
      "__________________________________________________________________________________________________\n",
      "block5c_expand_conv (Conv2D)    (None, 14, 14, 672)  75264       block5b_add[0][0]                \n",
      "__________________________________________________________________________________________________\n",
      "block5c_expand_bn (BatchNormali (None, 14, 14, 672)  2688        block5c_expand_conv[0][0]        \n",
      "__________________________________________________________________________________________________\n",
      "block5c_expand_activation (Acti (None, 14, 14, 672)  0           block5c_expand_bn[0][0]          \n",
      "__________________________________________________________________________________________________\n",
      "block5c_dwconv (DepthwiseConv2D (None, 14, 14, 672)  16800       block5c_expand_activation[0][0]  \n",
      "__________________________________________________________________________________________________\n",
      "block5c_bn (BatchNormalization) (None, 14, 14, 672)  2688        block5c_dwconv[0][0]             \n",
      "__________________________________________________________________________________________________\n",
      "block5c_activation (Activation) (None, 14, 14, 672)  0           block5c_bn[0][0]                 \n",
      "__________________________________________________________________________________________________\n",
      "block5c_se_squeeze (GlobalAvera (None, 672)          0           block5c_activation[0][0]         \n",
      "__________________________________________________________________________________________________\n",
      "block5c_se_reshape (Reshape)    (None, 1, 1, 672)    0           block5c_se_squeeze[0][0]         \n",
      "__________________________________________________________________________________________________\n",
      "block5c_se_reduce (Conv2D)      (None, 1, 1, 28)     18844       block5c_se_reshape[0][0]         \n",
      "__________________________________________________________________________________________________\n",
      "block5c_se_expand (Conv2D)      (None, 1, 1, 672)    19488       block5c_se_reduce[0][0]          \n",
      "__________________________________________________________________________________________________\n",
      "block5c_se_excite (Multiply)    (None, 14, 14, 672)  0           block5c_activation[0][0]         \n",
      "                                                                 block5c_se_expand[0][0]          \n",
      "__________________________________________________________________________________________________\n",
      "block5c_project_conv (Conv2D)   (None, 14, 14, 112)  75264       block5c_se_excite[0][0]          \n",
      "__________________________________________________________________________________________________\n",
      "block5c_project_bn (BatchNormal (None, 14, 14, 112)  448         block5c_project_conv[0][0]       \n",
      "__________________________________________________________________________________________________\n",
      "block5c_drop (FixedDropout)     (None, 14, 14, 112)  0           block5c_project_bn[0][0]         \n",
      "__________________________________________________________________________________________________\n",
      "block5c_add (Add)               (None, 14, 14, 112)  0           block5c_drop[0][0]               \n",
      "                                                                 block5b_add[0][0]                \n",
      "__________________________________________________________________________________________________\n",
      "block6a_expand_conv (Conv2D)    (None, 14, 14, 672)  75264       block5c_add[0][0]                \n",
      "__________________________________________________________________________________________________\n",
      "block6a_expand_bn (BatchNormali (None, 14, 14, 672)  2688        block6a_expand_conv[0][0]        \n",
      "__________________________________________________________________________________________________\n",
      "block6a_expand_activation (Acti (None, 14, 14, 672)  0           block6a_expand_bn[0][0]          \n",
      "__________________________________________________________________________________________________\n",
      "block6a_dwconv (DepthwiseConv2D (None, 7, 7, 672)    16800       block6a_expand_activation[0][0]  \n",
      "__________________________________________________________________________________________________\n",
      "block6a_bn (BatchNormalization) (None, 7, 7, 672)    2688        block6a_dwconv[0][0]             \n",
      "__________________________________________________________________________________________________\n",
      "block6a_activation (Activation) (None, 7, 7, 672)    0           block6a_bn[0][0]                 \n",
      "__________________________________________________________________________________________________\n",
      "block6a_se_squeeze (GlobalAvera (None, 672)          0           block6a_activation[0][0]         \n",
      "__________________________________________________________________________________________________\n",
      "block6a_se_reshape (Reshape)    (None, 1, 1, 672)    0           block6a_se_squeeze[0][0]         \n",
      "__________________________________________________________________________________________________\n",
      "block6a_se_reduce (Conv2D)      (None, 1, 1, 28)     18844       block6a_se_reshape[0][0]         \n",
      "__________________________________________________________________________________________________\n",
      "block6a_se_expand (Conv2D)      (None, 1, 1, 672)    19488       block6a_se_reduce[0][0]          \n",
      "__________________________________________________________________________________________________\n",
      "block6a_se_excite (Multiply)    (None, 7, 7, 672)    0           block6a_activation[0][0]         \n",
      "                                                                 block6a_se_expand[0][0]          \n",
      "__________________________________________________________________________________________________\n",
      "block6a_project_conv (Conv2D)   (None, 7, 7, 192)    129024      block6a_se_excite[0][0]          \n",
      "__________________________________________________________________________________________________\n",
      "block6a_project_bn (BatchNormal (None, 7, 7, 192)    768         block6a_project_conv[0][0]       \n",
      "__________________________________________________________________________________________________\n",
      "block6b_expand_conv (Conv2D)    (None, 7, 7, 1152)   221184      block6a_project_bn[0][0]         \n",
      "__________________________________________________________________________________________________\n",
      "block6b_expand_bn (BatchNormali (None, 7, 7, 1152)   4608        block6b_expand_conv[0][0]        \n",
      "__________________________________________________________________________________________________\n",
      "block6b_expand_activation (Acti (None, 7, 7, 1152)   0           block6b_expand_bn[0][0]          \n",
      "__________________________________________________________________________________________________\n",
      "block6b_dwconv (DepthwiseConv2D (None, 7, 7, 1152)   28800       block6b_expand_activation[0][0]  \n",
      "__________________________________________________________________________________________________\n",
      "block6b_bn (BatchNormalization) (None, 7, 7, 1152)   4608        block6b_dwconv[0][0]             \n",
      "__________________________________________________________________________________________________\n",
      "block6b_activation (Activation) (None, 7, 7, 1152)   0           block6b_bn[0][0]                 \n",
      "__________________________________________________________________________________________________\n",
      "block6b_se_squeeze (GlobalAvera (None, 1152)         0           block6b_activation[0][0]         \n",
      "__________________________________________________________________________________________________\n",
      "block6b_se_reshape (Reshape)    (None, 1, 1, 1152)   0           block6b_se_squeeze[0][0]         \n",
      "__________________________________________________________________________________________________\n",
      "block6b_se_reduce (Conv2D)      (None, 1, 1, 48)     55344       block6b_se_reshape[0][0]         \n",
      "__________________________________________________________________________________________________\n",
      "block6b_se_expand (Conv2D)      (None, 1, 1, 1152)   56448       block6b_se_reduce[0][0]          \n",
      "__________________________________________________________________________________________________\n",
      "block6b_se_excite (Multiply)    (None, 7, 7, 1152)   0           block6b_activation[0][0]         \n",
      "                                                                 block6b_se_expand[0][0]          \n",
      "__________________________________________________________________________________________________\n",
      "block6b_project_conv (Conv2D)   (None, 7, 7, 192)    221184      block6b_se_excite[0][0]          \n",
      "__________________________________________________________________________________________________\n",
      "block6b_project_bn (BatchNormal (None, 7, 7, 192)    768         block6b_project_conv[0][0]       \n",
      "__________________________________________________________________________________________________\n",
      "block6b_drop (FixedDropout)     (None, 7, 7, 192)    0           block6b_project_bn[0][0]         \n",
      "__________________________________________________________________________________________________\n",
      "block6b_add (Add)               (None, 7, 7, 192)    0           block6b_drop[0][0]               \n",
      "                                                                 block6a_project_bn[0][0]         \n",
      "__________________________________________________________________________________________________\n",
      "block6c_expand_conv (Conv2D)    (None, 7, 7, 1152)   221184      block6b_add[0][0]                \n",
      "__________________________________________________________________________________________________\n",
      "block6c_expand_bn (BatchNormali (None, 7, 7, 1152)   4608        block6c_expand_conv[0][0]        \n",
      "__________________________________________________________________________________________________\n",
      "block6c_expand_activation (Acti (None, 7, 7, 1152)   0           block6c_expand_bn[0][0]          \n",
      "__________________________________________________________________________________________________\n",
      "block6c_dwconv (DepthwiseConv2D (None, 7, 7, 1152)   28800       block6c_expand_activation[0][0]  \n",
      "__________________________________________________________________________________________________\n",
      "block6c_bn (BatchNormalization) (None, 7, 7, 1152)   4608        block6c_dwconv[0][0]             \n",
      "__________________________________________________________________________________________________\n",
      "block6c_activation (Activation) (None, 7, 7, 1152)   0           block6c_bn[0][0]                 \n",
      "__________________________________________________________________________________________________\n",
      "block6c_se_squeeze (GlobalAvera (None, 1152)         0           block6c_activation[0][0]         \n",
      "__________________________________________________________________________________________________\n",
      "block6c_se_reshape (Reshape)    (None, 1, 1, 1152)   0           block6c_se_squeeze[0][0]         \n",
      "__________________________________________________________________________________________________\n",
      "block6c_se_reduce (Conv2D)      (None, 1, 1, 48)     55344       block6c_se_reshape[0][0]         \n",
      "__________________________________________________________________________________________________\n",
      "block6c_se_expand (Conv2D)      (None, 1, 1, 1152)   56448       block6c_se_reduce[0][0]          \n",
      "__________________________________________________________________________________________________\n",
      "block6c_se_excite (Multiply)    (None, 7, 7, 1152)   0           block6c_activation[0][0]         \n",
      "                                                                 block6c_se_expand[0][0]          \n",
      "__________________________________________________________________________________________________\n",
      "block6c_project_conv (Conv2D)   (None, 7, 7, 192)    221184      block6c_se_excite[0][0]          \n",
      "__________________________________________________________________________________________________\n",
      "block6c_project_bn (BatchNormal (None, 7, 7, 192)    768         block6c_project_conv[0][0]       \n",
      "__________________________________________________________________________________________________\n",
      "block6c_drop (FixedDropout)     (None, 7, 7, 192)    0           block6c_project_bn[0][0]         \n",
      "__________________________________________________________________________________________________\n",
      "block6c_add (Add)               (None, 7, 7, 192)    0           block6c_drop[0][0]               \n",
      "                                                                 block6b_add[0][0]                \n",
      "__________________________________________________________________________________________________\n",
      "block6d_expand_conv (Conv2D)    (None, 7, 7, 1152)   221184      block6c_add[0][0]                \n",
      "__________________________________________________________________________________________________\n",
      "block6d_expand_bn (BatchNormali (None, 7, 7, 1152)   4608        block6d_expand_conv[0][0]        \n",
      "__________________________________________________________________________________________________\n",
      "block6d_expand_activation (Acti (None, 7, 7, 1152)   0           block6d_expand_bn[0][0]          \n",
      "__________________________________________________________________________________________________\n",
      "block6d_dwconv (DepthwiseConv2D (None, 7, 7, 1152)   28800       block6d_expand_activation[0][0]  \n",
      "__________________________________________________________________________________________________\n",
      "block6d_bn (BatchNormalization) (None, 7, 7, 1152)   4608        block6d_dwconv[0][0]             \n",
      "__________________________________________________________________________________________________\n",
      "block6d_activation (Activation) (None, 7, 7, 1152)   0           block6d_bn[0][0]                 \n",
      "__________________________________________________________________________________________________\n",
      "block6d_se_squeeze (GlobalAvera (None, 1152)         0           block6d_activation[0][0]         \n",
      "__________________________________________________________________________________________________\n",
      "block6d_se_reshape (Reshape)    (None, 1, 1, 1152)   0           block6d_se_squeeze[0][0]         \n",
      "__________________________________________________________________________________________________\n",
      "block6d_se_reduce (Conv2D)      (None, 1, 1, 48)     55344       block6d_se_reshape[0][0]         \n",
      "__________________________________________________________________________________________________\n",
      "block6d_se_expand (Conv2D)      (None, 1, 1, 1152)   56448       block6d_se_reduce[0][0]          \n",
      "__________________________________________________________________________________________________\n",
      "block6d_se_excite (Multiply)    (None, 7, 7, 1152)   0           block6d_activation[0][0]         \n",
      "                                                                 block6d_se_expand[0][0]          \n",
      "__________________________________________________________________________________________________\n",
      "block6d_project_conv (Conv2D)   (None, 7, 7, 192)    221184      block6d_se_excite[0][0]          \n",
      "__________________________________________________________________________________________________\n",
      "block6d_project_bn (BatchNormal (None, 7, 7, 192)    768         block6d_project_conv[0][0]       \n",
      "__________________________________________________________________________________________________\n",
      "block6d_drop (FixedDropout)     (None, 7, 7, 192)    0           block6d_project_bn[0][0]         \n",
      "__________________________________________________________________________________________________\n",
      "block6d_add (Add)               (None, 7, 7, 192)    0           block6d_drop[0][0]               \n",
      "                                                                 block6c_add[0][0]                \n",
      "__________________________________________________________________________________________________\n",
      "block7a_expand_conv (Conv2D)    (None, 7, 7, 1152)   221184      block6d_add[0][0]                \n",
      "__________________________________________________________________________________________________\n",
      "block7a_expand_bn (BatchNormali (None, 7, 7, 1152)   4608        block7a_expand_conv[0][0]        \n",
      "__________________________________________________________________________________________________\n",
      "block7a_expand_activation (Acti (None, 7, 7, 1152)   0           block7a_expand_bn[0][0]          \n",
      "__________________________________________________________________________________________________\n",
      "block7a_dwconv (DepthwiseConv2D (None, 7, 7, 1152)   10368       block7a_expand_activation[0][0]  \n",
      "__________________________________________________________________________________________________\n",
      "block7a_bn (BatchNormalization) (None, 7, 7, 1152)   4608        block7a_dwconv[0][0]             \n",
      "__________________________________________________________________________________________________\n",
      "block7a_activation (Activation) (None, 7, 7, 1152)   0           block7a_bn[0][0]                 \n",
      "__________________________________________________________________________________________________\n",
      "block7a_se_squeeze (GlobalAvera (None, 1152)         0           block7a_activation[0][0]         \n",
      "__________________________________________________________________________________________________\n",
      "block7a_se_reshape (Reshape)    (None, 1, 1, 1152)   0           block7a_se_squeeze[0][0]         \n",
      "__________________________________________________________________________________________________\n",
      "block7a_se_reduce (Conv2D)      (None, 1, 1, 48)     55344       block7a_se_reshape[0][0]         \n",
      "__________________________________________________________________________________________________\n",
      "block7a_se_expand (Conv2D)      (None, 1, 1, 1152)   56448       block7a_se_reduce[0][0]          \n",
      "__________________________________________________________________________________________________\n",
      "block7a_se_excite (Multiply)    (None, 7, 7, 1152)   0           block7a_activation[0][0]         \n",
      "                                                                 block7a_se_expand[0][0]          \n",
      "__________________________________________________________________________________________________\n",
      "block7a_project_conv (Conv2D)   (None, 7, 7, 320)    368640      block7a_se_excite[0][0]          \n",
      "__________________________________________________________________________________________________\n",
      "block7a_project_bn (BatchNormal (None, 7, 7, 320)    1280        block7a_project_conv[0][0]       \n",
      "__________________________________________________________________________________________________\n",
      "top_conv (Conv2D)               (None, 7, 7, 1280)   409600      block7a_project_bn[0][0]         \n",
      "__________________________________________________________________________________________________\n",
      "top_bn (BatchNormalization)     (None, 7, 7, 1280)   5120        top_conv[0][0]                   \n",
      "__________________________________________________________________________________________________\n",
      "top_activation (Activation)     (None, 7, 7, 1280)   0           top_bn[0][0]                     \n",
      "__________________________________________________________________________________________________\n",
      "flatten (Flatten)               (None, 62720)        0           top_activation[0][0]             \n",
      "__________________________________________________________________________________________________\n",
      "dense (Dense)                   (None, 256)          16056576    flatten[0][0]                    \n",
      "__________________________________________________________________________________________________\n",
      "dense_1 (Dense)                 (None, 256)          65792       dense[0][0]                      \n",
      "__________________________________________________________________________________________________\n",
      "dropout (Dropout)               (None, 256)          0           dense_1[0][0]                    \n",
      "__________________________________________________________________________________________________\n",
      "dense_2 (Dense)                 (None, 1)            257         dropout[0][0]                    \n",
      "==================================================================================================\n",
      "Total params: 20,172,189\n",
      "Trainable params: 16,122,625\n",
      "Non-trainable params: 4,049,564\n",
      "__________________________________________________________________________________________________\n"
     ]
    }
   ],
   "source": [
    "def use_efficient_net( model_type='B0'):\n",
    "    from tensorflow.keras.optimizers import RMSprop\n",
    "    from keras.models import Model\n",
    "    import efficientnet.tfkeras as efn\n",
    "    if model_type=='B0':\n",
    "        efn_model = efn.EfficientNetB0(input_shape = (photo_size, photo_size, 3), include_top = False, weights = 'imagenet')\n",
    "    else:\n",
    "        efn_model = efn.EfficientNetB7(input_shape = (photo_size, photo_size, 3), include_top = False, weights = 'imagenet')\n",
    "    for layer in efn_model.layers:\n",
    "        layer.trainable = False\n",
    "    #\n",
    "    x = efn_model.output\n",
    "    x = Flatten()(x)\n",
    "    x = Dense(256, activation=\"relu\")(x)\n",
    "    x = Dense(256, activation=\"relu\")(x)\n",
    "    #hp_dropout = hp.Float('dropout',0.4, 0.9, step=0.1)\n",
    "    x = Dropout(0.5)(x)\n",
    "    # Add a final sigmoid layer with 1 node for classification output\n",
    "    predictions = Dense(1, activation=\"sigmoid\")(x)\n",
    "    efficient_net = Model(efn_model.input,predictions)\n",
    "    #hp_lr = hp.Choice('learning_rate',values=[1e-2,1e-3,1e-4])\n",
    "    efficient_net.compile(RMSprop(learning_rate=0.0001, decay=1e-6),loss='binary_crossentropy',metrics=['accuracy'])\n",
    "    return efficient_net\n",
    "efficient_net=use_efficient_net('B0')\n",
    "efficient_net.summary()"
   ]
  },
  {
   "cell_type": "code",
   "execution_count": 35,
   "id": "00700734",
   "metadata": {
    "execution": {
     "iopub.execute_input": "2023-04-03T17:01:21.767843Z",
     "iopub.status.busy": "2023-04-03T17:01:21.767394Z",
     "iopub.status.idle": "2023-04-03T18:03:05.005023Z",
     "shell.execute_reply": "2023-04-03T18:03:05.003998Z"
    },
    "papermill": {
     "duration": 3703.268917,
     "end_time": "2023-04-03T18:03:05.007665",
     "exception": false,
     "start_time": "2023-04-03T17:01:21.738748",
     "status": "completed"
    },
    "tags": []
   },
   "outputs": [
    {
     "name": "stdout",
     "output_type": "stream",
     "text": [
      "Epoch 1/100\n",
      "79/79 [==============================] - 39s 420ms/step - loss: 0.7204 - accuracy: 0.6330 - val_loss: 0.5322 - val_accuracy: 0.6667\n",
      "Epoch 2/100\n",
      "79/79 [==============================] - 32s 399ms/step - loss: 0.6114 - accuracy: 0.6825 - val_loss: 0.4996 - val_accuracy: 0.7396\n",
      "Epoch 3/100\n",
      "79/79 [==============================] - 31s 397ms/step - loss: 0.5885 - accuracy: 0.6957 - val_loss: 0.4541 - val_accuracy: 0.7812\n",
      "Epoch 4/100\n",
      "79/79 [==============================] - 31s 394ms/step - loss: 0.5420 - accuracy: 0.7356 - val_loss: 0.4855 - val_accuracy: 0.7708\n",
      "Epoch 5/100\n",
      "79/79 [==============================] - 32s 405ms/step - loss: 0.5651 - accuracy: 0.7252 - val_loss: 0.5056 - val_accuracy: 0.7396\n",
      "Epoch 6/100\n",
      "79/79 [==============================] - 32s 405ms/step - loss: 0.5538 - accuracy: 0.7300 - val_loss: 0.5204 - val_accuracy: 0.7708\n",
      "Epoch 7/100\n",
      "79/79 [==============================] - 32s 401ms/step - loss: 0.5393 - accuracy: 0.7388 - val_loss: 0.4660 - val_accuracy: 0.7812\n",
      "Epoch 8/100\n",
      "79/79 [==============================] - 32s 403ms/step - loss: 0.5299 - accuracy: 0.7512 - val_loss: 0.4763 - val_accuracy: 0.7917\n",
      "Epoch 9/100\n",
      "79/79 [==============================] - 32s 402ms/step - loss: 0.5291 - accuracy: 0.7560 - val_loss: 0.4875 - val_accuracy: 0.7812\n",
      "Epoch 10/100\n",
      "79/79 [==============================] - 31s 398ms/step - loss: 0.5199 - accuracy: 0.7692 - val_loss: 0.5055 - val_accuracy: 0.7812\n",
      "Epoch 11/100\n",
      "79/79 [==============================] - 32s 403ms/step - loss: 0.5225 - accuracy: 0.7596 - val_loss: 0.4962 - val_accuracy: 0.7917\n",
      "Epoch 12/100\n",
      "79/79 [==============================] - 32s 401ms/step - loss: 0.5291 - accuracy: 0.7592 - val_loss: 0.5212 - val_accuracy: 0.7500\n",
      "Epoch 13/100\n",
      "79/79 [==============================] - 32s 404ms/step - loss: 0.4902 - accuracy: 0.7596 - val_loss: 0.4662 - val_accuracy: 0.7917\n",
      "Epoch 14/100\n",
      "79/79 [==============================] - 32s 401ms/step - loss: 0.4805 - accuracy: 0.7756 - val_loss: 0.5348 - val_accuracy: 0.7396\n",
      "Epoch 15/100\n",
      "79/79 [==============================] - 32s 401ms/step - loss: 0.4808 - accuracy: 0.7616 - val_loss: 0.4887 - val_accuracy: 0.7604\n",
      "Epoch 16/100\n",
      "79/79 [==============================] - 31s 390ms/step - loss: 0.4910 - accuracy: 0.7732 - val_loss: 0.4537 - val_accuracy: 0.8125\n",
      "Epoch 17/100\n",
      "79/79 [==============================] - 32s 398ms/step - loss: 0.4868 - accuracy: 0.7752 - val_loss: 0.4500 - val_accuracy: 0.8125\n",
      "Epoch 18/100\n",
      "79/79 [==============================] - 32s 404ms/step - loss: 0.4723 - accuracy: 0.7744 - val_loss: 0.4776 - val_accuracy: 0.7812\n",
      "Epoch 19/100\n",
      "79/79 [==============================] - 32s 400ms/step - loss: 0.4549 - accuracy: 0.7955 - val_loss: 0.5119 - val_accuracy: 0.7604\n",
      "Epoch 20/100\n",
      "79/79 [==============================] - 32s 399ms/step - loss: 0.4748 - accuracy: 0.7812 - val_loss: 0.4481 - val_accuracy: 0.8021\n",
      "Epoch 21/100\n",
      "79/79 [==============================] - 32s 402ms/step - loss: 0.4594 - accuracy: 0.7740 - val_loss: 0.5489 - val_accuracy: 0.7396\n",
      "Epoch 22/100\n",
      "79/79 [==============================] - 32s 403ms/step - loss: 0.4713 - accuracy: 0.7899 - val_loss: 0.4647 - val_accuracy: 0.7500\n",
      "Epoch 23/100\n",
      "79/79 [==============================] - 32s 398ms/step - loss: 0.4526 - accuracy: 0.7855 - val_loss: 0.4909 - val_accuracy: 0.7708\n",
      "Epoch 24/100\n",
      "79/79 [==============================] - 32s 403ms/step - loss: 0.4423 - accuracy: 0.8015 - val_loss: 0.4219 - val_accuracy: 0.7917\n",
      "Epoch 25/100\n",
      "79/79 [==============================] - 32s 400ms/step - loss: 0.4408 - accuracy: 0.7931 - val_loss: 0.5226 - val_accuracy: 0.7917\n",
      "Epoch 26/100\n",
      "79/79 [==============================] - 32s 401ms/step - loss: 0.4673 - accuracy: 0.7808 - val_loss: 0.4976 - val_accuracy: 0.7917\n",
      "Epoch 27/100\n",
      "79/79 [==============================] - 32s 400ms/step - loss: 0.4415 - accuracy: 0.8011 - val_loss: 0.4991 - val_accuracy: 0.7917\n",
      "Epoch 28/100\n",
      "79/79 [==============================] - 31s 395ms/step - loss: 0.4583 - accuracy: 0.7935 - val_loss: 0.5670 - val_accuracy: 0.7396\n",
      "Epoch 29/100\n",
      "79/79 [==============================] - 32s 405ms/step - loss: 0.4431 - accuracy: 0.7995 - val_loss: 0.4969 - val_accuracy: 0.8125\n",
      "Epoch 30/100\n",
      "79/79 [==============================] - 30s 384ms/step - loss: 0.4326 - accuracy: 0.8099 - val_loss: 0.5023 - val_accuracy: 0.8021\n",
      "Epoch 31/100\n",
      "79/79 [==============================] - 31s 396ms/step - loss: 0.4436 - accuracy: 0.8031 - val_loss: 0.4363 - val_accuracy: 0.7812\n",
      "Epoch 32/100\n",
      "79/79 [==============================] - 31s 397ms/step - loss: 0.4338 - accuracy: 0.8095 - val_loss: 0.5093 - val_accuracy: 0.7708\n",
      "Epoch 33/100\n",
      "79/79 [==============================] - 32s 407ms/step - loss: 0.4383 - accuracy: 0.8051 - val_loss: 0.4837 - val_accuracy: 0.8021\n",
      "Epoch 34/100\n",
      "79/79 [==============================] - 33s 412ms/step - loss: 0.4472 - accuracy: 0.7923 - val_loss: 0.4861 - val_accuracy: 0.8125\n",
      "Epoch 35/100\n",
      "79/79 [==============================] - 33s 411ms/step - loss: 0.4190 - accuracy: 0.8127 - val_loss: 0.4940 - val_accuracy: 0.8229\n",
      "Epoch 36/100\n",
      "79/79 [==============================] - 32s 403ms/step - loss: 0.4537 - accuracy: 0.8011 - val_loss: 0.4754 - val_accuracy: 0.7917\n",
      "Epoch 37/100\n",
      "79/79 [==============================] - 32s 403ms/step - loss: 0.4286 - accuracy: 0.8015 - val_loss: 0.4851 - val_accuracy: 0.8542\n",
      "Epoch 38/100\n",
      "79/79 [==============================] - 31s 395ms/step - loss: 0.4368 - accuracy: 0.7967 - val_loss: 0.5225 - val_accuracy: 0.7604\n",
      "Epoch 39/100\n",
      "79/79 [==============================] - 32s 400ms/step - loss: 0.4257 - accuracy: 0.8115 - val_loss: 0.5173 - val_accuracy: 0.8125\n",
      "Epoch 40/100\n",
      "79/79 [==============================] - 31s 393ms/step - loss: 0.4186 - accuracy: 0.8095 - val_loss: 0.5072 - val_accuracy: 0.7917\n",
      "Epoch 41/100\n",
      "79/79 [==============================] - 32s 398ms/step - loss: 0.4205 - accuracy: 0.8059 - val_loss: 0.4989 - val_accuracy: 0.7917\n",
      "Epoch 42/100\n",
      "79/79 [==============================] - 32s 402ms/step - loss: 0.4439 - accuracy: 0.8081 - val_loss: 0.4970 - val_accuracy: 0.8125\n",
      "Epoch 43/100\n",
      "79/79 [==============================] - 31s 397ms/step - loss: 0.4378 - accuracy: 0.8091 - val_loss: 0.4736 - val_accuracy: 0.8333\n",
      "Epoch 44/100\n",
      "79/79 [==============================] - 32s 400ms/step - loss: 0.4180 - accuracy: 0.8159 - val_loss: 0.4635 - val_accuracy: 0.7917\n",
      "Epoch 45/100\n",
      "79/79 [==============================] - 31s 398ms/step - loss: 0.4217 - accuracy: 0.8051 - val_loss: 0.4940 - val_accuracy: 0.7812\n",
      "Epoch 46/100\n",
      "79/79 [==============================] - 31s 393ms/step - loss: 0.4182 - accuracy: 0.8155 - val_loss: 0.4412 - val_accuracy: 0.8333\n",
      "Epoch 47/100\n",
      "79/79 [==============================] - 31s 394ms/step - loss: 0.4099 - accuracy: 0.8059 - val_loss: 0.3972 - val_accuracy: 0.8438\n",
      "Epoch 48/100\n",
      "79/79 [==============================] - 31s 396ms/step - loss: 0.4176 - accuracy: 0.8123 - val_loss: 0.4252 - val_accuracy: 0.8229\n",
      "Epoch 49/100\n",
      "79/79 [==============================] - 32s 398ms/step - loss: 0.4383 - accuracy: 0.8071 - val_loss: 0.4478 - val_accuracy: 0.8229\n",
      "Epoch 50/100\n",
      "79/79 [==============================] - 31s 397ms/step - loss: 0.3951 - accuracy: 0.8187 - val_loss: 0.3977 - val_accuracy: 0.8229\n",
      "Epoch 51/100\n",
      "79/79 [==============================] - 32s 399ms/step - loss: 0.4074 - accuracy: 0.8147 - val_loss: 0.4740 - val_accuracy: 0.7917\n",
      "Epoch 52/100\n",
      "79/79 [==============================] - 31s 395ms/step - loss: 0.4112 - accuracy: 0.8223 - val_loss: 0.4751 - val_accuracy: 0.8125\n",
      "Epoch 53/100\n",
      "79/79 [==============================] - 32s 402ms/step - loss: 0.4118 - accuracy: 0.8159 - val_loss: 0.4881 - val_accuracy: 0.8333\n",
      "Epoch 54/100\n",
      "79/79 [==============================] - 31s 393ms/step - loss: 0.3979 - accuracy: 0.8207 - val_loss: 0.4466 - val_accuracy: 0.8333\n",
      "Epoch 55/100\n",
      "79/79 [==============================] - 31s 396ms/step - loss: 0.4080 - accuracy: 0.8235 - val_loss: 0.5028 - val_accuracy: 0.8021\n",
      "Epoch 56/100\n",
      "79/79 [==============================] - 31s 394ms/step - loss: 0.3896 - accuracy: 0.8355 - val_loss: 0.5037 - val_accuracy: 0.7917\n",
      "Epoch 57/100\n",
      "79/79 [==============================] - 32s 398ms/step - loss: 0.4269 - accuracy: 0.8236 - val_loss: 0.4771 - val_accuracy: 0.8125\n",
      "Epoch 58/100\n",
      "79/79 [==============================] - 31s 391ms/step - loss: 0.3763 - accuracy: 0.8327 - val_loss: 0.4790 - val_accuracy: 0.8021\n",
      "Epoch 59/100\n",
      "79/79 [==============================] - 31s 394ms/step - loss: 0.3916 - accuracy: 0.8327 - val_loss: 0.4987 - val_accuracy: 0.8333\n",
      "Epoch 60/100\n",
      "79/79 [==============================] - 31s 394ms/step - loss: 0.3944 - accuracy: 0.8227 - val_loss: 0.4992 - val_accuracy: 0.8229\n",
      "Epoch 61/100\n",
      "79/79 [==============================] - 31s 393ms/step - loss: 0.3798 - accuracy: 0.8283 - val_loss: 0.4531 - val_accuracy: 0.8125\n",
      "Epoch 62/100\n",
      "79/79 [==============================] - 31s 395ms/step - loss: 0.3783 - accuracy: 0.8299 - val_loss: 0.4586 - val_accuracy: 0.8229\n",
      "Epoch 63/100\n",
      "79/79 [==============================] - 31s 391ms/step - loss: 0.3897 - accuracy: 0.8351 - val_loss: 0.4826 - val_accuracy: 0.7917\n",
      "Epoch 64/100\n",
      "79/79 [==============================] - 31s 391ms/step - loss: 0.4044 - accuracy: 0.8267 - val_loss: 0.4748 - val_accuracy: 0.8021\n",
      "Epoch 65/100\n",
      "79/79 [==============================] - 31s 394ms/step - loss: 0.3750 - accuracy: 0.8271 - val_loss: 0.4624 - val_accuracy: 0.8229\n",
      "Epoch 66/100\n",
      "79/79 [==============================] - 31s 392ms/step - loss: 0.3703 - accuracy: 0.8419 - val_loss: 0.5266 - val_accuracy: 0.7917\n",
      "Epoch 67/100\n",
      "79/79 [==============================] - 31s 390ms/step - loss: 0.3939 - accuracy: 0.8355 - val_loss: 0.5329 - val_accuracy: 0.8021\n",
      "Epoch 68/100\n",
      "79/79 [==============================] - 31s 394ms/step - loss: 0.3780 - accuracy: 0.8339 - val_loss: 0.5166 - val_accuracy: 0.8021\n",
      "Epoch 69/100\n",
      "79/79 [==============================] - 31s 398ms/step - loss: 0.3848 - accuracy: 0.8339 - val_loss: 0.5319 - val_accuracy: 0.7917\n",
      "Epoch 70/100\n",
      "79/79 [==============================] - 31s 395ms/step - loss: 0.3855 - accuracy: 0.8399 - val_loss: 0.4698 - val_accuracy: 0.8229\n",
      "Epoch 71/100\n",
      "79/79 [==============================] - 31s 397ms/step - loss: 0.3709 - accuracy: 0.8327 - val_loss: 0.5106 - val_accuracy: 0.8229\n",
      "Epoch 72/100\n",
      "79/79 [==============================] - 32s 399ms/step - loss: 0.3764 - accuracy: 0.8383 - val_loss: 0.4288 - val_accuracy: 0.8229\n",
      "Epoch 73/100\n",
      "79/79 [==============================] - 31s 396ms/step - loss: 0.3834 - accuracy: 0.8363 - val_loss: 0.4328 - val_accuracy: 0.8333\n",
      "Epoch 74/100\n",
      "79/79 [==============================] - 31s 395ms/step - loss: 0.3888 - accuracy: 0.8339 - val_loss: 0.4393 - val_accuracy: 0.8333\n",
      "Epoch 75/100\n",
      "79/79 [==============================] - 31s 389ms/step - loss: 0.3923 - accuracy: 0.8387 - val_loss: 0.4494 - val_accuracy: 0.8438\n",
      "Epoch 76/100\n",
      "79/79 [==============================] - 31s 395ms/step - loss: 0.3835 - accuracy: 0.8351 - val_loss: 0.4202 - val_accuracy: 0.8438\n",
      "Epoch 77/100\n",
      "79/79 [==============================] - 32s 399ms/step - loss: 0.3796 - accuracy: 0.8407 - val_loss: 0.4640 - val_accuracy: 0.8125\n",
      "Epoch 78/100\n",
      "79/79 [==============================] - 31s 395ms/step - loss: 0.3647 - accuracy: 0.8435 - val_loss: 0.4770 - val_accuracy: 0.8333\n",
      "Epoch 79/100\n",
      "79/79 [==============================] - 31s 396ms/step - loss: 0.3709 - accuracy: 0.8339 - val_loss: 0.3864 - val_accuracy: 0.8438\n",
      "Epoch 80/100\n",
      "79/79 [==============================] - 31s 394ms/step - loss: 0.3638 - accuracy: 0.8419 - val_loss: 0.5067 - val_accuracy: 0.7812\n",
      "Epoch 81/100\n",
      "79/79 [==============================] - 32s 400ms/step - loss: 0.3680 - accuracy: 0.8395 - val_loss: 0.4525 - val_accuracy: 0.7812\n",
      "Epoch 82/100\n",
      "79/79 [==============================] - 32s 401ms/step - loss: 0.3642 - accuracy: 0.8355 - val_loss: 0.5435 - val_accuracy: 0.8229\n",
      "Epoch 83/100\n",
      "79/79 [==============================] - 31s 397ms/step - loss: 0.3481 - accuracy: 0.8498 - val_loss: 0.4854 - val_accuracy: 0.8229\n",
      "Epoch 84/100\n",
      "79/79 [==============================] - 32s 400ms/step - loss: 0.3604 - accuracy: 0.8494 - val_loss: 0.4742 - val_accuracy: 0.8333\n",
      "Epoch 85/100\n",
      "79/79 [==============================] - 31s 395ms/step - loss: 0.3716 - accuracy: 0.8390 - val_loss: 0.4747 - val_accuracy: 0.8021\n",
      "Epoch 86/100\n",
      "79/79 [==============================] - 31s 392ms/step - loss: 0.3648 - accuracy: 0.8514 - val_loss: 0.4546 - val_accuracy: 0.8438\n",
      "Epoch 87/100\n",
      "79/79 [==============================] - 31s 390ms/step - loss: 0.3518 - accuracy: 0.8562 - val_loss: 0.5104 - val_accuracy: 0.8229\n",
      "Epoch 88/100\n",
      "79/79 [==============================] - 31s 393ms/step - loss: 0.3669 - accuracy: 0.8371 - val_loss: 0.4747 - val_accuracy: 0.8333\n",
      "Epoch 89/100\n",
      "79/79 [==============================] - 31s 396ms/step - loss: 0.3781 - accuracy: 0.8446 - val_loss: 0.5192 - val_accuracy: 0.8438\n",
      "Epoch 90/100\n",
      "79/79 [==============================] - 31s 391ms/step - loss: 0.3488 - accuracy: 0.8510 - val_loss: 0.5116 - val_accuracy: 0.8021\n",
      "Epoch 91/100\n",
      "79/79 [==============================] - 31s 393ms/step - loss: 0.3842 - accuracy: 0.8431 - val_loss: 0.4796 - val_accuracy: 0.8021\n",
      "Epoch 92/100\n",
      "79/79 [==============================] - 31s 394ms/step - loss: 0.3598 - accuracy: 0.8570 - val_loss: 0.4956 - val_accuracy: 0.8229\n",
      "Epoch 93/100\n",
      "79/79 [==============================] - 32s 399ms/step - loss: 0.3764 - accuracy: 0.8379 - val_loss: 0.5017 - val_accuracy: 0.8125\n",
      "Epoch 94/100\n",
      "79/79 [==============================] - 31s 396ms/step - loss: 0.3751 - accuracy: 0.8347 - val_loss: 0.5159 - val_accuracy: 0.8333\n",
      "Epoch 95/100\n",
      "79/79 [==============================] - 31s 393ms/step - loss: 0.3544 - accuracy: 0.8546 - val_loss: 0.4369 - val_accuracy: 0.8646\n",
      "Epoch 96/100\n",
      "79/79 [==============================] - 31s 396ms/step - loss: 0.3523 - accuracy: 0.8538 - val_loss: 0.4719 - val_accuracy: 0.8438\n",
      "Epoch 97/100\n",
      "79/79 [==============================] - 31s 398ms/step - loss: 0.3516 - accuracy: 0.8510 - val_loss: 0.4598 - val_accuracy: 0.8438\n",
      "Epoch 98/100\n",
      "79/79 [==============================] - 31s 394ms/step - loss: 0.3405 - accuracy: 0.8550 - val_loss: 0.5281 - val_accuracy: 0.7812\n",
      "Epoch 99/100\n",
      "79/79 [==============================] - 31s 394ms/step - loss: 0.3505 - accuracy: 0.8526 - val_loss: 0.4200 - val_accuracy: 0.8542\n",
      "Epoch 100/100\n",
      "79/79 [==============================] - 30s 383ms/step - loss: 0.3352 - accuracy: 0.8618 - val_loss: 0.5017 - val_accuracy: 0.8125\n"
     ]
    },
    {
     "name": "stderr",
     "output_type": "stream",
     "text": [
      "/opt/conda/lib/python3.7/site-packages/keras/utils/generic_utils.py:497: CustomMaskWarning: Custom mask layers require a config and must override get_config. When loading, the custom mask layer must be passed to the custom_objects argument.\n",
      "  category=CustomMaskWarning)\n"
     ]
    }
   ],
   "source": [
    "checkpoint = ModelCheckpoint(\"/kaggle/working/efficient_net_B0_model.h5\", monitor='val_accuracy', verbose=1, save_best_only=True, save_weights_only=False)\n",
    "early = EarlyStopping(monitor='val_accuracy',patience=30, verbose=1, mode='auto') \n",
    "effb0_history =efficient_net.fit(traindata, validation_data= validData, validation_steps=cal_steps(validData.samples,32),epochs=100 ,steps_per_epoch=cal_steps(traindata.samples,32))\n",
    "\n",
    "efficient_net.save(\"/kaggle/working/efficient_net_B0_model.h5\")"
   ]
  },
  {
   "cell_type": "code",
   "execution_count": 36,
   "id": "37076482",
   "metadata": {
    "execution": {
     "iopub.execute_input": "2023-04-03T18:03:05.889294Z",
     "iopub.status.busy": "2023-04-03T18:03:05.888270Z",
     "iopub.status.idle": "2023-04-03T18:03:05.903396Z",
     "shell.execute_reply": "2023-04-03T18:03:05.902540Z"
    },
    "papermill": {
     "duration": 0.458736,
     "end_time": "2023-04-03T18:03:05.905610",
     "exception": false,
     "start_time": "2023-04-03T18:03:05.446874",
     "status": "completed"
    },
    "tags": []
   },
   "outputs": [],
   "source": [
    "def VGG16_model ():\n",
    "    model = Sequential()\n",
    "    model.add(InputLayer(input_shape = (224, 224, 3)))\n",
    "    model.add(Conv2D(filters=64,kernel_size=(3,3),padding=\"same\", activation=\"relu\"))\n",
    "    model.add(BatchNormalization()),\n",
    "    model.add(Conv2D(filters=64,kernel_size=(3,3),padding=\"same\", activation=\"relu\"))\n",
    "    model.add(BatchNormalization()),\n",
    "    model.add(MaxPool2D(pool_size=(2,2),strides=(2,2)))\n",
    "\n",
    "    model.add(Conv2D(filters=128, kernel_size=(3,3), padding=\"same\", activation=\"relu\"))\n",
    "    model.add(BatchNormalization()),\n",
    "    model.add(Conv2D(filters=128, kernel_size=(3,3), padding=\"same\", activation=\"relu\"))\n",
    "    model.add(BatchNormalization()),\n",
    "    model.add(MaxPool2D(pool_size=(2,2),strides=(2,2)))\n",
    "\n",
    "    model.add(Conv2D(filters=256, kernel_size=(3,3), padding=\"same\", activation=\"relu\"))\n",
    "    model.add(BatchNormalization()),\n",
    "    model.add(Conv2D(filters=256, kernel_size=(3,3), padding=\"same\", activation=\"relu\"))\n",
    "    model.add(BatchNormalization()),\n",
    "    model.add(MaxPool2D(pool_size=(2,2),strides=(2,2)))\n",
    "\n",
    "    model.add(Conv2D(filters=512, kernel_size=(3,3), padding=\"same\", activation=\"relu\"))\n",
    "    model.add(BatchNormalization()),\n",
    "    model.add(Conv2D(filters=512, kernel_size=(3,3), padding=\"same\", activation=\"relu\"))\n",
    "    model.add(BatchNormalization()),\n",
    "    model.add(MaxPool2D(pool_size=(2,2),strides=(2,2)))\n",
    "\n",
    "    model.add(Flatten())\n",
    "    model.add(Dropout(0.5))\n",
    "    model.add(Dense(units=256,activation=\"relu\"))\n",
    "    model.add(Dense(units=2, activation=\"softmax\"))\n",
    "    for layer_idx in range(len(model.layers)):\n",
    "        if layer_idx not in [1,2,3,9,10,11,15,16,17,18,21,22,23,24]:\n",
    "            model.layers[layer_idx].trainable = False\n",
    "\n",
    "\n",
    "    model.compile(optimizer=Adam(learning_rate=0.001),loss=tf.keras.losses.SparseCategoricalCrossentropy(),metrics=['accuracy'])\n",
    "    return model"
   ]
  },
  {
   "cell_type": "code",
   "execution_count": 37,
   "id": "3527c1f9",
   "metadata": {
    "execution": {
     "iopub.execute_input": "2023-04-03T18:03:06.843465Z",
     "iopub.status.busy": "2023-04-03T18:03:06.843096Z",
     "iopub.status.idle": "2023-04-03T19:02:01.825168Z",
     "shell.execute_reply": "2023-04-03T19:02:01.824142Z"
    },
    "papermill": {
     "duration": 3535.488012,
     "end_time": "2023-04-03T19:02:01.827734",
     "exception": false,
     "start_time": "2023-04-03T18:03:06.339722",
     "status": "completed"
    },
    "tags": []
   },
   "outputs": [
    {
     "name": "stdout",
     "output_type": "stream",
     "text": [
      "Model: \"sequential\"\n",
      "_________________________________________________________________\n",
      "Layer (type)                 Output Shape              Param #   \n",
      "=================================================================\n",
      "conv2d (Conv2D)              (None, 224, 224, 64)      1792      \n",
      "_________________________________________________________________\n",
      "batch_normalization (BatchNo (None, 224, 224, 64)      256       \n",
      "_________________________________________________________________\n",
      "conv2d_1 (Conv2D)            (None, 224, 224, 64)      36928     \n",
      "_________________________________________________________________\n",
      "batch_normalization_1 (Batch (None, 224, 224, 64)      256       \n",
      "_________________________________________________________________\n",
      "max_pooling2d (MaxPooling2D) (None, 112, 112, 64)      0         \n",
      "_________________________________________________________________\n",
      "conv2d_2 (Conv2D)            (None, 112, 112, 128)     73856     \n",
      "_________________________________________________________________\n",
      "batch_normalization_2 (Batch (None, 112, 112, 128)     512       \n",
      "_________________________________________________________________\n",
      "conv2d_3 (Conv2D)            (None, 112, 112, 128)     147584    \n",
      "_________________________________________________________________\n",
      "batch_normalization_3 (Batch (None, 112, 112, 128)     512       \n",
      "_________________________________________________________________\n",
      "max_pooling2d_1 (MaxPooling2 (None, 56, 56, 128)       0         \n",
      "_________________________________________________________________\n",
      "conv2d_4 (Conv2D)            (None, 56, 56, 256)       295168    \n",
      "_________________________________________________________________\n",
      "batch_normalization_4 (Batch (None, 56, 56, 256)       1024      \n",
      "_________________________________________________________________\n",
      "conv2d_5 (Conv2D)            (None, 56, 56, 256)       590080    \n",
      "_________________________________________________________________\n",
      "batch_normalization_5 (Batch (None, 56, 56, 256)       1024      \n",
      "_________________________________________________________________\n",
      "max_pooling2d_2 (MaxPooling2 (None, 28, 28, 256)       0         \n",
      "_________________________________________________________________\n",
      "conv2d_6 (Conv2D)            (None, 28, 28, 512)       1180160   \n",
      "_________________________________________________________________\n",
      "batch_normalization_6 (Batch (None, 28, 28, 512)       2048      \n",
      "_________________________________________________________________\n",
      "conv2d_7 (Conv2D)            (None, 28, 28, 512)       2359808   \n",
      "_________________________________________________________________\n",
      "batch_normalization_7 (Batch (None, 28, 28, 512)       2048      \n",
      "_________________________________________________________________\n",
      "max_pooling2d_3 (MaxPooling2 (None, 14, 14, 512)       0         \n",
      "_________________________________________________________________\n",
      "flatten_1 (Flatten)          (None, 100352)            0         \n",
      "_________________________________________________________________\n",
      "dropout_1 (Dropout)          (None, 100352)            0         \n",
      "_________________________________________________________________\n",
      "dense_3 (Dense)              (None, 256)               25690368  \n",
      "_________________________________________________________________\n",
      "dense_4 (Dense)              (None, 2)                 514       \n",
      "=================================================================\n",
      "Total params: 30,383,938\n",
      "Trainable params: 29,565,762\n",
      "Non-trainable params: 818,176\n",
      "_________________________________________________________________\n",
      "Epoch 1/100\n",
      "80/80 [==============================] - 41s 451ms/step - loss: 3.9285 - accuracy: 0.5505 - val_loss: 1.1364 - val_accuracy: 0.5000\n",
      "Epoch 2/100\n",
      "80/80 [==============================] - 35s 437ms/step - loss: 0.6710 - accuracy: 0.6250 - val_loss: 1.2990 - val_accuracy: 0.5000\n",
      "Epoch 3/100\n",
      "80/80 [==============================] - 35s 439ms/step - loss: 0.6435 - accuracy: 0.6427 - val_loss: 3.8902 - val_accuracy: 0.5000\n",
      "Epoch 4/100\n",
      "80/80 [==============================] - 36s 447ms/step - loss: 0.6247 - accuracy: 0.6341 - val_loss: 1.3899 - val_accuracy: 0.5200\n",
      "Epoch 5/100\n",
      "80/80 [==============================] - 36s 443ms/step - loss: 0.6271 - accuracy: 0.6349 - val_loss: 1.8163 - val_accuracy: 0.5200\n",
      "Epoch 6/100\n",
      "80/80 [==============================] - 36s 441ms/step - loss: 0.6410 - accuracy: 0.6475 - val_loss: 0.7635 - val_accuracy: 0.6400\n",
      "Epoch 7/100\n",
      "80/80 [==============================] - 35s 438ms/step - loss: 0.6122 - accuracy: 0.6668 - val_loss: 0.6938 - val_accuracy: 0.6400\n",
      "Epoch 8/100\n",
      "80/80 [==============================] - 35s 438ms/step - loss: 0.6073 - accuracy: 0.6774 - val_loss: 0.5829 - val_accuracy: 0.6900\n",
      "Epoch 9/100\n",
      "80/80 [==============================] - 35s 440ms/step - loss: 0.5962 - accuracy: 0.6759 - val_loss: 0.5594 - val_accuracy: 0.7400\n",
      "Epoch 10/100\n",
      "80/80 [==============================] - 35s 441ms/step - loss: 0.5854 - accuracy: 0.6857 - val_loss: 0.5653 - val_accuracy: 0.7100\n",
      "Epoch 11/100\n",
      "80/80 [==============================] - 35s 439ms/step - loss: 0.5752 - accuracy: 0.6940 - val_loss: 0.6301 - val_accuracy: 0.6600\n",
      "Epoch 12/100\n",
      "80/80 [==============================] - 36s 453ms/step - loss: 0.6021 - accuracy: 0.6987 - val_loss: 0.5697 - val_accuracy: 0.7400\n",
      "Epoch 13/100\n",
      "80/80 [==============================] - 36s 454ms/step - loss: 0.5742 - accuracy: 0.6743 - val_loss: 0.5436 - val_accuracy: 0.6900\n",
      "Epoch 14/100\n",
      "80/80 [==============================] - 36s 446ms/step - loss: 0.5636 - accuracy: 0.6920 - val_loss: 0.5155 - val_accuracy: 0.7400\n",
      "Epoch 15/100\n",
      "80/80 [==============================] - 35s 439ms/step - loss: 0.5691 - accuracy: 0.6999 - val_loss: 0.5662 - val_accuracy: 0.6400\n",
      "Epoch 16/100\n",
      "80/80 [==============================] - 35s 441ms/step - loss: 0.5725 - accuracy: 0.6905 - val_loss: 0.5482 - val_accuracy: 0.7000\n",
      "Epoch 17/100\n",
      "80/80 [==============================] - 35s 435ms/step - loss: 0.5749 - accuracy: 0.7003 - val_loss: 0.5267 - val_accuracy: 0.7600\n",
      "Epoch 18/100\n",
      "80/80 [==============================] - 35s 434ms/step - loss: 0.5576 - accuracy: 0.7133 - val_loss: 0.5385 - val_accuracy: 0.7300\n",
      "Epoch 19/100\n",
      "80/80 [==============================] - 35s 439ms/step - loss: 0.5707 - accuracy: 0.6940 - val_loss: 0.5285 - val_accuracy: 0.7100\n",
      "Epoch 20/100\n",
      "80/80 [==============================] - 36s 448ms/step - loss: 0.5754 - accuracy: 0.6964 - val_loss: 0.5740 - val_accuracy: 0.7300\n",
      "Epoch 21/100\n",
      "80/80 [==============================] - 35s 441ms/step - loss: 0.5559 - accuracy: 0.7031 - val_loss: 0.5595 - val_accuracy: 0.7200\n",
      "Epoch 22/100\n",
      "80/80 [==============================] - 35s 436ms/step - loss: 0.5516 - accuracy: 0.7043 - val_loss: 0.5330 - val_accuracy: 0.7000\n",
      "Epoch 23/100\n",
      "80/80 [==============================] - 35s 443ms/step - loss: 0.5483 - accuracy: 0.7106 - val_loss: 0.4997 - val_accuracy: 0.7700\n",
      "Epoch 24/100\n",
      "80/80 [==============================] - 35s 439ms/step - loss: 0.5500 - accuracy: 0.6999 - val_loss: 0.5169 - val_accuracy: 0.7400\n",
      "Epoch 25/100\n",
      "80/80 [==============================] - 35s 441ms/step - loss: 0.5317 - accuracy: 0.7248 - val_loss: 0.4980 - val_accuracy: 0.7500\n",
      "Epoch 26/100\n",
      "80/80 [==============================] - 35s 436ms/step - loss: 0.5347 - accuracy: 0.7275 - val_loss: 0.5350 - val_accuracy: 0.7500\n",
      "Epoch 27/100\n",
      "80/80 [==============================] - 36s 442ms/step - loss: 0.5510 - accuracy: 0.7279 - val_loss: 0.4775 - val_accuracy: 0.7300\n",
      "Epoch 28/100\n",
      "80/80 [==============================] - 36s 449ms/step - loss: 0.5238 - accuracy: 0.7390 - val_loss: 0.5140 - val_accuracy: 0.7200\n",
      "Epoch 29/100\n",
      "80/80 [==============================] - 36s 449ms/step - loss: 0.5184 - accuracy: 0.7397 - val_loss: 0.4695 - val_accuracy: 0.7500\n",
      "Epoch 30/100\n",
      "80/80 [==============================] - 35s 435ms/step - loss: 0.5216 - accuracy: 0.7457 - val_loss: 0.4781 - val_accuracy: 0.7500\n",
      "Epoch 31/100\n",
      "80/80 [==============================] - 34s 428ms/step - loss: 0.5238 - accuracy: 0.7401 - val_loss: 0.5244 - val_accuracy: 0.7300\n",
      "Epoch 32/100\n",
      "80/80 [==============================] - 34s 429ms/step - loss: 0.5065 - accuracy: 0.7445 - val_loss: 0.4762 - val_accuracy: 0.7400\n",
      "Epoch 33/100\n",
      "80/80 [==============================] - 35s 433ms/step - loss: 0.5124 - accuracy: 0.7425 - val_loss: 0.4430 - val_accuracy: 0.8100\n",
      "Epoch 34/100\n",
      "80/80 [==============================] - 36s 442ms/step - loss: 0.5151 - accuracy: 0.7409 - val_loss: 0.4505 - val_accuracy: 0.7900\n",
      "Epoch 35/100\n",
      "80/80 [==============================] - 36s 452ms/step - loss: 0.5035 - accuracy: 0.7539 - val_loss: 0.5144 - val_accuracy: 0.7500\n",
      "Epoch 36/100\n",
      "80/80 [==============================] - 35s 442ms/step - loss: 0.5202 - accuracy: 0.7405 - val_loss: 0.6938 - val_accuracy: 0.6700\n",
      "Epoch 37/100\n",
      "80/80 [==============================] - 35s 435ms/step - loss: 0.4980 - accuracy: 0.7488 - val_loss: 0.5599 - val_accuracy: 0.6900\n",
      "Epoch 38/100\n",
      "80/80 [==============================] - 35s 438ms/step - loss: 0.4975 - accuracy: 0.7516 - val_loss: 0.4634 - val_accuracy: 0.7500\n",
      "Epoch 39/100\n",
      "80/80 [==============================] - 35s 433ms/step - loss: 0.4768 - accuracy: 0.7583 - val_loss: 0.5300 - val_accuracy: 0.7200\n",
      "Epoch 40/100\n",
      "80/80 [==============================] - 35s 434ms/step - loss: 0.4823 - accuracy: 0.7705 - val_loss: 0.5352 - val_accuracy: 0.7500\n",
      "Epoch 41/100\n",
      "80/80 [==============================] - 35s 430ms/step - loss: 0.5003 - accuracy: 0.7626 - val_loss: 0.4727 - val_accuracy: 0.8000\n",
      "Epoch 42/100\n",
      "80/80 [==============================] - 35s 435ms/step - loss: 0.4931 - accuracy: 0.7449 - val_loss: 0.4611 - val_accuracy: 0.7700\n",
      "Epoch 43/100\n",
      "80/80 [==============================] - 35s 434ms/step - loss: 0.4875 - accuracy: 0.7630 - val_loss: 0.5114 - val_accuracy: 0.7100\n",
      "Epoch 44/100\n",
      "80/80 [==============================] - 35s 432ms/step - loss: 0.4776 - accuracy: 0.7756 - val_loss: 0.4305 - val_accuracy: 0.8200\n",
      "Epoch 45/100\n",
      "80/80 [==============================] - 35s 431ms/step - loss: 0.4908 - accuracy: 0.7737 - val_loss: 0.4337 - val_accuracy: 0.8100\n",
      "Epoch 46/100\n",
      "80/80 [==============================] - 35s 436ms/step - loss: 0.4874 - accuracy: 0.7685 - val_loss: 0.5022 - val_accuracy: 0.8000\n",
      "Epoch 47/100\n",
      "80/80 [==============================] - 36s 443ms/step - loss: 0.4845 - accuracy: 0.7646 - val_loss: 0.4807 - val_accuracy: 0.7500\n",
      "Epoch 48/100\n",
      "80/80 [==============================] - 35s 435ms/step - loss: 0.4773 - accuracy: 0.7752 - val_loss: 0.4464 - val_accuracy: 0.8200\n",
      "Epoch 49/100\n",
      "80/80 [==============================] - 34s 430ms/step - loss: 0.4637 - accuracy: 0.7713 - val_loss: 0.4147 - val_accuracy: 0.8100\n",
      "Epoch 50/100\n",
      "80/80 [==============================] - 35s 436ms/step - loss: 0.4917 - accuracy: 0.7496 - val_loss: 0.4785 - val_accuracy: 0.7400\n",
      "Epoch 51/100\n",
      "80/80 [==============================] - 35s 433ms/step - loss: 0.4515 - accuracy: 0.7827 - val_loss: 0.4436 - val_accuracy: 0.7900\n",
      "Epoch 52/100\n",
      "80/80 [==============================] - 35s 431ms/step - loss: 0.4706 - accuracy: 0.7839 - val_loss: 0.4862 - val_accuracy: 0.7600\n",
      "Epoch 53/100\n",
      "80/80 [==============================] - 35s 433ms/step - loss: 0.4611 - accuracy: 0.7744 - val_loss: 0.7064 - val_accuracy: 0.7200\n",
      "Epoch 54/100\n",
      "80/80 [==============================] - 35s 435ms/step - loss: 0.4600 - accuracy: 0.7666 - val_loss: 0.5966 - val_accuracy: 0.7100\n",
      "Epoch 55/100\n",
      "80/80 [==============================] - 35s 433ms/step - loss: 0.4489 - accuracy: 0.7898 - val_loss: 0.4468 - val_accuracy: 0.7900\n",
      "Epoch 56/100\n",
      "80/80 [==============================] - 35s 440ms/step - loss: 0.4680 - accuracy: 0.7823 - val_loss: 0.5775 - val_accuracy: 0.6700\n",
      "Epoch 57/100\n",
      "80/80 [==============================] - 35s 431ms/step - loss: 0.4706 - accuracy: 0.7827 - val_loss: 0.5205 - val_accuracy: 0.6900\n",
      "Epoch 58/100\n",
      "80/80 [==============================] - 35s 436ms/step - loss: 0.4623 - accuracy: 0.7815 - val_loss: 0.5613 - val_accuracy: 0.6400\n",
      "Epoch 59/100\n",
      "80/80 [==============================] - 35s 433ms/step - loss: 0.4510 - accuracy: 0.7973 - val_loss: 0.5678 - val_accuracy: 0.7700\n",
      "Epoch 60/100\n",
      "80/80 [==============================] - 35s 439ms/step - loss: 0.4550 - accuracy: 0.7800 - val_loss: 0.4884 - val_accuracy: 0.8200\n",
      "Epoch 61/100\n",
      "80/80 [==============================] - 35s 434ms/step - loss: 0.4353 - accuracy: 0.7867 - val_loss: 0.4178 - val_accuracy: 0.7700\n",
      "Epoch 62/100\n",
      "80/80 [==============================] - 35s 436ms/step - loss: 0.4453 - accuracy: 0.7894 - val_loss: 0.5088 - val_accuracy: 0.7200\n",
      "Epoch 63/100\n",
      "80/80 [==============================] - 35s 439ms/step - loss: 0.4420 - accuracy: 0.7859 - val_loss: 0.5058 - val_accuracy: 0.7200\n",
      "Epoch 64/100\n",
      "80/80 [==============================] - 35s 439ms/step - loss: 0.4320 - accuracy: 0.7867 - val_loss: 0.4952 - val_accuracy: 0.7200\n",
      "Epoch 65/100\n",
      "80/80 [==============================] - 35s 438ms/step - loss: 0.4338 - accuracy: 0.7902 - val_loss: 0.8654 - val_accuracy: 0.7600\n",
      "Epoch 66/100\n",
      "80/80 [==============================] - 35s 436ms/step - loss: 0.4426 - accuracy: 0.7977 - val_loss: 0.5581 - val_accuracy: 0.7300\n",
      "Epoch 67/100\n",
      "80/80 [==============================] - 35s 431ms/step - loss: 0.4499 - accuracy: 0.7792 - val_loss: 0.4479 - val_accuracy: 0.7600\n",
      "Epoch 68/100\n",
      "80/80 [==============================] - 34s 430ms/step - loss: 0.4511 - accuracy: 0.7843 - val_loss: 0.6108 - val_accuracy: 0.7200\n",
      "Epoch 69/100\n",
      "80/80 [==============================] - 35s 439ms/step - loss: 0.4363 - accuracy: 0.7898 - val_loss: 0.4732 - val_accuracy: 0.7500\n",
      "Epoch 70/100\n",
      "80/80 [==============================] - 34s 428ms/step - loss: 0.4172 - accuracy: 0.8032 - val_loss: 0.5223 - val_accuracy: 0.8000\n",
      "Epoch 71/100\n",
      "80/80 [==============================] - 34s 430ms/step - loss: 0.4020 - accuracy: 0.8170 - val_loss: 0.4685 - val_accuracy: 0.8000\n",
      "Epoch 72/100\n",
      "80/80 [==============================] - 34s 430ms/step - loss: 0.4142 - accuracy: 0.8048 - val_loss: 0.4503 - val_accuracy: 0.7900\n",
      "Epoch 73/100\n",
      "80/80 [==============================] - 34s 423ms/step - loss: 0.4213 - accuracy: 0.7950 - val_loss: 0.4629 - val_accuracy: 0.8000\n",
      "Epoch 74/100\n",
      "80/80 [==============================] - 34s 429ms/step - loss: 0.4037 - accuracy: 0.8151 - val_loss: 0.4277 - val_accuracy: 0.8100\n",
      "Epoch 75/100\n",
      "80/80 [==============================] - 35s 433ms/step - loss: 0.4037 - accuracy: 0.8084 - val_loss: 0.6353 - val_accuracy: 0.6500\n",
      "Epoch 76/100\n",
      "80/80 [==============================] - 34s 426ms/step - loss: 0.3977 - accuracy: 0.8159 - val_loss: 0.4891 - val_accuracy: 0.8000\n",
      "Epoch 77/100\n",
      "80/80 [==============================] - 34s 426ms/step - loss: 0.4232 - accuracy: 0.8060 - val_loss: 0.5452 - val_accuracy: 0.6600\n",
      "Epoch 78/100\n",
      "80/80 [==============================] - 35s 432ms/step - loss: 0.3970 - accuracy: 0.8162 - val_loss: 0.4382 - val_accuracy: 0.7500\n",
      "Epoch 79/100\n",
      "80/80 [==============================] - 35s 433ms/step - loss: 0.4006 - accuracy: 0.8103 - val_loss: 0.4500 - val_accuracy: 0.7800\n",
      "Epoch 80/100\n",
      "80/80 [==============================] - 36s 444ms/step - loss: 0.4001 - accuracy: 0.8048 - val_loss: 0.5812 - val_accuracy: 0.7400\n",
      "Epoch 81/100\n",
      "80/80 [==============================] - 35s 441ms/step - loss: 0.4064 - accuracy: 0.8052 - val_loss: 0.5423 - val_accuracy: 0.7700\n",
      "Epoch 82/100\n",
      "80/80 [==============================] - 35s 432ms/step - loss: 0.4008 - accuracy: 0.8147 - val_loss: 0.5098 - val_accuracy: 0.7700\n",
      "Epoch 83/100\n",
      "80/80 [==============================] - 35s 436ms/step - loss: 0.3922 - accuracy: 0.8249 - val_loss: 0.5006 - val_accuracy: 0.8000\n",
      "Epoch 84/100\n",
      "80/80 [==============================] - 35s 430ms/step - loss: 0.3762 - accuracy: 0.8253 - val_loss: 0.4713 - val_accuracy: 0.8100\n",
      "Epoch 85/100\n",
      "80/80 [==============================] - 35s 436ms/step - loss: 0.3882 - accuracy: 0.8285 - val_loss: 0.4676 - val_accuracy: 0.7900\n",
      "Epoch 86/100\n",
      "80/80 [==============================] - 35s 436ms/step - loss: 0.3773 - accuracy: 0.8277 - val_loss: 0.5127 - val_accuracy: 0.8300\n",
      "Epoch 87/100\n",
      "80/80 [==============================] - 35s 436ms/step - loss: 0.3977 - accuracy: 0.8178 - val_loss: 0.6512 - val_accuracy: 0.6800\n",
      "Epoch 88/100\n",
      "80/80 [==============================] - 35s 441ms/step - loss: 0.3821 - accuracy: 0.8293 - val_loss: 0.4041 - val_accuracy: 0.8500\n",
      "Epoch 89/100\n",
      "80/80 [==============================] - 36s 445ms/step - loss: 0.3694 - accuracy: 0.8245 - val_loss: 0.4511 - val_accuracy: 0.7800\n",
      "Epoch 90/100\n",
      "80/80 [==============================] - 36s 447ms/step - loss: 0.3709 - accuracy: 0.8214 - val_loss: 0.5675 - val_accuracy: 0.8200\n",
      "Epoch 91/100\n",
      "80/80 [==============================] - 36s 449ms/step - loss: 0.3695 - accuracy: 0.8364 - val_loss: 0.4885 - val_accuracy: 0.8000\n",
      "Epoch 92/100\n",
      "80/80 [==============================] - 35s 440ms/step - loss: 0.3648 - accuracy: 0.8466 - val_loss: 0.7944 - val_accuracy: 0.7200\n",
      "Epoch 93/100\n",
      "80/80 [==============================] - 35s 436ms/step - loss: 0.3619 - accuracy: 0.8383 - val_loss: 0.4973 - val_accuracy: 0.8200\n",
      "Epoch 94/100\n",
      "80/80 [==============================] - 35s 433ms/step - loss: 0.3736 - accuracy: 0.8170 - val_loss: 0.4524 - val_accuracy: 0.7500\n",
      "Epoch 95/100\n",
      "80/80 [==============================] - 35s 437ms/step - loss: 0.3622 - accuracy: 0.8482 - val_loss: 0.5319 - val_accuracy: 0.7600\n",
      "Epoch 96/100\n",
      "80/80 [==============================] - 35s 432ms/step - loss: 0.3625 - accuracy: 0.8360 - val_loss: 0.4074 - val_accuracy: 0.8300\n",
      "Epoch 97/100\n",
      "80/80 [==============================] - 35s 441ms/step - loss: 0.3685 - accuracy: 0.8289 - val_loss: 0.5409 - val_accuracy: 0.8100\n",
      "Epoch 98/100\n",
      "80/80 [==============================] - 35s 435ms/step - loss: 0.3453 - accuracy: 0.8450 - val_loss: 0.4876 - val_accuracy: 0.7700\n",
      "Epoch 99/100\n",
      "80/80 [==============================] - 35s 437ms/step - loss: 0.3593 - accuracy: 0.8395 - val_loss: 0.6285 - val_accuracy: 0.7200\n",
      "Epoch 100/100\n",
      "80/80 [==============================] - 35s 433ms/step - loss: 0.3809 - accuracy: 0.8300 - val_loss: 0.4975 - val_accuracy: 0.8300\n"
     ]
    }
   ],
   "source": [
    "vgg16_model = VGG16_model()\n",
    "vgg16_model.summary()\n",
    "vgg_history =vgg16_model.fit(traindata, validation_data= validData,epochs=100)\n",
    "vgg16_model.save(\"/kaggle/working/vgg16.h5\")"
   ]
  },
  {
   "cell_type": "code",
   "execution_count": 38,
   "id": "8de5d2ec",
   "metadata": {
    "execution": {
     "iopub.execute_input": "2023-04-03T19:02:03.626749Z",
     "iopub.status.busy": "2023-04-03T19:02:03.626344Z",
     "iopub.status.idle": "2023-04-03T19:02:39.300788Z",
     "shell.execute_reply": "2023-04-03T19:02:39.299840Z"
    },
    "papermill": {
     "duration": 36.543339,
     "end_time": "2023-04-03T19:02:39.302758",
     "exception": false,
     "start_time": "2023-04-03T19:02:02.759419",
     "status": "completed"
    },
    "tags": []
   },
   "outputs": [
    {
     "name": "stdout",
     "output_type": "stream",
     "text": [
      "80/80 [==============================] - 32s 399ms/step - loss: 0.3845 - accuracy: 0.8371\n",
      "4/4 [==============================] - 0s 59ms/step - loss: 0.4975 - accuracy: 0.8300\n",
      "10/10 [==============================] - 2s 245ms/step - loss: 0.4531 - accuracy: 0.8233\n"
     ]
    },
    {
     "data": {
      "text/plain": [
       "[0.45310238003730774, 0.8233333230018616]"
      ]
     },
     "execution_count": 38,
     "metadata": {},
     "output_type": "execute_result"
    }
   ],
   "source": [
    "vgg16_model.evaluate(traindata)\n",
    "vgg16_model.evaluate(validData)\n",
    "vgg16_model.evaluate(testdata)"
   ]
  },
  {
   "cell_type": "code",
   "execution_count": null,
   "id": "2af6b097",
   "metadata": {
    "papermill": {
     "duration": 0.923879,
     "end_time": "2023-04-03T19:02:41.088709",
     "exception": false,
     "start_time": "2023-04-03T19:02:40.164830",
     "status": "completed"
    },
    "tags": []
   },
   "outputs": [],
   "source": []
  },
  {
   "cell_type": "code",
   "execution_count": 39,
   "id": "398850e2",
   "metadata": {
    "execution": {
     "iopub.execute_input": "2023-04-03T19:02:42.859762Z",
     "iopub.status.busy": "2023-04-03T19:02:42.859373Z",
     "iopub.status.idle": "2023-04-03T19:02:42.865299Z",
     "shell.execute_reply": "2023-04-03T19:02:42.864378Z"
    },
    "papermill": {
     "duration": 0.930589,
     "end_time": "2023-04-03T19:02:42.867262",
     "exception": false,
     "start_time": "2023-04-03T19:02:41.936673",
     "status": "completed"
    },
    "tags": []
   },
   "outputs": [
    {
     "data": {
      "text/plain": [
       "'model = build_model()\\nmodel.summary()'"
      ]
     },
     "execution_count": 39,
     "metadata": {},
     "output_type": "execute_result"
    }
   ],
   "source": [
    "\"\"\"model = build_model()\n",
    "model.summary()\"\"\""
   ]
  },
  {
   "cell_type": "code",
   "execution_count": 40,
   "id": "48da29a6",
   "metadata": {
    "execution": {
     "iopub.execute_input": "2023-04-03T19:02:44.901868Z",
     "iopub.status.busy": "2023-04-03T19:02:44.901422Z",
     "iopub.status.idle": "2023-04-03T19:02:44.910739Z",
     "shell.execute_reply": "2023-04-03T19:02:44.909710Z"
    },
    "papermill": {
     "duration": 1.175411,
     "end_time": "2023-04-03T19:02:44.913769",
     "exception": false,
     "start_time": "2023-04-03T19:02:43.738358",
     "status": "completed"
    },
    "tags": []
   },
   "outputs": [
    {
     "data": {
      "text/plain": [
       "'tuner =  keras_tuner.RandomSearch(\\n                       use_efficient_net,\\n                       objective = \"val_accuracy\", #optimize val acc\\n                       max_trials=5, \\n                       executions_per_trial=2,\\n                       directory=\\'/kaggle/working/\\', #Saving dir\\n                       project_name=\\'efficientNet_hpTunning\\')\\ntuner.search_space_summary()'"
      ]
     },
     "execution_count": 40,
     "metadata": {},
     "output_type": "execute_result"
    }
   ],
   "source": [
    "\"\"\"tuner =  keras_tuner.RandomSearch(\n",
    "                       use_efficient_net,\n",
    "                       objective = \"val_accuracy\", #optimize val acc\n",
    "                       max_trials=5, \n",
    "                       executions_per_trial=2,\n",
    "                       directory='/kaggle/working/', #Saving dir\n",
    "                       project_name='efficientNet_hpTunning')\n",
    "tuner.search_space_summary()\"\"\""
   ]
  },
  {
   "cell_type": "code",
   "execution_count": 41,
   "id": "2dadaa1f",
   "metadata": {
    "execution": {
     "iopub.execute_input": "2023-04-03T19:02:46.905808Z",
     "iopub.status.busy": "2023-04-03T19:02:46.905310Z",
     "iopub.status.idle": "2023-04-03T19:02:46.913031Z",
     "shell.execute_reply": "2023-04-03T19:02:46.912059Z"
    },
    "papermill": {
     "duration": 0.935633,
     "end_time": "2023-04-03T19:02:46.916074",
     "exception": false,
     "start_time": "2023-04-03T19:02:45.980441",
     "status": "completed"
    },
    "tags": []
   },
   "outputs": [
    {
     "data": {
      "text/plain": [
       "'checkpoint = ModelCheckpoint(\"/kaggle/working/mobilenet_v1_model.h5\", monitor=\\'val_accuracy\\', verbose=1, save_best_only=True, save_weights_only=False)\\nearly = EarlyStopping(monitor=\\'val_accuracy\\',patience=15, verbose=1, mode=\\'auto\\') \\ntuner.search(traindata, validation_data = validData, epochs = 100,callbacks=[early,checkpoint])'"
      ]
     },
     "execution_count": 41,
     "metadata": {},
     "output_type": "execute_result"
    }
   ],
   "source": [
    "\"\"\"checkpoint = ModelCheckpoint(\"/kaggle/working/mobilenet_v1_model.h5\", monitor='val_accuracy', verbose=1, save_best_only=True, save_weights_only=False)\n",
    "early = EarlyStopping(monitor='val_accuracy',patience=15, verbose=1, mode='auto') \n",
    "tuner.search(traindata, validation_data = validData, epochs = 100,callbacks=[early,checkpoint])\"\"\""
   ]
  },
  {
   "cell_type": "markdown",
   "id": "a0880b94",
   "metadata": {
    "papermill": {
     "duration": 0.972473,
     "end_time": "2023-04-03T19:02:48.742545",
     "exception": false,
     "start_time": "2023-04-03T19:02:47.770072",
     "status": "completed"
    },
    "tags": []
   },
   "source": [
    "# Fit and Compile Model"
   ]
  },
  {
   "cell_type": "code",
   "execution_count": 42,
   "id": "70c8060e",
   "metadata": {
    "execution": {
     "iopub.execute_input": "2023-04-03T19:02:50.723414Z",
     "iopub.status.busy": "2023-04-03T19:02:50.723044Z",
     "iopub.status.idle": "2023-04-03T19:02:50.729597Z",
     "shell.execute_reply": "2023-04-03T19:02:50.728702Z"
    },
    "papermill": {
     "duration": 0.966835,
     "end_time": "2023-04-03T19:02:50.731501",
     "exception": false,
     "start_time": "2023-04-03T19:02:49.764666",
     "status": "completed"
    },
    "tags": []
   },
   "outputs": [
    {
     "data": {
      "text/plain": [
       "'#model.compile(optimizer=Adam(learning_rate=0.001),loss=tf.keras.losses.BinaryCrossentropy(),metrics=[\\'acc\\'])\\n#hist = model.fit(x_train,y_train, validation_data= (x_valid,y_valid), validation_steps=cal_steps(len(x_valid), 64),epochs=50 ,steps_per_epoch=cal_steps(len(x_train), 64),shuffle = True , batch_size = 64 , callbacks=[early , checkpoint])\\ncheckpoint = ModelCheckpoint(\"/kaggle/working/mobilenet_v1_model.h5\", monitor=\\'val_acc\\', verbose=1, save_best_only=True, save_weights_only=False)\\nearly = EarlyStopping(monitor=\\'val_acc\\',patience=15, verbose=1, mode=\\'auto\\')\\nmobile_hist=tuner.search(traindata, validation_data= validData, validation_steps=cal_steps(validData.samples,32),epochs=50 ,steps_per_epoch=cal_steps(traindata.samples,32),callbacks=[early,checkpoint])\\n#hist = model.fit(x_train,y_train, validation_data= (x_valid,y_valid), validation_steps=cal_steps(len(x_valid), 128),epochs=100 ,steps_per_epoch=cal_steps(len(x_train), 128), callbacks=[early , checkpoint])\\n#tuner.search(x_train,y_train, validation_data= (x_valid,y_valid), validation_steps=cal_steps(len(x_valid), 32),epochs=100 ,steps_per_epoch=cal_steps(len(x_train), 32) , batch_size=32, callbacks=[early , checkpoint] , shuffle= True)'"
      ]
     },
     "execution_count": 42,
     "metadata": {},
     "output_type": "execute_result"
    }
   ],
   "source": [
    "\"\"\"#model.compile(optimizer=Adam(learning_rate=0.001),loss=tf.keras.losses.BinaryCrossentropy(),metrics=['acc'])\n",
    "#hist = model.fit(x_train,y_train, validation_data= (x_valid,y_valid), validation_steps=cal_steps(len(x_valid), 64),epochs=50 ,steps_per_epoch=cal_steps(len(x_train), 64),shuffle = True , batch_size = 64 , callbacks=[early , checkpoint])\n",
    "checkpoint = ModelCheckpoint(\"/kaggle/working/mobilenet_v1_model.h5\", monitor='val_acc', verbose=1, save_best_only=True, save_weights_only=False)\n",
    "early = EarlyStopping(monitor='val_acc',patience=15, verbose=1, mode='auto')\n",
    "mobile_hist=tuner.search(traindata, validation_data= validData, validation_steps=cal_steps(validData.samples,32),epochs=50 ,steps_per_epoch=cal_steps(traindata.samples,32),callbacks=[early,checkpoint])\n",
    "#hist = model.fit(x_train,y_train, validation_data= (x_valid,y_valid), validation_steps=cal_steps(len(x_valid), 128),epochs=100 ,steps_per_epoch=cal_steps(len(x_train), 128), callbacks=[early , checkpoint])\n",
    "#tuner.search(x_train,y_train, validation_data= (x_valid,y_valid), validation_steps=cal_steps(len(x_valid), 32),epochs=100 ,steps_per_epoch=cal_steps(len(x_train), 32) , batch_size=32, callbacks=[early , checkpoint] , shuffle= True)\"\"\""
   ]
  },
  {
   "cell_type": "code",
   "execution_count": 43,
   "id": "603f4bd3",
   "metadata": {
    "execution": {
     "iopub.execute_input": "2023-04-03T19:02:52.575202Z",
     "iopub.status.busy": "2023-04-03T19:02:52.574832Z",
     "iopub.status.idle": "2023-04-03T19:02:52.579983Z",
     "shell.execute_reply": "2023-04-03T19:02:52.579138Z"
    },
    "papermill": {
     "duration": 0.939382,
     "end_time": "2023-04-03T19:02:52.582077",
     "exception": false,
     "start_time": "2023-04-03T19:02:51.642695",
     "status": "completed"
    },
    "tags": []
   },
   "outputs": [],
   "source": [
    "#tuner.results_summary()"
   ]
  },
  {
   "cell_type": "code",
   "execution_count": 44,
   "id": "293e6fa6",
   "metadata": {
    "execution": {
     "iopub.execute_input": "2023-04-03T19:02:54.363361Z",
     "iopub.status.busy": "2023-04-03T19:02:54.362995Z",
     "iopub.status.idle": "2023-04-03T19:02:54.368712Z",
     "shell.execute_reply": "2023-04-03T19:02:54.367810Z"
    },
    "papermill": {
     "duration": 0.929909,
     "end_time": "2023-04-03T19:02:54.370657",
     "exception": false,
     "start_time": "2023-04-03T19:02:53.440748",
     "status": "completed"
    },
    "tags": []
   },
   "outputs": [
    {
     "data": {
      "text/plain": [
       "'best_hp = tuner.get_best_hyperparameters(1)[0]\\nprint(best_hp.values)'"
      ]
     },
     "execution_count": 44,
     "metadata": {},
     "output_type": "execute_result"
    }
   ],
   "source": [
    "\"\"\"best_hp = tuner.get_best_hyperparameters(1)[0]\n",
    "print(best_hp.values)\"\"\""
   ]
  },
  {
   "cell_type": "markdown",
   "id": "1b3049e9",
   "metadata": {
    "papermill": {
     "duration": 0.917779,
     "end_time": "2023-04-03T19:02:56.144587",
     "exception": false,
     "start_time": "2023-04-03T19:02:55.226808",
     "status": "completed"
    },
    "tags": []
   },
   "source": [
    "# Plotting History of Model"
   ]
  },
  {
   "cell_type": "code",
   "execution_count": 45,
   "id": "50d34d0b",
   "metadata": {
    "execution": {
     "iopub.execute_input": "2023-04-03T19:02:57.923953Z",
     "iopub.status.busy": "2023-04-03T19:02:57.923585Z",
     "iopub.status.idle": "2023-04-03T19:02:58.132322Z",
     "shell.execute_reply": "2023-04-03T19:02:58.131416Z"
    },
    "papermill": {
     "duration": 1.137341,
     "end_time": "2023-04-03T19:02:58.134410",
     "exception": false,
     "start_time": "2023-04-03T19:02:56.997069",
     "status": "completed"
    },
    "tags": []
   },
   "outputs": [
    {
     "data": {
      "image/png": "[encoded data removed]",
      "text/plain": [
       "<Figure size 432x288 with 1 Axes>"
      ]
     },
     "metadata": {
      "needs_background": "light"
     },
     "output_type": "display_data"
    }
   ],
   "source": [
    "import matplotlib.pyplot as plt\n",
    "plt.plot(effb0_history.history[\"accuracy\"])\n",
    "plt.plot(effb0_history.history['val_accuracy'])\n",
    "plt.title(\"model accuracy\")\n",
    "plt.ylabel(\"Accuracy\")\n",
    "plt.xlabel(\"Epoch\")\n",
    "plt.legend([\"Accuracy\",\"Validation Accuracy\"])\n",
    "plt.show()"
   ]
  },
  {
   "cell_type": "code",
   "execution_count": 46,
   "id": "89f4301f",
   "metadata": {
    "execution": {
     "iopub.execute_input": "2023-04-03T19:03:00.057108Z",
     "iopub.status.busy": "2023-04-03T19:03:00.056688Z",
     "iopub.status.idle": "2023-04-03T19:03:00.296142Z",
     "shell.execute_reply": "2023-04-03T19:03:00.295150Z"
    },
    "papermill": {
     "duration": 1.282782,
     "end_time": "2023-04-03T19:03:00.299573",
     "exception": false,
     "start_time": "2023-04-03T19:02:59.016791",
     "status": "completed"
    },
    "tags": []
   },
   "outputs": [
    {
     "data": {
      "image/png": "[encoded data removed]",
      "text/plain": [
       "<Figure size 432x288 with 1 Axes>"
      ]
     },
     "metadata": {
      "needs_background": "light"
     },
     "output_type": "display_data"
    }
   ],
   "source": [
    "plt.plot(effb0_history.history['loss'])\n",
    "plt.plot(effb0_history.history['val_loss'])\n",
    "plt.ylabel(\"Accuracy\")\n",
    "plt.xlabel(\"Epoch\")\n",
    "plt.legend([\"loss\",\"val_loss\"])\n",
    "plt.show()"
   ]
  },
  {
   "cell_type": "code",
   "execution_count": 47,
   "id": "6563908d",
   "metadata": {
    "execution": {
     "iopub.execute_input": "2023-04-03T19:03:02.095039Z",
     "iopub.status.busy": "2023-04-03T19:03:02.094038Z",
     "iopub.status.idle": "2023-04-03T19:03:33.332161Z",
     "shell.execute_reply": "2023-04-03T19:03:33.331213Z"
    },
    "papermill": {
     "duration": 32.54825,
     "end_time": "2023-04-03T19:03:33.711898",
     "exception": false,
     "start_time": "2023-04-03T19:03:01.163648",
     "status": "completed"
    },
    "tags": []
   },
   "outputs": [
    {
     "name": "stdout",
     "output_type": "stream",
     "text": [
      "80/80 [==============================] - 31s 385ms/step - loss: 0.3059 - accuracy: 0.8738\n"
     ]
    },
    {
     "data": {
      "text/plain": [
       "[0.30587825179100037, 0.8738170266151428]"
      ]
     },
     "execution_count": 47,
     "metadata": {},
     "output_type": "execute_result"
    }
   ],
   "source": [
    "efficient_net.evaluate(traindata) "
   ]
  },
  {
   "cell_type": "code",
   "execution_count": 48,
   "id": "cd46755c",
   "metadata": {
    "execution": {
     "iopub.execute_input": "2023-04-03T19:03:35.548478Z",
     "iopub.status.busy": "2023-04-03T19:03:35.548128Z",
     "iopub.status.idle": "2023-04-03T19:03:36.110182Z",
     "shell.execute_reply": "2023-04-03T19:03:36.109525Z"
    },
    "papermill": {
     "duration": 1.436552,
     "end_time": "2023-04-03T19:03:36.112079",
     "exception": false,
     "start_time": "2023-04-03T19:03:34.675527",
     "status": "completed"
    },
    "tags": []
   },
   "outputs": [
    {
     "name": "stdout",
     "output_type": "stream",
     "text": [
      "4/4 [==============================] - 0s 105ms/step - loss: 0.5074 - accuracy: 0.8100\n"
     ]
    },
    {
     "data": {
      "text/plain": [
       "[0.5074304342269897, 0.8100000023841858]"
      ]
     },
     "execution_count": 48,
     "metadata": {},
     "output_type": "execute_result"
    }
   ],
   "source": [
    "efficient_net.evaluate(validData)"
   ]
  },
  {
   "cell_type": "code",
   "execution_count": 49,
   "id": "5a7b9629",
   "metadata": {
    "execution": {
     "iopub.execute_input": "2023-04-03T19:03:37.922732Z",
     "iopub.status.busy": "2023-04-03T19:03:37.921663Z",
     "iopub.status.idle": "2023-04-03T19:03:38.985468Z",
     "shell.execute_reply": "2023-04-03T19:03:38.984397Z"
    },
    "papermill": {
     "duration": 1.936809,
     "end_time": "2023-04-03T19:03:38.987704",
     "exception": false,
     "start_time": "2023-04-03T19:03:37.050895",
     "status": "completed"
    },
    "tags": []
   },
   "outputs": [
    {
     "name": "stdout",
     "output_type": "stream",
     "text": [
      "10/10 [==============================] - 1s 89ms/step - loss: 0.4469 - accuracy: 0.8400\n"
     ]
    },
    {
     "data": {
      "text/plain": [
       "[0.4469006359577179, 0.8399999737739563]"
      ]
     },
     "execution_count": 49,
     "metadata": {},
     "output_type": "execute_result"
    }
   ],
   "source": [
    "efficient_net.evaluate(testdata)"
   ]
  },
  {
   "cell_type": "code",
   "execution_count": 50,
   "id": "78da1693",
   "metadata": {
    "execution": {
     "iopub.execute_input": "2023-04-03T19:03:40.797885Z",
     "iopub.status.busy": "2023-04-03T19:03:40.797533Z",
     "iopub.status.idle": "2023-04-03T19:03:41.491380Z",
     "shell.execute_reply": "2023-04-03T19:03:41.490028Z"
    },
    "papermill": {
     "duration": 1.570145,
     "end_time": "2023-04-03T19:03:41.495726",
     "exception": false,
     "start_time": "2023-04-03T19:03:39.925581",
     "status": "completed"
    },
    "tags": []
   },
   "outputs": [],
   "source": [
    "efficient_net.save(\"/kaggle/working/efficient_net_B0_model.h5\")"
   ]
  },
  {
   "cell_type": "code",
   "execution_count": 51,
   "id": "b8ea3330",
   "metadata": {
    "execution": {
     "iopub.execute_input": "2023-04-03T19:03:43.448720Z",
     "iopub.status.busy": "2023-04-03T19:03:43.448137Z",
     "iopub.status.idle": "2023-04-03T19:03:45.246427Z",
     "shell.execute_reply": "2023-04-03T19:03:45.245381Z"
    },
    "papermill": {
     "duration": 2.802451,
     "end_time": "2023-04-03T19:03:45.248473",
     "exception": false,
     "start_time": "2023-04-03T19:03:42.446022",
     "status": "completed"
    },
    "tags": []
   },
   "outputs": [
    {
     "name": "stdout",
     "output_type": "stream",
     "text": [
      "Confusion Matrix\n",
      "[[29 21]\n",
      " [28 22]]\n",
      "Classification Report\n",
      "              precision    recall  f1-score   support\n",
      "\n",
      "non_autistic       0.51      0.58      0.54        50\n",
      "    autistic       0.51      0.44      0.47        50\n",
      "\n",
      "    accuracy                           0.51       100\n",
      "   macro avg       0.51      0.51      0.51       100\n",
      "weighted avg       0.51      0.51      0.51       100\n",
      "\n"
     ]
    },
    {
     "data": {
      "image/png": "[encoded data removed]",
      "text/plain": [
       "<Figure size 432x288 with 2 Axes>"
      ]
     },
     "metadata": {
      "needs_background": "light"
     },
     "output_type": "display_data"
    }
   ],
   "source": [
    "# demonstration of calculating metrics for a neural network model using sklearn\n",
    "from sklearn.datasets import make_circles\n",
    "from sklearn.metrics import accuracy_score\n",
    "from sklearn.metrics import precision_score\n",
    "from sklearn.metrics import recall_score\n",
    "from sklearn.metrics import f1_score\n",
    "from sklearn.metrics import cohen_kappa_score\n",
    "from sklearn.metrics import roc_auc_score\n",
    "from sklearn.metrics import confusion_matrix , classification_report\n",
    "\n",
    "#Confution Matrix and Classification Report\n",
    "Y_pred = efficient_net.predict(validData,cal_steps(validData.samples,32))\n",
    "y_pred = Y_pred.round()\n",
    "print('Confusion Matrix')\n",
    "cm = confusion_matrix(validData.classes, y_pred)\n",
    "print(cm)\n",
    "print('Classification Report')\n",
    "target_names = ['non_autistic','autistic']\n",
    "print(classification_report(validData.classes, y_pred, target_names=target_names))\n",
    "from sklearn.metrics import ConfusionMatrixDisplay\n",
    "disp = ConfusionMatrixDisplay(confusion_matrix=cm, display_labels=target_names)\n",
    "disp.plot(cmap=plt.cm.Blues)\n",
    "plt.show()"
   ]
  },
  {
   "cell_type": "code",
   "execution_count": 52,
   "id": "c5a41c0f",
   "metadata": {
    "execution": {
     "iopub.execute_input": "2023-04-03T19:03:46.970790Z",
     "iopub.status.busy": "2023-04-03T19:03:46.969643Z",
     "iopub.status.idle": "2023-04-03T19:03:46.982129Z",
     "shell.execute_reply": "2023-04-03T19:03:46.981212Z"
    },
    "papermill": {
     "duration": 0.877567,
     "end_time": "2023-04-03T19:03:46.985314",
     "exception": false,
     "start_time": "2023-04-03T19:03:46.107747",
     "status": "completed"
    },
    "tags": []
   },
   "outputs": [
    {
     "data": {
      "text/plain": [
       "'from tensorflow.keras.metrics import Accuracy\\ntf.keras.metrics.Accuracy(testdata.classes , y_pred)'"
      ]
     },
     "execution_count": 52,
     "metadata": {},
     "output_type": "execute_result"
    }
   ],
   "source": [
    "\"\"\"from tensorflow.keras.metrics import Accuracy\n",
    "tf.keras.metrics.Accuracy(testdata.classes , y_pred)\"\"\""
   ]
  },
  {
   "cell_type": "code",
   "execution_count": 53,
   "id": "3177b246",
   "metadata": {
    "execution": {
     "iopub.execute_input": "2023-04-03T19:03:49.269768Z",
     "iopub.status.busy": "2023-04-03T19:03:49.269370Z",
     "iopub.status.idle": "2023-04-03T19:03:49.275552Z",
     "shell.execute_reply": "2023-04-03T19:03:49.274659Z"
    },
    "papermill": {
     "duration": 0.933959,
     "end_time": "2023-04-03T19:03:49.277518",
     "exception": false,
     "start_time": "2023-04-03T19:03:48.343559",
     "status": "completed"
    },
    "tags": []
   },
   "outputs": [
    {
     "data": {
      "text/plain": [
       "\"datagen = ImageDataGenerator(rescale=1./255 ,  \\n                     rotation_range=40,\\n        width_shift_range=.2,\\n        height_shift_range=.2,\\n        shear_range=.1,\\n        horizontal_flip=True,\\n        fill_mode='nearest',\\n        zoom_range=.2)\\n\\ndir_It = datagen.flow_from_directory('/kaggle/input/datanew',target_size=(photo_size,photo_size),class_mode=None, classes=None )\\n\\nimg= dir_It.next()\\nprint(img.shape)\\nprint(img)\""
      ]
     },
     "execution_count": 53,
     "metadata": {},
     "output_type": "execute_result"
    }
   ],
   "source": [
    "\"\"\"datagen = ImageDataGenerator(rescale=1./255 ,  \n",
    "                     rotation_range=40,\n",
    "        width_shift_range=.2,\n",
    "        height_shift_range=.2,\n",
    "        shear_range=.1,\n",
    "        horizontal_flip=True,\n",
    "        fill_mode='nearest',\n",
    "        zoom_range=.2)\n",
    "\n",
    "dir_It = datagen.flow_from_directory('/kaggle/input/datanew',target_size=(photo_size,photo_size),class_mode=None, classes=None )\n",
    "\n",
    "img= dir_It.next()\n",
    "print(img.shape)\n",
    "print(img)\"\"\""
   ]
  },
  {
   "cell_type": "code",
   "execution_count": 54,
   "id": "cf9452cf",
   "metadata": {
    "execution": {
     "iopub.execute_input": "2023-04-03T19:03:51.142630Z",
     "iopub.status.busy": "2023-04-03T19:03:51.142243Z",
     "iopub.status.idle": "2023-04-03T19:03:51.148346Z",
     "shell.execute_reply": "2023-04-03T19:03:51.147468Z"
    },
    "papermill": {
     "duration": 1.010511,
     "end_time": "2023-04-03T19:03:51.150329",
     "exception": false,
     "start_time": "2023-04-03T19:03:50.139818",
     "status": "completed"
    },
    "tags": []
   },
   "outputs": [
    {
     "data": {
      "text/plain": [
       "\"oData = '/kaggle/input/datanew/'\\nnData = '/kaggle/input/img-data/'\\nN = preprocessing_func(oData)\\nA = preprocessing_func(nData)\\ncreateDirectory(r'/kaggle/working/Data/omar/autistic',nData,A)\\ncreateDirectory(r'/kaggle/working/Data/omar/non_autistic',oData,N)\""
      ]
     },
     "execution_count": 54,
     "metadata": {},
     "output_type": "execute_result"
    }
   ],
   "source": [
    "\"\"\"oData = '/kaggle/input/datanew/'\n",
    "nData = '/kaggle/input/img-data/'\n",
    "N = preprocessing_func(oData)\n",
    "A = preprocessing_func(nData)\n",
    "createDirectory(r'/kaggle/working/Data/omar/autistic',nData,A)\n",
    "createDirectory(r'/kaggle/working/Data/omar/non_autistic',oData,N)\"\"\""
   ]
  },
  {
   "cell_type": "code",
   "execution_count": 55,
   "id": "a8f2bab7",
   "metadata": {
    "execution": {
     "iopub.execute_input": "2023-04-03T19:03:52.961886Z",
     "iopub.status.busy": "2023-04-03T19:03:52.961530Z",
     "iopub.status.idle": "2023-04-03T19:03:52.967765Z",
     "shell.execute_reply": "2023-04-03T19:03:52.966831Z"
    },
    "papermill": {
     "duration": 0.955303,
     "end_time": "2023-04-03T19:03:52.969899",
     "exception": false,
     "start_time": "2023-04-03T19:03:52.014596",
     "status": "completed"
    },
    "tags": []
   },
   "outputs": [
    {
     "data": {
      "text/plain": [
       "\"l=cv2.imread('/kaggle/working/Data/omar/autistic/WhatsApp Image 2023-03-14 at 1.09.55 PM.jpeg')\\nplt.imshow(l)\""
      ]
     },
     "execution_count": 55,
     "metadata": {},
     "output_type": "execute_result"
    }
   ],
   "source": [
    "\"\"\"l=cv2.imread('/kaggle/working/Data/omar/autistic/WhatsApp Image 2023-03-14 at 1.09.55 PM.jpeg')\n",
    "plt.imshow(l)\"\"\""
   ]
  },
  {
   "cell_type": "code",
   "execution_count": 56,
   "id": "e09476c2",
   "metadata": {
    "execution": {
     "iopub.execute_input": "2023-04-03T19:03:54.845378Z",
     "iopub.status.busy": "2023-04-03T19:03:54.844864Z",
     "iopub.status.idle": "2023-04-03T19:03:54.852978Z",
     "shell.execute_reply": "2023-04-03T19:03:54.851772Z"
    },
    "papermill": {
     "duration": 0.977938,
     "end_time": "2023-04-03T19:03:54.855293",
     "exception": false,
     "start_time": "2023-04-03T19:03:53.877355",
     "status": "completed"
    },
    "tags": []
   },
   "outputs": [
    {
     "data": {
      "text/plain": [
       "\"dirr= ImageDataGenerator(\\n        rescale=1./255,\\n    )\\ntr= dirr.flow_from_directory('/kaggle/working/Data/omar',target_size=(photo_size,photo_size))\""
      ]
     },
     "execution_count": 56,
     "metadata": {},
     "output_type": "execute_result"
    }
   ],
   "source": [
    "\"\"\"dirr= ImageDataGenerator(\n",
    "        rescale=1./255,\n",
    "    )\n",
    "tr= dirr.flow_from_directory('/kaggle/working/Data/omar',target_size=(photo_size,photo_size))\"\"\""
   ]
  },
  {
   "cell_type": "code",
   "execution_count": 57,
   "id": "cd4d31d6",
   "metadata": {
    "execution": {
     "iopub.execute_input": "2023-04-03T19:03:56.822300Z",
     "iopub.status.busy": "2023-04-03T19:03:56.821850Z",
     "iopub.status.idle": "2023-04-03T19:03:56.827974Z",
     "shell.execute_reply": "2023-04-03T19:03:56.827081Z"
    },
    "papermill": {
     "duration": 0.906941,
     "end_time": "2023-04-03T19:03:56.829958",
     "exception": false,
     "start_time": "2023-04-03T19:03:55.923017",
     "status": "completed"
    },
    "tags": []
   },
   "outputs": [
    {
     "data": {
      "text/plain": [
       "'img , label= tr.next()\\nprint(img[0].shape)\\n#print(img[0])\\nprint(type(img[0][0][0][0]))\\nplt.imshow(img[0])'"
      ]
     },
     "execution_count": 57,
     "metadata": {},
     "output_type": "execute_result"
    }
   ],
   "source": [
    "\"\"\"img , label= tr.next()\n",
    "print(img[0].shape)\n",
    "#print(img[0])\n",
    "print(type(img[0][0][0][0]))\n",
    "plt.imshow(img[0])\"\"\""
   ]
  },
  {
   "cell_type": "code",
   "execution_count": null,
   "id": "21383f54",
   "metadata": {
    "papermill": {
     "duration": 0.929282,
     "end_time": "2023-04-03T19:03:58.614448",
     "exception": false,
     "start_time": "2023-04-03T19:03:57.685166",
     "status": "completed"
    },
    "tags": []
   },
   "outputs": [],
   "source": []
  },
  {
   "cell_type": "code",
   "execution_count": 58,
   "id": "82458fa3",
   "metadata": {
    "execution": {
     "iopub.execute_input": "2023-04-03T19:04:00.440395Z",
     "iopub.status.busy": "2023-04-03T19:04:00.440046Z",
     "iopub.status.idle": "2023-04-03T19:04:01.633598Z",
     "shell.execute_reply": "2023-04-03T19:04:01.632173Z"
    },
    "papermill": {
     "duration": 2.058722,
     "end_time": "2023-04-03T19:04:01.636333",
     "exception": false,
     "start_time": "2023-04-03T19:03:59.577611",
     "status": "completed"
    },
    "tags": []
   },
   "outputs": [
    {
     "name": "stdout",
     "output_type": "stream",
     "text": [
      "[[1.]]\n"
     ]
    }
   ],
   "source": [
    "img_path =\"/kaggle/input/image-elshabab/WhatsApp Image 2023-03-26 at 11.54.57 AM.jpeg\"\n",
    "image = cv2.imread(img_path)\n",
    "image = cv2.cvtColor(image, cv2.COLOR_BGR2RGB)\n",
    "#detected_img =face_detection(image)\n",
    "resized_img = ReSize(image,224)\n",
    "#img = three_noise_reduction(resized_img)\n",
    "normalized_img = normalize(resized_img)\n",
    "#plt.imshow(normalized_img)\n",
    "normalized_img = np.array(normalized_img)\n",
    "#print(normalized_img.shape)\n",
    "#print(type(normalized_img[0][0][0]))\n",
    "normalized_img = normalized_img.reshape(1,224,224,3)\n",
    "prediction = efficient_net.predict(normalized_img).round()\n",
    "print(prediction)"
   ]
  }
 ],
 "metadata": {
  "kernelspec": {
   "display_name": "Python 3",
   "language": "python",
   "name": "python3"
  },
  "language_info": {
   "codemirror_mode": {
    "name": "ipython",
    "version": 3
   },
   "file_extension": ".py",
   "mimetype": "text/x-python",
   "name": "python",
   "nbconvert_exporter": "python",
   "pygments_lexer": "ipython3",
   "version": "3.7.12"
  },
  "papermill": {
   "default_parameters": {},
   "duration": 7538.785266,
   "end_time": "2023-04-03T19:04:05.832153",
   "environment_variables": {},
   "exception": null,
   "input_path": "__notebook__.ipynb",
   "output_path": "__notebook__.ipynb",
   "parameters": {},
   "start_time": "2023-04-03T16:58:27.046887",
   "version": "2.3.4"
  }
 },
 "nbformat": 4,
 "nbformat_minor": 5
}
