{
 "cells": [
  {
   "cell_type": "markdown",
   "id": "af6f5072",
   "metadata": {
    "_cell_guid": "b1076dfc-b9ad-4769-8c92-a6c4dae69d19",
    "_uuid": "8f2839f25d086af736a60e9eeb907d3b93b6e0e5",
    "execution": {
     "iopub.execute_input": "2022-12-29T21:28:25.582495Z",
     "iopub.status.busy": "2022-12-29T21:28:25.582065Z",
     "iopub.status.idle": "2022-12-29T21:28:28.685002Z",
     "shell.execute_reply": "2022-12-29T21:28:28.684010Z",
     "shell.execute_reply.started": "2022-12-29T21:28:25.582410Z"
    },
    "papermill": {
     "duration": 0.007789,
     "end_time": "2023-02-16T01:23:00.574575",
     "exception": false,
     "start_time": "2023-02-16T01:23:00.566786",
     "status": "completed"
    },
    "tags": []
   },
   "source": [
    "###### This Python 3 environment comes with many helpful analytics libraries installed\n",
    "# It is defined by the kaggle/python Docker image: https://github.com/kaggle/docker-python\n",
    "# For example, here's several helpful packages to load\n",
    "\n",
    "import numpy as np # linear algebra\n",
    "import pandas as pd # data processing, CSV file I/O (e.g. pd.read_csv)\n",
    "\n",
    "# Input data files are available in the read-only \"../input/\" directory\n",
    "# For example, running this (by clicking run or pressing Shift+Enter) will list all files under the input directory\n",
    "\n",
    "import os\n",
    "for dirname, _, filenames in os.walk('/kaggle/input'):\n",
    "    for filename in filenames:\n",
    "        os.path.join(dirname, filename)\n",
    "\n",
    "# You can write up to 20GB to the current directory (/kaggle/working/) that gets preserved as output when you create a version using \"Save & Run All\" \n",
    "# You can also write temporary files to /kaggle/temp/, but they won't be saved outside of the current session\n",
    " "
   ]
  },
  {
   "cell_type": "code",
   "execution_count": 1,
   "id": "32156b1b",
   "metadata": {
    "execution": {
     "iopub.execute_input": "2023-02-16T01:23:00.589115Z",
     "iopub.status.busy": "2023-02-16T01:23:00.588632Z",
     "iopub.status.idle": "2023-02-16T01:23:06.240815Z",
     "shell.execute_reply": "2023-02-16T01:23:06.239825Z"
    },
    "papermill": {
     "duration": 5.662249,
     "end_time": "2023-02-16T01:23:06.243273",
     "exception": false,
     "start_time": "2023-02-16T01:23:00.581024",
     "status": "completed"
    },
    "tags": []
   },
   "outputs": [],
   "source": [
    "#import libraries\n",
    "import tensorflow as tf\n",
    "import keras\n",
    "from keras.models import Sequential , Model\n",
    "from keras.applications.vgg16 import VGG16\n",
    "from keras.layers import Dense\n",
    "from keras.layers import Flatten\n",
    "from tensorflow.keras.optimizers import Adam\n",
    "from tensorflow.keras.preprocessing.image import ImageDataGenerator\n",
    "from keras.callbacks import ModelCheckpoint, EarlyStopping\n",
    "from keras.layers import Input, Add, Activation, ZeroPadding2D, BatchNormalization, AveragePooling2D, MaxPooling2D, GlobalMaxPooling2D , Dense, Conv2D, MaxPool2D , Flatten , concatenate ,DepthwiseConv2D, GlobalAveragePooling2D , ReLU"
   ]
  },
  {
   "cell_type": "code",
   "execution_count": 2,
   "id": "7ffa773f",
   "metadata": {
    "execution": {
     "iopub.execute_input": "2023-02-16T01:23:06.254780Z",
     "iopub.status.busy": "2023-02-16T01:23:06.253581Z",
     "iopub.status.idle": "2023-02-16T01:23:06.259746Z",
     "shell.execute_reply": "2023-02-16T01:23:06.258694Z"
    },
    "papermill": {
     "duration": 0.014754,
     "end_time": "2023-02-16T01:23:06.262930",
     "exception": false,
     "start_time": "2023-02-16T01:23:06.248176",
     "status": "completed"
    },
    "tags": []
   },
   "outputs": [
    {
     "name": "stdout",
     "output_type": "stream",
     "text": [
      "2.6.4\n"
     ]
    }
   ],
   "source": [
    "print(tf.__version__)"
   ]
  },
  {
   "cell_type": "code",
   "execution_count": 3,
   "id": "9a585db1",
   "metadata": {
    "execution": {
     "iopub.execute_input": "2023-02-16T01:23:06.272989Z",
     "iopub.status.busy": "2023-02-16T01:23:06.272698Z",
     "iopub.status.idle": "2023-02-16T01:23:06.277553Z",
     "shell.execute_reply": "2023-02-16T01:23:06.276575Z"
    },
    "papermill": {
     "duration": 0.013431,
     "end_time": "2023-02-16T01:23:06.280817",
     "exception": false,
     "start_time": "2023-02-16T01:23:06.267386",
     "status": "completed"
    },
    "tags": []
   },
   "outputs": [
    {
     "name": "stdout",
     "output_type": "stream",
     "text": [
      "2.6.0\n"
     ]
    }
   ],
   "source": [
    "print(keras.__version__)"
   ]
  },
  {
   "cell_type": "markdown",
   "id": "a6fe886d",
   "metadata": {
    "papermill": {
     "duration": 0.004253,
     "end_time": "2023-02-16T01:23:06.290332",
     "exception": false,
     "start_time": "2023-02-16T01:23:06.286079",
     "status": "completed"
    },
    "tags": []
   },
   "source": [
    "# # Preparing Dataset"
   ]
  },
  {
   "cell_type": "code",
   "execution_count": 4,
   "id": "9135892c",
   "metadata": {
    "execution": {
     "iopub.execute_input": "2023-02-16T01:23:06.300726Z",
     "iopub.status.busy": "2023-02-16T01:23:06.299986Z",
     "iopub.status.idle": "2023-02-16T01:23:06.306366Z",
     "shell.execute_reply": "2023-02-16T01:23:06.305523Z"
    },
    "papermill": {
     "duration": 0.013511,
     "end_time": "2023-02-16T01:23:06.308288",
     "exception": false,
     "start_time": "2023-02-16T01:23:06.294777",
     "status": "completed"
    },
    "tags": []
   },
   "outputs": [],
   "source": [
    "photo_size = 224\n",
    "batch_size=32\n",
    "def prepare_dataset(data_dir):\n",
    "    datagen = ImageDataGenerator(\n",
    "        rescale=1 / 255,\n",
    "        rotation_range=40,\n",
    "        width_shift_range=.2,\n",
    "        height_shift_range=.2,\n",
    "        shear_range=.1,\n",
    "        horizontal_flip=True,\n",
    "        fill_mode='nearest',\n",
    "        zoom_range=.2,\n",
    "    )\n",
    "    generator = datagen.flow_from_directory(\n",
    "        data_dir,\n",
    "        target_size=(photo_size,photo_size),\n",
    "        class_mode='binary',\n",
    "        batch_size=batch_size,\n",
    "        classes=['non_autistic','autistic']\n",
    "    )\n",
    "    return generator"
   ]
  },
  {
   "cell_type": "markdown",
   "id": "8fedc1d5",
   "metadata": {
    "papermill": {
     "duration": 0.004148,
     "end_time": "2023-02-16T01:23:06.316756",
     "exception": false,
     "start_time": "2023-02-16T01:23:06.312608",
     "status": "completed"
    },
    "tags": []
   },
   "source": [
    "# Load Dataset"
   ]
  },
  {
   "cell_type": "code",
   "execution_count": 5,
   "id": "80d57640",
   "metadata": {
    "execution": {
     "iopub.execute_input": "2023-02-16T01:23:06.326766Z",
     "iopub.status.busy": "2023-02-16T01:23:06.326516Z",
     "iopub.status.idle": "2023-02-16T01:23:07.521042Z",
     "shell.execute_reply": "2023-02-16T01:23:07.520102Z"
    },
    "papermill": {
     "duration": 1.201928,
     "end_time": "2023-02-16T01:23:07.523060",
     "exception": false,
     "start_time": "2023-02-16T01:23:06.321132",
     "status": "completed"
    },
    "tags": []
   },
   "outputs": [
    {
     "name": "stdout",
     "output_type": "stream",
     "text": [
      "Found 2536 images belonging to 2 classes.\n",
      "Found 300 images belonging to 2 classes.\n",
      "Found 100 images belonging to 2 classes.\n"
     ]
    }
   ],
   "source": [
    "#load dataset\n",
    "traindata = prepare_dataset(\"/kaggle/input/autistic-children-facial-data-set/train\")\n",
    "testdata= prepare_dataset(\"/kaggle/input/autistic-children-facial-data-set/test\")\n",
    "validData = prepare_dataset(\"/kaggle/input/autistic-children-facial-data-set/valid\")"
   ]
  },
  {
   "cell_type": "code",
   "execution_count": 6,
   "id": "4aad56f6",
   "metadata": {
    "execution": {
     "iopub.execute_input": "2023-02-16T01:23:07.534333Z",
     "iopub.status.busy": "2023-02-16T01:23:07.533434Z",
     "iopub.status.idle": "2023-02-16T01:23:07.539224Z",
     "shell.execute_reply": "2023-02-16T01:23:07.537901Z"
    },
    "papermill": {
     "duration": 0.013282,
     "end_time": "2023-02-16T01:23:07.541141",
     "exception": false,
     "start_time": "2023-02-16T01:23:07.527859",
     "status": "completed"
    },
    "tags": []
   },
   "outputs": [
    {
     "name": "stdout",
     "output_type": "stream",
     "text": [
      "2536\n"
     ]
    }
   ],
   "source": [
    "print(traindata.samples)"
   ]
  },
  {
   "cell_type": "markdown",
   "id": "604c509e",
   "metadata": {
    "papermill": {
     "duration": 0.004299,
     "end_time": "2023-02-16T01:23:07.549855",
     "exception": false,
     "start_time": "2023-02-16T01:23:07.545556",
     "status": "completed"
    },
    "tags": []
   },
   "source": [
    "# Improved MobileNet v1"
   ]
  },
  {
   "cell_type": "code",
   "execution_count": 7,
   "id": "1b8ea71e",
   "metadata": {
    "execution": {
     "iopub.execute_input": "2023-02-16T01:23:07.560459Z",
     "iopub.status.busy": "2023-02-16T01:23:07.559624Z",
     "iopub.status.idle": "2023-02-16T01:23:07.565548Z",
     "shell.execute_reply": "2023-02-16T01:23:07.564696Z"
    },
    "papermill": {
     "duration": 0.013196,
     "end_time": "2023-02-16T01:23:07.567516",
     "exception": false,
     "start_time": "2023-02-16T01:23:07.554320",
     "status": "completed"
    },
    "tags": []
   },
   "outputs": [],
   "source": [
    "def depth_block(x, strides):\n",
    "    x = DepthwiseConv2D(3,strides=strides,padding='same',  use_bias=False)(x)\n",
    "    x = BatchNormalization()(x)\n",
    "    x = ReLU()(x)\n",
    "    return x\n",
    "def single_conv_block(x,filters):\n",
    "    x = Conv2D(filters, 1,use_bias=False)(x)\n",
    "    x= BatchNormalization()(x)\n",
    "    x = ReLU()(x)\n",
    "    return x"
   ]
  },
  {
   "cell_type": "code",
   "execution_count": 8,
   "id": "d2f1a68b",
   "metadata": {
    "execution": {
     "iopub.execute_input": "2023-02-16T01:23:07.578239Z",
     "iopub.status.busy": "2023-02-16T01:23:07.577354Z",
     "iopub.status.idle": "2023-02-16T01:23:07.582401Z",
     "shell.execute_reply": "2023-02-16T01:23:07.581557Z"
    },
    "papermill": {
     "duration": 0.012367,
     "end_time": "2023-02-16T01:23:07.584369",
     "exception": false,
     "start_time": "2023-02-16T01:23:07.572002",
     "status": "completed"
    },
    "tags": []
   },
   "outputs": [],
   "source": [
    "def combo_layer(x,filters,strides):\n",
    "    x = depth_block(x,strides)\n",
    "    x = single_conv_block(x, filters)\n",
    "    return x"
   ]
  },
  {
   "cell_type": "code",
   "execution_count": 9,
   "id": "d2dbcb69",
   "metadata": {
    "execution": {
     "iopub.execute_input": "2023-02-16T01:23:07.594723Z",
     "iopub.status.busy": "2023-02-16T01:23:07.594211Z",
     "iopub.status.idle": "2023-02-16T01:23:07.602658Z",
     "shell.execute_reply": "2023-02-16T01:23:07.601643Z"
    },
    "papermill": {
     "duration": 0.015712,
     "end_time": "2023-02-16T01:23:07.604623",
     "exception": false,
     "start_time": "2023-02-16T01:23:07.588911",
     "status": "completed"
    },
    "tags": []
   },
   "outputs": [],
   "source": [
    "def MobileNet(input_shape=(224,224,3),n_classes = 2):\n",
    "    input =Input( input_shape)\n",
    "    x = Conv2D(32,3,strides=(2,2),padding = 'same', use_bias=False) (input)\n",
    "    x =  BatchNormalization()(x)\n",
    "    x = ReLU()(x)\n",
    "    x = combo_layer(x,64, strides=(1,1))\n",
    "    x = combo_layer(x,128,strides=(2,2))\n",
    "    x = combo_layer(x,128,strides=(1,1))\n",
    "    x = combo_layer(x,256,strides=(2,2))\n",
    "    x = combo_layer(x,256,strides=(1,1))\n",
    "    x = combo_layer(x,512,strides=(2,2))\n",
    "    for _ in range(5):\n",
    "        x = combo_layer(x,512,strides=(1,1))\n",
    "    x = combo_layer(x,1024,strides=(2,2))\n",
    "    x = combo_layer(x,1024,strides=(1,1))\n",
    "    x = GlobalAveragePooling2D()(x)\n",
    "    output = Dense(n_classes,activation='sigmoid')(x)\n",
    "    model = Model(input, output)\n",
    "    return model"
   ]
  },
  {
   "cell_type": "code",
   "execution_count": 10,
   "id": "7493a0a0",
   "metadata": {
    "execution": {
     "iopub.execute_input": "2023-02-16T01:23:07.615153Z",
     "iopub.status.busy": "2023-02-16T01:23:07.614323Z",
     "iopub.status.idle": "2023-02-16T01:23:11.188257Z",
     "shell.execute_reply": "2023-02-16T01:23:11.187280Z"
    },
    "papermill": {
     "duration": 3.581542,
     "end_time": "2023-02-16T01:23:11.190693",
     "exception": false,
     "start_time": "2023-02-16T01:23:07.609151",
     "status": "completed"
    },
    "tags": []
   },
   "outputs": [
    {
     "name": "stderr",
     "output_type": "stream",
     "text": [
      "2023-02-16 01:23:07.715384: I tensorflow/stream_executor/cuda/cuda_gpu_executor.cc:937] successful NUMA node read from SysFS had negative value (-1), but there must be at least one NUMA node, so returning NUMA node zero\n",
      "2023-02-16 01:23:07.873609: I tensorflow/stream_executor/cuda/cuda_gpu_executor.cc:937] successful NUMA node read from SysFS had negative value (-1), but there must be at least one NUMA node, so returning NUMA node zero\n",
      "2023-02-16 01:23:07.874502: I tensorflow/stream_executor/cuda/cuda_gpu_executor.cc:937] successful NUMA node read from SysFS had negative value (-1), but there must be at least one NUMA node, so returning NUMA node zero\n",
      "2023-02-16 01:23:07.876401: I tensorflow/core/platform/cpu_feature_guard.cc:142] This TensorFlow binary is optimized with oneAPI Deep Neural Network Library (oneDNN) to use the following CPU instructions in performance-critical operations:  AVX2 AVX512F FMA\n",
      "To enable them in other operations, rebuild TensorFlow with the appropriate compiler flags.\n",
      "2023-02-16 01:23:07.876778: I tensorflow/stream_executor/cuda/cuda_gpu_executor.cc:937] successful NUMA node read from SysFS had negative value (-1), but there must be at least one NUMA node, so returning NUMA node zero\n",
      "2023-02-16 01:23:07.877780: I tensorflow/stream_executor/cuda/cuda_gpu_executor.cc:937] successful NUMA node read from SysFS had negative value (-1), but there must be at least one NUMA node, so returning NUMA node zero\n",
      "2023-02-16 01:23:07.878659: I tensorflow/stream_executor/cuda/cuda_gpu_executor.cc:937] successful NUMA node read from SysFS had negative value (-1), but there must be at least one NUMA node, so returning NUMA node zero\n",
      "2023-02-16 01:23:10.219291: I tensorflow/stream_executor/cuda/cuda_gpu_executor.cc:937] successful NUMA node read from SysFS had negative value (-1), but there must be at least one NUMA node, so returning NUMA node zero\n",
      "2023-02-16 01:23:10.220214: I tensorflow/stream_executor/cuda/cuda_gpu_executor.cc:937] successful NUMA node read from SysFS had negative value (-1), but there must be at least one NUMA node, so returning NUMA node zero\n",
      "2023-02-16 01:23:10.221026: I tensorflow/stream_executor/cuda/cuda_gpu_executor.cc:937] successful NUMA node read from SysFS had negative value (-1), but there must be at least one NUMA node, so returning NUMA node zero\n",
      "2023-02-16 01:23:10.221715: I tensorflow/core/common_runtime/gpu/gpu_device.cc:1510] Created device /job:localhost/replica:0/task:0/device:GPU:0 with 15401 MB memory:  -> device: 0, name: Tesla P100-PCIE-16GB, pci bus id: 0000:00:04.0, compute capability: 6.0\n"
     ]
    }
   ],
   "source": [
    "n_classes = 1\n",
    "input_shape = (224,224,3)\n",
    "model = MobileNet(input_shape,n_classes)\n",
    "#model.summary()"
   ]
  },
  {
   "cell_type": "code",
   "execution_count": 11,
   "id": "7a269f68",
   "metadata": {
    "execution": {
     "iopub.execute_input": "2023-02-16T01:23:11.203065Z",
     "iopub.status.busy": "2023-02-16T01:23:11.202125Z",
     "iopub.status.idle": "2023-02-16T01:23:11.207171Z",
     "shell.execute_reply": "2023-02-16T01:23:11.206355Z"
    },
    "papermill": {
     "duration": 0.013505,
     "end_time": "2023-02-16T01:23:11.209192",
     "exception": false,
     "start_time": "2023-02-16T01:23:11.195687",
     "status": "completed"
    },
    "tags": []
   },
   "outputs": [],
   "source": [
    "def cal_steps(num_images, batch_size):\n",
    "    # calculates steps for generator\n",
    "    steps = num_images // batch_size\n",
    "    # adds 1 to the generator steps if the steps multiplied by\n",
    "    # the batch size is less than the total training samples\n",
    "    return  steps"
   ]
  },
  {
   "cell_type": "code",
   "execution_count": 12,
   "id": "23c833f4",
   "metadata": {
    "execution": {
     "iopub.execute_input": "2023-02-16T01:23:11.219753Z",
     "iopub.status.busy": "2023-02-16T01:23:11.219479Z",
     "iopub.status.idle": "2023-02-16T02:01:54.295224Z",
     "shell.execute_reply": "2023-02-16T02:01:54.293452Z"
    },
    "papermill": {
     "duration": 2323.0853,
     "end_time": "2023-02-16T02:01:54.299132",
     "exception": false,
     "start_time": "2023-02-16T01:23:11.213832",
     "status": "completed"
    },
    "tags": []
   },
   "outputs": [
    {
     "name": "stderr",
     "output_type": "stream",
     "text": [
      "2023-02-16 01:23:11.837003: I tensorflow/compiler/mlir/mlir_graph_optimization_pass.cc:185] None of the MLIR Optimization Passes are enabled (registered 2)\n"
     ]
    },
    {
     "name": "stdout",
     "output_type": "stream",
     "text": [
      "Epoch 1/100\n"
     ]
    },
    {
     "name": "stderr",
     "output_type": "stream",
     "text": [
      "2023-02-16 01:23:15.574666: I tensorflow/stream_executor/cuda/cuda_dnn.cc:369] Loaded cuDNN version 8005\n"
     ]
    },
    {
     "name": "stdout",
     "output_type": "stream",
     "text": [
      "79/79 [==============================] - 57s 597ms/step - loss: 0.7107 - acc: 0.5799 - val_loss: 0.7019 - val_acc: 0.4896\n",
      "\n",
      "Epoch 00001: val_acc improved from -inf to 0.48958, saving model to /kaggle/working/mobilenet_v1.h5\n",
      "Epoch 2/100\n",
      "79/79 [==============================] - 36s 453ms/step - loss: 0.6453 - acc: 0.6382 - val_loss: 0.6933 - val_acc: 0.5000\n",
      "\n",
      "Epoch 00002: val_acc improved from 0.48958 to 0.50000, saving model to /kaggle/working/mobilenet_v1.h5\n",
      "Epoch 3/100\n",
      "79/79 [==============================] - 36s 449ms/step - loss: 0.6265 - acc: 0.6562 - val_loss: 0.7010 - val_acc: 0.5000\n",
      "\n",
      "Epoch 00003: val_acc did not improve from 0.50000\n",
      "Epoch 4/100\n",
      "79/79 [==============================] - 36s 452ms/step - loss: 0.6173 - acc: 0.6581 - val_loss: 0.7331 - val_acc: 0.5000\n",
      "\n",
      "Epoch 00004: val_acc did not improve from 0.50000\n",
      "Epoch 5/100\n",
      "79/79 [==============================] - 37s 471ms/step - loss: 0.5846 - acc: 0.6921 - val_loss: 0.7594 - val_acc: 0.4896\n",
      "\n",
      "Epoch 00005: val_acc did not improve from 0.50000\n",
      "Epoch 6/100\n",
      "79/79 [==============================] - 36s 450ms/step - loss: 0.5823 - acc: 0.6889 - val_loss: 0.8095 - val_acc: 0.5000\n",
      "\n",
      "Epoch 00006: val_acc did not improve from 0.50000\n",
      "Epoch 7/100\n",
      "79/79 [==============================] - 36s 453ms/step - loss: 0.5712 - acc: 0.6965 - val_loss: 1.0140 - val_acc: 0.4896\n",
      "\n",
      "Epoch 00007: val_acc did not improve from 0.50000\n",
      "Epoch 8/100\n",
      "79/79 [==============================] - 36s 457ms/step - loss: 0.5791 - acc: 0.7053 - val_loss: 0.7368 - val_acc: 0.5104\n",
      "\n",
      "Epoch 00008: val_acc improved from 0.50000 to 0.51042, saving model to /kaggle/working/mobilenet_v1.h5\n",
      "Epoch 9/100\n",
      "79/79 [==============================] - 36s 457ms/step - loss: 0.5572 - acc: 0.7069 - val_loss: 0.6636 - val_acc: 0.6250\n",
      "\n",
      "Epoch 00009: val_acc improved from 0.51042 to 0.62500, saving model to /kaggle/working/mobilenet_v1.h5\n",
      "Epoch 10/100\n",
      "79/79 [==============================] - 36s 456ms/step - loss: 0.5596 - acc: 0.7073 - val_loss: 0.5612 - val_acc: 0.6771\n",
      "\n",
      "Epoch 00010: val_acc improved from 0.62500 to 0.67708, saving model to /kaggle/working/mobilenet_v1.h5\n",
      "Epoch 11/100\n",
      "79/79 [==============================] - 36s 452ms/step - loss: 0.5567 - acc: 0.7196 - val_loss: 0.5577 - val_acc: 0.6979\n",
      "\n",
      "Epoch 00011: val_acc improved from 0.67708 to 0.69792, saving model to /kaggle/working/mobilenet_v1.h5\n",
      "Epoch 12/100\n",
      "79/79 [==============================] - 35s 444ms/step - loss: 0.5576 - acc: 0.7021 - val_loss: 0.9725 - val_acc: 0.5312\n",
      "\n",
      "Epoch 00012: val_acc did not improve from 0.69792\n",
      "Epoch 13/100\n",
      "79/79 [==============================] - 37s 466ms/step - loss: 0.5334 - acc: 0.7424 - val_loss: 0.4898 - val_acc: 0.7604\n",
      "\n",
      "Epoch 00013: val_acc improved from 0.69792 to 0.76042, saving model to /kaggle/working/mobilenet_v1.h5\n",
      "Epoch 14/100\n",
      "79/79 [==============================] - 36s 450ms/step - loss: 0.5235 - acc: 0.7412 - val_loss: 0.5158 - val_acc: 0.7292\n",
      "\n",
      "Epoch 00014: val_acc did not improve from 0.76042\n",
      "Epoch 15/100\n",
      "79/79 [==============================] - 36s 453ms/step - loss: 0.5068 - acc: 0.7628 - val_loss: 0.9901 - val_acc: 0.6250\n",
      "\n",
      "Epoch 00015: val_acc did not improve from 0.76042\n",
      "Epoch 16/100\n",
      "79/79 [==============================] - 36s 460ms/step - loss: 0.5236 - acc: 0.7324 - val_loss: 0.5927 - val_acc: 0.6875\n",
      "\n",
      "Epoch 00016: val_acc did not improve from 0.76042\n",
      "Epoch 17/100\n",
      "79/79 [==============================] - 36s 457ms/step - loss: 0.5020 - acc: 0.7532 - val_loss: 0.6329 - val_acc: 0.7083\n",
      "\n",
      "Epoch 00017: val_acc did not improve from 0.76042\n",
      "Epoch 18/100\n",
      "79/79 [==============================] - 35s 447ms/step - loss: 0.4904 - acc: 0.7660 - val_loss: 0.6588 - val_acc: 0.6875\n",
      "\n",
      "Epoch 00018: val_acc did not improve from 0.76042\n",
      "Epoch 19/100\n",
      "79/79 [==============================] - 36s 451ms/step - loss: 0.4935 - acc: 0.7580 - val_loss: 0.6334 - val_acc: 0.7292\n",
      "\n",
      "Epoch 00019: val_acc did not improve from 0.76042\n",
      "Epoch 20/100\n",
      "79/79 [==============================] - 36s 456ms/step - loss: 0.4892 - acc: 0.7676 - val_loss: 0.6334 - val_acc: 0.6979\n",
      "\n",
      "Epoch 00020: val_acc did not improve from 0.76042\n",
      "Epoch 21/100\n",
      "79/79 [==============================] - 36s 459ms/step - loss: 0.4808 - acc: 0.7732 - val_loss: 0.5320 - val_acc: 0.7292\n",
      "\n",
      "Epoch 00021: val_acc did not improve from 0.76042\n",
      "Epoch 22/100\n",
      "79/79 [==============================] - 36s 459ms/step - loss: 0.4714 - acc: 0.7815 - val_loss: 0.7860 - val_acc: 0.6562\n",
      "\n",
      "Epoch 00022: val_acc did not improve from 0.76042\n",
      "Epoch 23/100\n",
      "79/79 [==============================] - 36s 450ms/step - loss: 0.4715 - acc: 0.7696 - val_loss: 0.6955 - val_acc: 0.6667\n",
      "\n",
      "Epoch 00023: val_acc did not improve from 0.76042\n",
      "Epoch 24/100\n",
      "79/79 [==============================] - 36s 451ms/step - loss: 0.4763 - acc: 0.7684 - val_loss: 0.5114 - val_acc: 0.7604\n",
      "\n",
      "Epoch 00024: val_acc did not improve from 0.76042\n",
      "Epoch 25/100\n",
      "79/79 [==============================] - 36s 454ms/step - loss: 0.4507 - acc: 0.7867 - val_loss: 0.6978 - val_acc: 0.6250\n",
      "\n",
      "Epoch 00025: val_acc did not improve from 0.76042\n",
      "Epoch 26/100\n",
      "79/79 [==============================] - 36s 454ms/step - loss: 0.4740 - acc: 0.7764 - val_loss: 0.4977 - val_acc: 0.7812\n",
      "\n",
      "Epoch 00026: val_acc improved from 0.76042 to 0.78125, saving model to /kaggle/working/mobilenet_v1.h5\n",
      "Epoch 27/100\n",
      "79/79 [==============================] - 36s 453ms/step - loss: 0.4554 - acc: 0.7903 - val_loss: 0.5559 - val_acc: 0.7708\n",
      "\n",
      "Epoch 00027: val_acc did not improve from 0.78125\n",
      "Epoch 28/100\n",
      "79/79 [==============================] - 36s 452ms/step - loss: 0.4554 - acc: 0.7935 - val_loss: 0.7300 - val_acc: 0.6979\n",
      "\n",
      "Epoch 00028: val_acc did not improve from 0.78125\n",
      "Epoch 29/100\n",
      "79/79 [==============================] - 36s 457ms/step - loss: 0.4508 - acc: 0.7875 - val_loss: 0.5056 - val_acc: 0.8229\n",
      "\n",
      "Epoch 00029: val_acc improved from 0.78125 to 0.82292, saving model to /kaggle/working/mobilenet_v1.h5\n",
      "Epoch 30/100\n",
      "79/79 [==============================] - 36s 455ms/step - loss: 0.4577 - acc: 0.7808 - val_loss: 0.7491 - val_acc: 0.6562\n",
      "\n",
      "Epoch 00030: val_acc did not improve from 0.82292\n",
      "Epoch 31/100\n",
      "79/79 [==============================] - 36s 451ms/step - loss: 0.4459 - acc: 0.7883 - val_loss: 0.6606 - val_acc: 0.7083\n",
      "\n",
      "Epoch 00031: val_acc did not improve from 0.82292\n",
      "Epoch 32/100\n",
      "79/79 [==============================] - 37s 463ms/step - loss: 0.4349 - acc: 0.8011 - val_loss: 0.6394 - val_acc: 0.6979\n",
      "\n",
      "Epoch 00032: val_acc did not improve from 0.82292\n",
      "Epoch 33/100\n",
      "79/79 [==============================] - 36s 458ms/step - loss: 0.4301 - acc: 0.7923 - val_loss: 0.8601 - val_acc: 0.6979\n",
      "\n",
      "Epoch 00033: val_acc did not improve from 0.82292\n",
      "Epoch 34/100\n",
      "79/79 [==============================] - 35s 448ms/step - loss: 0.4359 - acc: 0.7923 - val_loss: 0.5227 - val_acc: 0.7812\n",
      "\n",
      "Epoch 00034: val_acc did not improve from 0.82292\n",
      "Epoch 35/100\n",
      "79/79 [==============================] - 36s 452ms/step - loss: 0.4313 - acc: 0.8075 - val_loss: 0.6002 - val_acc: 0.7188\n",
      "\n",
      "Epoch 00035: val_acc did not improve from 0.82292\n",
      "Epoch 36/100\n",
      "79/79 [==============================] - 36s 453ms/step - loss: 0.4119 - acc: 0.8139 - val_loss: 0.8140 - val_acc: 0.6354\n",
      "\n",
      "Epoch 00036: val_acc did not improve from 0.82292\n",
      "Epoch 37/100\n",
      "79/79 [==============================] - 36s 455ms/step - loss: 0.4181 - acc: 0.8167 - val_loss: 0.6687 - val_acc: 0.7083\n",
      "\n",
      "Epoch 00037: val_acc did not improve from 0.82292\n",
      "Epoch 38/100\n",
      "79/79 [==============================] - 36s 459ms/step - loss: 0.4069 - acc: 0.8099 - val_loss: 0.6107 - val_acc: 0.7708\n",
      "\n",
      "Epoch 00038: val_acc did not improve from 0.82292\n",
      "Epoch 39/100\n",
      "79/79 [==============================] - 36s 454ms/step - loss: 0.4144 - acc: 0.8167 - val_loss: 0.5473 - val_acc: 0.7917\n",
      "\n",
      "Epoch 00039: val_acc did not improve from 0.82292\n",
      "Epoch 40/100\n",
      "79/79 [==============================] - 36s 457ms/step - loss: 0.4200 - acc: 0.8003 - val_loss: 0.5479 - val_acc: 0.7500\n",
      "\n",
      "Epoch 00040: val_acc did not improve from 0.82292\n",
      "Epoch 41/100\n",
      "79/79 [==============================] - 36s 450ms/step - loss: 0.4089 - acc: 0.8143 - val_loss: 0.4779 - val_acc: 0.7500\n",
      "\n",
      "Epoch 00041: val_acc did not improve from 0.82292\n",
      "Epoch 42/100\n",
      "79/79 [==============================] - 36s 457ms/step - loss: 0.3965 - acc: 0.8223 - val_loss: 0.6345 - val_acc: 0.6562\n",
      "\n",
      "Epoch 00042: val_acc did not improve from 0.82292\n",
      "Epoch 43/100\n",
      "79/79 [==============================] - 36s 456ms/step - loss: 0.4172 - acc: 0.8067 - val_loss: 0.7833 - val_acc: 0.7188\n",
      "\n",
      "Epoch 00043: val_acc did not improve from 0.82292\n",
      "Epoch 44/100\n",
      "79/79 [==============================] - 36s 448ms/step - loss: 0.3877 - acc: 0.8295 - val_loss: 0.5193 - val_acc: 0.7500\n",
      "\n",
      "Epoch 00044: val_acc did not improve from 0.82292\n",
      "Epoch 45/100\n",
      "79/79 [==============================] - 36s 460ms/step - loss: 0.4095 - acc: 0.8175 - val_loss: 0.7942 - val_acc: 0.6354\n",
      "\n",
      "Epoch 00045: val_acc did not improve from 0.82292\n",
      "Epoch 46/100\n",
      "79/79 [==============================] - 36s 448ms/step - loss: 0.3979 - acc: 0.8187 - val_loss: 0.5902 - val_acc: 0.7604\n",
      "\n",
      "Epoch 00046: val_acc did not improve from 0.82292\n",
      "Epoch 47/100\n",
      "79/79 [==============================] - 36s 450ms/step - loss: 0.3745 - acc: 0.8327 - val_loss: 0.4967 - val_acc: 0.7604\n",
      "\n",
      "Epoch 00047: val_acc did not improve from 0.82292\n",
      "Epoch 48/100\n",
      "79/79 [==============================] - 37s 467ms/step - loss: 0.3810 - acc: 0.8287 - val_loss: 0.5704 - val_acc: 0.7396\n",
      "\n",
      "Epoch 00048: val_acc did not improve from 0.82292\n",
      "Epoch 49/100\n",
      "79/79 [==============================] - 36s 452ms/step - loss: 0.3759 - acc: 0.8363 - val_loss: 0.6626 - val_acc: 0.7604\n",
      "\n",
      "Epoch 00049: val_acc did not improve from 0.82292\n",
      "Epoch 50/100\n",
      "79/79 [==============================] - 35s 448ms/step - loss: 0.3869 - acc: 0.8275 - val_loss: 0.6610 - val_acc: 0.7917\n",
      "\n",
      "Epoch 00050: val_acc did not improve from 0.82292\n",
      "Epoch 51/100\n",
      "79/79 [==============================] - 36s 451ms/step - loss: 0.3742 - acc: 0.8311 - val_loss: 0.9390 - val_acc: 0.6875\n",
      "\n",
      "Epoch 00051: val_acc did not improve from 0.82292\n",
      "Epoch 52/100\n",
      "79/79 [==============================] - 36s 453ms/step - loss: 0.3705 - acc: 0.8371 - val_loss: 0.6369 - val_acc: 0.6771\n",
      "\n",
      "Epoch 00052: val_acc did not improve from 0.82292\n",
      "Epoch 53/100\n",
      "79/79 [==============================] - 36s 453ms/step - loss: 0.3724 - acc: 0.8355 - val_loss: 0.6762 - val_acc: 0.7604\n",
      "\n",
      "Epoch 00053: val_acc did not improve from 0.82292\n",
      "Epoch 54/100\n",
      "79/79 [==============================] - 36s 449ms/step - loss: 0.3623 - acc: 0.8391 - val_loss: 0.4459 - val_acc: 0.7917\n",
      "\n",
      "Epoch 00054: val_acc did not improve from 0.82292\n",
      "Epoch 55/100\n",
      "79/79 [==============================] - 36s 448ms/step - loss: 0.3690 - acc: 0.8419 - val_loss: 0.8743 - val_acc: 0.6458\n",
      "\n",
      "Epoch 00055: val_acc did not improve from 0.82292\n",
      "Epoch 56/100\n",
      "79/79 [==============================] - 36s 454ms/step - loss: 0.3572 - acc: 0.8375 - val_loss: 0.6120 - val_acc: 0.7604\n",
      "\n",
      "Epoch 00056: val_acc did not improve from 0.82292\n",
      "Epoch 57/100\n",
      "79/79 [==============================] - 36s 451ms/step - loss: 0.3490 - acc: 0.8482 - val_loss: 0.5869 - val_acc: 0.7604\n",
      "\n",
      "Epoch 00057: val_acc did not improve from 0.82292\n",
      "Epoch 58/100\n",
      "79/79 [==============================] - 38s 467ms/step - loss: 0.3332 - acc: 0.8546 - val_loss: 0.9022 - val_acc: 0.6458\n",
      "\n",
      "Epoch 00058: val_acc did not improve from 0.82292\n",
      "Epoch 59/100\n",
      "79/79 [==============================] - 37s 463ms/step - loss: 0.3605 - acc: 0.8446 - val_loss: 0.4879 - val_acc: 0.7708\n",
      "\n",
      "Epoch 00059: val_acc did not improve from 0.82292\n",
      "Epoch 00059: early stopping\n"
     ]
    }
   ],
   "source": [
    "checkpoint = ModelCheckpoint(\"/kaggle/working/mobilenet_v1.h5\", monitor='val_acc', verbose=1, save_best_only=True, save_weights_only=False)\n",
    "early = EarlyStopping(monitor='val_acc',patience=30, verbose=1, mode='max')\n",
    "model.compile( optimizer=\"adam\",loss=tf.keras.losses.BinaryCrossentropy(),metrics=['acc'])\n",
    "hist = model.fit(traindata, validation_data= validData, validation_steps=cal_steps(validData.samples, batch_size),epochs=100 ,steps_per_epoch=cal_steps(traindata.samples, batch_size),callbacks=[checkpoint,early])"
   ]
  },
  {
   "cell_type": "code",
   "execution_count": 13,
   "id": "69ea848c",
   "metadata": {
    "execution": {
     "iopub.execute_input": "2023-02-16T02:01:54.872280Z",
     "iopub.status.busy": "2023-02-16T02:01:54.871176Z",
     "iopub.status.idle": "2023-02-16T02:01:55.110098Z",
     "shell.execute_reply": "2023-02-16T02:01:55.109212Z"
    },
    "papermill": {
     "duration": 0.549417,
     "end_time": "2023-02-16T02:01:55.112203",
     "exception": false,
     "start_time": "2023-02-16T02:01:54.562786",
     "status": "completed"
    },
    "tags": []
   },
   "outputs": [
    {
     "data": {
      "image/png": "[encoded data removed]",
      "text/plain": [
       "<Figure size 432x288 with 1 Axes>"
      ]
     },
     "metadata": {
      "needs_background": "light"
     },
     "output_type": "display_data"
    }
   ],
   "source": [
    "import matplotlib.pyplot as plt\n",
    "plt.plot(hist.history[\"acc\"])\n",
    "plt.plot(hist.history['val_acc'])\n",
    "#plt.plot(hist.history['loss'])\n",
    "#plt.plot(hist.history['val_loss'])\n",
    "plt.title(\"model accuracy\")\n",
    "plt.ylabel(\"Accuracy\")\n",
    "plt.xlabel(\"Epoch\")\n",
    "plt.legend([\"Accuracy\",\"Validation Accuracy\"])\n",
    "plt.show()"
   ]
  },
  {
   "cell_type": "code",
   "execution_count": 14,
   "id": "02d8af36",
   "metadata": {
    "execution": {
     "iopub.execute_input": "2023-02-16T02:01:55.623304Z",
     "iopub.status.busy": "2023-02-16T02:01:55.622287Z",
     "iopub.status.idle": "2023-02-16T02:02:37.003388Z",
     "shell.execute_reply": "2023-02-16T02:02:37.002252Z"
    },
    "papermill": {
     "duration": 41.637919,
     "end_time": "2023-02-16T02:02:37.005568",
     "exception": false,
     "start_time": "2023-02-16T02:01:55.367649",
     "status": "completed"
    },
    "tags": []
   },
   "outputs": [
    {
     "name": "stdout",
     "output_type": "stream",
     "text": [
      "80/80 [==============================] - 31s 393ms/step - loss: 0.4134 - acc: 0.8206\n"
     ]
    },
    {
     "data": {
      "text/plain": [
       "[0.4133508801460266, 0.8205835819244385]"
      ]
     },
     "execution_count": 14,
     "metadata": {},
     "output_type": "execute_result"
    }
   ],
   "source": [
    "model.evaluate(traindata)"
   ]
  },
  {
   "cell_type": "code",
   "execution_count": 15,
   "id": "8e0d661e",
   "metadata": {
    "execution": {
     "iopub.execute_input": "2023-02-16T02:02:37.528815Z",
     "iopub.status.busy": "2023-02-16T02:02:37.527781Z",
     "iopub.status.idle": "2023-02-16T02:02:39.538954Z",
     "shell.execute_reply": "2023-02-16T02:02:39.537988Z"
    },
    "papermill": {
     "duration": 2.27236,
     "end_time": "2023-02-16T02:02:39.541161",
     "exception": false,
     "start_time": "2023-02-16T02:02:37.268801",
     "status": "completed"
    },
    "tags": []
   },
   "outputs": [
    {
     "name": "stdout",
     "output_type": "stream",
     "text": [
      "4/4 [==============================] - 1s 305ms/step - loss: 0.4900 - acc: 0.7900\n"
     ]
    },
    {
     "data": {
      "text/plain": [
       "[0.4899631440639496, 0.7900000214576721]"
      ]
     },
     "execution_count": 15,
     "metadata": {},
     "output_type": "execute_result"
    }
   ],
   "source": [
    "model.evaluate(validData)"
   ]
  },
  {
   "cell_type": "code",
   "execution_count": 16,
   "id": "6e81654a",
   "metadata": {
    "execution": {
     "iopub.execute_input": "2023-02-16T02:02:40.125033Z",
     "iopub.status.busy": "2023-02-16T02:02:40.124651Z",
     "iopub.status.idle": "2023-02-16T02:02:50.969914Z",
     "shell.execute_reply": "2023-02-16T02:02:50.968946Z"
    },
    "papermill": {
     "duration": 11.104092,
     "end_time": "2023-02-16T02:02:50.972358",
     "exception": false,
     "start_time": "2023-02-16T02:02:39.868266",
     "status": "completed"
    },
    "tags": []
   },
   "outputs": [
    {
     "name": "stdout",
     "output_type": "stream",
     "text": [
      "10/10 [==============================] - 6s 573ms/step - loss: 0.5588 - acc: 0.7533\n"
     ]
    },
    {
     "data": {
      "text/plain": [
       "[0.5588394403457642, 0.753333330154419]"
      ]
     },
     "execution_count": 16,
     "metadata": {},
     "output_type": "execute_result"
    }
   ],
   "source": [
    "model.evaluate(testdata)"
   ]
  },
  {
   "cell_type": "code",
   "execution_count": 17,
   "id": "cdfb8924",
   "metadata": {
    "execution": {
     "iopub.execute_input": "2023-02-16T02:02:51.480647Z",
     "iopub.status.busy": "2023-02-16T02:02:51.479624Z",
     "iopub.status.idle": "2023-02-16T02:02:51.485878Z",
     "shell.execute_reply": "2023-02-16T02:02:51.484533Z"
    },
    "papermill": {
     "duration": 0.262746,
     "end_time": "2023-02-16T02:02:51.488512",
     "exception": false,
     "start_time": "2023-02-16T02:02:51.225766",
     "status": "completed"
    },
    "tags": []
   },
   "outputs": [
    {
     "name": "stdout",
     "output_type": "stream",
     "text": [
      "79\n"
     ]
    }
   ],
   "source": [
    "print(cal_steps(traindata.samples, batch_size))"
   ]
  }
 ],
 "metadata": {
  "kernelspec": {
   "display_name": "Python 3",
   "language": "python",
   "name": "python3"
  },
  "language_info": {
   "codemirror_mode": {
    "name": "ipython",
    "version": 3
   },
   "file_extension": ".py",
   "mimetype": "text/x-python",
   "name": "python",
   "nbconvert_exporter": "python",
   "pygments_lexer": "ipython3",
   "version": "3.7.12"
  },
  "papermill": {
   "default_parameters": {},
   "duration": 2402.630034,
   "end_time": "2023-02-16T02:02:55.151481",
   "environment_variables": {},
   "exception": null,
   "input_path": "__notebook__.ipynb",
   "output_path": "__notebook__.ipynb",
   "parameters": {},
   "start_time": "2023-02-16T01:22:52.521447",
   "version": "2.3.4"
  }
 },
 "nbformat": 4,
 "nbformat_minor": 5
}
