{
 "cells": [
  {
   "cell_type": "markdown",
   "id": "ae48981c",
   "metadata": {
    "_cell_guid": "b1076dfc-b9ad-4769-8c92-a6c4dae69d19",
    "_uuid": "8f2839f25d086af736a60e9eeb907d3b93b6e0e5",
    "execution": {
     "iopub.execute_input": "2022-12-29T21:28:25.582495Z",
     "iopub.status.busy": "2022-12-29T21:28:25.582065Z",
     "iopub.status.idle": "2022-12-29T21:28:28.685002Z",
     "shell.execute_reply": "2022-12-29T21:28:28.684010Z",
     "shell.execute_reply.started": "2022-12-29T21:28:25.582410Z"
    },
    "papermill": {
     "duration": 0.005065,
     "end_time": "2023-02-15T01:44:36.851735",
     "exception": false,
     "start_time": "2023-02-15T01:44:36.846670",
     "status": "completed"
    },
    "tags": []
   },
   "source": [
    "###### This Python 3 environment comes with many helpful analytics libraries installed\n",
    "# It is defined by the kaggle/python Docker image: https://github.com/kaggle/docker-python\n",
    "# For example, here's several helpful packages to load\n",
    "\n",
    "import numpy as np # linear algebra\n",
    "import pandas as pd # data processing, CSV file I/O (e.g. pd.read_csv)\n",
    "\n",
    "# Input data files are available in the read-only \"../input/\" directory\n",
    "# For example, running this (by clicking run or pressing Shift+Enter) will list all files under the input directory\n",
    "\n",
    "import os\n",
    "for dirname, _, filenames in os.walk('/kaggle/input'):\n",
    "    for filename in filenames:\n",
    "        os.path.join(dirname, filename)\n",
    "\n",
    "# You can write up to 20GB to the current directory (/kaggle/working/) that gets preserved as output when you create a version using \"Save & Run All\" \n",
    "# You can also write temporary files to /kaggle/temp/, but they won't be saved outside of the current session\n",
    " "
   ]
  },
  {
   "cell_type": "code",
   "execution_count": 1,
   "id": "917d9f81",
   "metadata": {
    "execution": {
     "iopub.execute_input": "2023-02-15T01:44:36.861807Z",
     "iopub.status.busy": "2023-02-15T01:44:36.861298Z",
     "iopub.status.idle": "2023-02-15T01:44:42.213454Z",
     "shell.execute_reply": "2023-02-15T01:44:42.212457Z"
    },
    "papermill": {
     "duration": 5.360447,
     "end_time": "2023-02-15T01:44:42.216226",
     "exception": false,
     "start_time": "2023-02-15T01:44:36.855779",
     "status": "completed"
    },
    "tags": []
   },
   "outputs": [],
   "source": [
    "#import libraries\n",
    "import tensorflow as tf\n",
    "import keras\n",
    "from keras.models import Sequential , Model\n",
    "from keras.applications.vgg16 import VGG16\n",
    "from keras.layers import Dense\n",
    "from keras.layers import Flatten\n",
    "from tensorflow.keras.optimizers import Adam\n",
    "from tensorflow.keras.preprocessing.image import ImageDataGenerator\n",
    "from keras.callbacks import ModelCheckpoint, EarlyStopping\n",
    "from keras.layers import Input, Add, Activation, ZeroPadding2D, BatchNormalization, AveragePooling2D, MaxPooling2D, GlobalMaxPooling2D , Dense, Conv2D, MaxPool2D , Flatten , concatenate ,DepthwiseConv2D, GlobalAveragePooling2D , ReLU"
   ]
  },
  {
   "cell_type": "code",
   "execution_count": 2,
   "id": "5f6d75eb",
   "metadata": {
    "execution": {
     "iopub.execute_input": "2023-02-15T01:44:42.226076Z",
     "iopub.status.busy": "2023-02-15T01:44:42.225554Z",
     "iopub.status.idle": "2023-02-15T01:44:42.232107Z",
     "shell.execute_reply": "2023-02-15T01:44:42.231029Z"
    },
    "papermill": {
     "duration": 0.013576,
     "end_time": "2023-02-15T01:44:42.234036",
     "exception": false,
     "start_time": "2023-02-15T01:44:42.220460",
     "status": "completed"
    },
    "tags": []
   },
   "outputs": [
    {
     "name": "stdout",
     "output_type": "stream",
     "text": [
      "2.6.4\n"
     ]
    }
   ],
   "source": [
    "print(tf.__version__)"
   ]
  },
  {
   "cell_type": "code",
   "execution_count": 3,
   "id": "dd77d8c9",
   "metadata": {
    "execution": {
     "iopub.execute_input": "2023-02-15T01:44:42.244140Z",
     "iopub.status.busy": "2023-02-15T01:44:42.242713Z",
     "iopub.status.idle": "2023-02-15T01:44:42.249616Z",
     "shell.execute_reply": "2023-02-15T01:44:42.248581Z"
    },
    "papermill": {
     "duration": 0.014153,
     "end_time": "2023-02-15T01:44:42.252189",
     "exception": false,
     "start_time": "2023-02-15T01:44:42.238036",
     "status": "completed"
    },
    "tags": []
   },
   "outputs": [
    {
     "name": "stdout",
     "output_type": "stream",
     "text": [
      "2.6.0\n"
     ]
    }
   ],
   "source": [
    "print(keras.__version__)"
   ]
  },
  {
   "cell_type": "markdown",
   "id": "ac3000f1",
   "metadata": {
    "papermill": {
     "duration": 0.003796,
     "end_time": "2023-02-15T01:44:42.260069",
     "exception": false,
     "start_time": "2023-02-15T01:44:42.256273",
     "status": "completed"
    },
    "tags": []
   },
   "source": [
    "# # Preparing Dataset"
   ]
  },
  {
   "cell_type": "code",
   "execution_count": 4,
   "id": "e6d04b5a",
   "metadata": {
    "execution": {
     "iopub.execute_input": "2023-02-15T01:44:42.269145Z",
     "iopub.status.busy": "2023-02-15T01:44:42.268852Z",
     "iopub.status.idle": "2023-02-15T01:44:42.274427Z",
     "shell.execute_reply": "2023-02-15T01:44:42.273461Z"
    },
    "papermill": {
     "duration": 0.0122,
     "end_time": "2023-02-15T01:44:42.276308",
     "exception": false,
     "start_time": "2023-02-15T01:44:42.264108",
     "status": "completed"
    },
    "tags": []
   },
   "outputs": [],
   "source": [
    "photo_size = 224\n",
    "def prepare_dataset(data_dir):\n",
    "    datagen = ImageDataGenerator(\n",
    "        rescale=1 / 255,\n",
    "        rotation_range=40,\n",
    "        width_shift_range=.2,\n",
    "        height_shift_range=.2,\n",
    "        shear_range=.1,\n",
    "        horizontal_flip=True,\n",
    "        fill_mode='nearest',\n",
    "        zoom_range=.2,\n",
    "    )\n",
    "    generator = datagen.flow_from_directory(\n",
    "        data_dir,\n",
    "        target_size=(photo_size,photo_size),\n",
    "        class_mode='binary',\n",
    "        batch_size=32,\n",
    "        classes=['non_autistic','autistic']\n",
    "    )\n",
    "    return generator"
   ]
  },
  {
   "cell_type": "markdown",
   "id": "6db55d05",
   "metadata": {
    "papermill": {
     "duration": 0.003784,
     "end_time": "2023-02-15T01:44:42.284128",
     "exception": false,
     "start_time": "2023-02-15T01:44:42.280344",
     "status": "completed"
    },
    "tags": []
   },
   "source": [
    "# Load Dataset"
   ]
  },
  {
   "cell_type": "code",
   "execution_count": 5,
   "id": "9368c809",
   "metadata": {
    "execution": {
     "iopub.execute_input": "2023-02-15T01:44:42.293597Z",
     "iopub.status.busy": "2023-02-15T01:44:42.292922Z",
     "iopub.status.idle": "2023-02-15T01:44:43.655417Z",
     "shell.execute_reply": "2023-02-15T01:44:43.654475Z"
    },
    "papermill": {
     "duration": 1.370392,
     "end_time": "2023-02-15T01:44:43.658428",
     "exception": false,
     "start_time": "2023-02-15T01:44:42.288036",
     "status": "completed"
    },
    "tags": []
   },
   "outputs": [
    {
     "name": "stdout",
     "output_type": "stream",
     "text": [
      "Found 2536 images belonging to 2 classes.\n",
      "Found 300 images belonging to 2 classes.\n",
      "Found 100 images belonging to 2 classes.\n"
     ]
    }
   ],
   "source": [
    "#load dataset\n",
    "traindata = prepare_dataset(\"/kaggle/input/autistic-children-facial-data-set/train\")\n",
    "testdata= prepare_dataset(\"/kaggle/input/autistic-children-facial-data-set/test\")\n",
    "validData = prepare_dataset(\"/kaggle/input/autistic-children-facial-data-set/valid\")"
   ]
  },
  {
   "cell_type": "markdown",
   "id": "481df7a9",
   "metadata": {
    "papermill": {
     "duration": 0.006271,
     "end_time": "2023-02-15T01:44:43.671058",
     "exception": false,
     "start_time": "2023-02-15T01:44:43.664787",
     "status": "completed"
    },
    "tags": []
   },
   "source": [
    "# Improved MobileNet v1"
   ]
  },
  {
   "cell_type": "code",
   "execution_count": 6,
   "id": "54ef8be5",
   "metadata": {
    "execution": {
     "iopub.execute_input": "2023-02-15T01:44:43.685277Z",
     "iopub.status.busy": "2023-02-15T01:44:43.684923Z",
     "iopub.status.idle": "2023-02-15T01:44:43.691043Z",
     "shell.execute_reply": "2023-02-15T01:44:43.690158Z"
    },
    "papermill": {
     "duration": 0.015022,
     "end_time": "2023-02-15T01:44:43.692933",
     "exception": false,
     "start_time": "2023-02-15T01:44:43.677911",
     "status": "completed"
    },
    "tags": []
   },
   "outputs": [],
   "source": [
    "def depth_block(x, strides):\n",
    "    x = DepthwiseConv2D(3,strides=strides,padding='same',  use_bias=False)(x)\n",
    "    x = BatchNormalization()(x)\n",
    "    x = ReLU()(x)\n",
    "    return x\n",
    "def single_conv_block(x,filters):\n",
    "    x = Conv2D(filters, 1,use_bias=False)(x)\n",
    "    x= BatchNormalization()(x)\n",
    "    x = ReLU()(x)\n",
    "    return x"
   ]
  },
  {
   "cell_type": "code",
   "execution_count": 7,
   "id": "ecdac048",
   "metadata": {
    "execution": {
     "iopub.execute_input": "2023-02-15T01:44:43.702271Z",
     "iopub.status.busy": "2023-02-15T01:44:43.701649Z",
     "iopub.status.idle": "2023-02-15T01:44:43.706875Z",
     "shell.execute_reply": "2023-02-15T01:44:43.706049Z"
    },
    "papermill": {
     "duration": 0.011859,
     "end_time": "2023-02-15T01:44:43.708748",
     "exception": false,
     "start_time": "2023-02-15T01:44:43.696889",
     "status": "completed"
    },
    "tags": []
   },
   "outputs": [],
   "source": [
    "def combo_layer(x,filters,strides):\n",
    "    x = depth_block(x,strides)\n",
    "    x = single_conv_block(x, filters)\n",
    "    return x"
   ]
  },
  {
   "cell_type": "code",
   "execution_count": 8,
   "id": "fb2c4901",
   "metadata": {
    "execution": {
     "iopub.execute_input": "2023-02-15T01:44:43.717700Z",
     "iopub.status.busy": "2023-02-15T01:44:43.717455Z",
     "iopub.status.idle": "2023-02-15T01:44:43.726598Z",
     "shell.execute_reply": "2023-02-15T01:44:43.725814Z"
    },
    "papermill": {
     "duration": 0.015867,
     "end_time": "2023-02-15T01:44:43.728553",
     "exception": false,
     "start_time": "2023-02-15T01:44:43.712686",
     "status": "completed"
    },
    "tags": []
   },
   "outputs": [],
   "source": [
    "def MobileNet(input_shape=(224,224,3),n_classes = 2):\n",
    "    input =Input( input_shape)\n",
    "    x = Conv2D(32,3,strides=(2,2),padding = 'same', use_bias=False) (input)\n",
    "    x =  BatchNormalization()(x)\n",
    "    x = ReLU()(x)\n",
    "    x = combo_layer(x,64, strides=(1,1))\n",
    "    x = combo_layer(x,128,strides=(2,2))\n",
    "    x = combo_layer(x,128,strides=(1,1))\n",
    "    x = combo_layer(x,256,strides=(2,2))\n",
    "    x = combo_layer(x,256,strides=(1,1))\n",
    "    x = combo_layer(x,512,strides=(2,2))\n",
    "    for _ in range(5):\n",
    "        x = combo_layer(x,512,strides=(1,1))\n",
    "    x = combo_layer(x,1024,strides=(2,2))\n",
    "    x = combo_layer(x,1024,strides=(1,1))\n",
    "    x = GlobalAveragePooling2D()(x)\n",
    "    output = Dense(n_classes,activation='sigmoid')(x)\n",
    "    model = Model(input, output)\n",
    "    return model"
   ]
  },
  {
   "cell_type": "code",
   "execution_count": 9,
   "id": "44a14214",
   "metadata": {
    "execution": {
     "iopub.execute_input": "2023-02-15T01:44:43.738011Z",
     "iopub.status.busy": "2023-02-15T01:44:43.737473Z",
     "iopub.status.idle": "2023-02-15T01:44:47.271895Z",
     "shell.execute_reply": "2023-02-15T01:44:47.270921Z"
    },
    "papermill": {
     "duration": 3.542644,
     "end_time": "2023-02-15T01:44:47.275188",
     "exception": false,
     "start_time": "2023-02-15T01:44:43.732544",
     "status": "completed"
    },
    "tags": []
   },
   "outputs": [
    {
     "name": "stderr",
     "output_type": "stream",
     "text": [
      "2023-02-15 01:44:43.843093: I tensorflow/stream_executor/cuda/cuda_gpu_executor.cc:937] successful NUMA node read from SysFS had negative value (-1), but there must be at least one NUMA node, so returning NUMA node zero\n",
      "2023-02-15 01:44:44.003943: I tensorflow/stream_executor/cuda/cuda_gpu_executor.cc:937] successful NUMA node read from SysFS had negative value (-1), but there must be at least one NUMA node, so returning NUMA node zero\n",
      "2023-02-15 01:44:44.004992: I tensorflow/stream_executor/cuda/cuda_gpu_executor.cc:937] successful NUMA node read from SysFS had negative value (-1), but there must be at least one NUMA node, so returning NUMA node zero\n",
      "2023-02-15 01:44:44.006517: I tensorflow/core/platform/cpu_feature_guard.cc:142] This TensorFlow binary is optimized with oneAPI Deep Neural Network Library (oneDNN) to use the following CPU instructions in performance-critical operations:  AVX2 AVX512F FMA\n",
      "To enable them in other operations, rebuild TensorFlow with the appropriate compiler flags.\n",
      "2023-02-15 01:44:44.006834: I tensorflow/stream_executor/cuda/cuda_gpu_executor.cc:937] successful NUMA node read from SysFS had negative value (-1), but there must be at least one NUMA node, so returning NUMA node zero\n",
      "2023-02-15 01:44:44.007592: I tensorflow/stream_executor/cuda/cuda_gpu_executor.cc:937] successful NUMA node read from SysFS had negative value (-1), but there must be at least one NUMA node, so returning NUMA node zero\n",
      "2023-02-15 01:44:44.008250: I tensorflow/stream_executor/cuda/cuda_gpu_executor.cc:937] successful NUMA node read from SysFS had negative value (-1), but there must be at least one NUMA node, so returning NUMA node zero\n",
      "2023-02-15 01:44:46.295225: I tensorflow/stream_executor/cuda/cuda_gpu_executor.cc:937] successful NUMA node read from SysFS had negative value (-1), but there must be at least one NUMA node, so returning NUMA node zero\n",
      "2023-02-15 01:44:46.296081: I tensorflow/stream_executor/cuda/cuda_gpu_executor.cc:937] successful NUMA node read from SysFS had negative value (-1), but there must be at least one NUMA node, so returning NUMA node zero\n",
      "2023-02-15 01:44:46.296731: I tensorflow/stream_executor/cuda/cuda_gpu_executor.cc:937] successful NUMA node read from SysFS had negative value (-1), but there must be at least one NUMA node, so returning NUMA node zero\n",
      "2023-02-15 01:44:46.297347: I tensorflow/core/common_runtime/gpu/gpu_device.cc:1510] Created device /job:localhost/replica:0/task:0/device:GPU:0 with 15401 MB memory:  -> device: 0, name: Tesla P100-PCIE-16GB, pci bus id: 0000:00:04.0, compute capability: 6.0\n"
     ]
    },
    {
     "name": "stdout",
     "output_type": "stream",
     "text": [
      "Model: \"model\"\n",
      "_________________________________________________________________\n",
      "Layer (type)                 Output Shape              Param #   \n",
      "=================================================================\n",
      "input_1 (InputLayer)         [(None, 224, 224, 3)]     0         \n",
      "_________________________________________________________________\n",
      "conv2d (Conv2D)              (None, 112, 112, 32)      864       \n",
      "_________________________________________________________________\n",
      "batch_normalization (BatchNo (None, 112, 112, 32)      128       \n",
      "_________________________________________________________________\n",
      "re_lu (ReLU)                 (None, 112, 112, 32)      0         \n",
      "_________________________________________________________________\n",
      "depthwise_conv2d (DepthwiseC (None, 112, 112, 32)      288       \n",
      "_________________________________________________________________\n",
      "batch_normalization_1 (Batch (None, 112, 112, 32)      128       \n",
      "_________________________________________________________________\n",
      "re_lu_1 (ReLU)               (None, 112, 112, 32)      0         \n",
      "_________________________________________________________________\n",
      "conv2d_1 (Conv2D)            (None, 112, 112, 64)      2048      \n",
      "_________________________________________________________________\n",
      "batch_normalization_2 (Batch (None, 112, 112, 64)      256       \n",
      "_________________________________________________________________\n",
      "re_lu_2 (ReLU)               (None, 112, 112, 64)      0         \n",
      "_________________________________________________________________\n",
      "depthwise_conv2d_1 (Depthwis (None, 56, 56, 64)        576       \n",
      "_________________________________________________________________\n",
      "batch_normalization_3 (Batch (None, 56, 56, 64)        256       \n",
      "_________________________________________________________________\n",
      "re_lu_3 (ReLU)               (None, 56, 56, 64)        0         \n",
      "_________________________________________________________________\n",
      "conv2d_2 (Conv2D)            (None, 56, 56, 128)       8192      \n",
      "_________________________________________________________________\n",
      "batch_normalization_4 (Batch (None, 56, 56, 128)       512       \n",
      "_________________________________________________________________\n",
      "re_lu_4 (ReLU)               (None, 56, 56, 128)       0         \n",
      "_________________________________________________________________\n",
      "depthwise_conv2d_2 (Depthwis (None, 56, 56, 128)       1152      \n",
      "_________________________________________________________________\n",
      "batch_normalization_5 (Batch (None, 56, 56, 128)       512       \n",
      "_________________________________________________________________\n",
      "re_lu_5 (ReLU)               (None, 56, 56, 128)       0         \n",
      "_________________________________________________________________\n",
      "conv2d_3 (Conv2D)            (None, 56, 56, 128)       16384     \n",
      "_________________________________________________________________\n",
      "batch_normalization_6 (Batch (None, 56, 56, 128)       512       \n",
      "_________________________________________________________________\n",
      "re_lu_6 (ReLU)               (None, 56, 56, 128)       0         \n",
      "_________________________________________________________________\n",
      "depthwise_conv2d_3 (Depthwis (None, 28, 28, 128)       1152      \n",
      "_________________________________________________________________\n",
      "batch_normalization_7 (Batch (None, 28, 28, 128)       512       \n",
      "_________________________________________________________________\n",
      "re_lu_7 (ReLU)               (None, 28, 28, 128)       0         \n",
      "_________________________________________________________________\n",
      "conv2d_4 (Conv2D)            (None, 28, 28, 256)       32768     \n",
      "_________________________________________________________________\n",
      "batch_normalization_8 (Batch (None, 28, 28, 256)       1024      \n",
      "_________________________________________________________________\n",
      "re_lu_8 (ReLU)               (None, 28, 28, 256)       0         \n",
      "_________________________________________________________________\n",
      "depthwise_conv2d_4 (Depthwis (None, 28, 28, 256)       2304      \n",
      "_________________________________________________________________\n",
      "batch_normalization_9 (Batch (None, 28, 28, 256)       1024      \n",
      "_________________________________________________________________\n",
      "re_lu_9 (ReLU)               (None, 28, 28, 256)       0         \n",
      "_________________________________________________________________\n",
      "conv2d_5 (Conv2D)            (None, 28, 28, 256)       65536     \n",
      "_________________________________________________________________\n",
      "batch_normalization_10 (Batc (None, 28, 28, 256)       1024      \n",
      "_________________________________________________________________\n",
      "re_lu_10 (ReLU)              (None, 28, 28, 256)       0         \n",
      "_________________________________________________________________\n",
      "depthwise_conv2d_5 (Depthwis (None, 14, 14, 256)       2304      \n",
      "_________________________________________________________________\n",
      "batch_normalization_11 (Batc (None, 14, 14, 256)       1024      \n",
      "_________________________________________________________________\n",
      "re_lu_11 (ReLU)              (None, 14, 14, 256)       0         \n",
      "_________________________________________________________________\n",
      "conv2d_6 (Conv2D)            (None, 14, 14, 512)       131072    \n",
      "_________________________________________________________________\n",
      "batch_normalization_12 (Batc (None, 14, 14, 512)       2048      \n",
      "_________________________________________________________________\n",
      "re_lu_12 (ReLU)              (None, 14, 14, 512)       0         \n",
      "_________________________________________________________________\n",
      "depthwise_conv2d_6 (Depthwis (None, 14, 14, 512)       4608      \n",
      "_________________________________________________________________\n",
      "batch_normalization_13 (Batc (None, 14, 14, 512)       2048      \n",
      "_________________________________________________________________\n",
      "re_lu_13 (ReLU)              (None, 14, 14, 512)       0         \n",
      "_________________________________________________________________\n",
      "conv2d_7 (Conv2D)            (None, 14, 14, 512)       262144    \n",
      "_________________________________________________________________\n",
      "batch_normalization_14 (Batc (None, 14, 14, 512)       2048      \n",
      "_________________________________________________________________\n",
      "re_lu_14 (ReLU)              (None, 14, 14, 512)       0         \n",
      "_________________________________________________________________\n",
      "depthwise_conv2d_7 (Depthwis (None, 14, 14, 512)       4608      \n",
      "_________________________________________________________________\n",
      "batch_normalization_15 (Batc (None, 14, 14, 512)       2048      \n",
      "_________________________________________________________________\n",
      "re_lu_15 (ReLU)              (None, 14, 14, 512)       0         \n",
      "_________________________________________________________________\n",
      "conv2d_8 (Conv2D)            (None, 14, 14, 512)       262144    \n",
      "_________________________________________________________________\n",
      "batch_normalization_16 (Batc (None, 14, 14, 512)       2048      \n",
      "_________________________________________________________________\n",
      "re_lu_16 (ReLU)              (None, 14, 14, 512)       0         \n",
      "_________________________________________________________________\n",
      "depthwise_conv2d_8 (Depthwis (None, 14, 14, 512)       4608      \n",
      "_________________________________________________________________\n",
      "batch_normalization_17 (Batc (None, 14, 14, 512)       2048      \n",
      "_________________________________________________________________\n",
      "re_lu_17 (ReLU)              (None, 14, 14, 512)       0         \n",
      "_________________________________________________________________\n",
      "conv2d_9 (Conv2D)            (None, 14, 14, 512)       262144    \n",
      "_________________________________________________________________\n",
      "batch_normalization_18 (Batc (None, 14, 14, 512)       2048      \n",
      "_________________________________________________________________\n",
      "re_lu_18 (ReLU)              (None, 14, 14, 512)       0         \n",
      "_________________________________________________________________\n",
      "depthwise_conv2d_9 (Depthwis (None, 14, 14, 512)       4608      \n",
      "_________________________________________________________________\n",
      "batch_normalization_19 (Batc (None, 14, 14, 512)       2048      \n",
      "_________________________________________________________________\n",
      "re_lu_19 (ReLU)              (None, 14, 14, 512)       0         \n",
      "_________________________________________________________________\n",
      "conv2d_10 (Conv2D)           (None, 14, 14, 512)       262144    \n",
      "_________________________________________________________________\n",
      "batch_normalization_20 (Batc (None, 14, 14, 512)       2048      \n",
      "_________________________________________________________________\n",
      "re_lu_20 (ReLU)              (None, 14, 14, 512)       0         \n",
      "_________________________________________________________________\n",
      "depthwise_conv2d_10 (Depthwi (None, 14, 14, 512)       4608      \n",
      "_________________________________________________________________\n",
      "batch_normalization_21 (Batc (None, 14, 14, 512)       2048      \n",
      "_________________________________________________________________\n",
      "re_lu_21 (ReLU)              (None, 14, 14, 512)       0         \n",
      "_________________________________________________________________\n",
      "conv2d_11 (Conv2D)           (None, 14, 14, 512)       262144    \n",
      "_________________________________________________________________\n",
      "batch_normalization_22 (Batc (None, 14, 14, 512)       2048      \n",
      "_________________________________________________________________\n",
      "re_lu_22 (ReLU)              (None, 14, 14, 512)       0         \n",
      "_________________________________________________________________\n",
      "depthwise_conv2d_11 (Depthwi (None, 7, 7, 512)         4608      \n",
      "_________________________________________________________________\n",
      "batch_normalization_23 (Batc (None, 7, 7, 512)         2048      \n",
      "_________________________________________________________________\n",
      "re_lu_23 (ReLU)              (None, 7, 7, 512)         0         \n",
      "_________________________________________________________________\n",
      "conv2d_12 (Conv2D)           (None, 7, 7, 1024)        524288    \n",
      "_________________________________________________________________\n",
      "batch_normalization_24 (Batc (None, 7, 7, 1024)        4096      \n",
      "_________________________________________________________________\n",
      "re_lu_24 (ReLU)              (None, 7, 7, 1024)        0         \n",
      "_________________________________________________________________\n",
      "depthwise_conv2d_12 (Depthwi (None, 7, 7, 1024)        9216      \n",
      "_________________________________________________________________\n",
      "batch_normalization_25 (Batc (None, 7, 7, 1024)        4096      \n",
      "_________________________________________________________________\n",
      "re_lu_25 (ReLU)              (None, 7, 7, 1024)        0         \n",
      "_________________________________________________________________\n",
      "conv2d_13 (Conv2D)           (None, 7, 7, 1024)        1048576   \n",
      "_________________________________________________________________\n",
      "batch_normalization_26 (Batc (None, 7, 7, 1024)        4096      \n",
      "_________________________________________________________________\n",
      "re_lu_26 (ReLU)              (None, 7, 7, 1024)        0         \n",
      "_________________________________________________________________\n",
      "global_average_pooling2d (Gl (None, 1024)              0         \n",
      "_________________________________________________________________\n",
      "dense (Dense)                (None, 1)                 1025      \n",
      "=================================================================\n",
      "Total params: 3,229,889\n",
      "Trainable params: 3,208,001\n",
      "Non-trainable params: 21,888\n",
      "_________________________________________________________________\n"
     ]
    }
   ],
   "source": [
    "n_classes = 1\n",
    "input_shape = (224,224,3)\n",
    "model = MobileNet(input_shape,n_classes)\n",
    "model.summary()"
   ]
  },
  {
   "cell_type": "code",
   "execution_count": 10,
   "id": "1ded58b3",
   "metadata": {
    "execution": {
     "iopub.execute_input": "2023-02-15T01:44:47.287261Z",
     "iopub.status.busy": "2023-02-15T01:44:47.286443Z",
     "iopub.status.idle": "2023-02-15T01:53:11.796285Z",
     "shell.execute_reply": "2023-02-15T01:53:11.795075Z"
    },
    "papermill": {
     "duration": 504.518976,
     "end_time": "2023-02-15T01:53:11.799640",
     "exception": false,
     "start_time": "2023-02-15T01:44:47.280664",
     "status": "completed"
    },
    "tags": []
   },
   "outputs": [
    {
     "name": "stderr",
     "output_type": "stream",
     "text": [
      "2023-02-15 01:44:47.884680: I tensorflow/compiler/mlir/mlir_graph_optimization_pass.cc:185] None of the MLIR Optimization Passes are enabled (registered 2)\n"
     ]
    },
    {
     "name": "stdout",
     "output_type": "stream",
     "text": [
      "Epoch 1/50\n"
     ]
    },
    {
     "name": "stderr",
     "output_type": "stream",
     "text": [
      "2023-02-15 01:44:51.485232: I tensorflow/stream_executor/cuda/cuda_dnn.cc:369] Loaded cuDNN version 8005\n"
     ]
    },
    {
     "name": "stdout",
     "output_type": "stream",
     "text": [
      "20/20 [==============================] - 22s 630ms/step - loss: 0.7455 - acc: 0.5500 - val_loss: 0.6992 - val_acc: 0.5000\n",
      "\n",
      "Epoch 00001: val_acc improved from -inf to 0.50000, saving model to /kaggle/working/mobilenet_v1.h5\n",
      "Epoch 2/50\n",
      "20/20 [==============================] - 11s 525ms/step - loss: 0.7304 - acc: 0.5531\n",
      "Epoch 3/50\n",
      "20/20 [==============================] - 10s 478ms/step - loss: 0.6943 - acc: 0.5813\n",
      "Epoch 4/50\n",
      "20/20 [==============================] - 10s 481ms/step - loss: 0.6997 - acc: 0.5656\n",
      "Epoch 5/50\n",
      "20/20 [==============================] - 9s 448ms/step - loss: 0.6228 - acc: 0.6562\n",
      "Epoch 6/50\n",
      "20/20 [==============================] - 9s 445ms/step - loss: 0.6371 - acc: 0.6422\n",
      "Epoch 7/50\n",
      "20/20 [==============================] - 9s 464ms/step - loss: 0.6337 - acc: 0.6429\n",
      "Epoch 8/50\n",
      "20/20 [==============================] - 9s 447ms/step - loss: 0.6267 - acc: 0.6734\n",
      "Epoch 9/50\n",
      "20/20 [==============================] - 9s 441ms/step - loss: 0.6547 - acc: 0.6078\n",
      "Epoch 10/50\n",
      "20/20 [==============================] - 8s 403ms/step - loss: 0.6502 - acc: 0.6071\n",
      "Epoch 11/50\n",
      "20/20 [==============================] - 9s 432ms/step - loss: 0.6097 - acc: 0.6916\n",
      "Epoch 12/50\n",
      "20/20 [==============================] - 9s 433ms/step - loss: 0.6064 - acc: 0.6719\n",
      "Epoch 13/50\n",
      "20/20 [==============================] - 9s 420ms/step - loss: 0.6064 - acc: 0.6656\n",
      "Epoch 14/50\n",
      "20/20 [==============================] - 9s 456ms/step - loss: 0.6091 - acc: 0.6672\n",
      "Epoch 15/50\n",
      "20/20 [==============================] - 9s 430ms/step - loss: 0.5850 - acc: 0.6859\n",
      "Epoch 16/50\n",
      "20/20 [==============================] - 8s 403ms/step - loss: 0.5885 - acc: 0.6916\n",
      "Epoch 17/50\n",
      "20/20 [==============================] - 9s 449ms/step - loss: 0.6398 - acc: 0.6141\n",
      "Epoch 18/50\n",
      "20/20 [==============================] - 8s 399ms/step - loss: 0.5719 - acc: 0.7045\n",
      "Epoch 19/50\n",
      "20/20 [==============================] - 8s 411ms/step - loss: 0.6003 - acc: 0.6445\n",
      "Epoch 20/50\n",
      "20/20 [==============================] - 9s 438ms/step - loss: 0.6310 - acc: 0.6297\n",
      "Epoch 21/50\n",
      "20/20 [==============================] - 9s 423ms/step - loss: 0.6247 - acc: 0.6562\n",
      "Epoch 22/50\n",
      "20/20 [==============================] - 9s 427ms/step - loss: 0.5759 - acc: 0.7031\n",
      "Epoch 23/50\n",
      "20/20 [==============================] - 9s 427ms/step - loss: 0.5724 - acc: 0.6891\n",
      "Epoch 24/50\n",
      "20/20 [==============================] - 9s 434ms/step - loss: 0.5772 - acc: 0.6899\n",
      "Epoch 25/50\n",
      "20/20 [==============================] - 9s 421ms/step - loss: 0.5839 - acc: 0.6938\n",
      "Epoch 26/50\n",
      "20/20 [==============================] - 8s 399ms/step - loss: 0.5527 - acc: 0.7045\n",
      "Epoch 27/50\n",
      "20/20 [==============================] - 9s 448ms/step - loss: 0.5699 - acc: 0.7094\n",
      "Epoch 28/50\n",
      "20/20 [==============================] - 9s 434ms/step - loss: 0.5514 - acc: 0.7203\n",
      "Epoch 29/50\n",
      "20/20 [==============================] - 9s 426ms/step - loss: 0.5884 - acc: 0.7047\n",
      "Epoch 30/50\n",
      "20/20 [==============================] - 9s 453ms/step - loss: 0.5737 - acc: 0.7047\n",
      "Epoch 31/50\n",
      "20/20 [==============================] - 8s 414ms/step - loss: 0.5864 - acc: 0.6656\n",
      "Epoch 32/50\n",
      "20/20 [==============================] - 8s 409ms/step - loss: 0.5592 - acc: 0.7047\n",
      "Epoch 33/50\n",
      "20/20 [==============================] - 9s 420ms/step - loss: 0.5698 - acc: 0.7078\n",
      "Epoch 34/50\n",
      "20/20 [==============================] - 9s 462ms/step - loss: 0.5818 - acc: 0.6875\n",
      "Epoch 35/50\n",
      "20/20 [==============================] - 9s 429ms/step - loss: 0.5510 - acc: 0.7094\n",
      "Epoch 36/50\n",
      "20/20 [==============================] - 9s 427ms/step - loss: 0.5899 - acc: 0.6875\n",
      "Epoch 37/50\n",
      "20/20 [==============================] - 9s 441ms/step - loss: 0.5665 - acc: 0.7047\n",
      "Epoch 38/50\n",
      "20/20 [==============================] - 8s 417ms/step - loss: 0.5434 - acc: 0.7266\n",
      "Epoch 39/50\n",
      "20/20 [==============================] - 8s 401ms/step - loss: 0.5496 - acc: 0.7094\n",
      "Epoch 40/50\n",
      "20/20 [==============================] - 9s 425ms/step - loss: 0.5391 - acc: 0.7016\n",
      "Epoch 41/50\n",
      "20/20 [==============================] - 9s 426ms/step - loss: 0.5421 - acc: 0.7219\n",
      "Epoch 42/50\n",
      "20/20 [==============================] - 9s 426ms/step - loss: 0.5420 - acc: 0.7359\n",
      "Epoch 43/50\n",
      "20/20 [==============================] - 9s 423ms/step - loss: 0.5526 - acc: 0.6984\n",
      "Epoch 44/50\n",
      "20/20 [==============================] - 9s 418ms/step - loss: 0.5737 - acc: 0.7062\n",
      "Epoch 45/50\n",
      "20/20 [==============================] - 9s 420ms/step - loss: 0.5588 - acc: 0.7203\n",
      "Epoch 46/50\n",
      "20/20 [==============================] - 9s 426ms/step - loss: 0.5440 - acc: 0.7234\n",
      "Epoch 47/50\n",
      "20/20 [==============================] - 9s 445ms/step - loss: 0.5241 - acc: 0.7250\n",
      "Epoch 48/50\n",
      "20/20 [==============================] - 8s 407ms/step - loss: 0.5472 - acc: 0.7094\n",
      "Epoch 49/50\n",
      "20/20 [==============================] - 9s 432ms/step - loss: 0.5420 - acc: 0.7125\n",
      "Epoch 50/50\n",
      "20/20 [==============================] - 9s 447ms/step - loss: 0.5535 - acc: 0.7188\n"
     ]
    }
   ],
   "source": [
    "checkpoint = ModelCheckpoint(\"/kaggle/working/mobilenet_v1.h5\", monitor='val_acc', verbose=1, save_best_only=True, save_weights_only=False, mode='auto')\n",
    "early = EarlyStopping(monitor='val_acc', min_delta=1, patience=10, verbose=1, mode='min')\n",
    "model.compile( optimizer=\"adam\",loss=tf.keras.losses.BinaryCrossentropy(),metrics=['acc'])\n",
    "hist = model.fit(traindata, validation_data= validData, validation_steps=50,epochs=50 , steps_per_epoch=20,callbacks=[checkpoint,early])"
   ]
  },
  {
   "cell_type": "code",
   "execution_count": 11,
   "id": "6b5606f1",
   "metadata": {
    "execution": {
     "iopub.execute_input": "2023-02-15T01:53:11.920212Z",
     "iopub.status.busy": "2023-02-15T01:53:11.919842Z",
     "iopub.status.idle": "2023-02-15T01:53:12.161466Z",
     "shell.execute_reply": "2023-02-15T01:53:12.160512Z"
    },
    "papermill": {
     "duration": 0.303978,
     "end_time": "2023-02-15T01:53:12.163874",
     "exception": false,
     "start_time": "2023-02-15T01:53:11.859896",
     "status": "completed"
    },
    "tags": []
   },
   "outputs": [
    {
     "data": {
      "image/png": "[encoded data removed]",
      "text/plain": [
       "<Figure size 432x288 with 1 Axes>"
      ]
     },
     "metadata": {
      "needs_background": "light"
     },
     "output_type": "display_data"
    }
   ],
   "source": [
    "import matplotlib.pyplot as plt\n",
    "plt.plot(hist.history[\"acc\"])\n",
    "plt.plot(hist.history['val_acc'])\n",
    "plt.plot(hist.history['loss'])\n",
    "plt.plot(hist.history['val_loss'])\n",
    "plt.title(\"model accuracy\")\n",
    "plt.ylabel(\"Accuracy\")\n",
    "plt.xlabel(\"Epoch\")\n",
    "plt.legend([\"Accuracy\",\"Validation Accuracy\",\"loss\",\"Validation Loss\"])\n",
    "plt.show()"
   ]
  },
  {
   "cell_type": "code",
   "execution_count": 12,
   "id": "87d4faa2",
   "metadata": {
    "execution": {
     "iopub.execute_input": "2023-02-15T01:53:12.285590Z",
     "iopub.status.busy": "2023-02-15T01:53:12.283626Z",
     "iopub.status.idle": "2023-02-15T01:53:53.658965Z",
     "shell.execute_reply": "2023-02-15T01:53:53.658027Z"
    },
    "papermill": {
     "duration": 41.437682,
     "end_time": "2023-02-15T01:53:53.661167",
     "exception": false,
     "start_time": "2023-02-15T01:53:12.223485",
     "status": "completed"
    },
    "tags": []
   },
   "outputs": [
    {
     "name": "stdout",
     "output_type": "stream",
     "text": [
      "80/80 [==============================] - 31s 387ms/step - loss: 0.6332 - acc: 0.6719\n"
     ]
    },
    {
     "data": {
      "text/plain": [
       "[0.633175790309906, 0.6719242930412292]"
      ]
     },
     "execution_count": 12,
     "metadata": {},
     "output_type": "execute_result"
    }
   ],
   "source": [
    "model.evaluate(traindata)"
   ]
  },
  {
   "cell_type": "code",
   "execution_count": 13,
   "id": "b0da3d14",
   "metadata": {
    "execution": {
     "iopub.execute_input": "2023-02-15T01:53:53.789315Z",
     "iopub.status.busy": "2023-02-15T01:53:53.787730Z",
     "iopub.status.idle": "2023-02-15T01:53:55.400946Z",
     "shell.execute_reply": "2023-02-15T01:53:55.399949Z"
    },
    "papermill": {
     "duration": 1.678562,
     "end_time": "2023-02-15T01:53:55.402997",
     "exception": false,
     "start_time": "2023-02-15T01:53:53.724435",
     "status": "completed"
    },
    "tags": []
   },
   "outputs": [
    {
     "name": "stdout",
     "output_type": "stream",
     "text": [
      "4/4 [==============================] - 1s 260ms/step - loss: 0.5940 - acc: 0.7400\n"
     ]
    },
    {
     "data": {
      "text/plain": [
       "[0.5940041542053223, 0.7400000095367432]"
      ]
     },
     "execution_count": 13,
     "metadata": {},
     "output_type": "execute_result"
    }
   ],
   "source": [
    "model.evaluate(validData)"
   ]
  },
  {
   "cell_type": "code",
   "execution_count": 14,
   "id": "d66b692d",
   "metadata": {
    "execution": {
     "iopub.execute_input": "2023-02-15T01:53:55.530348Z",
     "iopub.status.busy": "2023-02-15T01:53:55.529445Z",
     "iopub.status.idle": "2023-02-15T01:54:00.703367Z",
     "shell.execute_reply": "2023-02-15T01:54:00.702392Z"
    },
    "papermill": {
     "duration": 5.238955,
     "end_time": "2023-02-15T01:54:00.705412",
     "exception": false,
     "start_time": "2023-02-15T01:53:55.466457",
     "status": "completed"
    },
    "tags": []
   },
   "outputs": [
    {
     "name": "stdout",
     "output_type": "stream",
     "text": [
      "10/10 [==============================] - 5s 470ms/step - loss: 0.6121 - acc: 0.6833\n"
     ]
    },
    {
     "data": {
      "text/plain": [
       "[0.6120654344558716, 0.6833333373069763]"
      ]
     },
     "execution_count": 14,
     "metadata": {},
     "output_type": "execute_result"
    }
   ],
   "source": [
    "model.evaluate(testdata)"
   ]
  },
  {
   "cell_type": "code",
   "execution_count": null,
   "id": "6b04ec18",
   "metadata": {
    "papermill": {
     "duration": 0.062923,
     "end_time": "2023-02-15T01:54:00.832522",
     "exception": false,
     "start_time": "2023-02-15T01:54:00.769599",
     "status": "completed"
    },
    "tags": []
   },
   "outputs": [],
   "source": []
  }
 ],
 "metadata": {
  "kernelspec": {
   "display_name": "Python 3",
   "language": "python",
   "name": "python3"
  },
  "language_info": {
   "codemirror_mode": {
    "name": "ipython",
    "version": 3
   },
   "file_extension": ".py",
   "mimetype": "text/x-python",
   "name": "python",
   "nbconvert_exporter": "python",
   "pygments_lexer": "ipython3",
   "version": "3.7.12"
  },
  "papermill": {
   "default_parameters": {},
   "duration": 575.580781,
   "end_time": "2023-02-15T01:54:04.612567",
   "environment_variables": {},
   "exception": null,
   "input_path": "__notebook__.ipynb",
   "output_path": "__notebook__.ipynb",
   "parameters": {},
   "start_time": "2023-02-15T01:44:29.031786",
   "version": "2.3.4"
  }
 },
 "nbformat": 4,
 "nbformat_minor": 5
}
