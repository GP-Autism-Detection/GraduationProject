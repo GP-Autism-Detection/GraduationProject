{
 "cells": [
  {
   "cell_type": "markdown",
   "id": "e7ce83ca",
   "metadata": {
    "_cell_guid": "b1076dfc-b9ad-4769-8c92-a6c4dae69d19",
    "_uuid": "8f2839f25d086af736a60e9eeb907d3b93b6e0e5",
    "execution": {
     "iopub.execute_input": "2022-12-29T21:28:25.582495Z",
     "iopub.status.busy": "2022-12-29T21:28:25.582065Z",
     "iopub.status.idle": "2022-12-29T21:28:28.685002Z",
     "shell.execute_reply": "2022-12-29T21:28:28.684010Z",
     "shell.execute_reply.started": "2022-12-29T21:28:25.582410Z"
    },
    "papermill": {
     "duration": 0.004319,
     "end_time": "2023-02-15T01:13:20.370021",
     "exception": false,
     "start_time": "2023-02-15T01:13:20.365702",
     "status": "completed"
    },
    "tags": []
   },
   "source": [
    "###### This Python 3 environment comes with many helpful analytics libraries installed\n",
    "# It is defined by the kaggle/python Docker image: https://github.com/kaggle/docker-python\n",
    "# For example, here's several helpful packages to load\n",
    "\n",
    "import numpy as np # linear algebra\n",
    "import pandas as pd # data processing, CSV file I/O (e.g. pd.read_csv)\n",
    "\n",
    "# Input data files are available in the read-only \"../input/\" directory\n",
    "# For example, running this (by clicking run or pressing Shift+Enter) will list all files under the input directory\n",
    "\n",
    "import os\n",
    "for dirname, _, filenames in os.walk('/kaggle/input'):\n",
    "    for filename in filenames:\n",
    "        os.path.join(dirname, filename)\n",
    "\n",
    "# You can write up to 20GB to the current directory (/kaggle/working/) that gets preserved as output when you create a version using \"Save & Run All\" \n",
    "# You can also write temporary files to /kaggle/temp/, but they won't be saved outside of the current session\n",
    " "
   ]
  },
  {
   "cell_type": "code",
   "execution_count": 1,
   "id": "62362d67",
   "metadata": {
    "execution": {
     "iopub.execute_input": "2023-02-15T01:13:20.379118Z",
     "iopub.status.busy": "2023-02-15T01:13:20.378016Z",
     "iopub.status.idle": "2023-02-15T01:13:25.990268Z",
     "shell.execute_reply": "2023-02-15T01:13:25.989274Z"
    },
    "papermill": {
     "duration": 5.619397,
     "end_time": "2023-02-15T01:13:25.992794",
     "exception": false,
     "start_time": "2023-02-15T01:13:20.373397",
     "status": "completed"
    },
    "tags": []
   },
   "outputs": [],
   "source": [
    "#import libraries\n",
    "import tensorflow as tf\n",
    "import keras\n",
    "from keras.models import Sequential , Model\n",
    "from keras.applications.vgg16 import VGG16\n",
    "from keras.layers import Dense\n",
    "from keras.layers import Flatten\n",
    "from tensorflow.keras.optimizers import Adam\n",
    "from tensorflow.keras.preprocessing.image import ImageDataGenerator\n",
    "from keras.callbacks import ModelCheckpoint, EarlyStopping\n",
    "from keras.layers import Input, Add, Activation, ZeroPadding2D, BatchNormalization, AveragePooling2D, MaxPooling2D, GlobalMaxPooling2D , Dense, Conv2D, MaxPool2D , Flatten , concatenate ,DepthwiseConv2D, GlobalAveragePooling2D , ReLU"
   ]
  },
  {
   "cell_type": "code",
   "execution_count": 2,
   "id": "4fc1f206",
   "metadata": {
    "execution": {
     "iopub.execute_input": "2023-02-15T01:13:26.001113Z",
     "iopub.status.busy": "2023-02-15T01:13:26.000576Z",
     "iopub.status.idle": "2023-02-15T01:13:26.006053Z",
     "shell.execute_reply": "2023-02-15T01:13:26.005099Z"
    },
    "papermill": {
     "duration": 0.012781,
     "end_time": "2023-02-15T01:13:26.009094",
     "exception": false,
     "start_time": "2023-02-15T01:13:25.996313",
     "status": "completed"
    },
    "tags": []
   },
   "outputs": [
    {
     "name": "stdout",
     "output_type": "stream",
     "text": [
      "2.6.4\n"
     ]
    }
   ],
   "source": [
    "print(tf.__version__)"
   ]
  },
  {
   "cell_type": "code",
   "execution_count": 3,
   "id": "06cf4f9c",
   "metadata": {
    "execution": {
     "iopub.execute_input": "2023-02-15T01:13:26.017391Z",
     "iopub.status.busy": "2023-02-15T01:13:26.016500Z",
     "iopub.status.idle": "2023-02-15T01:13:26.022517Z",
     "shell.execute_reply": "2023-02-15T01:13:26.021337Z"
    },
    "papermill": {
     "duration": 0.012574,
     "end_time": "2023-02-15T01:13:26.024994",
     "exception": false,
     "start_time": "2023-02-15T01:13:26.012420",
     "status": "completed"
    },
    "tags": []
   },
   "outputs": [
    {
     "name": "stdout",
     "output_type": "stream",
     "text": [
      "2.6.0\n"
     ]
    }
   ],
   "source": [
    "print(keras.__version__)"
   ]
  },
  {
   "cell_type": "markdown",
   "id": "7b0c21f4",
   "metadata": {
    "papermill": {
     "duration": 0.003174,
     "end_time": "2023-02-15T01:13:26.031872",
     "exception": false,
     "start_time": "2023-02-15T01:13:26.028698",
     "status": "completed"
    },
    "tags": []
   },
   "source": [
    "# # Preparing Dataset"
   ]
  },
  {
   "cell_type": "code",
   "execution_count": 4,
   "id": "d82dca20",
   "metadata": {
    "execution": {
     "iopub.execute_input": "2023-02-15T01:13:26.039794Z",
     "iopub.status.busy": "2023-02-15T01:13:26.039514Z",
     "iopub.status.idle": "2023-02-15T01:13:26.045101Z",
     "shell.execute_reply": "2023-02-15T01:13:26.044138Z"
    },
    "papermill": {
     "duration": 0.011888,
     "end_time": "2023-02-15T01:13:26.047090",
     "exception": false,
     "start_time": "2023-02-15T01:13:26.035202",
     "status": "completed"
    },
    "tags": []
   },
   "outputs": [],
   "source": [
    "photo_size = 224\n",
    "def prepare_dataset(data_dir):\n",
    "    datagen = ImageDataGenerator(\n",
    "        rescale=1 / 255,\n",
    "        rotation_range=40,\n",
    "        width_shift_range=.2,\n",
    "        height_shift_range=.2,\n",
    "        shear_range=.1,\n",
    "        horizontal_flip=True,\n",
    "        fill_mode='nearest',\n",
    "        zoom_range=.2,\n",
    "    )\n",
    "    generator = datagen.flow_from_directory(\n",
    "        data_dir,\n",
    "        target_size=(photo_size,photo_size),\n",
    "        class_mode='binary',\n",
    "        batch_size=32,\n",
    "        classes=['non_autistic','autistic']\n",
    "    )\n",
    "    return generator"
   ]
  },
  {
   "cell_type": "markdown",
   "id": "8c95f03f",
   "metadata": {
    "papermill": {
     "duration": 0.003311,
     "end_time": "2023-02-15T01:13:26.053933",
     "exception": false,
     "start_time": "2023-02-15T01:13:26.050622",
     "status": "completed"
    },
    "tags": []
   },
   "source": [
    "# Load Dataset"
   ]
  },
  {
   "cell_type": "code",
   "execution_count": 5,
   "id": "348357b1",
   "metadata": {
    "execution": {
     "iopub.execute_input": "2023-02-15T01:13:26.061890Z",
     "iopub.status.busy": "2023-02-15T01:13:26.061635Z",
     "iopub.status.idle": "2023-02-15T01:13:28.042446Z",
     "shell.execute_reply": "2023-02-15T01:13:28.040976Z"
    },
    "papermill": {
     "duration": 1.987323,
     "end_time": "2023-02-15T01:13:28.044626",
     "exception": false,
     "start_time": "2023-02-15T01:13:26.057303",
     "status": "completed"
    },
    "tags": []
   },
   "outputs": [
    {
     "name": "stdout",
     "output_type": "stream",
     "text": [
      "Found 2536 images belonging to 2 classes.\n",
      "Found 300 images belonging to 2 classes.\n",
      "Found 100 images belonging to 2 classes.\n"
     ]
    }
   ],
   "source": [
    "#load dataset\n",
    "traindata = prepare_dataset(\"/kaggle/input/autistic-children-facial-data-set/train\")\n",
    "testdata= prepare_dataset(\"/kaggle/input/autistic-children-facial-data-set/test\")\n",
    "validData = prepare_dataset(\"/kaggle/input/autistic-children-facial-data-set/valid\")"
   ]
  },
  {
   "cell_type": "markdown",
   "id": "af5de208",
   "metadata": {
    "papermill": {
     "duration": 0.003504,
     "end_time": "2023-02-15T01:13:28.051924",
     "exception": false,
     "start_time": "2023-02-15T01:13:28.048420",
     "status": "completed"
    },
    "tags": []
   },
   "source": [
    "# Improved MobileNet v1"
   ]
  },
  {
   "cell_type": "code",
   "execution_count": 6,
   "id": "646abb25",
   "metadata": {
    "execution": {
     "iopub.execute_input": "2023-02-15T01:13:28.060935Z",
     "iopub.status.busy": "2023-02-15T01:13:28.060108Z",
     "iopub.status.idle": "2023-02-15T01:13:28.066281Z",
     "shell.execute_reply": "2023-02-15T01:13:28.065446Z"
    },
    "papermill": {
     "duration": 0.012742,
     "end_time": "2023-02-15T01:13:28.068279",
     "exception": false,
     "start_time": "2023-02-15T01:13:28.055537",
     "status": "completed"
    },
    "tags": []
   },
   "outputs": [],
   "source": [
    "def depth_block(x, strides):\n",
    "    x = DepthwiseConv2D(3,strides=strides,padding='same',  use_bias=False)(x)\n",
    "    x = BatchNormalization()(x)\n",
    "    x = ReLU()(x)\n",
    "    return x\n",
    "def single_conv_block(x,filters):\n",
    "    x = Conv2D(filters, 1,use_bias=False)(x)\n",
    "    x= BatchNormalization()(x)\n",
    "    x = ReLU()(x)\n",
    "    return x"
   ]
  },
  {
   "cell_type": "code",
   "execution_count": 7,
   "id": "3f94c25a",
   "metadata": {
    "execution": {
     "iopub.execute_input": "2023-02-15T01:13:28.076921Z",
     "iopub.status.busy": "2023-02-15T01:13:28.076383Z",
     "iopub.status.idle": "2023-02-15T01:13:28.080898Z",
     "shell.execute_reply": "2023-02-15T01:13:28.079874Z"
    },
    "papermill": {
     "duration": 0.011021,
     "end_time": "2023-02-15T01:13:28.082929",
     "exception": false,
     "start_time": "2023-02-15T01:13:28.071908",
     "status": "completed"
    },
    "tags": []
   },
   "outputs": [],
   "source": [
    "def combo_layer(x,filters,strides):\n",
    "    x = depth_block(x,strides)\n",
    "    x = single_conv_block(x, filters)\n",
    "    return x"
   ]
  },
  {
   "cell_type": "code",
   "execution_count": 8,
   "id": "99b3f651",
   "metadata": {
    "execution": {
     "iopub.execute_input": "2023-02-15T01:13:28.091812Z",
     "iopub.status.busy": "2023-02-15T01:13:28.091064Z",
     "iopub.status.idle": "2023-02-15T01:13:28.099684Z",
     "shell.execute_reply": "2023-02-15T01:13:28.098822Z"
    },
    "papermill": {
     "duration": 0.015116,
     "end_time": "2023-02-15T01:13:28.101659",
     "exception": false,
     "start_time": "2023-02-15T01:13:28.086543",
     "status": "completed"
    },
    "tags": []
   },
   "outputs": [],
   "source": [
    "def MobileNet(input_shape=(224,224,3),n_classes = 2):\n",
    "    input =Input( input_shape)\n",
    "    x = Conv2D(32,3,strides=(2,2),padding = 'same', use_bias=False) (input)\n",
    "    x =  BatchNormalization()(x)\n",
    "    x = ReLU()(x)\n",
    "    x = combo_layer(x,64, strides=(1,1))\n",
    "    x = combo_layer(x,128,strides=(2,2))\n",
    "    x = combo_layer(x,128,strides=(1,1))\n",
    "    x = combo_layer(x,256,strides=(2,2))\n",
    "    x = combo_layer(x,256,strides=(1,1))\n",
    "    x = combo_layer(x,512,strides=(2,2))\n",
    "    for _ in range(5):\n",
    "        x = combo_layer(x,512,strides=(1,1))\n",
    "    x = combo_layer(x,1024,strides=(2,2))\n",
    "    x = combo_layer(x,1024,strides=(1,1))\n",
    "    x = GlobalAveragePooling2D()(x)\n",
    "    output = Dense(n_classes,activation='sigmoid')(x)\n",
    "    model = Model(input, output)\n",
    "    return model"
   ]
  },
  {
   "cell_type": "code",
   "execution_count": 9,
   "id": "5b526a5e",
   "metadata": {
    "execution": {
     "iopub.execute_input": "2023-02-15T01:13:28.110759Z",
     "iopub.status.busy": "2023-02-15T01:13:28.110019Z",
     "iopub.status.idle": "2023-02-15T01:13:31.639919Z",
     "shell.execute_reply": "2023-02-15T01:13:31.638943Z"
    },
    "papermill": {
     "duration": 3.539397,
     "end_time": "2023-02-15T01:13:31.644845",
     "exception": false,
     "start_time": "2023-02-15T01:13:28.105448",
     "status": "completed"
    },
    "tags": []
   },
   "outputs": [
    {
     "name": "stderr",
     "output_type": "stream",
     "text": [
      "2023-02-15 01:13:28.223668: I tensorflow/stream_executor/cuda/cuda_gpu_executor.cc:937] successful NUMA node read from SysFS had negative value (-1), but there must be at least one NUMA node, so returning NUMA node zero\n",
      "2023-02-15 01:13:28.387304: I tensorflow/stream_executor/cuda/cuda_gpu_executor.cc:937] successful NUMA node read from SysFS had negative value (-1), but there must be at least one NUMA node, so returning NUMA node zero\n",
      "2023-02-15 01:13:28.388141: I tensorflow/stream_executor/cuda/cuda_gpu_executor.cc:937] successful NUMA node read from SysFS had negative value (-1), but there must be at least one NUMA node, so returning NUMA node zero\n",
      "2023-02-15 01:13:28.390238: I tensorflow/core/platform/cpu_feature_guard.cc:142] This TensorFlow binary is optimized with oneAPI Deep Neural Network Library (oneDNN) to use the following CPU instructions in performance-critical operations:  AVX2 AVX512F FMA\n",
      "To enable them in other operations, rebuild TensorFlow with the appropriate compiler flags.\n",
      "2023-02-15 01:13:28.390549: I tensorflow/stream_executor/cuda/cuda_gpu_executor.cc:937] successful NUMA node read from SysFS had negative value (-1), but there must be at least one NUMA node, so returning NUMA node zero\n",
      "2023-02-15 01:13:28.391263: I tensorflow/stream_executor/cuda/cuda_gpu_executor.cc:937] successful NUMA node read from SysFS had negative value (-1), but there must be at least one NUMA node, so returning NUMA node zero\n",
      "2023-02-15 01:13:28.391908: I tensorflow/stream_executor/cuda/cuda_gpu_executor.cc:937] successful NUMA node read from SysFS had negative value (-1), but there must be at least one NUMA node, so returning NUMA node zero\n",
      "2023-02-15 01:13:30.710627: I tensorflow/stream_executor/cuda/cuda_gpu_executor.cc:937] successful NUMA node read from SysFS had negative value (-1), but there must be at least one NUMA node, so returning NUMA node zero\n",
      "2023-02-15 01:13:30.711487: I tensorflow/stream_executor/cuda/cuda_gpu_executor.cc:937] successful NUMA node read from SysFS had negative value (-1), but there must be at least one NUMA node, so returning NUMA node zero\n",
      "2023-02-15 01:13:30.712195: I tensorflow/stream_executor/cuda/cuda_gpu_executor.cc:937] successful NUMA node read from SysFS had negative value (-1), but there must be at least one NUMA node, so returning NUMA node zero\n",
      "2023-02-15 01:13:30.712796: I tensorflow/core/common_runtime/gpu/gpu_device.cc:1510] Created device /job:localhost/replica:0/task:0/device:GPU:0 with 15401 MB memory:  -> device: 0, name: Tesla P100-PCIE-16GB, pci bus id: 0000:00:04.0, compute capability: 6.0\n"
     ]
    },
    {
     "name": "stdout",
     "output_type": "stream",
     "text": [
      "Model: \"model\"\n",
      "_________________________________________________________________\n",
      "Layer (type)                 Output Shape              Param #   \n",
      "=================================================================\n",
      "input_1 (InputLayer)         [(None, 224, 224, 3)]     0         \n",
      "_________________________________________________________________\n",
      "conv2d (Conv2D)              (None, 112, 112, 32)      864       \n",
      "_________________________________________________________________\n",
      "batch_normalization (BatchNo (None, 112, 112, 32)      128       \n",
      "_________________________________________________________________\n",
      "re_lu (ReLU)                 (None, 112, 112, 32)      0         \n",
      "_________________________________________________________________\n",
      "depthwise_conv2d (DepthwiseC (None, 112, 112, 32)      288       \n",
      "_________________________________________________________________\n",
      "batch_normalization_1 (Batch (None, 112, 112, 32)      128       \n",
      "_________________________________________________________________\n",
      "re_lu_1 (ReLU)               (None, 112, 112, 32)      0         \n",
      "_________________________________________________________________\n",
      "conv2d_1 (Conv2D)            (None, 112, 112, 64)      2048      \n",
      "_________________________________________________________________\n",
      "batch_normalization_2 (Batch (None, 112, 112, 64)      256       \n",
      "_________________________________________________________________\n",
      "re_lu_2 (ReLU)               (None, 112, 112, 64)      0         \n",
      "_________________________________________________________________\n",
      "depthwise_conv2d_1 (Depthwis (None, 56, 56, 64)        576       \n",
      "_________________________________________________________________\n",
      "batch_normalization_3 (Batch (None, 56, 56, 64)        256       \n",
      "_________________________________________________________________\n",
      "re_lu_3 (ReLU)               (None, 56, 56, 64)        0         \n",
      "_________________________________________________________________\n",
      "conv2d_2 (Conv2D)            (None, 56, 56, 128)       8192      \n",
      "_________________________________________________________________\n",
      "batch_normalization_4 (Batch (None, 56, 56, 128)       512       \n",
      "_________________________________________________________________\n",
      "re_lu_4 (ReLU)               (None, 56, 56, 128)       0         \n",
      "_________________________________________________________________\n",
      "depthwise_conv2d_2 (Depthwis (None, 56, 56, 128)       1152      \n",
      "_________________________________________________________________\n",
      "batch_normalization_5 (Batch (None, 56, 56, 128)       512       \n",
      "_________________________________________________________________\n",
      "re_lu_5 (ReLU)               (None, 56, 56, 128)       0         \n",
      "_________________________________________________________________\n",
      "conv2d_3 (Conv2D)            (None, 56, 56, 128)       16384     \n",
      "_________________________________________________________________\n",
      "batch_normalization_6 (Batch (None, 56, 56, 128)       512       \n",
      "_________________________________________________________________\n",
      "re_lu_6 (ReLU)               (None, 56, 56, 128)       0         \n",
      "_________________________________________________________________\n",
      "depthwise_conv2d_3 (Depthwis (None, 28, 28, 128)       1152      \n",
      "_________________________________________________________________\n",
      "batch_normalization_7 (Batch (None, 28, 28, 128)       512       \n",
      "_________________________________________________________________\n",
      "re_lu_7 (ReLU)               (None, 28, 28, 128)       0         \n",
      "_________________________________________________________________\n",
      "conv2d_4 (Conv2D)            (None, 28, 28, 256)       32768     \n",
      "_________________________________________________________________\n",
      "batch_normalization_8 (Batch (None, 28, 28, 256)       1024      \n",
      "_________________________________________________________________\n",
      "re_lu_8 (ReLU)               (None, 28, 28, 256)       0         \n",
      "_________________________________________________________________\n",
      "depthwise_conv2d_4 (Depthwis (None, 28, 28, 256)       2304      \n",
      "_________________________________________________________________\n",
      "batch_normalization_9 (Batch (None, 28, 28, 256)       1024      \n",
      "_________________________________________________________________\n",
      "re_lu_9 (ReLU)               (None, 28, 28, 256)       0         \n",
      "_________________________________________________________________\n",
      "conv2d_5 (Conv2D)            (None, 28, 28, 256)       65536     \n",
      "_________________________________________________________________\n",
      "batch_normalization_10 (Batc (None, 28, 28, 256)       1024      \n",
      "_________________________________________________________________\n",
      "re_lu_10 (ReLU)              (None, 28, 28, 256)       0         \n",
      "_________________________________________________________________\n",
      "depthwise_conv2d_5 (Depthwis (None, 14, 14, 256)       2304      \n",
      "_________________________________________________________________\n",
      "batch_normalization_11 (Batc (None, 14, 14, 256)       1024      \n",
      "_________________________________________________________________\n",
      "re_lu_11 (ReLU)              (None, 14, 14, 256)       0         \n",
      "_________________________________________________________________\n",
      "conv2d_6 (Conv2D)            (None, 14, 14, 512)       131072    \n",
      "_________________________________________________________________\n",
      "batch_normalization_12 (Batc (None, 14, 14, 512)       2048      \n",
      "_________________________________________________________________\n",
      "re_lu_12 (ReLU)              (None, 14, 14, 512)       0         \n",
      "_________________________________________________________________\n",
      "depthwise_conv2d_6 (Depthwis (None, 14, 14, 512)       4608      \n",
      "_________________________________________________________________\n",
      "batch_normalization_13 (Batc (None, 14, 14, 512)       2048      \n",
      "_________________________________________________________________\n",
      "re_lu_13 (ReLU)              (None, 14, 14, 512)       0         \n",
      "_________________________________________________________________\n",
      "conv2d_7 (Conv2D)            (None, 14, 14, 512)       262144    \n",
      "_________________________________________________________________\n",
      "batch_normalization_14 (Batc (None, 14, 14, 512)       2048      \n",
      "_________________________________________________________________\n",
      "re_lu_14 (ReLU)              (None, 14, 14, 512)       0         \n",
      "_________________________________________________________________\n",
      "depthwise_conv2d_7 (Depthwis (None, 14, 14, 512)       4608      \n",
      "_________________________________________________________________\n",
      "batch_normalization_15 (Batc (None, 14, 14, 512)       2048      \n",
      "_________________________________________________________________\n",
      "re_lu_15 (ReLU)              (None, 14, 14, 512)       0         \n",
      "_________________________________________________________________\n",
      "conv2d_8 (Conv2D)            (None, 14, 14, 512)       262144    \n",
      "_________________________________________________________________\n",
      "batch_normalization_16 (Batc (None, 14, 14, 512)       2048      \n",
      "_________________________________________________________________\n",
      "re_lu_16 (ReLU)              (None, 14, 14, 512)       0         \n",
      "_________________________________________________________________\n",
      "depthwise_conv2d_8 (Depthwis (None, 14, 14, 512)       4608      \n",
      "_________________________________________________________________\n",
      "batch_normalization_17 (Batc (None, 14, 14, 512)       2048      \n",
      "_________________________________________________________________\n",
      "re_lu_17 (ReLU)              (None, 14, 14, 512)       0         \n",
      "_________________________________________________________________\n",
      "conv2d_9 (Conv2D)            (None, 14, 14, 512)       262144    \n",
      "_________________________________________________________________\n",
      "batch_normalization_18 (Batc (None, 14, 14, 512)       2048      \n",
      "_________________________________________________________________\n",
      "re_lu_18 (ReLU)              (None, 14, 14, 512)       0         \n",
      "_________________________________________________________________\n",
      "depthwise_conv2d_9 (Depthwis (None, 14, 14, 512)       4608      \n",
      "_________________________________________________________________\n",
      "batch_normalization_19 (Batc (None, 14, 14, 512)       2048      \n",
      "_________________________________________________________________\n",
      "re_lu_19 (ReLU)              (None, 14, 14, 512)       0         \n",
      "_________________________________________________________________\n",
      "conv2d_10 (Conv2D)           (None, 14, 14, 512)       262144    \n",
      "_________________________________________________________________\n",
      "batch_normalization_20 (Batc (None, 14, 14, 512)       2048      \n",
      "_________________________________________________________________\n",
      "re_lu_20 (ReLU)              (None, 14, 14, 512)       0         \n",
      "_________________________________________________________________\n",
      "depthwise_conv2d_10 (Depthwi (None, 14, 14, 512)       4608      \n",
      "_________________________________________________________________\n",
      "batch_normalization_21 (Batc (None, 14, 14, 512)       2048      \n",
      "_________________________________________________________________\n",
      "re_lu_21 (ReLU)              (None, 14, 14, 512)       0         \n",
      "_________________________________________________________________\n",
      "conv2d_11 (Conv2D)           (None, 14, 14, 512)       262144    \n",
      "_________________________________________________________________\n",
      "batch_normalization_22 (Batc (None, 14, 14, 512)       2048      \n",
      "_________________________________________________________________\n",
      "re_lu_22 (ReLU)              (None, 14, 14, 512)       0         \n",
      "_________________________________________________________________\n",
      "depthwise_conv2d_11 (Depthwi (None, 7, 7, 512)         4608      \n",
      "_________________________________________________________________\n",
      "batch_normalization_23 (Batc (None, 7, 7, 512)         2048      \n",
      "_________________________________________________________________\n",
      "re_lu_23 (ReLU)              (None, 7, 7, 512)         0         \n",
      "_________________________________________________________________\n",
      "conv2d_12 (Conv2D)           (None, 7, 7, 1024)        524288    \n",
      "_________________________________________________________________\n",
      "batch_normalization_24 (Batc (None, 7, 7, 1024)        4096      \n",
      "_________________________________________________________________\n",
      "re_lu_24 (ReLU)              (None, 7, 7, 1024)        0         \n",
      "_________________________________________________________________\n",
      "depthwise_conv2d_12 (Depthwi (None, 7, 7, 1024)        9216      \n",
      "_________________________________________________________________\n",
      "batch_normalization_25 (Batc (None, 7, 7, 1024)        4096      \n",
      "_________________________________________________________________\n",
      "re_lu_25 (ReLU)              (None, 7, 7, 1024)        0         \n",
      "_________________________________________________________________\n",
      "conv2d_13 (Conv2D)           (None, 7, 7, 1024)        1048576   \n",
      "_________________________________________________________________\n",
      "batch_normalization_26 (Batc (None, 7, 7, 1024)        4096      \n",
      "_________________________________________________________________\n",
      "re_lu_26 (ReLU)              (None, 7, 7, 1024)        0         \n",
      "_________________________________________________________________\n",
      "global_average_pooling2d (Gl (None, 1024)              0         \n",
      "_________________________________________________________________\n",
      "dense (Dense)                (None, 1)                 1025      \n",
      "=================================================================\n",
      "Total params: 3,229,889\n",
      "Trainable params: 3,208,001\n",
      "Non-trainable params: 21,888\n",
      "_________________________________________________________________\n"
     ]
    }
   ],
   "source": [
    "n_classes = 1\n",
    "input_shape = (224,224,3)\n",
    "model = MobileNet(input_shape,n_classes)\n",
    "model.summary()"
   ]
  },
  {
   "cell_type": "code",
   "execution_count": 10,
   "id": "14690b3c",
   "metadata": {
    "execution": {
     "iopub.execute_input": "2023-02-15T01:13:31.655772Z",
     "iopub.status.busy": "2023-02-15T01:13:31.654855Z",
     "iopub.status.idle": "2023-02-15T01:16:23.408121Z",
     "shell.execute_reply": "2023-02-15T01:16:23.407168Z"
    },
    "papermill": {
     "duration": 171.761242,
     "end_time": "2023-02-15T01:16:23.410637",
     "exception": false,
     "start_time": "2023-02-15T01:13:31.649395",
     "status": "completed"
    },
    "tags": []
   },
   "outputs": [
    {
     "name": "stderr",
     "output_type": "stream",
     "text": [
      "2023-02-15 01:13:32.377613: I tensorflow/compiler/mlir/mlir_graph_optimization_pass.cc:185] None of the MLIR Optimization Passes are enabled (registered 2)\n"
     ]
    },
    {
     "name": "stdout",
     "output_type": "stream",
     "text": [
      "Epoch 1/100\n"
     ]
    },
    {
     "name": "stderr",
     "output_type": "stream",
     "text": [
      "2023-02-15 01:13:36.113470: I tensorflow/stream_executor/cuda/cuda_dnn.cc:369] Loaded cuDNN version 8005\n"
     ]
    },
    {
     "name": "stdout",
     "output_type": "stream",
     "text": [
      "2/2 [==============================] - 14s 4s/step - loss: 0.8598 - acc: 0.5938 - val_loss: 0.6932 - val_acc: 0.5000\n",
      "\n",
      "Epoch 00001: val_acc improved from -inf to 0.50000, saving model to /kaggle/working/mobilenet_v1.h5\n",
      "Epoch 2/100\n",
      "2/2 [==============================] - 1s 666ms/step - loss: 0.6860 - acc: 0.5469\n",
      "Epoch 3/100\n",
      "2/2 [==============================] - 1s 651ms/step - loss: 0.7465 - acc: 0.5156\n",
      "Epoch 4/100\n",
      "2/2 [==============================] - 1s 698ms/step - loss: 0.7355 - acc: 0.4688\n",
      "Epoch 5/100\n",
      "2/2 [==============================] - 1s 637ms/step - loss: 0.7032 - acc: 0.5156\n",
      "Epoch 6/100\n",
      "2/2 [==============================] - 1s 651ms/step - loss: 0.6476 - acc: 0.5781\n",
      "Epoch 7/100\n",
      "2/2 [==============================] - 1s 692ms/step - loss: 0.8622 - acc: 0.5625\n",
      "Epoch 8/100\n",
      "2/2 [==============================] - 1s 626ms/step - loss: 0.6658 - acc: 0.5625\n",
      "Epoch 9/100\n",
      "2/2 [==============================] - 1s 593ms/step - loss: 0.7049 - acc: 0.6094\n",
      "Epoch 10/100\n",
      "2/2 [==============================] - 1s 586ms/step - loss: 0.7960 - acc: 0.6094\n",
      "Epoch 11/100\n",
      "2/2 [==============================] - 1s 593ms/step - loss: 0.6320 - acc: 0.6719\n",
      "Epoch 12/100\n",
      "2/2 [==============================] - 1s 581ms/step - loss: 0.8750 - acc: 0.5000\n",
      "Epoch 13/100\n",
      "2/2 [==============================] - 1s 746ms/step - loss: 0.6836 - acc: 0.5469\n",
      "Epoch 14/100\n",
      "2/2 [==============================] - 1s 594ms/step - loss: 0.7620 - acc: 0.4531\n",
      "Epoch 15/100\n",
      "2/2 [==============================] - 1s 572ms/step - loss: 0.6397 - acc: 0.7031\n",
      "Epoch 16/100\n",
      "2/2 [==============================] - 1s 736ms/step - loss: 0.6796 - acc: 0.6406\n",
      "Epoch 17/100\n",
      "2/2 [==============================] - 1s 519ms/step - loss: 0.6282 - acc: 0.5938\n",
      "Epoch 18/100\n",
      "2/2 [==============================] - 1s 592ms/step - loss: 0.6475 - acc: 0.6719\n",
      "Epoch 19/100\n",
      "2/2 [==============================] - 1s 582ms/step - loss: 0.7523 - acc: 0.6094\n",
      "Epoch 20/100\n",
      "2/2 [==============================] - 1s 575ms/step - loss: 0.6006 - acc: 0.6562\n",
      "Epoch 21/100\n",
      "2/2 [==============================] - 1s 485ms/step - loss: 0.5938 - acc: 0.7500\n",
      "Epoch 22/100\n",
      "2/2 [==============================] - 1s 547ms/step - loss: 0.6743 - acc: 0.5781\n",
      "Epoch 23/100\n",
      "2/2 [==============================] - 1s 511ms/step - loss: 0.5611 - acc: 0.6406\n",
      "Epoch 24/100\n",
      "2/2 [==============================] - 1s 562ms/step - loss: 0.6294 - acc: 0.5938\n",
      "Epoch 25/100\n",
      "2/2 [==============================] - 1s 547ms/step - loss: 0.6658 - acc: 0.6406\n",
      "Epoch 26/100\n",
      "2/2 [==============================] - 1s 494ms/step - loss: 0.6827 - acc: 0.6562\n",
      "Epoch 27/100\n",
      "2/2 [==============================] - 1s 523ms/step - loss: 0.6405 - acc: 0.5625\n",
      "Epoch 28/100\n",
      "2/2 [==============================] - 1s 531ms/step - loss: 0.5037 - acc: 0.7656\n",
      "Epoch 29/100\n",
      "2/2 [==============================] - 1s 546ms/step - loss: 0.7134 - acc: 0.5938\n",
      "Epoch 30/100\n",
      "2/2 [==============================] - 1s 495ms/step - loss: 0.6929 - acc: 0.6250\n",
      "Epoch 31/100\n",
      "2/2 [==============================] - 1s 554ms/step - loss: 0.5979 - acc: 0.7344\n",
      "Epoch 32/100\n",
      "2/2 [==============================] - 1s 512ms/step - loss: 0.7421 - acc: 0.6094\n",
      "Epoch 33/100\n",
      "2/2 [==============================] - 1s 658ms/step - loss: 0.5357 - acc: 0.7656\n",
      "Epoch 34/100\n",
      "2/2 [==============================] - 1s 480ms/step - loss: 0.7175 - acc: 0.6094\n",
      "Epoch 35/100\n",
      "2/2 [==============================] - 1s 526ms/step - loss: 0.7101 - acc: 0.5625\n",
      "Epoch 36/100\n",
      "2/2 [==============================] - 1s 605ms/step - loss: 0.5833 - acc: 0.6719\n",
      "Epoch 37/100\n",
      "2/2 [==============================] - 1s 482ms/step - loss: 0.7353 - acc: 0.5469\n",
      "Epoch 38/100\n",
      "2/2 [==============================] - 1s 522ms/step - loss: 0.7370 - acc: 0.6875\n",
      "Epoch 39/100\n",
      "2/2 [==============================] - 1s 501ms/step - loss: 0.6960 - acc: 0.6562\n",
      "Epoch 40/100\n",
      "2/2 [==============================] - 1s 484ms/step - loss: 0.6416 - acc: 0.6250\n",
      "Epoch 41/100\n",
      "2/2 [==============================] - 1s 500ms/step - loss: 0.6093 - acc: 0.6719\n",
      "Epoch 42/100\n",
      "2/2 [==============================] - 1s 439ms/step - loss: 0.6603 - acc: 0.5938\n",
      "Epoch 43/100\n",
      "2/2 [==============================] - 1s 437ms/step - loss: 0.7332 - acc: 0.5781\n",
      "Epoch 44/100\n",
      "2/2 [==============================] - 1s 471ms/step - loss: 0.6777 - acc: 0.6406\n",
      "Epoch 45/100\n",
      "2/2 [==============================] - 1s 476ms/step - loss: 0.7556 - acc: 0.5781\n",
      "Epoch 46/100\n",
      "2/2 [==============================] - 1s 493ms/step - loss: 0.6994 - acc: 0.6094\n",
      "Epoch 47/100\n",
      "2/2 [==============================] - 1s 474ms/step - loss: 0.5168 - acc: 0.8125\n",
      "Epoch 48/100\n",
      "2/2 [==============================] - 1s 79ms/step - loss: 0.8217 - acc: 0.5500\n",
      "Epoch 49/100\n",
      "2/2 [==============================] - 1s 480ms/step - loss: 0.6700 - acc: 0.6875\n",
      "Epoch 50/100\n",
      "2/2 [==============================] - 1s 498ms/step - loss: 0.5732 - acc: 0.7656\n",
      "Epoch 51/100\n",
      "2/2 [==============================] - 1s 72ms/step - loss: 0.6849 - acc: 0.4750\n",
      "Epoch 52/100\n",
      "2/2 [==============================] - 1s 455ms/step - loss: 0.6653 - acc: 0.7031\n",
      "Epoch 53/100\n",
      "2/2 [==============================] - 1s 451ms/step - loss: 0.6713 - acc: 0.6250\n",
      "Epoch 54/100\n",
      "2/2 [==============================] - 1s 427ms/step - loss: 0.6935 - acc: 0.6250\n",
      "Epoch 55/100\n",
      "2/2 [==============================] - 1s 517ms/step - loss: 0.6092 - acc: 0.6562\n",
      "Epoch 56/100\n",
      "2/2 [==============================] - 1s 680ms/step - loss: 0.6564 - acc: 0.6719\n",
      "Epoch 57/100\n",
      "2/2 [==============================] - 1s 481ms/step - loss: 0.4790 - acc: 0.7812\n",
      "Epoch 58/100\n",
      "2/2 [==============================] - 1s 685ms/step - loss: 0.6115 - acc: 0.6562\n",
      "Epoch 59/100\n",
      "2/2 [==============================] - 1s 476ms/step - loss: 0.6719 - acc: 0.6250\n",
      "Epoch 60/100\n",
      "2/2 [==============================] - 1s 463ms/step - loss: 0.6037 - acc: 0.6562\n",
      "Epoch 61/100\n",
      "2/2 [==============================] - 1s 438ms/step - loss: 0.7389 - acc: 0.5000\n",
      "Epoch 62/100\n",
      "2/2 [==============================] - 1s 534ms/step - loss: 0.6473 - acc: 0.5781\n",
      "Epoch 63/100\n",
      "2/2 [==============================] - 1s 584ms/step - loss: 0.5702 - acc: 0.6719\n",
      "Epoch 64/100\n",
      "2/2 [==============================] - 1s 444ms/step - loss: 0.6115 - acc: 0.6406\n",
      "Epoch 65/100\n",
      "2/2 [==============================] - 1s 455ms/step - loss: 0.6175 - acc: 0.7500\n",
      "Epoch 66/100\n",
      "2/2 [==============================] - 1s 462ms/step - loss: 0.5537 - acc: 0.7031\n",
      "Epoch 67/100\n",
      "2/2 [==============================] - 1s 471ms/step - loss: 0.6220 - acc: 0.6875\n",
      "Epoch 68/100\n",
      "2/2 [==============================] - 1s 447ms/step - loss: 0.6308 - acc: 0.6719\n",
      "Epoch 69/100\n",
      "2/2 [==============================] - 1s 453ms/step - loss: 0.5781 - acc: 0.7031\n",
      "Epoch 70/100\n",
      "2/2 [==============================] - 1s 469ms/step - loss: 0.5355 - acc: 0.7500\n",
      "Epoch 71/100\n",
      "2/2 [==============================] - 1s 457ms/step - loss: 0.6426 - acc: 0.6562\n",
      "Epoch 72/100\n",
      "2/2 [==============================] - 1s 448ms/step - loss: 0.7306 - acc: 0.6562\n",
      "Epoch 73/100\n",
      "2/2 [==============================] - 1s 452ms/step - loss: 0.9174 - acc: 0.5312\n",
      "Epoch 74/100\n",
      "2/2 [==============================] - 1s 452ms/step - loss: 0.6898 - acc: 0.5625\n",
      "Epoch 75/100\n",
      "2/2 [==============================] - 1s 449ms/step - loss: 0.6711 - acc: 0.6406\n",
      "Epoch 76/100\n",
      "2/2 [==============================] - 1s 455ms/step - loss: 0.7217 - acc: 0.5781\n",
      "Epoch 77/100\n",
      "2/2 [==============================] - 1s 510ms/step - loss: 0.6218 - acc: 0.6719\n",
      "Epoch 78/100\n",
      "2/2 [==============================] - 1s 454ms/step - loss: 0.7152 - acc: 0.5781\n",
      "Epoch 79/100\n",
      "2/2 [==============================] - 1s 457ms/step - loss: 0.6489 - acc: 0.6875\n",
      "Epoch 80/100\n",
      "2/2 [==============================] - 1s 608ms/step - loss: 0.6173 - acc: 0.6250\n",
      "Epoch 81/100\n",
      "2/2 [==============================] - 1s 446ms/step - loss: 0.6380 - acc: 0.5625\n",
      "Epoch 82/100\n",
      "2/2 [==============================] - 1s 448ms/step - loss: 0.5787 - acc: 0.6406\n",
      "Epoch 83/100\n",
      "2/2 [==============================] - 1s 463ms/step - loss: 0.5663 - acc: 0.6875\n",
      "Epoch 84/100\n",
      "2/2 [==============================] - 1s 482ms/step - loss: 0.6261 - acc: 0.6094\n",
      "Epoch 85/100\n",
      "2/2 [==============================] - 1s 433ms/step - loss: 0.6208 - acc: 0.6250\n",
      "Epoch 86/100\n",
      "2/2 [==============================] - 1s 483ms/step - loss: 0.5586 - acc: 0.7656\n",
      "Epoch 87/100\n",
      "2/2 [==============================] - 1s 451ms/step - loss: 0.5720 - acc: 0.6406\n",
      "Epoch 88/100\n",
      "2/2 [==============================] - 1s 520ms/step - loss: 0.6882 - acc: 0.5938\n",
      "Epoch 89/100\n",
      "2/2 [==============================] - 1s 451ms/step - loss: 0.5378 - acc: 0.7500\n",
      "Epoch 90/100\n",
      "2/2 [==============================] - 1s 434ms/step - loss: 0.5816 - acc: 0.7031\n",
      "Epoch 91/100\n",
      "2/2 [==============================] - 1s 437ms/step - loss: 0.6050 - acc: 0.6562\n",
      "Epoch 92/100\n",
      "2/2 [==============================] - 1s 434ms/step - loss: 0.6350 - acc: 0.6562\n",
      "Epoch 93/100\n",
      "2/2 [==============================] - 1s 451ms/step - loss: 0.6226 - acc: 0.6406\n",
      "Epoch 94/100\n",
      "2/2 [==============================] - 1s 444ms/step - loss: 0.5820 - acc: 0.6719\n",
      "Epoch 95/100\n",
      "2/2 [==============================] - 1s 427ms/step - loss: 0.6034 - acc: 0.6250\n",
      "Epoch 96/100\n",
      "2/2 [==============================] - 1s 463ms/step - loss: 0.4842 - acc: 0.7656\n",
      "Epoch 97/100\n",
      "2/2 [==============================] - 1s 435ms/step - loss: 0.6744 - acc: 0.6406\n",
      "Epoch 98/100\n",
      "2/2 [==============================] - 1s 450ms/step - loss: 0.5825 - acc: 0.7188\n",
      "Epoch 99/100\n",
      "2/2 [==============================] - 1s 448ms/step - loss: 0.5931 - acc: 0.6406\n",
      "Epoch 100/100\n",
      "2/2 [==============================] - 1s 502ms/step - loss: 0.5854 - acc: 0.6250\n"
     ]
    }
   ],
   "source": [
    "model.compile( optimizer=\"adam\",loss=tf.keras.losses.BinaryCrossentropy(),metrics=['acc'])\n",
    "checkpoint = ModelCheckpoint(\"/kaggle/working/mobilenet_v1.h5\", monitor='val_acc', verbose=1, save_best_only=True, save_weights_only=False, mode='auto')\n",
    "early = EarlyStopping(monitor='val_acc', min_delta=1, patience=10, verbose=1, mode='min')\n",
    "hist = model.fit(traindata, validation_data= validData, validation_steps=50,epochs=100,steps_per_epoch=2,callbacks=[checkpoint,early])"
   ]
  },
  {
   "cell_type": "code",
   "execution_count": 11,
   "id": "ed18112d",
   "metadata": {
    "execution": {
     "iopub.execute_input": "2023-02-15T01:16:23.459724Z",
     "iopub.status.busy": "2023-02-15T01:16:23.459373Z",
     "iopub.status.idle": "2023-02-15T01:16:23.699453Z",
     "shell.execute_reply": "2023-02-15T01:16:23.698504Z"
    },
    "papermill": {
     "duration": 0.267157,
     "end_time": "2023-02-15T01:16:23.701792",
     "exception": false,
     "start_time": "2023-02-15T01:16:23.434635",
     "status": "completed"
    },
    "tags": []
   },
   "outputs": [
    {
     "data": {
      "image/png": "[encoded data removed]",
      "text/plain": [
       "<Figure size 432x288 with 1 Axes>"
      ]
     },
     "metadata": {
      "needs_background": "light"
     },
     "output_type": "display_data"
    }
   ],
   "source": [
    "import matplotlib.pyplot as plt\n",
    "plt.plot(hist.history[\"acc\"])\n",
    "plt.plot(hist.history['val_acc'])\n",
    "plt.plot(hist.history['loss'])\n",
    "plt.plot(hist.history['val_loss'])\n",
    "plt.title(\"model accuracy\")\n",
    "plt.ylabel(\"Accuracy\")\n",
    "plt.xlabel(\"Epoch\")\n",
    "plt.legend([\"Accuracy\",\"Validation Accuracy\",\"loss\",\"Validation Loss\"])\n",
    "plt.show()"
   ]
  },
  {
   "cell_type": "code",
   "execution_count": 12,
   "id": "d288cdda",
   "metadata": {
    "execution": {
     "iopub.execute_input": "2023-02-15T01:16:23.752802Z",
     "iopub.status.busy": "2023-02-15T01:16:23.752180Z",
     "iopub.status.idle": "2023-02-15T01:17:05.118517Z",
     "shell.execute_reply": "2023-02-15T01:17:05.117541Z"
    },
    "papermill": {
     "duration": 41.394076,
     "end_time": "2023-02-15T01:17:05.120645",
     "exception": false,
     "start_time": "2023-02-15T01:16:23.726569",
     "status": "completed"
    },
    "tags": []
   },
   "outputs": [
    {
     "name": "stdout",
     "output_type": "stream",
     "text": [
      "80/80 [==============================] - 32s 396ms/step - loss: 0.7029 - acc: 0.5000\n"
     ]
    },
    {
     "data": {
      "text/plain": [
       "[0.7029474377632141, 0.5]"
      ]
     },
     "execution_count": 12,
     "metadata": {},
     "output_type": "execute_result"
    }
   ],
   "source": [
    "model.evaluate(traindata)"
   ]
  },
  {
   "cell_type": "code",
   "execution_count": 13,
   "id": "a6a63ff3",
   "metadata": {
    "execution": {
     "iopub.execute_input": "2023-02-15T01:17:05.179977Z",
     "iopub.status.busy": "2023-02-15T01:17:05.179106Z",
     "iopub.status.idle": "2023-02-15T01:17:06.805544Z",
     "shell.execute_reply": "2023-02-15T01:17:06.804620Z"
    },
    "papermill": {
     "duration": 1.658066,
     "end_time": "2023-02-15T01:17:06.807611",
     "exception": false,
     "start_time": "2023-02-15T01:17:05.149545",
     "status": "completed"
    },
    "tags": []
   },
   "outputs": [
    {
     "name": "stdout",
     "output_type": "stream",
     "text": [
      "4/4 [==============================] - 1s 263ms/step - loss: 0.7029 - acc: 0.5000\n"
     ]
    },
    {
     "data": {
      "text/plain": [
       "[0.7029474377632141, 0.5]"
      ]
     },
     "execution_count": 13,
     "metadata": {},
     "output_type": "execute_result"
    }
   ],
   "source": [
    "model.evaluate(validData)"
   ]
  },
  {
   "cell_type": "code",
   "execution_count": 14,
   "id": "0e1689f3",
   "metadata": {
    "execution": {
     "iopub.execute_input": "2023-02-15T01:17:06.867273Z",
     "iopub.status.busy": "2023-02-15T01:17:06.866948Z",
     "iopub.status.idle": "2023-02-15T01:17:17.771468Z",
     "shell.execute_reply": "2023-02-15T01:17:17.770505Z"
    },
    "papermill": {
     "duration": 10.936715,
     "end_time": "2023-02-15T01:17:17.773547",
     "exception": false,
     "start_time": "2023-02-15T01:17:06.836832",
     "status": "completed"
    },
    "tags": []
   },
   "outputs": [
    {
     "name": "stdout",
     "output_type": "stream",
     "text": [
      "10/10 [==============================] - 6s 609ms/step - loss: 0.7029 - acc: 0.5000\n"
     ]
    },
    {
     "data": {
      "text/plain": [
       "[0.7029473781585693, 0.5]"
      ]
     },
     "execution_count": 14,
     "metadata": {},
     "output_type": "execute_result"
    }
   ],
   "source": [
    "model.evaluate(testdata)"
   ]
  }
 ],
 "metadata": {
  "kernelspec": {
   "display_name": "Python 3",
   "language": "python",
   "name": "python3"
  },
  "language_info": {
   "codemirror_mode": {
    "name": "ipython",
    "version": 3
   },
   "file_extension": ".py",
   "mimetype": "text/x-python",
   "name": "python",
   "nbconvert_exporter": "python",
   "pygments_lexer": "ipython3",
   "version": "3.7.12"
  },
  "papermill": {
   "default_parameters": {},
   "duration": 248.440099,
   "end_time": "2023-02-15T01:17:20.841191",
   "environment_variables": {},
   "exception": null,
   "input_path": "__notebook__.ipynb",
   "output_path": "__notebook__.ipynb",
   "parameters": {},
   "start_time": "2023-02-15T01:13:12.401092",
   "version": "2.3.4"
  }
 },
 "nbformat": 4,
 "nbformat_minor": 5
}
